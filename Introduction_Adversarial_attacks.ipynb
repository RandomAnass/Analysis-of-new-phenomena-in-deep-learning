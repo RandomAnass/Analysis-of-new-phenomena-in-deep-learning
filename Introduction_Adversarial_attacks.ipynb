{
 "cells": [
  {
   "cell_type": "markdown",
   "source": [
    "# Shift Invariance Can Reduce Adversarial Robustness"
   ],
   "metadata": {
    "collapsed": false,
    "pycharm": {
     "name": "#%% md\n"
    }
   }
  },
  {
   "cell_type": "markdown",
   "source": [
    "### Links:\n",
    "Paper: -  [Paper online](https://papertohtml.org/paper?id=3e99fc536268dbb83bca5466f5e3f1a65f52272f)\n",
    "Code: - [Data sets and code link](https://paperswithcode.com/paper/shift-invariance-can-reduce-adversarial)\n",
    "      - [github of the paper](https://github.com/SongweiGe/shift-invariance-adv-robustness)\n",
    "Other: - [to check](https://openreview.net/forum?id=tqi_45ApQzF)"
   ],
   "metadata": {
    "collapsed": false,
    "pycharm": {
     "name": "#%% md\n"
    }
   }
  },
  {
   "cell_type": "markdown",
   "source": [
    "### Summary:\n",
    "The paper shows that the shift invariance property of convolutional neural networks (CNNs), which improves their classification performance, can also lead to greater sensitivity to adversarial attacks. One of the explanations given is that shift invariance reduces the margin between classes, making CNNs more vulnerable to adversarial attacks. The paper presents a simple practical example where adversarial attacks occur, in this case it shows that a CNN is less robust than a fully connected (FC) network. The article then explains this result theoretically using kernel methods (inf wide NN). Then in real datasets and real architectures.Finally, synthetic data was used to explain the source of this connection (high dimension and margin)."
   ],
   "metadata": {
    "collapsed": false,
    "pycharm": {
     "name": "#%% md\n"
    }
   }
  },
  {
   "cell_type": "markdown",
   "source": [
    "### Main experiments to reproduce:\n",
    "1. Simple example, white/dot on a gray background (CNN vs FC adv. robustness and image size)\n",
    "2. MNIST and Fashion MNIST (FC vs Shift invariant networks) In this case FC are more robust.\n",
    "3. SVHN - ImageNet - CIFAR-10 (FC vs ResNet)\n",
    "4. Industrial NN (ResNet, AlexNet, VGC, transformer based NN...)\n",
    "5. Using synthetic data to probe the source of the connection between shift invariance and adversarial robustness."
   ],
   "metadata": {
    "collapsed": false,
    "pycharm": {
     "name": "#%% md\n"
    }
   }
  },
  {
   "cell_type": "markdown",
   "source": [
    "The paper highlights a trade-off between shift invariance and adversarial robustness in CNNs, and provides insights into the factors that contribute to this trade-off."
   ],
   "metadata": {
    "collapsed": false,
    "pycharm": {
     "name": "#%% md\n"
    }
   }
  },
  {
   "cell_type": "markdown",
   "source": [],
   "metadata": {
    "collapsed": false,
    "pycharm": {
     "name": "#%% md\n"
    }
   }
  },
  {
   "cell_type": "code",
   "execution_count": 74,
   "outputs": [
    {
     "name": "stdout",
     "output_type": "stream",
     "text": [
      "Epoch 1/5\n",
      "1875/1875 [==============================] - 6s 3ms/step - loss: 0.3053 - accuracy: 0.9151 - val_loss: 0.1705 - val_accuracy: 0.9500\n",
      "Epoch 2/5\n",
      "1875/1875 [==============================] - 5s 2ms/step - loss: 0.1506 - accuracy: 0.9563 - val_loss: 0.1199 - val_accuracy: 0.9636\n",
      "Epoch 3/5\n",
      "1875/1875 [==============================] - 5s 2ms/step - loss: 0.1080 - accuracy: 0.9681 - val_loss: 0.1117 - val_accuracy: 0.9679\n",
      "Epoch 4/5\n",
      "1875/1875 [==============================] - 5s 3ms/step - loss: 0.0858 - accuracy: 0.9745 - val_loss: 0.0938 - val_accuracy: 0.9722\n",
      "Epoch 5/5\n",
      "1875/1875 [==============================] - 5s 3ms/step - loss: 0.0694 - accuracy: 0.9791 - val_loss: 0.0915 - val_accuracy: 0.9709\n",
      "Epoch 1/5\n",
      "1875/1875 [==============================] - 16s 8ms/step - loss: 0.2093 - accuracy: 0.9410 - val_loss: 0.0868 - val_accuracy: 0.9745\n",
      "Epoch 2/5\n",
      "1875/1875 [==============================] - 15s 8ms/step - loss: 0.0773 - accuracy: 0.9774 - val_loss: 0.0654 - val_accuracy: 0.9790\n",
      "Epoch 3/5\n",
      "1875/1875 [==============================] - 15s 8ms/step - loss: 0.0589 - accuracy: 0.9829 - val_loss: 0.0576 - val_accuracy: 0.9820\n",
      "Epoch 4/5\n",
      "1875/1875 [==============================] - 16s 9ms/step - loss: 0.0485 - accuracy: 0.9851 - val_loss: 0.0573 - val_accuracy: 0.9813\n",
      "Epoch 5/5\n",
      "1875/1875 [==============================] - 15s 8ms/step - loss: 0.0407 - accuracy: 0.9876 - val_loss: 0.0521 - val_accuracy: 0.9828\n"
     ]
    },
    {
     "data": {
      "text/plain": "<keras.callbacks.History at 0x1e5846a5bd0>"
     },
     "execution_count": 74,
     "metadata": {},
     "output_type": "execute_result"
    }
   ],
   "source": [
    "import tensorflow as tf\n",
    "import numpy as np\n",
    "import matplotlib.pyplot as plt\n",
    "\n",
    "(x_train, y_train), (x_test, y_test) = tf.keras.datasets.mnist.load_data()\n",
    "\n",
    "# Normalizing\n",
    "x_train = x_train / 255.0\n",
    "x_test = x_test / 255.0\n",
    "x_train = np.expand_dims(x_train, axis=-1)\n",
    "x_test = np.expand_dims(x_test, axis=-1)\n",
    "\n",
    "# Sequential Dense model\n",
    "model_FC = tf.keras.models.Sequential([\n",
    "    tf.keras.layers.Flatten(input_shape=(28, 28)),\n",
    "    tf.keras.layers.Dense(64, activation='relu'), #128\n",
    "    tf.keras.layers.Dense(10)\n",
    "])\n",
    "model_FC.compile(optimizer='adam', loss=tf.keras.losses.SparseCategoricalCrossentropy(from_logits=True), metrics=['accuracy'])\n",
    "model_FC.fit(x_train, y_train, epochs=5, validation_data=(x_test, y_test))\n",
    "\n",
    "# CNN model\n",
    "model_CNN = tf.keras.Sequential([\n",
    "    tf.keras.layers.Conv2D(32, (3,3), activation='relu', input_shape=(28,28,1)),\n",
    "    tf.keras.layers.MaxPooling2D((2,2)),\n",
    "    tf.keras.layers.Flatten(),\n",
    "    tf.keras.layers.Dense(10)\n",
    "])\n",
    "\n",
    "# Train the model\n",
    "model_CNN.compile(optimizer='adam', loss=tf.keras.losses.SparseCategoricalCrossentropy(from_logits=True), metrics=['accuracy'])\n",
    "model_CNN.fit(x_train, y_train, epochs=5, validation_data=(x_test, y_test))"
   ],
   "metadata": {
    "collapsed": false,
    "pycharm": {
     "name": "#%%\n"
    }
   }
  },
  {
   "cell_type": "markdown",
   "source": [
    "#### Adversarial attacks\n",
    "Adversarial image attacks:\n",
    "\n",
    "- Untargeted adversarial attacks, where we cannot control the output label of the adversarial image.\n",
    "- Targeted adversarial attacks, where we can control the output label of the image."
   ],
   "metadata": {
    "collapsed": false,
    "pycharm": {
     "name": "#%% md\n"
    }
   }
  },
  {
   "cell_type": "code",
   "execution_count": 75,
   "outputs": [
    {
     "data": {
      "text/plain": "<Figure size 432x288 with 1 Axes>",
      "image/png": "[encoded data removed]"
     },
     "metadata": {
      "needs_background": "light"
     },
     "output_type": "display_data"
    }
   ],
   "source": [
    "# Select an image from the test set and its corresponding true label\n",
    "image = x_test[69]\n",
    "label = y_test[69]\n",
    "plt.imshow(image)\n",
    "\n",
    "# Add a batch dimension to the input image\n",
    "image = np.expand_dims(image, axis=0)\n"
   ],
   "metadata": {
    "collapsed": false,
    "pycharm": {
     "name": "#%%\n"
    }
   }
  },
  {
   "cell_type": "markdown",
   "source": [
    "**To do**: Fast Gradient Sign Method\n",
    "https://pyimagesearch.com/2021/03/01/adversarial-attacks-with-fgsm-fast-gradient-sign-method/"
   ],
   "metadata": {
    "collapsed": false,
    "pycharm": {
     "name": "#%% md\n"
    }
   }
  },
  {
   "cell_type": "code",
   "execution_count": 76,
   "outputs": [],
   "source": [
    "\n",
    "# Compute the gradient of the loss with respect to the input image\n",
    "loss_object = tf.keras.losses.SparseCategoricalCrossentropy(from_logits=True)\n",
    "image_tensor = tf.convert_to_tensor(image)\n",
    "with tf.GradientTape() as tape:\n",
    "    tape.watch(image_tensor)\n",
    "    prediction = model(image_tensor)\n",
    "    loss = loss_object(label, prediction)\n",
    "gradient = tape.gradient(loss, image_tensor)\n",
    "\n"
   ],
   "metadata": {
    "collapsed": false,
    "pycharm": {
     "name": "#%%\n"
    }
   }
  },
  {
   "cell_type": "code",
   "execution_count": 77,
   "outputs": [
    {
     "name": "stdout",
     "output_type": "stream",
     "text": [
      "Original CNN prediction: tf.Tensor([0], shape=(1,), dtype=int64)\n",
      "Adversarial CNN prediction: tf.Tensor([0], shape=(1,), dtype=int64)\n",
      "Original FCN prediction: tf.Tensor([0], shape=(1,), dtype=int64)\n",
      "Adversarial FCN prediction: tf.Tensor([6], shape=(1,), dtype=int64)\n"
     ]
    },
    {
     "data": {
      "text/plain": "<Figure size 432x288 with 2 Axes>",
      "image/png": "[encoded data removed]"
     },
     "metadata": {
      "needs_background": "light"
     },
     "output_type": "display_data"
    }
   ],
   "source": [
    "\n",
    "\n",
    "\n",
    "# Generate an adversarial example using FGSM\n",
    "epsilon = 0.1\n",
    "signed_grad = tf.sign(gradient)\n",
    "adversarial_image = image + epsilon * signed_grad\n",
    "adversarial_image = tf.clip_by_value(adversarial_image, clip_value_min=0.0, clip_value_max=1.0)\n",
    "\n",
    "# Evaluate the model on the original image and the adversarial example\n",
    "original_prediction = model_CNN(image)\n",
    "adversarial_prediction = model_CNN(adversarial_image)\n",
    "\n",
    "print('Original CNN prediction:', tf.argmax(original_prediction, axis=1))\n",
    "print('Adversarial CNN prediction:', tf.argmax(adversarial_prediction, axis=1))\n",
    "print('Original FCN prediction:', tf.argmax( model_FC(image), axis=1))\n",
    "print('Adversarial FCN prediction:', tf.argmax(model_FC(adversarial_image), axis=1))\n",
    "\n",
    "# Show the original image and the adversarial example\n",
    "plt.subplot(1,2,1)\n",
    "plt.imshow(image[0].squeeze(), cmap='gray')\n",
    "plt.title('Original Image')\n",
    "plt.axis('off')\n",
    "plt.subplot(1,2,2)\n",
    "plt.imshow(adversarial_image.numpy().squeeze(), cmap='gray')\n",
    "plt.title('Adversarial Example')\n",
    "plt.axis('off')\n",
    "plt.show()"
   ],
   "metadata": {
    "collapsed": false,
    "pycharm": {
     "name": "#%%\n"
    }
   }
  },
  {
   "cell_type": "code",
   "execution_count": 78,
   "outputs": [
    {
     "name": "stdout",
     "output_type": "stream",
     "text": [
      "313/313 [==============================] - 1s 4ms/step - loss: 0.0521 - accuracy: 0.9828\n",
      "CNN Test accuracy: 0.9828\n",
      "313/313 [==============================] - 1s 2ms/step - loss: 0.0915 - accuracy: 0.9709\n",
      "FC Test accuracy: 0.9709\n"
     ]
    }
   ],
   "source": [
    "test_loss, test_acc = model_CNN.evaluate(x_test, y_test)\n",
    "print(f'CNN Test accuracy: {test_acc:.4f}')\n",
    "\n",
    "test_loss, test_acc = model_FC.evaluate(x_test, y_test)\n",
    "print(f'FC Test accuracy: {test_acc:.4f}')"
   ],
   "metadata": {
    "collapsed": false,
    "pycharm": {
     "name": "#%%\n"
    }
   }
  },
  {
   "cell_type": "code",
   "execution_count": 80,
   "outputs": [],
   "source": [
    "# Generate an adversarial dataset using FGSM\n",
    "\n",
    "def generate_adversarial_examples(x_test, y_test, model, epsilon):\n",
    "    # Create a copy of x_test\n",
    "    x_adv = tf.identity(x_test)\n",
    "\n",
    "    # Loop over all the examples in x_test\n",
    "    for i in range(len(x_test)):\n",
    "        image = tf.expand_dims(x_test[i], axis=0)\n",
    "        label = tf.expand_dims(y_test[i], axis=0)\n",
    "\n",
    "        # Compute the gradient of the loss with respect to the input image\n",
    "        loss_object = tf.keras.losses.SparseCategoricalCrossentropy(from_logits=True)\n",
    "        image_tensor = tf.convert_to_tensor(image)\n",
    "        with tf.GradientTape() as tape:\n",
    "            tape.watch(image_tensor)\n",
    "            prediction = model(image_tensor)\n",
    "            loss = loss_object(label, prediction)\n",
    "        gradient = tape.gradient(loss, image_tensor)\n",
    "\n",
    "        # Generate an adversarial example using FGSM\n",
    "        signed_grad = tf.sign(gradient)\n",
    "        adversarial_image = image + epsilon * signed_grad\n",
    "        adversarial_image = tf.clip_by_value(adversarial_image, clip_value_min=0.0, clip_value_max=1.0)\n",
    "\n",
    "        # Update the adversarial example in x_adv\n",
    "        indices = tf.constant([[i]])\n",
    "        x_adv = tf.tensor_scatter_nd_update(x_adv, indices, adversarial_image)\n",
    "\n",
    "    return x_adv\n",
    "\n",
    "epsilon = 0.1\n",
    "x_adv_cnn = generate_adversarial_examples(x_test, y_test, model_CNN, epsilon)\n",
    "x_adv_fc = generate_adversarial_examples(x_test, y_test, model_FC, epsilon)\n",
    "\n"
   ],
   "metadata": {
    "collapsed": false,
    "pycharm": {
     "name": "#%%\n"
    }
   }
  },
  {
   "cell_type": "code",
   "execution_count": 81,
   "outputs": [
    {
     "name": "stdout",
     "output_type": "stream",
     "text": [
      "CNN Adversarial accuracy: 0.4684\n",
      "FC Adversarial accuracy: 0.0828\n"
     ]
    }
   ],
   "source": [
    "# Evaluate the model on the adversarial dataset\n",
    "adv_loss, adv_acc = model_CNN.evaluate(x_adv_cnn, y_test, verbose=0)\n",
    "print(f'CNN Adversarial accuracy: {adv_acc:.4f}')\n",
    "\n",
    "adv_loss, adv_acc = model_FC.evaluate(x_adv_fc, y_test, verbose=0)\n",
    "print(f'FC Adversarial accuracy: {adv_acc:.4f}')"
   ],
   "metadata": {
    "collapsed": false,
    "pycharm": {
     "name": "#%%\n"
    }
   }
  },
  {
   "cell_type": "markdown",
   "source": [
    "CNN Adversarial accuracy: 0.5155\n",
    "FC Adversarial accuracy: 0.1312"
   ],
   "metadata": {
    "collapsed": false,
    "pycharm": {
     "name": "#%% md\n"
    }
   }
  },
  {
   "cell_type": "code",
   "execution_count": 82,
   "outputs": [
    {
     "data": {
      "text/plain": "<Figure size 432x288 with 1 Axes>",
      "image/png": "[encoded data removed]"
     },
     "metadata": {
      "needs_background": "light"
     },
     "output_type": "display_data"
    }
   ],
   "source": [
    "import matplotlib.pyplot as plt\n",
    "\n",
    "epsilons = [0, 0.01, 0.05, 0.1, 0.15, 0.2, 0.3, 0.5]\n",
    "adv_acc_cnn = []\n",
    "adv_acc_fc = []\n",
    "\n",
    "for epsilon in epsilons:\n",
    "    x_adv_cnn = generate_adversarial_examples(x_test, y_test, model_CNN, epsilon)\n",
    "    x_adv_fc = generate_adversarial_examples(x_test, y_test, model_FC, epsilon)\n",
    "\n",
    "    _, adv_acc = model_CNN.evaluate(x_adv_cnn, y_test, verbose=0)\n",
    "    adv_acc_cnn.append(adv_acc)\n",
    "\n",
    "    _, adv_acc = model_FC.evaluate(x_adv_fc, y_test, verbose=0)\n",
    "    adv_acc_fc.append(adv_acc)\n",
    "\n",
    "plt.plot(epsilons, adv_acc_cnn, 'r-', label='CNN')\n",
    "plt.plot(epsilons, adv_acc_fc, 'b-', label='FC')\n",
    "plt.xlabel('Epsilon')\n",
    "plt.ylabel('Accuracy')\n",
    "plt.title('Accuracy vs Epsilon')\n",
    "plt.legend()\n",
    "plt.show()\n"
   ],
   "metadata": {
    "collapsed": false,
    "pycharm": {
     "name": "#%%\n"
    }
   }
  },
  {
   "cell_type": "markdown",
   "source": [
    "***To do: ??***"
   ],
   "metadata": {
    "collapsed": false,
    "pycharm": {
     "name": "#%% md\n"
    }
   }
  },
  {
   "cell_type": "code",
   "execution_count": 92,
   "outputs": [
    {
     "name": "stdout",
     "output_type": "stream",
     "text": [
      "Model: \"sequential_8\"\n",
      "_________________________________________________________________\n",
      " Layer (type)                Output Shape              Param #   \n",
      "=================================================================\n",
      " conv2d_7 (Conv2D)           (None, 26, 26, 32)        320       \n",
      "                                                                 \n",
      " max_pooling2d_5 (MaxPooling  (None, 13, 13, 32)       0         \n",
      " 2D)                                                             \n",
      "                                                                 \n",
      " flatten_8 (Flatten)         (None, 5408)              0         \n",
      "                                                                 \n",
      " dense_11 (Dense)            (None, 10)                54090     \n",
      "                                                                 \n",
      "=================================================================\n",
      "Total params: 54,410\n",
      "Trainable params: 54,410\n",
      "Non-trainable params: 0\n",
      "_________________________________________________________________\n",
      "Model: \"sequential_7\"\n",
      "_________________________________________________________________\n",
      " Layer (type)                Output Shape              Param #   \n",
      "=================================================================\n",
      " flatten_7 (Flatten)         (None, 784)               0         \n",
      "                                                                 \n",
      " dense_9 (Dense)             (None, 64)                50240     \n",
      "                                                                 \n",
      " dense_10 (Dense)            (None, 10)                650       \n",
      "                                                                 \n",
      "=================================================================\n",
      "Total params: 50,890\n",
      "Trainable params: 50,890\n",
      "Non-trainable params: 0\n",
      "_________________________________________________________________\n"
     ]
    }
   ],
   "source": [
    "model_CNN.summary()\n",
    "model_FC.summary()\n"
   ],
   "metadata": {
    "collapsed": false,
    "pycharm": {
     "name": "#%%\n"
    }
   }
  },
  {
   "cell_type": "code",
   "execution_count": 98,
   "outputs": [
    {
     "name": "stderr",
     "output_type": "stream",
     "text": [
      "100%|██████████| 10000/10000 [21:53<00:00,  7.61it/s]\n",
      "100%|██████████| 10000/10000 [19:07<00:00,  8.72it/s]\n"
     ]
    }
   ],
   "source": [
    "from tqdm import tqdm\n",
    "\n",
    "def generate_adversarial_examples(x_test, y_test, model, epsilon, num_steps, step_size):\n",
    "    # Create a copy of x_test\n",
    "    x_adv = tf.identity(x_test)\n",
    "\n",
    "    # Loop over all the examples in x_test\n",
    "    for i in tqdm(range(len(x_test))):\n",
    "        image = tf.expand_dims(x_test[i], axis=0)\n",
    "        label = tf.expand_dims(y_test[i], axis=0)\n",
    "\n",
    "        # Generate an adversarial example using PGD\n",
    "        adversarial_image = tf.identity(image)\n",
    "        for j in range(num_steps):\n",
    "            # Compute the gradient of the loss with respect to the input image\n",
    "            loss_object = tf.keras.losses.SparseCategoricalCrossentropy(from_logits=True)\n",
    "            image_tensor = tf.convert_to_tensor(adversarial_image)\n",
    "            with tf.GradientTape() as tape:\n",
    "                tape.watch(image_tensor)\n",
    "                prediction = model(image_tensor)\n",
    "                loss = loss_object(label, prediction)\n",
    "            gradient = tape.gradient(loss, image_tensor)\n",
    "\n",
    "            # Generate a perturbation using the gradient\n",
    "            signed_grad = tf.sign(gradient)\n",
    "            perturbation = step_size * signed_grad\n",
    "\n",
    "            # Clip the perturbation to ensure it stays within the epsilon ball\n",
    "            adversarial_image = tf.clip_by_value(adversarial_image + perturbation, clip_value_min=image - epsilon, clip_value_max=image + epsilon)\n",
    "            adversarial_image = tf.clip_by_value(adversarial_image, clip_value_min=0.0, clip_value_max=1.0)\n",
    "\n",
    "        # Update the adversarial example in x_adv\n",
    "        indices = tf.constant([[i]])\n",
    "        x_adv = tf.tensor_scatter_nd_update(x_adv, indices, adversarial_image)\n",
    "\n",
    "    return x_adv\n",
    "\n",
    "epsilon = 0.1\n",
    "num_steps = 10\n",
    "step_size = 0.01\n",
    "x_adv_cnn = generate_adversarial_examples(x_test, y_test, model_CNN, epsilon, num_steps, step_size)\n",
    "x_adv_fc = generate_adversarial_examples(x_test, y_test, model_FC, epsilon, num_steps, step_size)\n"
   ],
   "metadata": {
    "collapsed": false,
    "pycharm": {
     "name": "#%%\n"
    }
   }
  },
  {
   "cell_type": "code",
   "execution_count": 95,
   "outputs": [],
   "source": [
    "x_adv_cnn = generate_adversarial_examples(x_test[:5], y_test[:5], model_CNN, epsilon, num_steps, step_size)\n"
   ],
   "metadata": {
    "collapsed": false,
    "pycharm": {
     "name": "#%%\n"
    }
   }
  },
  {
   "cell_type": "code",
   "execution_count": 96,
   "outputs": [],
   "source": [
    "adv_loss, adv_acc = model_CNN.evaluate(x_adv_cnn, y_test[:5], verbose=0)"
   ],
   "metadata": {
    "collapsed": false,
    "pycharm": {
     "name": "#%%\n"
    }
   }
  },
  {
   "cell_type": "code",
   "execution_count": 97,
   "outputs": [
    {
     "name": "stdout",
     "output_type": "stream",
     "text": [
      "CNN Adversarial accuracy: 0.0000\n"
     ]
    }
   ],
   "source": [
    "print(f'CNN Adversarial accuracy: {adv_acc:.4f}')"
   ],
   "metadata": {
    "collapsed": false,
    "pycharm": {
     "name": "#%%\n"
    }
   }
  },
  {
   "cell_type": "code",
   "execution_count": 99,
   "outputs": [
    {
     "name": "stdout",
     "output_type": "stream",
     "text": [
      "CNN Adversarial accuracy: 0.1238\n",
      "FC Adversarial accuracy: 0.0482\n"
     ]
    }
   ],
   "source": [
    "# Evaluate the model on the adversarial dataset\n",
    "adv_loss, adv_acc = model_CNN.evaluate(x_adv_cnn, y_test, verbose=0)\n",
    "print(f'CNN Adversarial accuracy: {adv_acc:.4f}')\n",
    "\n",
    "adv_loss, adv_acc = model_FC.evaluate(x_adv_fc, y_test, verbose=0)\n",
    "print(f'FC Adversarial accuracy: {adv_acc:.4f}')"
   ],
   "metadata": {
    "collapsed": false,
    "pycharm": {
     "name": "#%%\n"
    }
   }
  },
  {
   "cell_type": "markdown",
   "source": [
    "### Shift Invariance"
   ],
   "metadata": {
    "collapsed": false,
    "pycharm": {
     "name": "#%% md\n"
    }
   }
  },
  {
   "cell_type": "markdown",
   "source": [
    "Shift invariance for convolutional neural networks (CNNs) means that the network's response is unchanged when the input is shifted in any direction by a fixed amount. This property is desirable in image recognition tasks where objects can appear at different locations in an image.\n",
    " Let $f(x)$ be the input image and $g(x)$ be a convolutional filter. The output of the convolution operation is given by:\n",
    "\n",
    "$(f \\ast g)(x)=\\int f(y)g(x−y)dy$\n",
    "\n",
    "where $\\ast$ denotes convolution and $y$ is the spatial variable. Shift invariance means that if we shift the input image by a fixed amount $t$, the output of the convolution operation is also shifted by $t$:\n",
    "\n",
    "$(f \\ast g)(x−t) = \\int f(y)g(x−y−t)dy =(f \\ast g)(x) \\ast h(t) $\n",
    "\n",
    "where $h(t)$ is the impulse response of the filter, which is the filter's response to a unit impulse. This property allows us to use the same set of filters to extract features from an image regardless of its location in the image."
   ],
   "metadata": {
    "collapsed": false,
    "pycharm": {
     "name": "#%% md\n"
    }
   }
  },
  {
   "cell_type": "code",
   "execution_count": 85,
   "outputs": [],
   "source": [
    "\n",
    "# Shift the test set by random amounts and evaluate the models\n",
    "shift_range = 4\n",
    "shifted_images = []\n",
    "shifted_labels = []\n",
    "for i in range(len(x_test)):\n",
    "    dx, dy = np.random.randint(-shift_range, shift_range+1, size=2)\n",
    "    shifted_image = np.roll(x_test[i], (dx, dy), axis=(0, 1))\n",
    "    shifted_images.append(shifted_image)\n",
    "    shifted_labels.append(y_test[i])\n",
    "shifted_images = np.array(shifted_images)\n",
    "shifted_labels = np.array(shifted_labels)\n",
    "\n"
   ],
   "metadata": {
    "collapsed": false,
    "pycharm": {
     "name": "#%%\n"
    }
   }
  },
  {
   "cell_type": "code",
   "execution_count": 86,
   "outputs": [
    {
     "name": "stdout",
     "output_type": "stream",
     "text": [
      "Shifted test set accuracy - CNN: 0.5658000111579895\n",
      "Shifted test set accuracy - FC: 0.42649999260902405\n"
     ]
    }
   ],
   "source": [
    "acc_cnn_shifted = model_CNN.evaluate(shifted_images, shifted_labels, verbose=0)[1]\n",
    "acc_fc_shifted = model_FC.evaluate(shifted_images, shifted_labels, verbose=0)[1]\n",
    "\n",
    "print('Shifted test set accuracy - CNN:', acc_cnn_shifted)\n",
    "print('Shifted test set accuracy - FC:', acc_fc_shifted)"
   ],
   "metadata": {
    "collapsed": false,
    "pycharm": {
     "name": "#%%\n"
    }
   }
  },
  {
   "cell_type": "code",
   "execution_count": 89,
   "outputs": [
    {
     "data": {
      "text/plain": "<Figure size 432x288 with 1 Axes>",
      "image/png": "[encoded data removed]"
     },
     "metadata": {
      "needs_background": "light"
     },
     "output_type": "display_data"
    }
   ],
   "source": [
    "shift_acc_cnn = []\n",
    "shift_acc_fc = []\n",
    "\n",
    "for shift_range in range(6):\n",
    "    shifted_images = []\n",
    "    shifted_labels = []\n",
    "    for i in range(len(x_test)):\n",
    "        dx, dy = np.random.randint(-shift_range, shift_range+1, size=2)\n",
    "        shifted_image = np.roll(x_test[i], (dx, dy), axis=(0, 1))\n",
    "        shifted_images.append(shifted_image)\n",
    "        shifted_labels.append(y_test[i])\n",
    "    shifted_images = np.array(shifted_images)\n",
    "    shifted_labels = np.array(shifted_labels)\n",
    "    acc_cnn_shifted =[1]\n",
    "    acc_fc_shifted =[1]\n",
    "\n",
    "    _, shift_acc = model_CNN.evaluate(shifted_images, shifted_labels, verbose=0)\n",
    "    shift_acc_cnn.append(shift_acc)\n",
    "\n",
    "    _, shift_acc =  model_FC.evaluate(shifted_images, shifted_labels, verbose=0)\n",
    "    shift_acc_fc.append(shift_acc)\n",
    "\n",
    "plt.plot( range(6), shift_acc_cnn, 'r-', label='CNN')\n",
    "plt.plot( range(6), shift_acc_fc, 'b-', label='FC')\n",
    "plt.xlabel('Shift range')\n",
    "plt.ylabel('Accuracy')\n",
    "plt.title('Accuracy vs Shift range')\n",
    "plt.legend()\n",
    "plt.show()"
   ],
   "metadata": {
    "collapsed": false,
    "pycharm": {
     "name": "#%%\n"
    }
   }
  },
  {
   "cell_type": "code",
   "execution_count": 90,
   "outputs": [
    {
     "ename": "ValueError",
     "evalue": "Shapes (1,) and (1, 10) are incompatible",
     "output_type": "error",
     "traceback": [
      "\u001B[1;31m---------------------------------------------------------------------------\u001B[0m",
      "\u001B[1;31mValueError\u001B[0m                                Traceback (most recent call last)",
      "Input \u001B[1;32mIn [90]\u001B[0m, in \u001B[0;36m<cell line: 39>\u001B[1;34m()\u001B[0m\n\u001B[0;32m     36\u001B[0m iterations \u001B[38;5;241m=\u001B[39m \u001B[38;5;241m40\u001B[39m\n\u001B[0;32m     37\u001B[0m alpha \u001B[38;5;241m=\u001B[39m \u001B[38;5;241m0.01\u001B[39m\n\u001B[1;32m---> 39\u001B[0m x_adv_cnn \u001B[38;5;241m=\u001B[39m \u001B[43mgenerate_adversarial_examples\u001B[49m\u001B[43m(\u001B[49m\u001B[43mx_test\u001B[49m\u001B[43m,\u001B[49m\u001B[43m \u001B[49m\u001B[43my_test\u001B[49m\u001B[43m,\u001B[49m\u001B[43m \u001B[49m\u001B[43mmodel_CNN\u001B[49m\u001B[43m,\u001B[49m\u001B[43m \u001B[49m\u001B[43mepsilon\u001B[49m\u001B[43m,\u001B[49m\u001B[43m \u001B[49m\u001B[43miterations\u001B[49m\u001B[43m,\u001B[49m\u001B[43m \u001B[49m\u001B[43malpha\u001B[49m\u001B[43m)\u001B[49m\n\u001B[0;32m     40\u001B[0m x_adv_fc \u001B[38;5;241m=\u001B[39m generate_adversarial_examples(x_test, y_test, model_FC, epsilon, iterations, alpha)\n",
      "Input \u001B[1;32mIn [90]\u001B[0m, in \u001B[0;36mgenerate_adversarial_examples\u001B[1;34m(x_test, y_test, model, epsilon, iterations, alpha)\u001B[0m\n\u001B[0;32m     14\u001B[0m     tape\u001B[38;5;241m.\u001B[39mwatch(image)\n\u001B[0;32m     15\u001B[0m     prediction \u001B[38;5;241m=\u001B[39m model(image)\n\u001B[1;32m---> 16\u001B[0m     loss \u001B[38;5;241m=\u001B[39m \u001B[43mtf\u001B[49m\u001B[38;5;241;43m.\u001B[39;49m\u001B[43mkeras\u001B[49m\u001B[38;5;241;43m.\u001B[39;49m\u001B[43mlosses\u001B[49m\u001B[38;5;241;43m.\u001B[39;49m\u001B[43mcategorical_crossentropy\u001B[49m\u001B[43m(\u001B[49m\u001B[43mlabel\u001B[49m\u001B[43m,\u001B[49m\u001B[43m \u001B[49m\u001B[43mprediction\u001B[49m\u001B[43m)\u001B[49m\n\u001B[0;32m     17\u001B[0m gradient \u001B[38;5;241m=\u001B[39m tape\u001B[38;5;241m.\u001B[39mgradient(loss, image)\n\u001B[0;32m     19\u001B[0m signed_grad \u001B[38;5;241m=\u001B[39m tf\u001B[38;5;241m.\u001B[39msign(gradient)\n",
      "File \u001B[1;32m~\\anaconda3\\envs\\handson-ml3\\lib\\site-packages\\tensorflow\\python\\util\\traceback_utils.py:153\u001B[0m, in \u001B[0;36mfilter_traceback.<locals>.error_handler\u001B[1;34m(*args, **kwargs)\u001B[0m\n\u001B[0;32m    151\u001B[0m \u001B[38;5;28;01mexcept\u001B[39;00m \u001B[38;5;167;01mException\u001B[39;00m \u001B[38;5;28;01mas\u001B[39;00m e:\n\u001B[0;32m    152\u001B[0m   filtered_tb \u001B[38;5;241m=\u001B[39m _process_traceback_frames(e\u001B[38;5;241m.\u001B[39m__traceback__)\n\u001B[1;32m--> 153\u001B[0m   \u001B[38;5;28;01mraise\u001B[39;00m e\u001B[38;5;241m.\u001B[39mwith_traceback(filtered_tb) \u001B[38;5;28;01mfrom\u001B[39;00m \u001B[38;5;28mNone\u001B[39m\n\u001B[0;32m    154\u001B[0m \u001B[38;5;28;01mfinally\u001B[39;00m:\n\u001B[0;32m    155\u001B[0m   \u001B[38;5;28;01mdel\u001B[39;00m filtered_tb\n",
      "File \u001B[1;32m~\\anaconda3\\envs\\handson-ml3\\lib\\site-packages\\keras\\losses.py:1984\u001B[0m, in \u001B[0;36mcategorical_crossentropy\u001B[1;34m(y_true, y_pred, from_logits, label_smoothing, axis)\u001B[0m\n\u001B[0;32m   1976\u001B[0m     \u001B[38;5;28;01mreturn\u001B[39;00m y_true \u001B[38;5;241m*\u001B[39m (\u001B[38;5;241m1.0\u001B[39m \u001B[38;5;241m-\u001B[39m label_smoothing) \u001B[38;5;241m+\u001B[39m (\n\u001B[0;32m   1977\u001B[0m         label_smoothing \u001B[38;5;241m/\u001B[39m num_classes\n\u001B[0;32m   1978\u001B[0m     )\n\u001B[0;32m   1980\u001B[0m y_true \u001B[38;5;241m=\u001B[39m tf\u001B[38;5;241m.\u001B[39m__internal__\u001B[38;5;241m.\u001B[39msmart_cond\u001B[38;5;241m.\u001B[39msmart_cond(\n\u001B[0;32m   1981\u001B[0m     label_smoothing, _smooth_labels, \u001B[38;5;28;01mlambda\u001B[39;00m: y_true\n\u001B[0;32m   1982\u001B[0m )\n\u001B[1;32m-> 1984\u001B[0m \u001B[38;5;28;01mreturn\u001B[39;00m \u001B[43mbackend\u001B[49m\u001B[38;5;241;43m.\u001B[39;49m\u001B[43mcategorical_crossentropy\u001B[49m\u001B[43m(\u001B[49m\n\u001B[0;32m   1985\u001B[0m \u001B[43m    \u001B[49m\u001B[43my_true\u001B[49m\u001B[43m,\u001B[49m\u001B[43m \u001B[49m\u001B[43my_pred\u001B[49m\u001B[43m,\u001B[49m\u001B[43m \u001B[49m\u001B[43mfrom_logits\u001B[49m\u001B[38;5;241;43m=\u001B[39;49m\u001B[43mfrom_logits\u001B[49m\u001B[43m,\u001B[49m\u001B[43m \u001B[49m\u001B[43maxis\u001B[49m\u001B[38;5;241;43m=\u001B[39;49m\u001B[43maxis\u001B[49m\n\u001B[0;32m   1986\u001B[0m \u001B[43m\u001B[49m\u001B[43m)\u001B[49m\n",
      "File \u001B[1;32m~\\anaconda3\\envs\\handson-ml3\\lib\\site-packages\\keras\\backend.py:5559\u001B[0m, in \u001B[0;36mcategorical_crossentropy\u001B[1;34m(target, output, from_logits, axis)\u001B[0m\n\u001B[0;32m   5557\u001B[0m target \u001B[38;5;241m=\u001B[39m tf\u001B[38;5;241m.\u001B[39mconvert_to_tensor(target)\n\u001B[0;32m   5558\u001B[0m output \u001B[38;5;241m=\u001B[39m tf\u001B[38;5;241m.\u001B[39mconvert_to_tensor(output)\n\u001B[1;32m-> 5559\u001B[0m \u001B[43mtarget\u001B[49m\u001B[38;5;241;43m.\u001B[39;49m\u001B[43mshape\u001B[49m\u001B[38;5;241;43m.\u001B[39;49m\u001B[43massert_is_compatible_with\u001B[49m\u001B[43m(\u001B[49m\u001B[43moutput\u001B[49m\u001B[38;5;241;43m.\u001B[39;49m\u001B[43mshape\u001B[49m\u001B[43m)\u001B[49m\n\u001B[0;32m   5561\u001B[0m output, from_logits \u001B[38;5;241m=\u001B[39m _get_logits(\n\u001B[0;32m   5562\u001B[0m     output, from_logits, \u001B[38;5;124m\"\u001B[39m\u001B[38;5;124mSoftmax\u001B[39m\u001B[38;5;124m\"\u001B[39m, \u001B[38;5;124m\"\u001B[39m\u001B[38;5;124mcategorical_crossentropy\u001B[39m\u001B[38;5;124m\"\u001B[39m\n\u001B[0;32m   5563\u001B[0m )\n\u001B[0;32m   5564\u001B[0m \u001B[38;5;28;01mif\u001B[39;00m from_logits:\n",
      "\u001B[1;31mValueError\u001B[0m: Shapes (1,) and (1, 10) are incompatible"
     ]
    }
   ],
   "source": [
    "def generate_adversarial_examples(x_test, y_test, model, epsilon, iterations, alpha):\n",
    "    \"\"\"DNN\"\"\""
   ],
   "metadata": {
    "collapsed": false,
    "pycharm": {
     "name": "#%%\n"
    }
   }
  },
  {
   "cell_type": "code",
   "execution_count": 91,
   "outputs": [],
   "source": [
    "\n",
    "\n",
    "x_adv_cnn = generate_adversarial_examples(x_test, y_test_onehot, model_CNN, epsilon, iterations, alpha)\n",
    "x_adv_fc = generate_adversarial_examples(x_test, y_test_onehot, model_FC, epsilon, iterations, alpha)\n",
    "\n"
   ],
   "metadata": {
    "collapsed": false,
    "pycharm": {
     "name": "#%%\n"
    }
   }
  },
  {
   "cell_type": "markdown",
   "source": [
    "https://towardsdatascience.com/know-your-enemy-7f7c5038bdf3"
   ],
   "metadata": {
    "collapsed": false,
    "pycharm": {
     "name": "#%% md\n"
    }
   }
  },
  {
   "cell_type": "markdown",
   "source": [
    "https://pyimagesearch.com/2021/03/01/adversarial-attacks-with-fgsm-fast-gradient-sign-method/"
   ],
   "metadata": {
    "collapsed": false,
    "pycharm": {
     "name": "#%% md\n"
    }
   }
  },
  {
   "cell_type": "markdown",
   "source": [
    "1. FGSM (Fast Gradient Sign Method):\n",
    "FGSM is a one-step attack algorithm that perturbs the input data using the sign of the gradient of the loss function with respect to the input.\n",
    "It computes the perturbation by taking a single step in the direction of the gradient sign multiplied by a small epsilon value.\n",
    "FGSM is a fast and computationally efficient method for generating adversarial examples.\n",
    "However, the generated adversarial examples may not be as effective in terms of fooling the model compared to more sophisticated attack algorithms.\n",
    "\n",
    "2. PGD (Projected Gradient Descent):\n",
    "PGD is an iterative attack algorithm that performs multiple steps of gradient updates to find effective perturbations.\n",
    "It starts with an initial perturbation and performs iterative updates by computing the gradient of the loss function with respect to the input and taking steps in the direction of the gradient.\n",
    "The perturbation is projected onto a feasible region (such as an epsilon ball) to ensure it stays within certain constraints.\n",
    "PGD explores a larger area in the input space and is more effective in finding small perturbations that can lead to misclassification.\n",
    "PGD is computationally more expensive compared to FGSM due to the iterative nature of the algorithm."
   ],
   "metadata": {
    "collapsed": false,
    "pycharm": {
     "name": "#%% md\n"
    }
   }
  },
  {
   "cell_type": "code",
   "execution_count": null,
   "outputs": [],
   "source": [
    "    FGSM (Fast Gradient Sign Method):\n",
    "FGSM is a fast and computationally efficient adversarial attack method.\n",
    "It perturbs the input data by taking a small step in the direction of the sign of the gradient of the loss function with respect to the input.\n",
    "The objective of FGSM is to maximize the loss function to force misclassification or create adversarial examples.\n",
    "\n",
    "PGD (Projected Gradient Descent):\n",
    "PGD is an iterative optimization-based attack method that performs multiple steps of gradient descent.\n",
    "It starts with a random or perturbed input and applies small incremental updates in the direction that maximizes the loss function.\n",
    "At each step, the perturbed input is projected back into a valid range to ensure it remains within a specified epsilon ball (bounded perturbation).\n",
    "PGD aims to find the perturbation that maximizes the loss function while staying within the defined constraints.\n",
    "\n",
    "Deepfool with Decoupled Direction and Norm:\n",
    "    Deepfool is an iterative attack method that aims to find the smallest perturbation required to change the classification of an input.\n",
    "    It calculates the minimal adversarial perturbation by linearizing the decision boundary and iteratively updating the input towards it.\n",
    "    Deepfool with Decoupled Direction and Norm (DDN) extends Deepfool by decoupling the direction and norm of the perturbation.\n",
    "    DDN uses an iterative optimization process to find the minimal perturbation in a decoupled manner, considering both the direction and the norm of the perturbation separately."
   ],
   "metadata": {
    "collapsed": false,
    "pycharm": {
     "name": "#%%\n"
    }
   }
  },
  {
   "cell_type": "code",
   "execution_count": null,
   "outputs": [],
   "source": [
    ", the CNN model (simple_Conv_2D) uses circular padding (padding_mode='circular')"
   ],
   "metadata": {
    "collapsed": false,
    "pycharm": {
     "name": "#%%\n"
    }
   }
  },
  {
   "cell_type": "code",
   "execution_count": 15,
   "outputs": [
    {
     "name": "stdout",
     "output_type": "stream",
     "text": [
      "├── .ignore\n",
      "├── .ipynb_checkpoints\n",
      "│   └── Shift_Invariance_Can_Reduce_Adversarial_Robustness-checkpoint.ipynb\n",
      "├── 2\n",
      "├── can-reduce-adversarial-robustness.pdf\n",
      "├── data\n",
      "│   ├── adversarial_data_2\n",
      "│   │   ├── 2_simple_Conv_10_512_ProjectedGradientDescentTensorFlowV2_0.05_test.npz\n",
      "│   │   ├── 2_simple_Conv_10_512_ProjectedGradientDescentTensorFlowV2_0.05_train.npz\n",
      "│   │   ├── 2_simple_Conv_10_512_ProjectedGradientDescentTensorFlowV2_0.15_test.npz\n",
      "│   │   ├── 2_simple_Conv_10_512_ProjectedGradientDescentTensorFlowV2_0.15_train.npz\n",
      "│   │   ├── 2_simple_Conv_10_512_ProjectedGradientDescentTensorFlowV2_0.1_test.npz\n",
      "│   │   ├── 2_simple_Conv_10_512_ProjectedGradientDescentTensorFlowV2_0.1_train.npz\n",
      "│   │   ├── 2_simple_Conv_10_512_ProjectedGradientDescentTensorFlowV2_0.25_test.npz\n",
      "│   │   ├── 2_simple_Conv_10_512_ProjectedGradientDescentTensorFlowV2_0.25_train.npz\n",
      "│   │   ├── 2_simple_Conv_10_512_ProjectedGradientDescentTensorFlowV2_0.2_test.npz\n",
      "│   │   ├── 2_simple_Conv_10_512_ProjectedGradientDescentTensorFlowV2_0.2_train.npz\n",
      "│   │   ├── 2_simple_Conv_10_512_ProjectedGradientDescentTensorFlowV2_0.3_test.npz\n",
      "│   │   ├── 2_simple_Conv_10_512_ProjectedGradientDescentTensorFlowV2_0.3_train.npz\n",
      "│   │   ├── 2_simple_Conv_10_512_ProjectedGradientDescentTensorFlowV2_0.5_test.npz\n",
      "│   │   ├── 2_simple_Conv_10_512_ProjectedGradientDescentTensorFlowV2_0.5_train.npz\n",
      "│   │   ├── 2_simple_Conv_10_512_ProjectedGradientDescentTensorFlowV2_1.5_test.npz\n",
      "│   │   ├── 2_simple_Conv_10_512_ProjectedGradientDescentTensorFlowV2_1.5_train.npz\n",
      "│   │   ├── 2_simple_Conv_10_512_ProjectedGradientDescentTensorFlowV2_1_test.npz\n",
      "│   │   ├── 2_simple_Conv_10_512_ProjectedGradientDescentTensorFlowV2_1_train.npz\n",
      "│   │   ├── 2_simple_Conv_10_512_ProjectedGradientDescentTensorFlowV2_2.5_test.npz\n",
      "│   │   ├── 2_simple_Conv_10_512_ProjectedGradientDescentTensorFlowV2_2.5_train.npz\n",
      "│   │   ├── 2_simple_Conv_10_512_ProjectedGradientDescentTensorFlowV2_3_test.npz\n",
      "│   │   ├── 2_simple_Conv_10_512_ProjectedGradientDescentTensorFlowV2_3_train.npz\n",
      "│   │   ├── 2_simple_Conv_12_2048_ProjectedGradientDescentTensorFlowV2_0.05_test.npz\n",
      "│   │   ├── 2_simple_Conv_12_2048_ProjectedGradientDescentTensorFlowV2_0.05_train.npz\n",
      "│   │   ├── 2_simple_Conv_12_2048_ProjectedGradientDescentTensorFlowV2_0.15_test.npz\n",
      "│   │   ├── 2_simple_Conv_12_2048_ProjectedGradientDescentTensorFlowV2_0.15_train.npz\n",
      "│   │   ├── 2_simple_Conv_12_2048_ProjectedGradientDescentTensorFlowV2_0.1_test.npz\n",
      "│   │   ├── 2_simple_Conv_12_2048_ProjectedGradientDescentTensorFlowV2_0.1_train.npz\n",
      "│   │   ├── 2_simple_Conv_12_2048_ProjectedGradientDescentTensorFlowV2_0.25_test.npz\n",
      "│   │   ├── 2_simple_Conv_12_2048_ProjectedGradientDescentTensorFlowV2_0.25_train.npz\n",
      "│   │   ├── 2_simple_Conv_12_2048_ProjectedGradientDescentTensorFlowV2_0.2_test.npz\n",
      "│   │   ├── 2_simple_Conv_12_2048_ProjectedGradientDescentTensorFlowV2_0.2_train.npz\n",
      "│   │   ├── 2_simple_Conv_12_2048_ProjectedGradientDescentTensorFlowV2_0.3_test.npz\n",
      "│   │   ├── 2_simple_Conv_12_2048_ProjectedGradientDescentTensorFlowV2_0.3_train.npz\n",
      "│   │   ├── 2_simple_Conv_12_2048_ProjectedGradientDescentTensorFlowV2_0.5_test.npz\n",
      "│   │   ├── 2_simple_Conv_12_2048_ProjectedGradientDescentTensorFlowV2_0.5_train.npz\n",
      "│   │   ├── 2_simple_Conv_12_2048_ProjectedGradientDescentTensorFlowV2_1.5_test.npz\n",
      "│   │   ├── 2_simple_Conv_12_2048_ProjectedGradientDescentTensorFlowV2_1.5_train.npz\n",
      "│   │   ├── 2_simple_Conv_12_2048_ProjectedGradientDescentTensorFlowV2_1_test.npz\n",
      "│   │   ├── 2_simple_Conv_12_2048_ProjectedGradientDescentTensorFlowV2_1_train.npz\n",
      "│   │   ├── 2_simple_Conv_12_2048_ProjectedGradientDescentTensorFlowV2_2.5_test.npz\n",
      "│   │   ├── 2_simple_Conv_12_2048_ProjectedGradientDescentTensorFlowV2_2.5_train.npz\n",
      "│   │   ├── 2_simple_Conv_12_2048_ProjectedGradientDescentTensorFlowV2_3_test.npz\n",
      "│   │   ├── 2_simple_Conv_12_2048_ProjectedGradientDescentTensorFlowV2_3_train.npz\n",
      "│   │   ├── 2_simple_Conv_2_ProjectedGradientDescentTensorFlowV2_0.05_test.npz\n",
      "│   │   ├── 2_simple_Conv_2_ProjectedGradientDescentTensorFlowV2_0.05_train.npz\n",
      "│   │   ├── 2_simple_Conv_2_ProjectedGradientDescentTensorFlowV2_0.15_test.npz\n",
      "│   │   ├── 2_simple_Conv_2_ProjectedGradientDescentTensorFlowV2_0.15_train.npz\n",
      "│   │   ├── 2_simple_Conv_2_ProjectedGradientDescentTensorFlowV2_0.1_test.npz\n",
      "│   │   ├── 2_simple_Conv_2_ProjectedGradientDescentTensorFlowV2_0.1_train.npz\n",
      "│   │   ├── 2_simple_Conv_2_ProjectedGradientDescentTensorFlowV2_0.25_test.npz\n",
      "│   │   ├── 2_simple_Conv_2_ProjectedGradientDescentTensorFlowV2_0.25_train.npz\n",
      "│   │   ├── 2_simple_Conv_2_ProjectedGradientDescentTensorFlowV2_0.2_test.npz\n",
      "│   │   ├── 2_simple_Conv_2_ProjectedGradientDescentTensorFlowV2_0.2_train.npz\n",
      "│   │   ├── 2_simple_Conv_2_ProjectedGradientDescentTensorFlowV2_0.3_test.npz\n",
      "│   │   ├── 2_simple_Conv_2_ProjectedGradientDescentTensorFlowV2_0.3_train.npz\n",
      "│   │   ├── 2_simple_Conv_2_ProjectedGradientDescentTensorFlowV2_0.5_test.npz\n",
      "│   │   ├── 2_simple_Conv_2_ProjectedGradientDescentTensorFlowV2_0.5_train.npz\n",
      "│   │   ├── 2_simple_Conv_2_ProjectedGradientDescentTensorFlowV2_1.5_test.npz\n",
      "│   │   ├── 2_simple_Conv_2_ProjectedGradientDescentTensorFlowV2_1.5_train.npz\n",
      "│   │   ├── 2_simple_Conv_2_ProjectedGradientDescentTensorFlowV2_1_test.npz\n",
      "│   │   ├── 2_simple_Conv_2_ProjectedGradientDescentTensorFlowV2_1_train.npz\n",
      "│   │   ├── 2_simple_Conv_2_ProjectedGradientDescentTensorFlowV2_2.5_test.npz\n",
      "│   │   ├── 2_simple_Conv_2_ProjectedGradientDescentTensorFlowV2_2.5_train.npz\n",
      "│   │   ├── 2_simple_Conv_2_ProjectedGradientDescentTensorFlowV2_3_test.npz\n",
      "│   │   ├── 2_simple_Conv_2_ProjectedGradientDescentTensorFlowV2_3_train.npz\n",
      "│   │   ├── 2_simple_Conv_max_ProjectedGradientDescentTensorFlowV2_0.05_test.npz\n",
      "│   │   ├── 2_simple_Conv_max_ProjectedGradientDescentTensorFlowV2_0.05_train.npz\n",
      "│   │   ├── 2_simple_Conv_max_ProjectedGradientDescentTensorFlowV2_0.15_test.npz\n",
      "│   │   ├── 2_simple_Conv_max_ProjectedGradientDescentTensorFlowV2_0.15_train.npz\n",
      "│   │   ├── 2_simple_Conv_max_ProjectedGradientDescentTensorFlowV2_0.1_test.npz\n",
      "│   │   ├── 2_simple_Conv_max_ProjectedGradientDescentTensorFlowV2_0.1_train.npz\n",
      "│   │   ├── 2_simple_Conv_max_ProjectedGradientDescentTensorFlowV2_0.25_test.npz\n",
      "│   │   ├── 2_simple_Conv_max_ProjectedGradientDescentTensorFlowV2_0.25_train.npz\n",
      "│   │   ├── 2_simple_Conv_max_ProjectedGradientDescentTensorFlowV2_0.2_test.npz\n",
      "│   │   ├── 2_simple_Conv_max_ProjectedGradientDescentTensorFlowV2_0.2_train.npz\n",
      "│   │   ├── 2_simple_Conv_max_ProjectedGradientDescentTensorFlowV2_0.3_test.npz\n",
      "│   │   ├── 2_simple_Conv_max_ProjectedGradientDescentTensorFlowV2_0.3_train.npz\n",
      "│   │   ├── 2_simple_Conv_max_ProjectedGradientDescentTensorFlowV2_0.5_test.npz\n",
      "│   │   ├── 2_simple_Conv_max_ProjectedGradientDescentTensorFlowV2_0.5_train.npz\n",
      "│   │   ├── 2_simple_Conv_max_ProjectedGradientDescentTensorFlowV2_1.5_test.npz\n",
      "│   │   ├── 2_simple_Conv_max_ProjectedGradientDescentTensorFlowV2_1.5_train.npz\n",
      "│   │   ├── 2_simple_Conv_max_ProjectedGradientDescentTensorFlowV2_1_test.npz\n",
      "│   │   ├── 2_simple_Conv_max_ProjectedGradientDescentTensorFlowV2_1_train.npz\n",
      "│   │   ├── 2_simple_Conv_max_ProjectedGradientDescentTensorFlowV2_2.5_test.npz\n",
      "│   │   ├── 2_simple_Conv_max_ProjectedGradientDescentTensorFlowV2_2.5_train.npz\n",
      "│   │   ├── 2_simple_Conv_max_ProjectedGradientDescentTensorFlowV2_3_test.npz\n",
      "│   │   ├── 2_simple_Conv_max_ProjectedGradientDescentTensorFlowV2_3_train.npz\n",
      "│   │   ├── 2_simple_Conv_NL_ProjectedGradientDescentTensorFlowV2_0.05_test.npz\n",
      "│   │   ├── 2_simple_Conv_NL_ProjectedGradientDescentTensorFlowV2_0.05_train.npz\n",
      "│   │   ├── 2_simple_Conv_NL_ProjectedGradientDescentTensorFlowV2_0.15_test.npz\n",
      "│   │   ├── 2_simple_Conv_NL_ProjectedGradientDescentTensorFlowV2_0.15_train.npz\n",
      "│   │   ├── 2_simple_Conv_NL_ProjectedGradientDescentTensorFlowV2_0.1_test.npz\n",
      "│   │   ├── 2_simple_Conv_NL_ProjectedGradientDescentTensorFlowV2_0.1_train.npz\n",
      "│   │   ├── 2_simple_Conv_NL_ProjectedGradientDescentTensorFlowV2_0.25_test.npz\n",
      "│   │   ├── 2_simple_Conv_NL_ProjectedGradientDescentTensorFlowV2_0.25_train.npz\n",
      "│   │   ├── 2_simple_Conv_NL_ProjectedGradientDescentTensorFlowV2_0.2_test.npz\n",
      "│   │   ├── 2_simple_Conv_NL_ProjectedGradientDescentTensorFlowV2_0.2_train.npz\n",
      "│   │   ├── 2_simple_Conv_NL_ProjectedGradientDescentTensorFlowV2_0.3_test.npz\n",
      "│   │   ├── 2_simple_Conv_NL_ProjectedGradientDescentTensorFlowV2_0.3_train.npz\n",
      "│   │   ├── 2_simple_Conv_NL_ProjectedGradientDescentTensorFlowV2_0.5_test.npz\n",
      "│   │   ├── 2_simple_Conv_NL_ProjectedGradientDescentTensorFlowV2_0.5_train.npz\n",
      "│   │   ├── 2_simple_Conv_NL_ProjectedGradientDescentTensorFlowV2_1.5_test.npz\n",
      "│   │   ├── 2_simple_Conv_NL_ProjectedGradientDescentTensorFlowV2_1.5_train.npz\n",
      "│   │   ├── 2_simple_Conv_NL_ProjectedGradientDescentTensorFlowV2_1_test.npz\n",
      "│   │   ├── 2_simple_Conv_NL_ProjectedGradientDescentTensorFlowV2_1_train.npz\n",
      "│   │   ├── 2_simple_Conv_NL_ProjectedGradientDescentTensorFlowV2_2.5_test.npz\n",
      "│   │   ├── 2_simple_Conv_NL_ProjectedGradientDescentTensorFlowV2_2.5_train.npz\n",
      "│   │   ├── 2_simple_Conv_NL_ProjectedGradientDescentTensorFlowV2_3_test.npz\n",
      "│   │   ├── 2_simple_Conv_NL_ProjectedGradientDescentTensorFlowV2_3_train.npz\n",
      "│   │   ├── 2_simple_FC_1024_ProjectedGradientDescentTensorFlowV2_0.05_test.npz\n",
      "│   │   ├── 2_simple_FC_1024_ProjectedGradientDescentTensorFlowV2_0.05_train.npz\n",
      "│   │   ├── 2_simple_FC_1024_ProjectedGradientDescentTensorFlowV2_0.15_test.npz\n",
      "│   │   ├── 2_simple_FC_1024_ProjectedGradientDescentTensorFlowV2_0.15_train.npz\n",
      "│   │   ├── 2_simple_FC_1024_ProjectedGradientDescentTensorFlowV2_0.1_test.npz\n",
      "│   │   ├── 2_simple_FC_1024_ProjectedGradientDescentTensorFlowV2_0.1_train.npz\n",
      "│   │   ├── 2_simple_FC_1024_ProjectedGradientDescentTensorFlowV2_0.25_test.npz\n",
      "│   │   ├── 2_simple_FC_1024_ProjectedGradientDescentTensorFlowV2_0.25_train.npz\n",
      "│   │   ├── 2_simple_FC_1024_ProjectedGradientDescentTensorFlowV2_0.2_test.npz\n",
      "│   │   ├── 2_simple_FC_1024_ProjectedGradientDescentTensorFlowV2_0.2_train.npz\n",
      "│   │   ├── 2_simple_FC_1024_ProjectedGradientDescentTensorFlowV2_0.3_test.npz\n",
      "│   │   ├── 2_simple_FC_1024_ProjectedGradientDescentTensorFlowV2_0.3_train.npz\n",
      "│   │   ├── 2_simple_FC_1024_ProjectedGradientDescentTensorFlowV2_0.5_test.npz\n",
      "│   │   ├── 2_simple_FC_1024_ProjectedGradientDescentTensorFlowV2_0.5_train.npz\n",
      "│   │   ├── 2_simple_FC_1024_ProjectedGradientDescentTensorFlowV2_1.5_test.npz\n",
      "│   │   ├── 2_simple_FC_1024_ProjectedGradientDescentTensorFlowV2_1.5_train.npz\n",
      "│   │   ├── 2_simple_FC_1024_ProjectedGradientDescentTensorFlowV2_1_test.npz\n",
      "│   │   ├── 2_simple_FC_1024_ProjectedGradientDescentTensorFlowV2_1_train.npz\n",
      "│   │   ├── 2_simple_FC_1024_ProjectedGradientDescentTensorFlowV2_2.5_test.npz\n",
      "│   │   ├── 2_simple_FC_1024_ProjectedGradientDescentTensorFlowV2_2.5_train.npz\n",
      "│   │   ├── 2_simple_FC_1024_ProjectedGradientDescentTensorFlowV2_3_test.npz\n",
      "│   │   ├── 2_simple_FC_1024_ProjectedGradientDescentTensorFlowV2_3_train.npz\n",
      "│   │   ├── 2_simple_FC_256_ProjectedGradientDescentTensorFlowV2_0.05_test.npz\n",
      "│   │   ├── 2_simple_FC_256_ProjectedGradientDescentTensorFlowV2_0.05_train.npz\n",
      "│   │   ├── 2_simple_FC_256_ProjectedGradientDescentTensorFlowV2_0.15_test.npz\n",
      "│   │   ├── 2_simple_FC_256_ProjectedGradientDescentTensorFlowV2_0.15_train.npz\n",
      "│   │   ├── 2_simple_FC_256_ProjectedGradientDescentTensorFlowV2_0.1_test.npz\n",
      "│   │   ├── 2_simple_FC_256_ProjectedGradientDescentTensorFlowV2_0.1_train.npz\n",
      "│   │   ├── 2_simple_FC_256_ProjectedGradientDescentTensorFlowV2_0.25_test.npz\n",
      "│   │   ├── 2_simple_FC_256_ProjectedGradientDescentTensorFlowV2_0.25_train.npz\n",
      "│   │   ├── 2_simple_FC_256_ProjectedGradientDescentTensorFlowV2_0.2_test.npz\n",
      "│   │   ├── 2_simple_FC_256_ProjectedGradientDescentTensorFlowV2_0.2_train.npz\n",
      "│   │   ├── 2_simple_FC_256_ProjectedGradientDescentTensorFlowV2_0.3_test.npz\n",
      "│   │   ├── 2_simple_FC_256_ProjectedGradientDescentTensorFlowV2_0.3_train.npz\n",
      "│   │   ├── 2_simple_FC_256_ProjectedGradientDescentTensorFlowV2_0.5_test.npz\n",
      "│   │   ├── 2_simple_FC_256_ProjectedGradientDescentTensorFlowV2_0.5_train.npz\n",
      "│   │   ├── 2_simple_FC_256_ProjectedGradientDescentTensorFlowV2_1.5_test.npz\n",
      "│   │   ├── 2_simple_FC_256_ProjectedGradientDescentTensorFlowV2_1.5_train.npz\n",
      "│   │   ├── 2_simple_FC_256_ProjectedGradientDescentTensorFlowV2_1_test.npz\n",
      "│   │   ├── 2_simple_FC_256_ProjectedGradientDescentTensorFlowV2_1_train.npz\n",
      "│   │   ├── 2_simple_FC_256_ProjectedGradientDescentTensorFlowV2_2.5_test.npz\n",
      "│   │   ├── 2_simple_FC_256_ProjectedGradientDescentTensorFlowV2_2.5_train.npz\n",
      "│   │   ├── 2_simple_FC_256_ProjectedGradientDescentTensorFlowV2_3_test.npz\n",
      "│   │   └── 2_simple_FC_256_ProjectedGradientDescentTensorFlowV2_3_train.npz\n",
      "│   ├── adversarial_fashion_data\n",
      "│   │   ├── simple_Conv_2_FastGradientMethod_0.5_test.npz\n",
      "│   │   ├── simple_Conv_2_FastGradientMethod_0.5_train.npz\n",
      "│   │   ├── simple_Conv_2_FastGradientMethod_1.5_test.npz\n",
      "│   │   ├── simple_Conv_2_FastGradientMethod_1.5_train.npz\n",
      "│   │   ├── simple_Conv_2_FastGradientMethod_1_test.npz\n",
      "│   │   ├── simple_Conv_2_FastGradientMethod_1_train.npz\n",
      "│   │   ├── simple_Conv_2_FastGradientMethod_2.5_test.npz\n",
      "│   │   ├── simple_Conv_2_FastGradientMethod_2.5_train.npz\n",
      "│   │   ├── simple_Conv_2_FastGradientMethod_3_test.npz\n",
      "│   │   ├── simple_Conv_2_FastGradientMethod_3_train.npz\n",
      "│   │   ├── simple_Conv_2_ProjectedGradientDescentTensorFlowV2_0.05_test.npz\n",
      "│   │   ├── simple_Conv_2_ProjectedGradientDescentTensorFlowV2_0.05_train.npz\n",
      "│   │   ├── simple_Conv_2_ProjectedGradientDescentTensorFlowV2_0.15_test.npz\n",
      "│   │   ├── simple_Conv_2_ProjectedGradientDescentTensorFlowV2_0.15_train.npz\n",
      "│   │   ├── simple_Conv_2_ProjectedGradientDescentTensorFlowV2_0.1_test.npz\n",
      "│   │   ├── simple_Conv_2_ProjectedGradientDescentTensorFlowV2_0.1_train.npz\n",
      "│   │   ├── simple_Conv_2_ProjectedGradientDescentTensorFlowV2_0.25_test.npz\n",
      "│   │   ├── simple_Conv_2_ProjectedGradientDescentTensorFlowV2_0.25_train.npz\n",
      "│   │   ├── simple_Conv_2_ProjectedGradientDescentTensorFlowV2_0.2_test.npz\n",
      "│   │   ├── simple_Conv_2_ProjectedGradientDescentTensorFlowV2_0.2_train.npz\n",
      "│   │   ├── simple_Conv_2_ProjectedGradientDescentTensorFlowV2_0.3_test.npz\n",
      "│   │   ├── simple_Conv_2_ProjectedGradientDescentTensorFlowV2_0.3_train.npz\n",
      "│   │   ├── simple_Conv_FastGradientMethod_0.5_test.npz\n",
      "│   │   ├── simple_Conv_FastGradientMethod_0.5_train.npz\n",
      "│   │   ├── simple_Conv_FastGradientMethod_1.5_test.npz\n",
      "│   │   ├── simple_Conv_FastGradientMethod_1.5_train.npz\n",
      "│   │   ├── simple_Conv_FastGradientMethod_1_test.npz\n",
      "│   │   ├── simple_Conv_FastGradientMethod_1_train.npz\n",
      "│   │   ├── simple_Conv_FastGradientMethod_2.5_test.npz\n",
      "│   │   ├── simple_Conv_FastGradientMethod_2.5_train.npz\n",
      "│   │   ├── simple_Conv_FastGradientMethod_3_test.npz\n",
      "│   │   ├── simple_Conv_FastGradientMethod_3_train.npz\n",
      "│   │   ├── simple_Conv_max_FastGradientMethod_0.5_test.npz\n",
      "│   │   ├── simple_Conv_max_FastGradientMethod_0.5_train.npz\n",
      "│   │   ├── simple_Conv_max_FastGradientMethod_1.5_test.npz\n",
      "│   │   ├── simple_Conv_max_FastGradientMethod_1.5_train.npz\n",
      "│   │   ├── simple_Conv_max_FastGradientMethod_1_test.npz\n",
      "│   │   ├── simple_Conv_max_FastGradientMethod_1_train.npz\n",
      "│   │   ├── simple_Conv_max_FastGradientMethod_2.5_test.npz\n",
      "│   │   ├── simple_Conv_max_FastGradientMethod_2.5_train.npz\n",
      "│   │   ├── simple_Conv_max_FastGradientMethod_3_test.npz\n",
      "│   │   ├── simple_Conv_max_FastGradientMethod_3_train.npz\n",
      "│   │   ├── simple_Conv_max_ProjectedGradientDescentTensorFlowV2_0.05_test.npz\n",
      "│   │   ├── simple_Conv_max_ProjectedGradientDescentTensorFlowV2_0.05_train.npz\n",
      "│   │   ├── simple_Conv_max_ProjectedGradientDescentTensorFlowV2_0.15_test.npz\n",
      "│   │   ├── simple_Conv_max_ProjectedGradientDescentTensorFlowV2_0.15_train.npz\n",
      "│   │   ├── simple_Conv_max_ProjectedGradientDescentTensorFlowV2_0.1_test.npz\n",
      "│   │   ├── simple_Conv_max_ProjectedGradientDescentTensorFlowV2_0.1_train.npz\n",
      "│   │   ├── simple_Conv_max_ProjectedGradientDescentTensorFlowV2_0.25_test.npz\n",
      "│   │   ├── simple_Conv_max_ProjectedGradientDescentTensorFlowV2_0.25_train.npz\n",
      "│   │   ├── simple_Conv_max_ProjectedGradientDescentTensorFlowV2_0.2_test.npz\n",
      "│   │   ├── simple_Conv_max_ProjectedGradientDescentTensorFlowV2_0.2_train.npz\n",
      "│   │   ├── simple_Conv_max_ProjectedGradientDescentTensorFlowV2_0.3_test.npz\n",
      "│   │   ├── simple_Conv_max_ProjectedGradientDescentTensorFlowV2_0.3_train.npz\n",
      "│   │   ├── simple_Conv_NL_FastGradientMethod_0.5_test.npz\n",
      "│   │   ├── simple_Conv_NL_FastGradientMethod_0.5_train.npz\n",
      "│   │   ├── simple_Conv_NL_FastGradientMethod_1.5_test.npz\n",
      "│   │   ├── simple_Conv_NL_FastGradientMethod_1.5_train.npz\n",
      "│   │   ├── simple_Conv_NL_FastGradientMethod_1_test.npz\n",
      "│   │   ├── simple_Conv_NL_FastGradientMethod_1_train.npz\n",
      "│   │   ├── simple_Conv_NL_FastGradientMethod_2.5_test.npz\n",
      "│   │   ├── simple_Conv_NL_FastGradientMethod_2.5_train.npz\n",
      "│   │   ├── simple_Conv_NL_FastGradientMethod_3_test.npz\n",
      "│   │   ├── simple_Conv_NL_FastGradientMethod_3_train.npz\n",
      "│   │   ├── simple_Conv_NL_ProjectedGradientDescentTensorFlowV2_0.05_test.npz\n",
      "│   │   ├── simple_Conv_NL_ProjectedGradientDescentTensorFlowV2_0.05_train.npz\n",
      "│   │   ├── simple_Conv_NL_ProjectedGradientDescentTensorFlowV2_0.15_test.npz\n",
      "│   │   ├── simple_Conv_NL_ProjectedGradientDescentTensorFlowV2_0.15_train.npz\n",
      "│   │   ├── simple_Conv_NL_ProjectedGradientDescentTensorFlowV2_0.1_test.npz\n",
      "│   │   ├── simple_Conv_NL_ProjectedGradientDescentTensorFlowV2_0.1_train.npz\n",
      "│   │   ├── simple_Conv_NL_ProjectedGradientDescentTensorFlowV2_0.25_test.npz\n",
      "│   │   ├── simple_Conv_NL_ProjectedGradientDescentTensorFlowV2_0.25_train.npz\n",
      "│   │   ├── simple_Conv_NL_ProjectedGradientDescentTensorFlowV2_0.2_test.npz\n",
      "│   │   ├── simple_Conv_NL_ProjectedGradientDescentTensorFlowV2_0.2_train.npz\n",
      "│   │   ├── simple_Conv_NL_ProjectedGradientDescentTensorFlowV2_0.3_test.npz\n",
      "│   │   ├── simple_Conv_NL_ProjectedGradientDescentTensorFlowV2_0.3_train.npz\n",
      "│   │   ├── simple_Conv_ProjectedGradientDescentTensorFlowV2_0.05_test.npz\n",
      "│   │   ├── simple_Conv_ProjectedGradientDescentTensorFlowV2_0.05_train.npz\n",
      "│   │   ├── simple_Conv_ProjectedGradientDescentTensorFlowV2_0.15_test.npz\n",
      "│   │   ├── simple_Conv_ProjectedGradientDescentTensorFlowV2_0.15_train.npz\n",
      "│   │   ├── simple_Conv_ProjectedGradientDescentTensorFlowV2_0.1_test.npz\n",
      "│   │   ├── simple_Conv_ProjectedGradientDescentTensorFlowV2_0.1_train.npz\n",
      "│   │   ├── simple_Conv_ProjectedGradientDescentTensorFlowV2_0.25_test.npz\n",
      "│   │   ├── simple_Conv_ProjectedGradientDescentTensorFlowV2_0.25_train.npz\n",
      "│   │   ├── simple_Conv_ProjectedGradientDescentTensorFlowV2_0.2_test.npz\n",
      "│   │   ├── simple_Conv_ProjectedGradientDescentTensorFlowV2_0.2_train.npz\n",
      "│   │   ├── simple_Conv_ProjectedGradientDescentTensorFlowV2_0.3_test.npz\n",
      "│   │   ├── simple_Conv_ProjectedGradientDescentTensorFlowV2_0.3_train.npz\n",
      "│   │   ├── simple_Conv__FastGradientMethod_0.5_test.npz\n",
      "│   │   ├── simple_Conv__FastGradientMethod_0.5_train.npz\n",
      "│   │   ├── simple_Conv__FastGradientMethod_1.5_test.npz\n",
      "│   │   ├── simple_Conv__FastGradientMethod_1.5_train.npz\n",
      "│   │   ├── simple_Conv__FastGradientMethod_1_test.npz\n",
      "│   │   ├── simple_Conv__FastGradientMethod_1_train.npz\n",
      "│   │   ├── simple_Conv__FastGradientMethod_2.5_test.npz\n",
      "│   │   ├── simple_Conv__FastGradientMethod_2.5_train.npz\n",
      "│   │   ├── simple_Conv__FastGradientMethod_3_test.npz\n",
      "│   │   ├── simple_Conv__FastGradientMethod_3_train.npz\n",
      "│   │   ├── simple_Conv__ProjectedGradientDescentTensorFlowV2_0.05_test.npz\n",
      "│   │   ├── simple_Conv__ProjectedGradientDescentTensorFlowV2_0.05_train.npz\n",
      "│   │   ├── simple_Conv__ProjectedGradientDescentTensorFlowV2_0.15_test.npz\n",
      "│   │   ├── simple_Conv__ProjectedGradientDescentTensorFlowV2_0.15_train.npz\n",
      "│   │   ├── simple_Conv__ProjectedGradientDescentTensorFlowV2_0.1_test.npz\n",
      "│   │   ├── simple_Conv__ProjectedGradientDescentTensorFlowV2_0.1_train.npz\n",
      "│   │   ├── simple_Conv__ProjectedGradientDescentTensorFlowV2_0.25_test.npz\n",
      "│   │   ├── simple_Conv__ProjectedGradientDescentTensorFlowV2_0.25_train.npz\n",
      "│   │   ├── simple_Conv__ProjectedGradientDescentTensorFlowV2_0.2_test.npz\n",
      "│   │   ├── simple_Conv__ProjectedGradientDescentTensorFlowV2_0.2_train.npz\n",
      "│   │   ├── simple_Conv__ProjectedGradientDescentTensorFlowV2_0.3_test.npz\n",
      "│   │   ├── simple_Conv__ProjectedGradientDescentTensorFlowV2_0.3_train.npz\n",
      "│   │   ├── simple_FC_2_FastGradientMethod_0.5_test.npz\n",
      "│   │   ├── simple_FC_2_FastGradientMethod_0.5_train.npz\n",
      "│   │   ├── simple_FC_2_FastGradientMethod_1.5_test.npz\n",
      "│   │   ├── simple_FC_2_FastGradientMethod_1.5_train.npz\n",
      "│   │   ├── simple_FC_2_FastGradientMethod_1_test.npz\n",
      "│   │   ├── simple_FC_2_FastGradientMethod_1_train.npz\n",
      "│   │   ├── simple_FC_2_FastGradientMethod_2.5_test.npz\n",
      "│   │   ├── simple_FC_2_FastGradientMethod_2.5_train.npz\n",
      "│   │   ├── simple_FC_2_FastGradientMethod_3_test.npz\n",
      "│   │   ├── simple_FC_2_FastGradientMethod_3_train.npz\n",
      "│   │   ├── simple_FC_2_ProjectedGradientDescentTensorFlowV2_0.05_test.npz\n",
      "│   │   ├── simple_FC_2_ProjectedGradientDescentTensorFlowV2_0.05_train.npz\n",
      "│   │   ├── simple_FC_2_ProjectedGradientDescentTensorFlowV2_0.15_test.npz\n",
      "│   │   ├── simple_FC_2_ProjectedGradientDescentTensorFlowV2_0.15_train.npz\n",
      "│   │   ├── simple_FC_2_ProjectedGradientDescentTensorFlowV2_0.1_test.npz\n",
      "│   │   ├── simple_FC_2_ProjectedGradientDescentTensorFlowV2_0.1_train.npz\n",
      "│   │   ├── simple_FC_2_ProjectedGradientDescentTensorFlowV2_0.25_test.npz\n",
      "│   │   ├── simple_FC_2_ProjectedGradientDescentTensorFlowV2_0.25_train.npz\n",
      "│   │   ├── simple_FC_2_ProjectedGradientDescentTensorFlowV2_0.2_test.npz\n",
      "│   │   ├── simple_FC_2_ProjectedGradientDescentTensorFlowV2_0.2_train.npz\n",
      "│   │   ├── simple_FC_2_ProjectedGradientDescentTensorFlowV2_0.3_test.npz\n",
      "│   │   ├── simple_FC_2_ProjectedGradientDescentTensorFlowV2_0.3_train.npz\n",
      "│   │   ├── simple_FC_FastGradientMethod_0.5_test.npz\n",
      "│   │   ├── simple_FC_FastGradientMethod_0.5_train.npz\n",
      "│   │   ├── simple_FC_FastGradientMethod_1.5_test.npz\n",
      "│   │   ├── simple_FC_FastGradientMethod_1.5_train.npz\n",
      "│   │   ├── simple_FC_FastGradientMethod_1_test.npz\n",
      "│   │   ├── simple_FC_FastGradientMethod_1_train.npz\n",
      "│   │   ├── simple_FC_FastGradientMethod_2.5_test.npz\n",
      "│   │   ├── simple_FC_FastGradientMethod_2.5_train.npz\n",
      "│   │   ├── simple_FC_FastGradientMethod_3_test.npz\n",
      "│   │   ├── simple_FC_FastGradientMethod_3_train.npz\n",
      "│   │   ├── simple_FC_ProjectedGradientDescentTensorFlowV2_0.05_test.npz\n",
      "│   │   ├── simple_FC_ProjectedGradientDescentTensorFlowV2_0.05_train.npz\n",
      "│   │   ├── simple_FC_ProjectedGradientDescentTensorFlowV2_0.15_test.npz\n",
      "│   │   ├── simple_FC_ProjectedGradientDescentTensorFlowV2_0.15_train.npz\n",
      "│   │   ├── simple_FC_ProjectedGradientDescentTensorFlowV2_0.1_test.npz\n",
      "│   │   ├── simple_FC_ProjectedGradientDescentTensorFlowV2_0.1_train.npz\n",
      "│   │   ├── simple_FC_ProjectedGradientDescentTensorFlowV2_0.25_test.npz\n",
      "│   │   ├── simple_FC_ProjectedGradientDescentTensorFlowV2_0.25_train.npz\n",
      "│   │   ├── simple_FC_ProjectedGradientDescentTensorFlowV2_0.2_test.npz\n",
      "│   │   ├── simple_FC_ProjectedGradientDescentTensorFlowV2_0.2_train.npz\n",
      "│   │   ├── simple_FC_ProjectedGradientDescentTensorFlowV2_0.3_test.npz\n",
      "│   │   ├── simple_FC_ProjectedGradientDescentTensorFlowV2_0.3_train.npz\n",
      "│   │   ├── simple_FC__FastGradientMethod_0.5_test.npz\n",
      "│   │   ├── simple_FC__FastGradientMethod_0.5_train.npz\n",
      "│   │   ├── simple_FC__FastGradientMethod_1.5_test.npz\n",
      "│   │   ├── simple_FC__FastGradientMethod_1.5_train.npz\n",
      "│   │   ├── simple_FC__FastGradientMethod_1_test.npz\n",
      "│   │   ├── simple_FC__FastGradientMethod_1_train.npz\n",
      "│   │   ├── simple_FC__FastGradientMethod_2.5_test.npz\n",
      "│   │   ├── simple_FC__FastGradientMethod_2.5_train.npz\n",
      "│   │   ├── simple_FC__FastGradientMethod_3_test.npz\n",
      "│   │   ├── simple_FC__FastGradientMethod_3_train.npz\n",
      "│   │   ├── simple_FC__ProjectedGradientDescentTensorFlowV2_0.05_test.npz\n",
      "│   │   ├── simple_FC__ProjectedGradientDescentTensorFlowV2_0.05_train.npz\n",
      "│   │   ├── simple_FC__ProjectedGradientDescentTensorFlowV2_0.15_test.npz\n",
      "│   │   ├── simple_FC__ProjectedGradientDescentTensorFlowV2_0.15_train.npz\n",
      "│   │   ├── simple_FC__ProjectedGradientDescentTensorFlowV2_0.1_test.npz\n",
      "│   │   ├── simple_FC__ProjectedGradientDescentTensorFlowV2_0.1_train.npz\n",
      "│   │   ├── simple_FC__ProjectedGradientDescentTensorFlowV2_0.25_test.npz\n",
      "│   │   ├── simple_FC__ProjectedGradientDescentTensorFlowV2_0.25_train.npz\n",
      "│   │   ├── simple_FC__ProjectedGradientDescentTensorFlowV2_0.2_test.npz\n",
      "│   │   ├── simple_FC__ProjectedGradientDescentTensorFlowV2_0.2_train.npz\n",
      "│   │   ├── simple_FC__ProjectedGradientDescentTensorFlowV2_0.3_test.npz\n",
      "│   │   ├── simple_FC__ProjectedGradientDescentTensorFlowV2_0.3_train.npz\n",
      "│   │   ├── simple__RNN_FastGradientMethod_0.5_test.npz\n",
      "│   │   ├── simple__RNN_FastGradientMethod_0.5_train.npz\n",
      "│   │   ├── simple__RNN_FastGradientMethod_1.5_test.npz\n",
      "│   │   ├── simple__RNN_FastGradientMethod_1.5_train.npz\n",
      "│   │   ├── simple__RNN_FastGradientMethod_1_test.npz\n",
      "│   │   ├── simple__RNN_FastGradientMethod_1_train.npz\n",
      "│   │   ├── simple__RNN_FastGradientMethod_2.5_test.npz\n",
      "│   │   ├── simple__RNN_FastGradientMethod_2.5_train.npz\n",
      "│   │   ├── simple__RNN_FastGradientMethod_3_test.npz\n",
      "│   │   ├── simple__RNN_FastGradientMethod_3_train.npz\n",
      "│   │   ├── simple__RNN_ProjectedGradientDescentTensorFlowV2_0.05_test.npz\n",
      "│   │   ├── simple__RNN_ProjectedGradientDescentTensorFlowV2_0.05_train.npz\n",
      "│   │   ├── simple__RNN_ProjectedGradientDescentTensorFlowV2_0.15_test.npz\n",
      "│   │   ├── simple__RNN_ProjectedGradientDescentTensorFlowV2_0.15_train.npz\n",
      "│   │   ├── simple__RNN_ProjectedGradientDescentTensorFlowV2_0.1_test.npz\n",
      "│   │   ├── simple__RNN_ProjectedGradientDescentTensorFlowV2_0.1_train.npz\n",
      "│   │   ├── simple__RNN_ProjectedGradientDescentTensorFlowV2_0.25_test.npz\n",
      "│   │   ├── simple__RNN_ProjectedGradientDescentTensorFlowV2_0.25_train.npz\n",
      "│   │   ├── simple__RNN_ProjectedGradientDescentTensorFlowV2_0.2_test.npz\n",
      "│   │   ├── simple__RNN_ProjectedGradientDescentTensorFlowV2_0.2_train.npz\n",
      "│   │   ├── simple__RNN_ProjectedGradientDescentTensorFlowV2_0.3_test.npz\n",
      "│   │   └── simple__RNN_ProjectedGradientDescentTensorFlowV2_0.3_train.npz\n",
      "│   ├── fashion_adversarial_data_2\n",
      "│   │   ├── 2_simple_Conv_10_512_ProjectedGradientDescentTensorFlowV2_0.05_test.npz\n",
      "│   │   ├── 2_simple_Conv_10_512_ProjectedGradientDescentTensorFlowV2_0.05_train.npz\n",
      "│   │   ├── 2_simple_Conv_10_512_ProjectedGradientDescentTensorFlowV2_0.15_test.npz\n",
      "│   │   ├── 2_simple_Conv_10_512_ProjectedGradientDescentTensorFlowV2_0.15_train.npz\n",
      "│   │   ├── 2_simple_Conv_10_512_ProjectedGradientDescentTensorFlowV2_0.1_test.npz\n",
      "│   │   ├── 2_simple_Conv_10_512_ProjectedGradientDescentTensorFlowV2_0.1_train.npz\n",
      "│   │   ├── 2_simple_Conv_10_512_ProjectedGradientDescentTensorFlowV2_0.25_test.npz\n",
      "│   │   ├── 2_simple_Conv_10_512_ProjectedGradientDescentTensorFlowV2_0.25_train.npz\n",
      "│   │   ├── 2_simple_Conv_10_512_ProjectedGradientDescentTensorFlowV2_0.2_test.npz\n",
      "│   │   ├── 2_simple_Conv_10_512_ProjectedGradientDescentTensorFlowV2_0.2_train.npz\n",
      "│   │   ├── 2_simple_Conv_10_512_ProjectedGradientDescentTensorFlowV2_0.3_test.npz\n",
      "│   │   ├── 2_simple_Conv_10_512_ProjectedGradientDescentTensorFlowV2_0.3_train.npz\n",
      "│   │   ├── 2_simple_Conv_10_512_ProjectedGradientDescentTensorFlowV2_0.5_test.npz\n",
      "│   │   ├── 2_simple_Conv_10_512_ProjectedGradientDescentTensorFlowV2_0.5_train.npz\n",
      "│   │   ├── 2_simple_Conv_10_512_ProjectedGradientDescentTensorFlowV2_1.5_test.npz\n",
      "│   │   ├── 2_simple_Conv_10_512_ProjectedGradientDescentTensorFlowV2_1.5_train.npz\n",
      "│   │   ├── 2_simple_Conv_10_512_ProjectedGradientDescentTensorFlowV2_1_test.npz\n",
      "│   │   ├── 2_simple_Conv_10_512_ProjectedGradientDescentTensorFlowV2_1_train.npz\n",
      "│   │   ├── 2_simple_Conv_10_512_ProjectedGradientDescentTensorFlowV2_2.5_test.npz\n",
      "│   │   ├── 2_simple_Conv_10_512_ProjectedGradientDescentTensorFlowV2_2.5_train.npz\n",
      "│   │   ├── 2_simple_Conv_10_512_ProjectedGradientDescentTensorFlowV2_3_test.npz\n",
      "│   │   ├── 2_simple_Conv_10_512_ProjectedGradientDescentTensorFlowV2_3_train.npz\n",
      "│   │   ├── 2_simple_Conv_12_2048_ProjectedGradientDescentTensorFlowV2_0.05_test.npz\n",
      "│   │   ├── 2_simple_Conv_12_2048_ProjectedGradientDescentTensorFlowV2_0.05_train.npz\n",
      "│   │   ├── 2_simple_Conv_12_2048_ProjectedGradientDescentTensorFlowV2_0.15_test.npz\n",
      "│   │   ├── 2_simple_Conv_12_2048_ProjectedGradientDescentTensorFlowV2_0.15_train.npz\n",
      "│   │   ├── 2_simple_Conv_12_2048_ProjectedGradientDescentTensorFlowV2_0.1_test.npz\n",
      "│   │   ├── 2_simple_Conv_12_2048_ProjectedGradientDescentTensorFlowV2_0.1_train.npz\n",
      "│   │   ├── 2_simple_Conv_12_2048_ProjectedGradientDescentTensorFlowV2_0.25_test.npz\n",
      "│   │   ├── 2_simple_Conv_12_2048_ProjectedGradientDescentTensorFlowV2_0.25_train.npz\n",
      "│   │   ├── 2_simple_Conv_12_2048_ProjectedGradientDescentTensorFlowV2_0.2_test.npz\n",
      "│   │   ├── 2_simple_Conv_12_2048_ProjectedGradientDescentTensorFlowV2_0.2_train.npz\n",
      "│   │   ├── 2_simple_Conv_12_2048_ProjectedGradientDescentTensorFlowV2_0.3_test.npz\n",
      "│   │   ├── 2_simple_Conv_12_2048_ProjectedGradientDescentTensorFlowV2_0.3_train.npz\n",
      "│   │   ├── 2_simple_Conv_12_2048_ProjectedGradientDescentTensorFlowV2_0.5_test.npz\n",
      "│   │   ├── 2_simple_Conv_12_2048_ProjectedGradientDescentTensorFlowV2_0.5_train.npz\n",
      "│   │   ├── 2_simple_Conv_12_2048_ProjectedGradientDescentTensorFlowV2_1.5_test.npz\n",
      "│   │   ├── 2_simple_Conv_12_2048_ProjectedGradientDescentTensorFlowV2_1.5_train.npz\n",
      "│   │   ├── 2_simple_Conv_12_2048_ProjectedGradientDescentTensorFlowV2_1_test.npz\n",
      "│   │   ├── 2_simple_Conv_12_2048_ProjectedGradientDescentTensorFlowV2_1_train.npz\n",
      "│   │   ├── 2_simple_Conv_12_2048_ProjectedGradientDescentTensorFlowV2_2.5_test.npz\n",
      "│   │   ├── 2_simple_Conv_12_2048_ProjectedGradientDescentTensorFlowV2_2.5_train.npz\n",
      "│   │   ├── 2_simple_Conv_12_2048_ProjectedGradientDescentTensorFlowV2_3_test.npz\n",
      "│   │   ├── 2_simple_Conv_12_2048_ProjectedGradientDescentTensorFlowV2_3_train.npz\n",
      "│   │   ├── 2_simple_Conv_2_ProjectedGradientDescentTensorFlowV2_0.05_test.npz\n",
      "│   │   ├── 2_simple_Conv_2_ProjectedGradientDescentTensorFlowV2_0.05_train.npz\n",
      "│   │   ├── 2_simple_Conv_2_ProjectedGradientDescentTensorFlowV2_0.15_test.npz\n",
      "│   │   ├── 2_simple_Conv_2_ProjectedGradientDescentTensorFlowV2_0.15_train.npz\n",
      "│   │   ├── 2_simple_Conv_2_ProjectedGradientDescentTensorFlowV2_0.1_test.npz\n",
      "│   │   ├── 2_simple_Conv_2_ProjectedGradientDescentTensorFlowV2_0.1_train.npz\n",
      "│   │   ├── 2_simple_Conv_2_ProjectedGradientDescentTensorFlowV2_0.25_test.npz\n",
      "│   │   ├── 2_simple_Conv_2_ProjectedGradientDescentTensorFlowV2_0.25_train.npz\n",
      "│   │   ├── 2_simple_Conv_2_ProjectedGradientDescentTensorFlowV2_0.2_test.npz\n",
      "│   │   ├── 2_simple_Conv_2_ProjectedGradientDescentTensorFlowV2_0.2_train.npz\n",
      "│   │   ├── 2_simple_Conv_2_ProjectedGradientDescentTensorFlowV2_0.3_test.npz\n",
      "│   │   ├── 2_simple_Conv_2_ProjectedGradientDescentTensorFlowV2_0.3_train.npz\n",
      "│   │   ├── 2_simple_Conv_2_ProjectedGradientDescentTensorFlowV2_0.5_test.npz\n",
      "│   │   ├── 2_simple_Conv_2_ProjectedGradientDescentTensorFlowV2_0.5_train.npz\n",
      "│   │   ├── 2_simple_Conv_2_ProjectedGradientDescentTensorFlowV2_1.5_test.npz\n",
      "│   │   ├── 2_simple_Conv_2_ProjectedGradientDescentTensorFlowV2_1.5_train.npz\n",
      "│   │   ├── 2_simple_Conv_2_ProjectedGradientDescentTensorFlowV2_1_test.npz\n",
      "│   │   ├── 2_simple_Conv_2_ProjectedGradientDescentTensorFlowV2_1_train.npz\n",
      "│   │   ├── 2_simple_Conv_2_ProjectedGradientDescentTensorFlowV2_2.5_test.npz\n",
      "│   │   ├── 2_simple_Conv_2_ProjectedGradientDescentTensorFlowV2_2.5_train.npz\n",
      "│   │   ├── 2_simple_Conv_2_ProjectedGradientDescentTensorFlowV2_3_test.npz\n",
      "│   │   ├── 2_simple_Conv_2_ProjectedGradientDescentTensorFlowV2_3_train.npz\n",
      "│   │   ├── 2_simple_Conv_max_ProjectedGradientDescentTensorFlowV2_0.05_test.npz\n",
      "│   │   ├── 2_simple_Conv_max_ProjectedGradientDescentTensorFlowV2_0.05_train.npz\n",
      "│   │   ├── 2_simple_Conv_max_ProjectedGradientDescentTensorFlowV2_0.15_test.npz\n",
      "│   │   ├── 2_simple_Conv_max_ProjectedGradientDescentTensorFlowV2_0.15_train.npz\n",
      "│   │   ├── 2_simple_Conv_max_ProjectedGradientDescentTensorFlowV2_0.1_test.npz\n",
      "│   │   ├── 2_simple_Conv_max_ProjectedGradientDescentTensorFlowV2_0.1_train.npz\n",
      "│   │   ├── 2_simple_Conv_max_ProjectedGradientDescentTensorFlowV2_0.25_test.npz\n",
      "│   │   ├── 2_simple_Conv_max_ProjectedGradientDescentTensorFlowV2_0.25_train.npz\n",
      "│   │   ├── 2_simple_Conv_max_ProjectedGradientDescentTensorFlowV2_0.2_test.npz\n",
      "│   │   ├── 2_simple_Conv_max_ProjectedGradientDescentTensorFlowV2_0.2_train.npz\n",
      "│   │   ├── 2_simple_Conv_max_ProjectedGradientDescentTensorFlowV2_0.3_test.npz\n",
      "│   │   ├── 2_simple_Conv_max_ProjectedGradientDescentTensorFlowV2_0.3_train.npz\n",
      "│   │   ├── 2_simple_Conv_max_ProjectedGradientDescentTensorFlowV2_0.5_test.npz\n",
      "│   │   ├── 2_simple_Conv_max_ProjectedGradientDescentTensorFlowV2_0.5_train.npz\n",
      "│   │   ├── 2_simple_Conv_max_ProjectedGradientDescentTensorFlowV2_1.5_test.npz\n",
      "│   │   ├── 2_simple_Conv_max_ProjectedGradientDescentTensorFlowV2_1.5_train.npz\n",
      "│   │   ├── 2_simple_Conv_max_ProjectedGradientDescentTensorFlowV2_1_test.npz\n",
      "│   │   ├── 2_simple_Conv_max_ProjectedGradientDescentTensorFlowV2_1_train.npz\n",
      "│   │   ├── 2_simple_Conv_max_ProjectedGradientDescentTensorFlowV2_2.5_test.npz\n",
      "│   │   ├── 2_simple_Conv_max_ProjectedGradientDescentTensorFlowV2_2.5_train.npz\n",
      "│   │   ├── 2_simple_Conv_max_ProjectedGradientDescentTensorFlowV2_3_test.npz\n",
      "│   │   ├── 2_simple_Conv_max_ProjectedGradientDescentTensorFlowV2_3_train.npz\n",
      "│   │   ├── 2_simple_Conv_NL_ProjectedGradientDescentTensorFlowV2_0.05_test.npz\n",
      "│   │   ├── 2_simple_Conv_NL_ProjectedGradientDescentTensorFlowV2_0.05_train.npz\n",
      "│   │   ├── 2_simple_Conv_NL_ProjectedGradientDescentTensorFlowV2_0.15_test.npz\n",
      "│   │   ├── 2_simple_Conv_NL_ProjectedGradientDescentTensorFlowV2_0.15_train.npz\n",
      "│   │   ├── 2_simple_Conv_NL_ProjectedGradientDescentTensorFlowV2_0.1_test.npz\n",
      "│   │   ├── 2_simple_Conv_NL_ProjectedGradientDescentTensorFlowV2_0.1_train.npz\n",
      "│   │   ├── 2_simple_Conv_NL_ProjectedGradientDescentTensorFlowV2_0.25_test.npz\n",
      "│   │   ├── 2_simple_Conv_NL_ProjectedGradientDescentTensorFlowV2_0.25_train.npz\n",
      "│   │   ├── 2_simple_Conv_NL_ProjectedGradientDescentTensorFlowV2_0.2_test.npz\n",
      "│   │   ├── 2_simple_Conv_NL_ProjectedGradientDescentTensorFlowV2_0.2_train.npz\n",
      "│   │   ├── 2_simple_Conv_NL_ProjectedGradientDescentTensorFlowV2_0.3_test.npz\n",
      "│   │   ├── 2_simple_Conv_NL_ProjectedGradientDescentTensorFlowV2_0.3_train.npz\n",
      "│   │   ├── 2_simple_Conv_NL_ProjectedGradientDescentTensorFlowV2_0.5_test.npz\n",
      "│   │   ├── 2_simple_Conv_NL_ProjectedGradientDescentTensorFlowV2_0.5_train.npz\n",
      "│   │   ├── 2_simple_Conv_NL_ProjectedGradientDescentTensorFlowV2_1.5_test.npz\n",
      "│   │   ├── 2_simple_Conv_NL_ProjectedGradientDescentTensorFlowV2_1.5_train.npz\n",
      "│   │   ├── 2_simple_Conv_NL_ProjectedGradientDescentTensorFlowV2_1_test.npz\n",
      "│   │   ├── 2_simple_Conv_NL_ProjectedGradientDescentTensorFlowV2_1_train.npz\n",
      "│   │   ├── 2_simple_Conv_NL_ProjectedGradientDescentTensorFlowV2_2.5_test.npz\n",
      "│   │   ├── 2_simple_Conv_NL_ProjectedGradientDescentTensorFlowV2_2.5_train.npz\n",
      "│   │   ├── 2_simple_Conv_NL_ProjectedGradientDescentTensorFlowV2_3_test.npz\n",
      "│   │   ├── 2_simple_Conv_NL_ProjectedGradientDescentTensorFlowV2_3_train.npz\n",
      "│   │   ├── 2_simple_FC_2_256_ProjectedGradientDescentTensorFlowV2_0.05_test.npz\n",
      "│   │   ├── 2_simple_FC_2_256_ProjectedGradientDescentTensorFlowV2_0.05_train.npz\n",
      "│   │   ├── 2_simple_FC_2_256_ProjectedGradientDescentTensorFlowV2_0.15_test.npz\n",
      "│   │   ├── 2_simple_FC_2_256_ProjectedGradientDescentTensorFlowV2_0.15_train.npz\n",
      "│   │   ├── 2_simple_FC_2_256_ProjectedGradientDescentTensorFlowV2_0.1_test.npz\n",
      "│   │   ├── 2_simple_FC_2_256_ProjectedGradientDescentTensorFlowV2_0.1_train.npz\n",
      "│   │   ├── 2_simple_FC_2_256_ProjectedGradientDescentTensorFlowV2_0.25_test.npz\n",
      "│   │   ├── 2_simple_FC_2_256_ProjectedGradientDescentTensorFlowV2_0.25_train.npz\n",
      "│   │   ├── 2_simple_FC_2_256_ProjectedGradientDescentTensorFlowV2_0.2_test.npz\n",
      "│   │   ├── 2_simple_FC_2_256_ProjectedGradientDescentTensorFlowV2_0.2_train.npz\n",
      "│   │   ├── 2_simple_FC_2_256_ProjectedGradientDescentTensorFlowV2_0.3_test.npz\n",
      "│   │   ├── 2_simple_FC_2_256_ProjectedGradientDescentTensorFlowV2_0.3_train.npz\n",
      "│   │   ├── 2_simple_FC_2_256_ProjectedGradientDescentTensorFlowV2_0.5_test.npz\n",
      "│   │   ├── 2_simple_FC_2_256_ProjectedGradientDescentTensorFlowV2_0.5_train.npz\n",
      "│   │   ├── 2_simple_FC_2_256_ProjectedGradientDescentTensorFlowV2_1.5_test.npz\n",
      "│   │   ├── 2_simple_FC_2_256_ProjectedGradientDescentTensorFlowV2_1.5_train.npz\n",
      "│   │   ├── 2_simple_FC_2_256_ProjectedGradientDescentTensorFlowV2_1_test.npz\n",
      "│   │   ├── 2_simple_FC_2_256_ProjectedGradientDescentTensorFlowV2_1_train.npz\n",
      "│   │   ├── 2_simple_FC_2_256_ProjectedGradientDescentTensorFlowV2_2.5_test.npz\n",
      "│   │   ├── 2_simple_FC_2_256_ProjectedGradientDescentTensorFlowV2_2.5_train.npz\n",
      "│   │   ├── 2_simple_FC_2_256_ProjectedGradientDescentTensorFlowV2_3_test.npz\n",
      "│   │   ├── 2_simple_FC_2_256_ProjectedGradientDescentTensorFlowV2_3_train.npz\n",
      "│   │   ├── 2_simple_FC_2_ProjectedGradientDescentTensorFlowV2_0.05_test.npz\n",
      "│   │   ├── 2_simple_FC_2_ProjectedGradientDescentTensorFlowV2_0.05_train.npz\n",
      "│   │   ├── 2_simple_FC_2_ProjectedGradientDescentTensorFlowV2_0.15_test.npz\n",
      "│   │   ├── 2_simple_FC_2_ProjectedGradientDescentTensorFlowV2_0.15_train.npz\n",
      "│   │   ├── 2_simple_FC_2_ProjectedGradientDescentTensorFlowV2_0.1_test.npz\n",
      "│   │   ├── 2_simple_FC_2_ProjectedGradientDescentTensorFlowV2_0.1_train.npz\n",
      "│   │   ├── 2_simple_FC_2_ProjectedGradientDescentTensorFlowV2_0.25_test.npz\n",
      "│   │   ├── 2_simple_FC_2_ProjectedGradientDescentTensorFlowV2_0.25_train.npz\n",
      "│   │   ├── 2_simple_FC_2_ProjectedGradientDescentTensorFlowV2_0.2_test.npz\n",
      "│   │   ├── 2_simple_FC_2_ProjectedGradientDescentTensorFlowV2_0.2_train.npz\n",
      "│   │   ├── 2_simple_FC_2_ProjectedGradientDescentTensorFlowV2_0.3_test.npz\n",
      "│   │   ├── 2_simple_FC_2_ProjectedGradientDescentTensorFlowV2_0.3_train.npz\n",
      "│   │   ├── 2_simple_FC_2_ProjectedGradientDescentTensorFlowV2_0.5_test.npz\n",
      "│   │   ├── 2_simple_FC_2_ProjectedGradientDescentTensorFlowV2_0.5_train.npz\n",
      "│   │   ├── 2_simple_FC_2_ProjectedGradientDescentTensorFlowV2_1.5_test.npz\n",
      "│   │   ├── 2_simple_FC_2_ProjectedGradientDescentTensorFlowV2_1.5_train.npz\n",
      "│   │   ├── 2_simple_FC_2_ProjectedGradientDescentTensorFlowV2_1_test.npz\n",
      "│   │   ├── 2_simple_FC_2_ProjectedGradientDescentTensorFlowV2_1_train.npz\n",
      "│   │   ├── 2_simple_FC_2_ProjectedGradientDescentTensorFlowV2_2.5_test.npz\n",
      "│   │   ├── 2_simple_FC_2_ProjectedGradientDescentTensorFlowV2_2.5_train.npz\n",
      "│   │   ├── 2_simple_FC_2_ProjectedGradientDescentTensorFlowV2_3_test.npz\n",
      "│   │   ├── 2_simple_FC_2_ProjectedGradientDescentTensorFlowV2_3_train.npz\n",
      "│   │   ├── 2_simple_FC_3_512_ProjectedGradientDescentTensorFlowV2_0.05_test.npz\n",
      "│   │   ├── 2_simple_FC_3_512_ProjectedGradientDescentTensorFlowV2_0.05_train.npz\n",
      "│   │   ├── 2_simple_FC_3_512_ProjectedGradientDescentTensorFlowV2_0.15_test.npz\n",
      "│   │   ├── 2_simple_FC_3_512_ProjectedGradientDescentTensorFlowV2_0.15_train.npz\n",
      "│   │   ├── 2_simple_FC_3_512_ProjectedGradientDescentTensorFlowV2_0.1_test.npz\n",
      "│   │   ├── 2_simple_FC_3_512_ProjectedGradientDescentTensorFlowV2_0.1_train.npz\n",
      "│   │   ├── 2_simple_FC_3_512_ProjectedGradientDescentTensorFlowV2_0.25_test.npz\n",
      "│   │   ├── 2_simple_FC_3_512_ProjectedGradientDescentTensorFlowV2_0.25_train.npz\n",
      "│   │   ├── 2_simple_FC_3_512_ProjectedGradientDescentTensorFlowV2_0.2_test.npz\n",
      "│   │   ├── 2_simple_FC_3_512_ProjectedGradientDescentTensorFlowV2_0.2_train.npz\n",
      "│   │   ├── 2_simple_FC_3_512_ProjectedGradientDescentTensorFlowV2_0.3_test.npz\n",
      "│   │   ├── 2_simple_FC_3_512_ProjectedGradientDescentTensorFlowV2_0.3_train.npz\n",
      "│   │   ├── 2_simple_FC_3_512_ProjectedGradientDescentTensorFlowV2_0.5_test.npz\n",
      "│   │   ├── 2_simple_FC_3_512_ProjectedGradientDescentTensorFlowV2_0.5_train.npz\n",
      "│   │   ├── 2_simple_FC_3_512_ProjectedGradientDescentTensorFlowV2_1.5_test.npz\n",
      "│   │   ├── 2_simple_FC_3_512_ProjectedGradientDescentTensorFlowV2_1.5_train.npz\n",
      "│   │   ├── 2_simple_FC_3_512_ProjectedGradientDescentTensorFlowV2_1_test.npz\n",
      "│   │   ├── 2_simple_FC_3_512_ProjectedGradientDescentTensorFlowV2_1_train.npz\n",
      "│   │   ├── 2_simple_FC_3_512_ProjectedGradientDescentTensorFlowV2_2.5_test.npz\n",
      "│   │   ├── 2_simple_FC_3_512_ProjectedGradientDescentTensorFlowV2_2.5_train.npz\n",
      "│   │   ├── 2_simple_FC_3_512_ProjectedGradientDescentTensorFlowV2_3_test.npz\n",
      "│   │   ├── 2_simple_FC_3_512_ProjectedGradientDescentTensorFlowV2_3_train.npz\n",
      "│   │   ├── 2_simple__RNN_ProjectedGradientDescentTensorFlowV2_0.05_test.npz\n",
      "│   │   ├── 2_simple__RNN_ProjectedGradientDescentTensorFlowV2_0.05_train.npz\n",
      "│   │   ├── 2_simple__RNN_ProjectedGradientDescentTensorFlowV2_0.15_test.npz\n",
      "│   │   ├── 2_simple__RNN_ProjectedGradientDescentTensorFlowV2_0.15_train.npz\n",
      "│   │   ├── 2_simple__RNN_ProjectedGradientDescentTensorFlowV2_0.1_test.npz\n",
      "│   │   ├── 2_simple__RNN_ProjectedGradientDescentTensorFlowV2_0.1_train.npz\n",
      "│   │   ├── 2_simple__RNN_ProjectedGradientDescentTensorFlowV2_0.25_test.npz\n",
      "│   │   ├── 2_simple__RNN_ProjectedGradientDescentTensorFlowV2_0.25_train.npz\n",
      "│   │   ├── 2_simple__RNN_ProjectedGradientDescentTensorFlowV2_0.2_test.npz\n",
      "│   │   ├── 2_simple__RNN_ProjectedGradientDescentTensorFlowV2_0.2_train.npz\n",
      "│   │   ├── 2_simple__RNN_ProjectedGradientDescentTensorFlowV2_0.3_test.npz\n",
      "│   │   ├── 2_simple__RNN_ProjectedGradientDescentTensorFlowV2_0.3_train.npz\n",
      "│   │   ├── 2_simple__RNN_ProjectedGradientDescentTensorFlowV2_0.5_test.npz\n",
      "│   │   ├── 2_simple__RNN_ProjectedGradientDescentTensorFlowV2_0.5_train.npz\n",
      "│   │   ├── 2_simple__RNN_ProjectedGradientDescentTensorFlowV2_1.5_test.npz\n",
      "│   │   ├── 2_simple__RNN_ProjectedGradientDescentTensorFlowV2_1.5_train.npz\n",
      "│   │   ├── 2_simple__RNN_ProjectedGradientDescentTensorFlowV2_1_test.npz\n",
      "│   │   ├── 2_simple__RNN_ProjectedGradientDescentTensorFlowV2_1_train.npz\n",
      "│   │   ├── 2_simple__RNN_ProjectedGradientDescentTensorFlowV2_2.5_test.npz\n",
      "│   │   ├── 2_simple__RNN_ProjectedGradientDescentTensorFlowV2_2.5_train.npz\n",
      "│   │   ├── 2_simple__RNN_ProjectedGradientDescentTensorFlowV2_3_test.npz\n",
      "│   │   ├── 2_simple__RNN_ProjectedGradientDescentTensorFlowV2_3_train.npz\n",
      "│   │   └── desktop.ini\n",
      "│   ├── mnist_adversarial_data\n",
      "│   │   ├── simple_Conv_10_512_FastGradientMethod_0.5_test.npz\n",
      "│   │   ├── simple_Conv_10_512_FastGradientMethod_0.5_train.npz\n",
      "│   │   ├── simple_Conv_10_512_FastGradientMethod_1.5_test.npz\n",
      "│   │   ├── simple_Conv_10_512_FastGradientMethod_1.5_train.npz\n",
      "│   │   ├── simple_Conv_10_512_FastGradientMethod_1_test.npz\n",
      "│   │   ├── simple_Conv_10_512_FastGradientMethod_1_train.npz\n",
      "│   │   ├── simple_Conv_10_512_FastGradientMethod_2.5_test.npz\n",
      "│   │   ├── simple_Conv_10_512_FastGradientMethod_2.5_train.npz\n",
      "│   │   ├── simple_Conv_10_512_FastGradientMethod_3_test.npz\n",
      "│   │   ├── simple_Conv_10_512_FastGradientMethod_3_train.npz\n",
      "│   │   ├── simple_Conv_10_512_ProjectedGradientDescentTensorFlowV2_0.05_test.npz\n",
      "│   │   ├── simple_Conv_10_512_ProjectedGradientDescentTensorFlowV2_0.05_train.npz\n",
      "│   │   ├── simple_Conv_10_512_ProjectedGradientDescentTensorFlowV2_0.15_test.npz\n",
      "│   │   ├── simple_Conv_10_512_ProjectedGradientDescentTensorFlowV2_0.15_train.npz\n",
      "│   │   ├── simple_Conv_10_512_ProjectedGradientDescentTensorFlowV2_0.1_test.npz\n",
      "│   │   ├── simple_Conv_10_512_ProjectedGradientDescentTensorFlowV2_0.1_train.npz\n",
      "│   │   ├── simple_Conv_10_512_ProjectedGradientDescentTensorFlowV2_0.25_test.npz\n",
      "│   │   ├── simple_Conv_10_512_ProjectedGradientDescentTensorFlowV2_0.25_train.npz\n",
      "│   │   ├── simple_Conv_10_512_ProjectedGradientDescentTensorFlowV2_0.2_test.npz\n",
      "│   │   ├── simple_Conv_10_512_ProjectedGradientDescentTensorFlowV2_0.2_train.npz\n",
      "│   │   ├── simple_Conv_10_512_ProjectedGradientDescentTensorFlowV2_0.3_test.npz\n",
      "│   │   ├── simple_Conv_10_512_ProjectedGradientDescentTensorFlowV2_0.3_train.npz\n",
      "│   │   ├── simple_Conv_12_2048_FastGradientMethod_0.5_test.npz\n",
      "│   │   ├── simple_Conv_12_2048_FastGradientMethod_0.5_train.npz\n",
      "│   │   ├── simple_Conv_12_2048_FastGradientMethod_1.5_test.npz\n",
      "│   │   ├── simple_Conv_12_2048_FastGradientMethod_1.5_train.npz\n",
      "│   │   ├── simple_Conv_12_2048_FastGradientMethod_1_test.npz\n",
      "│   │   ├── simple_Conv_12_2048_FastGradientMethod_1_train.npz\n",
      "│   │   ├── simple_Conv_12_2048_FastGradientMethod_2.5_test.npz\n",
      "│   │   ├── simple_Conv_12_2048_FastGradientMethod_2.5_train.npz\n",
      "│   │   ├── simple_Conv_12_2048_FastGradientMethod_3_test.npz\n",
      "│   │   ├── simple_Conv_12_2048_FastGradientMethod_3_train.npz\n",
      "│   │   ├── simple_Conv_12_2048_ProjectedGradientDescentTensorFlowV2_0.05_test.npz\n",
      "│   │   ├── simple_Conv_12_2048_ProjectedGradientDescentTensorFlowV2_0.05_train.npz\n",
      "│   │   ├── simple_Conv_12_2048_ProjectedGradientDescentTensorFlowV2_0.15_test.npz\n",
      "│   │   ├── simple_Conv_12_2048_ProjectedGradientDescentTensorFlowV2_0.15_train.npz\n",
      "│   │   ├── simple_Conv_12_2048_ProjectedGradientDescentTensorFlowV2_0.1_test.npz\n",
      "│   │   ├── simple_Conv_12_2048_ProjectedGradientDescentTensorFlowV2_0.1_train.npz\n",
      "│   │   ├── simple_Conv_12_2048_ProjectedGradientDescentTensorFlowV2_0.25_test.npz\n",
      "│   │   ├── simple_Conv_12_2048_ProjectedGradientDescentTensorFlowV2_0.25_train.npz\n",
      "│   │   ├── simple_Conv_12_2048_ProjectedGradientDescentTensorFlowV2_0.2_test.npz\n",
      "│   │   ├── simple_Conv_12_2048_ProjectedGradientDescentTensorFlowV2_0.2_train.npz\n",
      "│   │   ├── simple_Conv_12_2048_ProjectedGradientDescentTensorFlowV2_0.3_test.npz\n",
      "│   │   ├── simple_Conv_12_2048_ProjectedGradientDescentTensorFlowV2_0.3_train.npz\n",
      "│   │   ├── simple_Conv_max_FastGradientMethod_0.5_test.npz\n",
      "│   │   ├── simple_Conv_max_FastGradientMethod_0.5_train.npz\n",
      "│   │   ├── simple_Conv_max_FastGradientMethod_1.5_test.npz\n",
      "│   │   ├── simple_Conv_max_FastGradientMethod_1.5_train.npz\n",
      "│   │   ├── simple_Conv_max_FastGradientMethod_1_test.npz\n",
      "│   │   ├── simple_Conv_max_FastGradientMethod_1_train.npz\n",
      "│   │   ├── simple_Conv_max_FastGradientMethod_2.5_test.npz\n",
      "│   │   ├── simple_Conv_max_FastGradientMethod_2.5_train.npz\n",
      "│   │   ├── simple_Conv_max_FastGradientMethod_3_test.npz\n",
      "│   │   ├── simple_Conv_max_FastGradientMethod_3_train.npz\n",
      "│   │   ├── simple_Conv_max_ProjectedGradientDescentTensorFlowV2_0.05_test.npz\n",
      "│   │   ├── simple_Conv_max_ProjectedGradientDescentTensorFlowV2_0.05_train.npz\n",
      "│   │   ├── simple_Conv_max_ProjectedGradientDescentTensorFlowV2_0.15_test.npz\n",
      "│   │   ├── simple_Conv_max_ProjectedGradientDescentTensorFlowV2_0.15_train.npz\n",
      "│   │   ├── simple_Conv_max_ProjectedGradientDescentTensorFlowV2_0.1_test.npz\n",
      "│   │   ├── simple_Conv_max_ProjectedGradientDescentTensorFlowV2_0.1_train.npz\n",
      "│   │   ├── simple_Conv_max_ProjectedGradientDescentTensorFlowV2_0.25_test.npz\n",
      "│   │   ├── simple_Conv_max_ProjectedGradientDescentTensorFlowV2_0.25_train.npz\n",
      "│   │   ├── simple_Conv_max_ProjectedGradientDescentTensorFlowV2_0.2_test.npz\n",
      "│   │   ├── simple_Conv_max_ProjectedGradientDescentTensorFlowV2_0.2_train.npz\n",
      "│   │   ├── simple_Conv_max_ProjectedGradientDescentTensorFlowV2_0.3_test.npz\n",
      "│   │   ├── simple_Conv_max_ProjectedGradientDescentTensorFlowV2_0.3_train.npz\n",
      "│   │   ├── simple_Conv_NL_FastGradientMethod_0.5_test.npz\n",
      "│   │   ├── simple_Conv_NL_FastGradientMethod_0.5_train.npz\n",
      "│   │   ├── simple_Conv_NL_FastGradientMethod_1.5_test.npz\n",
      "│   │   ├── simple_Conv_NL_FastGradientMethod_1.5_train.npz\n",
      "│   │   ├── simple_Conv_NL_FastGradientMethod_1_test.npz\n",
      "│   │   ├── simple_Conv_NL_FastGradientMethod_1_train.npz\n",
      "│   │   ├── simple_Conv_NL_FastGradientMethod_2.5_test.npz\n",
      "│   │   ├── simple_Conv_NL_FastGradientMethod_2.5_train.npz\n",
      "│   │   ├── simple_Conv_NL_FastGradientMethod_3_test.npz\n",
      "│   │   ├── simple_Conv_NL_FastGradientMethod_3_train.npz\n",
      "│   │   ├── simple_Conv_NL_ProjectedGradientDescentTensorFlowV2_0.05_test.npz\n",
      "│   │   ├── simple_Conv_NL_ProjectedGradientDescentTensorFlowV2_0.05_train.npz\n",
      "│   │   ├── simple_Conv_NL_ProjectedGradientDescentTensorFlowV2_0.15_test.npz\n",
      "│   │   ├── simple_Conv_NL_ProjectedGradientDescentTensorFlowV2_0.15_train.npz\n",
      "│   │   ├── simple_Conv_NL_ProjectedGradientDescentTensorFlowV2_0.1_test.npz\n",
      "│   │   ├── simple_Conv_NL_ProjectedGradientDescentTensorFlowV2_0.1_train.npz\n",
      "│   │   ├── simple_Conv_NL_ProjectedGradientDescentTensorFlowV2_0.25_test.npz\n",
      "│   │   ├── simple_Conv_NL_ProjectedGradientDescentTensorFlowV2_0.25_train.npz\n",
      "│   │   ├── simple_Conv_NL_ProjectedGradientDescentTensorFlowV2_0.2_test.npz\n",
      "│   │   ├── simple_Conv_NL_ProjectedGradientDescentTensorFlowV2_0.2_train.npz\n",
      "│   │   ├── simple_Conv_NL_ProjectedGradientDescentTensorFlowV2_0.3_test.npz\n",
      "│   │   ├── simple_Conv_NL_ProjectedGradientDescentTensorFlowV2_0.3_train.npz\n",
      "│   │   ├── simple_FC_1024_FastGradientMethod_0.5_test.npz\n",
      "│   │   ├── simple_FC_1024_FastGradientMethod_0.5_train.npz\n",
      "│   │   ├── simple_FC_1024_FastGradientMethod_1.5_test.npz\n",
      "│   │   ├── simple_FC_1024_FastGradientMethod_1.5_train.npz\n",
      "│   │   ├── simple_FC_1024_FastGradientMethod_1_test.npz\n",
      "│   │   ├── simple_FC_1024_FastGradientMethod_1_train.npz\n",
      "│   │   ├── simple_FC_1024_FastGradientMethod_2.5_test.npz\n",
      "│   │   ├── simple_FC_1024_FastGradientMethod_2.5_train.npz\n",
      "│   │   ├── simple_FC_1024_FastGradientMethod_3_test.npz\n",
      "│   │   ├── simple_FC_1024_FastGradientMethod_3_train.npz\n",
      "│   │   ├── simple_FC_1024_ProjectedGradientDescentTensorFlowV2_0.05_test.npz\n",
      "│   │   ├── simple_FC_1024_ProjectedGradientDescentTensorFlowV2_0.05_train.npz\n",
      "│   │   ├── simple_FC_1024_ProjectedGradientDescentTensorFlowV2_0.15_test.npz\n",
      "│   │   ├── simple_FC_1024_ProjectedGradientDescentTensorFlowV2_0.15_train.npz\n",
      "│   │   ├── simple_FC_1024_ProjectedGradientDescentTensorFlowV2_0.1_test.npz\n",
      "│   │   ├── simple_FC_1024_ProjectedGradientDescentTensorFlowV2_0.1_train.npz\n",
      "│   │   ├── simple_FC_1024_ProjectedGradientDescentTensorFlowV2_0.25_test.npz\n",
      "│   │   ├── simple_FC_1024_ProjectedGradientDescentTensorFlowV2_0.25_train.npz\n",
      "│   │   ├── simple_FC_1024_ProjectedGradientDescentTensorFlowV2_0.2_test.npz\n",
      "│   │   ├── simple_FC_1024_ProjectedGradientDescentTensorFlowV2_0.2_train.npz\n",
      "│   │   ├── simple_FC_1024_ProjectedGradientDescentTensorFlowV2_0.3_test.npz\n",
      "│   │   ├── simple_FC_1024_ProjectedGradientDescentTensorFlowV2_0.3_train.npz\n",
      "│   │   ├── simple_FC_256_FastGradientMethod_0.5_test.npz\n",
      "│   │   ├── simple_FC_256_FastGradientMethod_0.5_train.npz\n",
      "│   │   ├── simple_FC_256_FastGradientMethod_1.5_test.npz\n",
      "│   │   ├── simple_FC_256_FastGradientMethod_1.5_train.npz\n",
      "│   │   ├── simple_FC_256_FastGradientMethod_1_test.npz\n",
      "│   │   ├── simple_FC_256_FastGradientMethod_1_train.npz\n",
      "│   │   ├── simple_FC_256_FastGradientMethod_2.5_test.npz\n",
      "│   │   ├── simple_FC_256_FastGradientMethod_2.5_train.npz\n",
      "│   │   ├── simple_FC_256_FastGradientMethod_3_test.npz\n",
      "│   │   ├── simple_FC_256_FastGradientMethod_3_train.npz\n",
      "│   │   ├── simple_FC_256_ProjectedGradientDescentTensorFlowV2_0.05_test.npz\n",
      "│   │   ├── simple_FC_256_ProjectedGradientDescentTensorFlowV2_0.05_train.npz\n",
      "│   │   ├── simple_FC_256_ProjectedGradientDescentTensorFlowV2_0.15_test.npz\n",
      "│   │   ├── simple_FC_256_ProjectedGradientDescentTensorFlowV2_0.15_train.npz\n",
      "│   │   ├── simple_FC_256_ProjectedGradientDescentTensorFlowV2_0.1_test.npz\n",
      "│   │   ├── simple_FC_256_ProjectedGradientDescentTensorFlowV2_0.1_train.npz\n",
      "│   │   ├── simple_FC_256_ProjectedGradientDescentTensorFlowV2_0.25_test.npz\n",
      "│   │   ├── simple_FC_256_ProjectedGradientDescentTensorFlowV2_0.25_train.npz\n",
      "│   │   ├── simple_FC_256_ProjectedGradientDescentTensorFlowV2_0.2_test.npz\n",
      "│   │   ├── simple_FC_256_ProjectedGradientDescentTensorFlowV2_0.2_train.npz\n",
      "│   │   ├── simple_FC_256_ProjectedGradientDescentTensorFlowV2_0.3_test.npz\n",
      "│   │   └── simple_FC_256_ProjectedGradientDescentTensorFlowV2_0.3_train.npz\n",
      "│   └── padding\n",
      "│       ├── logs\n",
      "│       │   ├── simple_Conv_0_2048\n",
      "│       │   │   └── train\n",
      "│       │   │       └── events.out.tfevents\n",
      "│       │   ├── simple_Conv_0_512\n",
      "│       │   │   └── train\n",
      "│       │   │       └── events.out.tfevents\n",
      "│       │   ├── simple_Conv_10_2048\n",
      "│       │   │   └── train\n",
      "│       │   │       └── events.out.tfevents.1686797605.dgx-001.1245916.14.v2\n",
      "│       │   ├── simple_Conv_10_512\n",
      "│       │   │   └── train\n",
      "│       │   │       └── events.out.tfevents.1686797504.dgx-001.1245916.13.v2\n",
      "│       │   ├── simple_Conv_14_2048\n",
      "│       │   │   └── train\n",
      "│       │   │       └── events.out.tfevents.1686798109.dgx-001.1245916.16.v2\n",
      "│       │   ├── simple_Conv_14_512\n",
      "│       │   │   └── train\n",
      "│       │   │       └── events.out.tfevents.1686797966.dgx-001.1245916.15.v2\n",
      "│       │   ├── simple_Conv_2_2048\n",
      "│       │   │   └── train\n",
      "│       │   │       └── events.out.tfevents\n",
      "│       │   ├── simple_Conv_2_512\n",
      "│       │   │   └── train\n",
      "│       │   │       └── events.out.tfevents\n",
      "│       │   ├── simple_Conv_4_2048\n",
      "│       │   │   └── train\n",
      "│       │   │       └── events.out.tfevents\n",
      "│       │   ├── simple_Conv_4_512\n",
      "│       │   │   └── train\n",
      "│       │   │       └── events.out.tfevents\n",
      "│       │   ├── simple_Conv_6_2048\n",
      "│       │   │   └── train\n",
      "│       │   │       └── events.out.tfevents.1686796896.dgx-001.1245916.10.v2\n",
      "│       │   ├── simple_Conv_6_512\n",
      "│       │   │   └── train\n",
      "│       │   │       └── events.out.tfevents\n",
      "│       │   ├── simple_Conv_8_2048\n",
      "│       │   │   └── train\n",
      "│       │   │       └── events.out.tfevents.1686797210.dgx-001.1245916.12.v2\n",
      "│       │   ├── simple_Conv_8_512\n",
      "│       │   │   └── train\n",
      "│       │   │       └── events.out.tfevents.1686797126.dgx-001.1245916.11.v2\n",
      "│       │   ├── simple_Conv_NL\n",
      "│       │   │   └── train\n",
      "│       │   │       └── events.out.tfevents.1686796237.dgx-001.1245916.2.v2\n",
      "│       │   ├── simple_FC_2_256\n",
      "│       │   │   └── train\n",
      "│       │   │       └── events.out.tfevents.1686796194.dgx-001.1245916.0.v2\n",
      "│       │   └── simple_FC_3_256\n",
      "│       │       └── train\n",
      "│       │           └── events.out.tfevents.1686796217.dgx-001.1245916.1.v2\n",
      "│       ├── logs_2\n",
      "│       │   ├── simple_Conv_0_2048\n",
      "│       │   │   └── train\n",
      "│       │   │       └── events.out.tfevents.1686796335.dgx-001.1245916.4.v2\n",
      "│       │   ├── simple_Conv_0_512\n",
      "│       │   │   └── train\n",
      "│       │   │       └── events.out.tfevents.1686796298.dgx-001.1245916.3.v2\n",
      "│       │   ├── simple_Conv_10_2048\n",
      "│       │   │   └── train\n",
      "│       │   │       └── events.out.tfevents.1686797605.dgx-001.1245916.14.v2\n",
      "│       │   ├── simple_Conv_10_512\n",
      "│       │   │   └── train\n",
      "│       │   │       └── events.out.tfevents.1686797504.dgx-001.1245916.13.v2\n",
      "│       │   ├── simple_Conv_14_2048\n",
      "│       │   │   └── train\n",
      "│       │   │       └── events.out.tfevents.1686798109.dgx-001.1245916.16.v2\n",
      "│       │   ├── simple_Conv_14_512\n",
      "│       │   │   └── train\n",
      "│       │   │       └── events.out.tfevents.1686797966.dgx-001.1245916.15.v2\n",
      "│       │   ├── simple_Conv_2_2048\n",
      "│       │   │   └── train\n",
      "│       │   │       └── events.out.tfevents.1686796469.dgx-001.1245916.6.v2\n",
      "│       │   ├── simple_Conv_2_512\n",
      "│       │   │   └── train\n",
      "│       │   │       └── events.out.tfevents.1686796425.dgx-001.1245916.5.v2\n",
      "│       │   ├── simple_Conv_4_2048\n",
      "│       │   │   └── train\n",
      "│       │   │       └── events.out.tfevents.1686796653.dgx-001.1245916.8.v2\n",
      "│       │   ├── simple_Conv_4_512\n",
      "│       │   │   └── train\n",
      "│       │   │       └── events.out.tfevents.1686796597.dgx-001.1245916.7.v2\n",
      "│       │   ├── simple_Conv_6_2048\n",
      "│       │   │   └── train\n",
      "│       │   │       └── events.out.tfevents.1686796896.dgx-001.1245916.10.v2\n",
      "│       │   ├── simple_Conv_6_512\n",
      "│       │   │   └── train\n",
      "│       │   │       └── events.out.tfevents.1686796827.dgx-001.1245916.9.v2\n",
      "│       │   ├── simple_Conv_8_2048\n",
      "│       │   │   └── train\n",
      "│       │   │       └── events.out.tfevents.1686797210.dgx-001.1245916.12.v2\n",
      "│       │   ├── simple_Conv_8_512\n",
      "│       │   │   └── train\n",
      "│       │   │       └── events.out.tfevents.1686797126.dgx-001.1245916.11.v2\n",
      "│       │   ├── simple_Conv_NL\n",
      "│       │   │   └── train\n",
      "│       │   │       └── events.out.tfevents.1686796237.dgx-001.1245916.2.v2\n",
      "│       │   ├── simple_FC_2_256\n",
      "│       │   │   └── train\n",
      "│       │   │       └── events.out.tfevents.1686796194.dgx-001.1245916.0.v2\n",
      "│       │   └── simple_FC_3_256\n",
      "│       │       └── train\n",
      "│       │           └── events.out.tfevents.1686796217.dgx-001.1245916.1.v2\n",
      "│       └── padding_experiment\n",
      "│           ├── accuracy_data.pkl\n",
      "│           ├── simple_Conv_0_2048.h5\n",
      "│           ├── simple_Conv_0_512.h5\n",
      "│           ├── simple_Conv_10_2048.h5\n",
      "│           ├── simple_Conv_10_512.h5\n",
      "│           ├── simple_Conv_14_2048.h5\n",
      "│           ├── simple_Conv_14_512.h5\n",
      "│           ├── simple_Conv_2_2048.h5\n",
      "│           ├── simple_Conv_2_512.h5\n",
      "│           ├── simple_Conv_4_2048.h5\n",
      "│           ├── simple_Conv_4_512.h5\n",
      "│           ├── simple_Conv_6_2048.h5\n",
      "│           ├── simple_Conv_6_512.h5\n",
      "│           ├── simple_Conv_8_2048.h5\n",
      "│           ├── simple_Conv_8_512.h5\n",
      "│           ├── simple_Conv_NL.h5\n",
      "│           ├── simple_FC_2_256.h5\n",
      "│           └── simple_FC_3_256.h5\n",
      "├── data.zip\n",
      "├── dsProject\n",
      "│   └── .idea\n",
      "│       ├── dsProject.iml\n",
      "│       └── modules.xml\n",
      "├── functions\n",
      "│   ├── dots_models.py\n",
      "│   ├── utils.py\n",
      "│   └── __pycache__\n",
      "│       ├── dots_models.cpython-310.pyc\n",
      "│       └── utils.cpython-310.pyc\n",
      "├── models\n",
      "│   ├── fashion_mnist_2\n",
      "│   │   ├── acc_array.pkl\n",
      "│   │   ├── full_np.pkl\n",
      "│   │   ├── loss_array.pkl\n",
      "│   │   ├── model_0.h5\n",
      "│   │   ├── model_1.h5\n",
      "│   │   ├── model_2.h5\n",
      "│   │   ├── model_3.h5\n",
      "│   │   ├── model_4.h5\n",
      "│   │   ├── model_5.h5\n",
      "│   │   ├── model_6.h5\n",
      "│   │   ├── model_7.h5\n",
      "│   │   └── model_8.h5\n",
      "│   ├── fashion_mnist_main\n",
      "│   │   ├── fashion_mnist_simple_Conv_10_512.h5\n",
      "│   │   ├── fashion_mnist_simple_Conv_12_2048.h5\n",
      "│   │   ├── fashion_mnist_simple_Conv_2.h5\n",
      "│   │   ├── fashion_mnist_simple_Conv_max.h5\n",
      "│   │   ├── fashion_mnist_simple_Conv_NL.h5\n",
      "│   │   ├── fashion_mnist_simple_FC_2.h5\n",
      "│   │   ├── fashion_mnist_simple_FC_2_256.h5\n",
      "│   │   ├── fashion_mnist_simple_FC_3_512.h5\n",
      "│   │   └── fashion_mnist_simple__RNN.h5\n",
      "│   ├── mnist_2\n",
      "│   │   ├── mnist_acc_array.pkl\n",
      "│   │   ├── mnist_full_np.pkl\n",
      "│   │   ├── mnist_loss_array.pkl\n",
      "│   │   ├── mnist_model_0.h5\n",
      "│   │   ├── mnist_model_1.h5\n",
      "│   │   ├── mnist_model_2.h5\n",
      "│   │   ├── mnist_model_3.h5\n",
      "│   │   ├── mnist_model_4.h5\n",
      "│   │   └── mnist_model_5.h5\n",
      "│   └── mnist_main\n",
      "│       ├── mnist_model_0.h5\n",
      "│       ├── mnist_model_1.h5\n",
      "│       ├── mnist_model_2.h5\n",
      "│       ├── mnist_model_3.h5\n",
      "│       ├── mnist_model_4.h5\n",
      "│       ├── mnist_model_5.h5\n",
      "│       └── mnist_model_6.h5\n",
      "├── plots\n",
      "│   ├── black_white_dot.png\n",
      "│   └── teaser.png\n",
      "├── requirements.txt\n",
      "├── requirements_LRZ.txt\n",
      "├── scripts\n",
      "│   ├── DDN_plot.py\n",
      "│   ├── fashion_mnist_gpu_create_attack_data.py\n",
      "│   ├── fashion_mnist_gpu_create_models.py\n",
      "│   ├── full_fashion_mnist_gpu_2.py\n",
      "│   ├── full_mnist_gpu.py\n",
      "│   ├── full_mnist_gpu_2.py\n",
      "│   └── padding_plot.py\n",
      "├── Shift_Invariance_Can_Reduce_Adversarial_Robustness.html\n",
      "├── Shift_Invariance_Can_Reduce_Adversarial_Robustness.ipynb\n",
      "└── Shift_Invariance_Can_Reduce_Adversarial_Robustness.pdf\n"
     ]
    }
   ],
   "source": [
    "# File tree\n",
    "from pathlib import Path\n",
    "\n",
    "# prefix components:\n",
    "space =  '    '\n",
    "branch = '│   '\n",
    "# pointers:\n",
    "tee =    '├── '\n",
    "last =   '└── '\n",
    "\n",
    "def tree(dir_path: Path, prefix: str=''):\n",
    "    \"\"\"A recursive generator, given a directory Path object\n",
    "    will yield a visual tree structure line by line\n",
    "    with each line prefixed by the same characters\n",
    "    \"\"\"\n",
    "    contents = list(dir_path.iterdir())\n",
    "    # contents each get pointers that are ├── with a final └── :\n",
    "    pointers = [tee] * (len(contents) - 1) + [last]\n",
    "    for pointer, path in zip(pointers, contents):\n",
    "        yield prefix + pointer + path.name\n",
    "        if path.is_dir(): # extend the prefix and recurse:\n",
    "            extension = branch if pointer == tee else space\n",
    "            # i.e. space because last, └── , above so no more |\n",
    "            yield from tree(path, prefix=prefix+extension)\n",
    "startpath = r\"C:\\Users\\anass\\Desktop\\TUM\\Courses\\Practical\\Gitlab\"\n",
    "str_=\"\"\n",
    "for line in tree(Path(startpath)):\n",
    "    print(line)"
   ],
   "metadata": {
    "collapsed": false,
    "pycharm": {
     "name": "#%%\n"
    }
   }
  },
  {
   "cell_type": "code",
   "execution_count": 4,
   "outputs": [
    {
     "data": {
      "text/plain": "'<generator object tree at 0x0000019A7A307840>'"
     },
     "execution_count": 4,
     "metadata": {},
     "output_type": "execute_result"
    }
   ],
   "source": [
    "str(tree(Path(startpath)))"
   ],
   "metadata": {
    "collapsed": false,
    "pycharm": {
     "name": "#%%\n"
    }
   }
  },
  {
   "cell_type": "code",
   "execution_count": 14,
   "outputs": [
    {
     "data": {
      "text/plain": "'├── .ignore/n├── .ipynb_checkpoints/n│   └── Shift_Invariance_Can_Reduce_Adversarial_Robustness-checkpoint.ipynb/n├── 2/n├── can-reduce-adversarial-robustness.pdf/n├── data/n│   ├── adversarial_data_2/n│   │   ├── 2_simple_Conv_10_512_ProjectedGradientDescentTensorFlowV2_0.05_test.npz/n│   │   ├── 2_simple_Conv_10_512_ProjectedGradientDescentTensorFlowV2_0.05_train.npz/n│   │   ├── 2_simple_Conv_10_512_ProjectedGradientDescentTensorFlowV2_0.15_test.npz/n│   │   ├── 2_simple_Conv_10_512_ProjectedGradientDescentTensorFlowV2_0.15_train.npz/n│   │   ├── 2_simple_Conv_10_512_ProjectedGradientDescentTensorFlowV2_0.1_test.npz/n│   │   ├── 2_simple_Conv_10_512_ProjectedGradientDescentTensorFlowV2_0.1_train.npz/n│   │   ├── 2_simple_Conv_10_512_ProjectedGradientDescentTensorFlowV2_0.25_test.npz/n│   │   ├── 2_simple_Conv_10_512_ProjectedGradientDescentTensorFlowV2_0.25_train.npz/n│   │   ├── 2_simple_Conv_10_512_ProjectedGradientDescentTensorFlowV2_0.2_test.npz/n│   │   ├── 2_simple_Conv_10_512_ProjectedGradientDescentTensorFlowV2_0.2_train.npz/n│   │   ├── 2_simple_Conv_10_512_ProjectedGradientDescentTensorFlowV2_0.3_test.npz/n│   │   ├── 2_simple_Conv_10_512_ProjectedGradientDescentTensorFlowV2_0.3_train.npz/n│   │   ├── 2_simple_Conv_10_512_ProjectedGradientDescentTensorFlowV2_0.5_test.npz/n│   │   ├── 2_simple_Conv_10_512_ProjectedGradientDescentTensorFlowV2_0.5_train.npz/n│   │   ├── 2_simple_Conv_10_512_ProjectedGradientDescentTensorFlowV2_1.5_test.npz/n│   │   ├── 2_simple_Conv_10_512_ProjectedGradientDescentTensorFlowV2_1.5_train.npz/n│   │   ├── 2_simple_Conv_10_512_ProjectedGradientDescentTensorFlowV2_1_test.npz/n│   │   ├── 2_simple_Conv_10_512_ProjectedGradientDescentTensorFlowV2_1_train.npz/n│   │   ├── 2_simple_Conv_10_512_ProjectedGradientDescentTensorFlowV2_2.5_test.npz/n│   │   ├── 2_simple_Conv_10_512_ProjectedGradientDescentTensorFlowV2_2.5_train.npz/n│   │   ├── 2_simple_Conv_10_512_ProjectedGradientDescentTensorFlowV2_3_test.npz/n│   │   ├── 2_simple_Conv_10_512_ProjectedGradientDescentTensorFlowV2_3_train.npz/n│   │   ├── 2_simple_Conv_12_2048_ProjectedGradientDescentTensorFlowV2_0.05_test.npz/n│   │   ├── 2_simple_Conv_12_2048_ProjectedGradientDescentTensorFlowV2_0.05_train.npz/n│   │   ├── 2_simple_Conv_12_2048_ProjectedGradientDescentTensorFlowV2_0.15_test.npz/n│   │   ├── 2_simple_Conv_12_2048_ProjectedGradientDescentTensorFlowV2_0.15_train.npz/n│   │   ├── 2_simple_Conv_12_2048_ProjectedGradientDescentTensorFlowV2_0.1_test.npz/n│   │   ├── 2_simple_Conv_12_2048_ProjectedGradientDescentTensorFlowV2_0.1_train.npz/n│   │   ├── 2_simple_Conv_12_2048_ProjectedGradientDescentTensorFlowV2_0.25_test.npz/n│   │   ├── 2_simple_Conv_12_2048_ProjectedGradientDescentTensorFlowV2_0.25_train.npz/n│   │   ├── 2_simple_Conv_12_2048_ProjectedGradientDescentTensorFlowV2_0.2_test.npz/n│   │   ├── 2_simple_Conv_12_2048_ProjectedGradientDescentTensorFlowV2_0.2_train.npz/n│   │   ├── 2_simple_Conv_12_2048_ProjectedGradientDescentTensorFlowV2_0.3_test.npz/n│   │   ├── 2_simple_Conv_12_2048_ProjectedGradientDescentTensorFlowV2_0.3_train.npz/n│   │   ├── 2_simple_Conv_12_2048_ProjectedGradientDescentTensorFlowV2_0.5_test.npz/n│   │   ├── 2_simple_Conv_12_2048_ProjectedGradientDescentTensorFlowV2_0.5_train.npz/n│   │   ├── 2_simple_Conv_12_2048_ProjectedGradientDescentTensorFlowV2_1.5_test.npz/n│   │   ├── 2_simple_Conv_12_2048_ProjectedGradientDescentTensorFlowV2_1.5_train.npz/n│   │   ├── 2_simple_Conv_12_2048_ProjectedGradientDescentTensorFlowV2_1_test.npz/n│   │   ├── 2_simple_Conv_12_2048_ProjectedGradientDescentTensorFlowV2_1_train.npz/n│   │   ├── 2_simple_Conv_12_2048_ProjectedGradientDescentTensorFlowV2_2.5_test.npz/n│   │   ├── 2_simple_Conv_12_2048_ProjectedGradientDescentTensorFlowV2_2.5_train.npz/n│   │   ├── 2_simple_Conv_12_2048_ProjectedGradientDescentTensorFlowV2_3_test.npz/n│   │   ├── 2_simple_Conv_12_2048_ProjectedGradientDescentTensorFlowV2_3_train.npz/n│   │   ├── 2_simple_Conv_2_ProjectedGradientDescentTensorFlowV2_0.05_test.npz/n│   │   ├── 2_simple_Conv_2_ProjectedGradientDescentTensorFlowV2_0.05_train.npz/n│   │   ├── 2_simple_Conv_2_ProjectedGradientDescentTensorFlowV2_0.15_test.npz/n│   │   ├── 2_simple_Conv_2_ProjectedGradientDescentTensorFlowV2_0.15_train.npz/n│   │   ├── 2_simple_Conv_2_ProjectedGradientDescentTensorFlowV2_0.1_test.npz/n│   │   ├── 2_simple_Conv_2_ProjectedGradientDescentTensorFlowV2_0.1_train.npz/n│   │   ├── 2_simple_Conv_2_ProjectedGradientDescentTensorFlowV2_0.25_test.npz/n│   │   ├── 2_simple_Conv_2_ProjectedGradientDescentTensorFlowV2_0.25_train.npz/n│   │   ├── 2_simple_Conv_2_ProjectedGradientDescentTensorFlowV2_0.2_test.npz/n│   │   ├── 2_simple_Conv_2_ProjectedGradientDescentTensorFlowV2_0.2_train.npz/n│   │   ├── 2_simple_Conv_2_ProjectedGradientDescentTensorFlowV2_0.3_test.npz/n│   │   ├── 2_simple_Conv_2_ProjectedGradientDescentTensorFlowV2_0.3_train.npz/n│   │   ├── 2_simple_Conv_2_ProjectedGradientDescentTensorFlowV2_0.5_test.npz/n│   │   ├── 2_simple_Conv_2_ProjectedGradientDescentTensorFlowV2_0.5_train.npz/n│   │   ├── 2_simple_Conv_2_ProjectedGradientDescentTensorFlowV2_1.5_test.npz/n│   │   ├── 2_simple_Conv_2_ProjectedGradientDescentTensorFlowV2_1.5_train.npz/n│   │   ├── 2_simple_Conv_2_ProjectedGradientDescentTensorFlowV2_1_test.npz/n│   │   ├── 2_simple_Conv_2_ProjectedGradientDescentTensorFlowV2_1_train.npz/n│   │   ├── 2_simple_Conv_2_ProjectedGradientDescentTensorFlowV2_2.5_test.npz/n│   │   ├── 2_simple_Conv_2_ProjectedGradientDescentTensorFlowV2_2.5_train.npz/n│   │   ├── 2_simple_Conv_2_ProjectedGradientDescentTensorFlowV2_3_test.npz/n│   │   ├── 2_simple_Conv_2_ProjectedGradientDescentTensorFlowV2_3_train.npz/n│   │   ├── 2_simple_Conv_max_ProjectedGradientDescentTensorFlowV2_0.05_test.npz/n│   │   ├── 2_simple_Conv_max_ProjectedGradientDescentTensorFlowV2_0.05_train.npz/n│   │   ├── 2_simple_Conv_max_ProjectedGradientDescentTensorFlowV2_0.15_test.npz/n│   │   ├── 2_simple_Conv_max_ProjectedGradientDescentTensorFlowV2_0.15_train.npz/n│   │   ├── 2_simple_Conv_max_ProjectedGradientDescentTensorFlowV2_0.1_test.npz/n│   │   ├── 2_simple_Conv_max_ProjectedGradientDescentTensorFlowV2_0.1_train.npz/n│   │   ├── 2_simple_Conv_max_ProjectedGradientDescentTensorFlowV2_0.25_test.npz/n│   │   ├── 2_simple_Conv_max_ProjectedGradientDescentTensorFlowV2_0.25_train.npz/n│   │   ├── 2_simple_Conv_max_ProjectedGradientDescentTensorFlowV2_0.2_test.npz/n│   │   ├── 2_simple_Conv_max_ProjectedGradientDescentTensorFlowV2_0.2_train.npz/n│   │   ├── 2_simple_Conv_max_ProjectedGradientDescentTensorFlowV2_0.3_test.npz/n│   │   ├── 2_simple_Conv_max_ProjectedGradientDescentTensorFlowV2_0.3_train.npz/n│   │   ├── 2_simple_Conv_max_ProjectedGradientDescentTensorFlowV2_0.5_test.npz/n│   │   ├── 2_simple_Conv_max_ProjectedGradientDescentTensorFlowV2_0.5_train.npz/n│   │   ├── 2_simple_Conv_max_ProjectedGradientDescentTensorFlowV2_1.5_test.npz/n│   │   ├── 2_simple_Conv_max_ProjectedGradientDescentTensorFlowV2_1.5_train.npz/n│   │   ├── 2_simple_Conv_max_ProjectedGradientDescentTensorFlowV2_1_test.npz/n│   │   ├── 2_simple_Conv_max_ProjectedGradientDescentTensorFlowV2_1_train.npz/n│   │   ├── 2_simple_Conv_max_ProjectedGradientDescentTensorFlowV2_2.5_test.npz/n│   │   ├── 2_simple_Conv_max_ProjectedGradientDescentTensorFlowV2_2.5_train.npz/n│   │   ├── 2_simple_Conv_max_ProjectedGradientDescentTensorFlowV2_3_test.npz/n│   │   ├── 2_simple_Conv_max_ProjectedGradientDescentTensorFlowV2_3_train.npz/n│   │   ├── 2_simple_Conv_NL_ProjectedGradientDescentTensorFlowV2_0.05_test.npz/n│   │   ├── 2_simple_Conv_NL_ProjectedGradientDescentTensorFlowV2_0.05_train.npz/n│   │   ├── 2_simple_Conv_NL_ProjectedGradientDescentTensorFlowV2_0.15_test.npz/n│   │   ├── 2_simple_Conv_NL_ProjectedGradientDescentTensorFlowV2_0.15_train.npz/n│   │   ├── 2_simple_Conv_NL_ProjectedGradientDescentTensorFlowV2_0.1_test.npz/n│   │   ├── 2_simple_Conv_NL_ProjectedGradientDescentTensorFlowV2_0.1_train.npz/n│   │   ├── 2_simple_Conv_NL_ProjectedGradientDescentTensorFlowV2_0.25_test.npz/n│   │   ├── 2_simple_Conv_NL_ProjectedGradientDescentTensorFlowV2_0.25_train.npz/n│   │   ├── 2_simple_Conv_NL_ProjectedGradientDescentTensorFlowV2_0.2_test.npz/n│   │   ├── 2_simple_Conv_NL_ProjectedGradientDescentTensorFlowV2_0.2_train.npz/n│   │   ├── 2_simple_Conv_NL_ProjectedGradientDescentTensorFlowV2_0.3_test.npz/n│   │   ├── 2_simple_Conv_NL_ProjectedGradientDescentTensorFlowV2_0.3_train.npz/n│   │   ├── 2_simple_Conv_NL_ProjectedGradientDescentTensorFlowV2_0.5_test.npz/n│   │   ├── 2_simple_Conv_NL_ProjectedGradientDescentTensorFlowV2_0.5_train.npz/n│   │   ├── 2_simple_Conv_NL_ProjectedGradientDescentTensorFlowV2_1.5_test.npz/n│   │   ├── 2_simple_Conv_NL_ProjectedGradientDescentTensorFlowV2_1.5_train.npz/n│   │   ├── 2_simple_Conv_NL_ProjectedGradientDescentTensorFlowV2_1_test.npz/n│   │   ├── 2_simple_Conv_NL_ProjectedGradientDescentTensorFlowV2_1_train.npz/n│   │   ├── 2_simple_Conv_NL_ProjectedGradientDescentTensorFlowV2_2.5_test.npz/n│   │   ├── 2_simple_Conv_NL_ProjectedGradientDescentTensorFlowV2_2.5_train.npz/n│   │   ├── 2_simple_Conv_NL_ProjectedGradientDescentTensorFlowV2_3_test.npz/n│   │   ├── 2_simple_Conv_NL_ProjectedGradientDescentTensorFlowV2_3_train.npz/n│   │   ├── 2_simple_FC_1024_ProjectedGradientDescentTensorFlowV2_0.05_test.npz/n│   │   ├── 2_simple_FC_1024_ProjectedGradientDescentTensorFlowV2_0.05_train.npz/n│   │   ├── 2_simple_FC_1024_ProjectedGradientDescentTensorFlowV2_0.15_test.npz/n│   │   ├── 2_simple_FC_1024_ProjectedGradientDescentTensorFlowV2_0.15_train.npz/n│   │   ├── 2_simple_FC_1024_ProjectedGradientDescentTensorFlowV2_0.1_test.npz/n│   │   ├── 2_simple_FC_1024_ProjectedGradientDescentTensorFlowV2_0.1_train.npz/n│   │   ├── 2_simple_FC_1024_ProjectedGradientDescentTensorFlowV2_0.25_test.npz/n│   │   ├── 2_simple_FC_1024_ProjectedGradientDescentTensorFlowV2_0.25_train.npz/n│   │   ├── 2_simple_FC_1024_ProjectedGradientDescentTensorFlowV2_0.2_test.npz/n│   │   ├── 2_simple_FC_1024_ProjectedGradientDescentTensorFlowV2_0.2_train.npz/n│   │   ├── 2_simple_FC_1024_ProjectedGradientDescentTensorFlowV2_0.3_test.npz/n│   │   ├── 2_simple_FC_1024_ProjectedGradientDescentTensorFlowV2_0.3_train.npz/n│   │   ├── 2_simple_FC_1024_ProjectedGradientDescentTensorFlowV2_0.5_test.npz/n│   │   ├── 2_simple_FC_1024_ProjectedGradientDescentTensorFlowV2_0.5_train.npz/n│   │   ├── 2_simple_FC_1024_ProjectedGradientDescentTensorFlowV2_1.5_test.npz/n│   │   ├── 2_simple_FC_1024_ProjectedGradientDescentTensorFlowV2_1.5_train.npz/n│   │   ├── 2_simple_FC_1024_ProjectedGradientDescentTensorFlowV2_1_test.npz/n│   │   ├── 2_simple_FC_1024_ProjectedGradientDescentTensorFlowV2_1_train.npz/n│   │   ├── 2_simple_FC_1024_ProjectedGradientDescentTensorFlowV2_2.5_test.npz/n│   │   ├── 2_simple_FC_1024_ProjectedGradientDescentTensorFlowV2_2.5_train.npz/n│   │   ├── 2_simple_FC_1024_ProjectedGradientDescentTensorFlowV2_3_test.npz/n│   │   ├── 2_simple_FC_1024_ProjectedGradientDescentTensorFlowV2_3_train.npz/n│   │   ├── 2_simple_FC_256_ProjectedGradientDescentTensorFlowV2_0.05_test.npz/n│   │   ├── 2_simple_FC_256_ProjectedGradientDescentTensorFlowV2_0.05_train.npz/n│   │   ├── 2_simple_FC_256_ProjectedGradientDescentTensorFlowV2_0.15_test.npz/n│   │   ├── 2_simple_FC_256_ProjectedGradientDescentTensorFlowV2_0.15_train.npz/n│   │   ├── 2_simple_FC_256_ProjectedGradientDescentTensorFlowV2_0.1_test.npz/n│   │   ├── 2_simple_FC_256_ProjectedGradientDescentTensorFlowV2_0.1_train.npz/n│   │   ├── 2_simple_FC_256_ProjectedGradientDescentTensorFlowV2_0.25_test.npz/n│   │   ├── 2_simple_FC_256_ProjectedGradientDescentTensorFlowV2_0.25_train.npz/n│   │   ├── 2_simple_FC_256_ProjectedGradientDescentTensorFlowV2_0.2_test.npz/n│   │   ├── 2_simple_FC_256_ProjectedGradientDescentTensorFlowV2_0.2_train.npz/n│   │   ├── 2_simple_FC_256_ProjectedGradientDescentTensorFlowV2_0.3_test.npz/n│   │   ├── 2_simple_FC_256_ProjectedGradientDescentTensorFlowV2_0.3_train.npz/n│   │   ├── 2_simple_FC_256_ProjectedGradientDescentTensorFlowV2_0.5_test.npz/n│   │   ├── 2_simple_FC_256_ProjectedGradientDescentTensorFlowV2_0.5_train.npz/n│   │   ├── 2_simple_FC_256_ProjectedGradientDescentTensorFlowV2_1.5_test.npz/n│   │   ├── 2_simple_FC_256_ProjectedGradientDescentTensorFlowV2_1.5_train.npz/n│   │   ├── 2_simple_FC_256_ProjectedGradientDescentTensorFlowV2_1_test.npz/n│   │   ├── 2_simple_FC_256_ProjectedGradientDescentTensorFlowV2_1_train.npz/n│   │   ├── 2_simple_FC_256_ProjectedGradientDescentTensorFlowV2_2.5_test.npz/n│   │   ├── 2_simple_FC_256_ProjectedGradientDescentTensorFlowV2_2.5_train.npz/n│   │   ├── 2_simple_FC_256_ProjectedGradientDescentTensorFlowV2_3_test.npz/n│   │   └── 2_simple_FC_256_ProjectedGradientDescentTensorFlowV2_3_train.npz/n│   ├── adversarial_fashion_data/n│   │   ├── simple_Conv_2_FastGradientMethod_0.5_test.npz/n│   │   ├── simple_Conv_2_FastGradientMethod_0.5_train.npz/n│   │   ├── simple_Conv_2_FastGradientMethod_1.5_test.npz/n│   │   ├── simple_Conv_2_FastGradientMethod_1.5_train.npz/n│   │   ├── simple_Conv_2_FastGradientMethod_1_test.npz/n│   │   ├── simple_Conv_2_FastGradientMethod_1_train.npz/n│   │   ├── simple_Conv_2_FastGradientMethod_2.5_test.npz/n│   │   ├── simple_Conv_2_FastGradientMethod_2.5_train.npz/n│   │   ├── simple_Conv_2_FastGradientMethod_3_test.npz/n│   │   ├── simple_Conv_2_FastGradientMethod_3_train.npz/n│   │   ├── simple_Conv_2_ProjectedGradientDescentTensorFlowV2_0.05_test.npz/n│   │   ├── simple_Conv_2_ProjectedGradientDescentTensorFlowV2_0.05_train.npz/n│   │   ├── simple_Conv_2_ProjectedGradientDescentTensorFlowV2_0.15_test.npz/n│   │   ├── simple_Conv_2_ProjectedGradientDescentTensorFlowV2_0.15_train.npz/n│   │   ├── simple_Conv_2_ProjectedGradientDescentTensorFlowV2_0.1_test.npz/n│   │   ├── simple_Conv_2_ProjectedGradientDescentTensorFlowV2_0.1_train.npz/n│   │   ├── simple_Conv_2_ProjectedGradientDescentTensorFlowV2_0.25_test.npz/n│   │   ├── simple_Conv_2_ProjectedGradientDescentTensorFlowV2_0.25_train.npz/n│   │   ├── simple_Conv_2_ProjectedGradientDescentTensorFlowV2_0.2_test.npz/n│   │   ├── simple_Conv_2_ProjectedGradientDescentTensorFlowV2_0.2_train.npz/n│   │   ├── simple_Conv_2_ProjectedGradientDescentTensorFlowV2_0.3_test.npz/n│   │   ├── simple_Conv_2_ProjectedGradientDescentTensorFlowV2_0.3_train.npz/n│   │   ├── simple_Conv_FastGradientMethod_0.5_test.npz/n│   │   ├── simple_Conv_FastGradientMethod_0.5_train.npz/n│   │   ├── simple_Conv_FastGradientMethod_1.5_test.npz/n│   │   ├── simple_Conv_FastGradientMethod_1.5_train.npz/n│   │   ├── simple_Conv_FastGradientMethod_1_test.npz/n│   │   ├── simple_Conv_FastGradientMethod_1_train.npz/n│   │   ├── simple_Conv_FastGradientMethod_2.5_test.npz/n│   │   ├── simple_Conv_FastGradientMethod_2.5_train.npz/n│   │   ├── simple_Conv_FastGradientMethod_3_test.npz/n│   │   ├── simple_Conv_FastGradientMethod_3_train.npz/n│   │   ├── simple_Conv_max_FastGradientMethod_0.5_test.npz/n│   │   ├── simple_Conv_max_FastGradientMethod_0.5_train.npz/n│   │   ├── simple_Conv_max_FastGradientMethod_1.5_test.npz/n│   │   ├── simple_Conv_max_FastGradientMethod_1.5_train.npz/n│   │   ├── simple_Conv_max_FastGradientMethod_1_test.npz/n│   │   ├── simple_Conv_max_FastGradientMethod_1_train.npz/n│   │   ├── simple_Conv_max_FastGradientMethod_2.5_test.npz/n│   │   ├── simple_Conv_max_FastGradientMethod_2.5_train.npz/n│   │   ├── simple_Conv_max_FastGradientMethod_3_test.npz/n│   │   ├── simple_Conv_max_FastGradientMethod_3_train.npz/n│   │   ├── simple_Conv_max_ProjectedGradientDescentTensorFlowV2_0.05_test.npz/n│   │   ├── simple_Conv_max_ProjectedGradientDescentTensorFlowV2_0.05_train.npz/n│   │   ├── simple_Conv_max_ProjectedGradientDescentTensorFlowV2_0.15_test.npz/n│   │   ├── simple_Conv_max_ProjectedGradientDescentTensorFlowV2_0.15_train.npz/n│   │   ├── simple_Conv_max_ProjectedGradientDescentTensorFlowV2_0.1_test.npz/n│   │   ├── simple_Conv_max_ProjectedGradientDescentTensorFlowV2_0.1_train.npz/n│   │   ├── simple_Conv_max_ProjectedGradientDescentTensorFlowV2_0.25_test.npz/n│   │   ├── simple_Conv_max_ProjectedGradientDescentTensorFlowV2_0.25_train.npz/n│   │   ├── simple_Conv_max_ProjectedGradientDescentTensorFlowV2_0.2_test.npz/n│   │   ├── simple_Conv_max_ProjectedGradientDescentTensorFlowV2_0.2_train.npz/n│   │   ├── simple_Conv_max_ProjectedGradientDescentTensorFlowV2_0.3_test.npz/n│   │   ├── simple_Conv_max_ProjectedGradientDescentTensorFlowV2_0.3_train.npz/n│   │   ├── simple_Conv_NL_FastGradientMethod_0.5_test.npz/n│   │   ├── simple_Conv_NL_FastGradientMethod_0.5_train.npz/n│   │   ├── simple_Conv_NL_FastGradientMethod_1.5_test.npz/n│   │   ├── simple_Conv_NL_FastGradientMethod_1.5_train.npz/n│   │   ├── simple_Conv_NL_FastGradientMethod_1_test.npz/n│   │   ├── simple_Conv_NL_FastGradientMethod_1_train.npz/n│   │   ├── simple_Conv_NL_FastGradientMethod_2.5_test.npz/n│   │   ├── simple_Conv_NL_FastGradientMethod_2.5_train.npz/n│   │   ├── simple_Conv_NL_FastGradientMethod_3_test.npz/n│   │   ├── simple_Conv_NL_FastGradientMethod_3_train.npz/n│   │   ├── simple_Conv_NL_ProjectedGradientDescentTensorFlowV2_0.05_test.npz/n│   │   ├── simple_Conv_NL_ProjectedGradientDescentTensorFlowV2_0.05_train.npz/n│   │   ├── simple_Conv_NL_ProjectedGradientDescentTensorFlowV2_0.15_test.npz/n│   │   ├── simple_Conv_NL_ProjectedGradientDescentTensorFlowV2_0.15_train.npz/n│   │   ├── simple_Conv_NL_ProjectedGradientDescentTensorFlowV2_0.1_test.npz/n│   │   ├── simple_Conv_NL_ProjectedGradientDescentTensorFlowV2_0.1_train.npz/n│   │   ├── simple_Conv_NL_ProjectedGradientDescentTensorFlowV2_0.25_test.npz/n│   │   ├── simple_Conv_NL_ProjectedGradientDescentTensorFlowV2_0.25_train.npz/n│   │   ├── simple_Conv_NL_ProjectedGradientDescentTensorFlowV2_0.2_test.npz/n│   │   ├── simple_Conv_NL_ProjectedGradientDescentTensorFlowV2_0.2_train.npz/n│   │   ├── simple_Conv_NL_ProjectedGradientDescentTensorFlowV2_0.3_test.npz/n│   │   ├── simple_Conv_NL_ProjectedGradientDescentTensorFlowV2_0.3_train.npz/n│   │   ├── simple_Conv_ProjectedGradientDescentTensorFlowV2_0.05_test.npz/n│   │   ├── simple_Conv_ProjectedGradientDescentTensorFlowV2_0.05_train.npz/n│   │   ├── simple_Conv_ProjectedGradientDescentTensorFlowV2_0.15_test.npz/n│   │   ├── simple_Conv_ProjectedGradientDescentTensorFlowV2_0.15_train.npz/n│   │   ├── simple_Conv_ProjectedGradientDescentTensorFlowV2_0.1_test.npz/n│   │   ├── simple_Conv_ProjectedGradientDescentTensorFlowV2_0.1_train.npz/n│   │   ├── simple_Conv_ProjectedGradientDescentTensorFlowV2_0.25_test.npz/n│   │   ├── simple_Conv_ProjectedGradientDescentTensorFlowV2_0.25_train.npz/n│   │   ├── simple_Conv_ProjectedGradientDescentTensorFlowV2_0.2_test.npz/n│   │   ├── simple_Conv_ProjectedGradientDescentTensorFlowV2_0.2_train.npz/n│   │   ├── simple_Conv_ProjectedGradientDescentTensorFlowV2_0.3_test.npz/n│   │   ├── simple_Conv_ProjectedGradientDescentTensorFlowV2_0.3_train.npz/n│   │   ├── simple_Conv__FastGradientMethod_0.5_test.npz/n│   │   ├── simple_Conv__FastGradientMethod_0.5_train.npz/n│   │   ├── simple_Conv__FastGradientMethod_1.5_test.npz/n│   │   ├── simple_Conv__FastGradientMethod_1.5_train.npz/n│   │   ├── simple_Conv__FastGradientMethod_1_test.npz/n│   │   ├── simple_Conv__FastGradientMethod_1_train.npz/n│   │   ├── simple_Conv__FastGradientMethod_2.5_test.npz/n│   │   ├── simple_Conv__FastGradientMethod_2.5_train.npz/n│   │   ├── simple_Conv__FastGradientMethod_3_test.npz/n│   │   ├── simple_Conv__FastGradientMethod_3_train.npz/n│   │   ├── simple_Conv__ProjectedGradientDescentTensorFlowV2_0.05_test.npz/n│   │   ├── simple_Conv__ProjectedGradientDescentTensorFlowV2_0.05_train.npz/n│   │   ├── simple_Conv__ProjectedGradientDescentTensorFlowV2_0.15_test.npz/n│   │   ├── simple_Conv__ProjectedGradientDescentTensorFlowV2_0.15_train.npz/n│   │   ├── simple_Conv__ProjectedGradientDescentTensorFlowV2_0.1_test.npz/n│   │   ├── simple_Conv__ProjectedGradientDescentTensorFlowV2_0.1_train.npz/n│   │   ├── simple_Conv__ProjectedGradientDescentTensorFlowV2_0.25_test.npz/n│   │   ├── simple_Conv__ProjectedGradientDescentTensorFlowV2_0.25_train.npz/n│   │   ├── simple_Conv__ProjectedGradientDescentTensorFlowV2_0.2_test.npz/n│   │   ├── simple_Conv__ProjectedGradientDescentTensorFlowV2_0.2_train.npz/n│   │   ├── simple_Conv__ProjectedGradientDescentTensorFlowV2_0.3_test.npz/n│   │   ├── simple_Conv__ProjectedGradientDescentTensorFlowV2_0.3_train.npz/n│   │   ├── simple_FC_2_FastGradientMethod_0.5_test.npz/n│   │   ├── simple_FC_2_FastGradientMethod_0.5_train.npz/n│   │   ├── simple_FC_2_FastGradientMethod_1.5_test.npz/n│   │   ├── simple_FC_2_FastGradientMethod_1.5_train.npz/n│   │   ├── simple_FC_2_FastGradientMethod_1_test.npz/n│   │   ├── simple_FC_2_FastGradientMethod_1_train.npz/n│   │   ├── simple_FC_2_FastGradientMethod_2.5_test.npz/n│   │   ├── simple_FC_2_FastGradientMethod_2.5_train.npz/n│   │   ├── simple_FC_2_FastGradientMethod_3_test.npz/n│   │   ├── simple_FC_2_FastGradientMethod_3_train.npz/n│   │   ├── simple_FC_2_ProjectedGradientDescentTensorFlowV2_0.05_test.npz/n│   │   ├── simple_FC_2_ProjectedGradientDescentTensorFlowV2_0.05_train.npz/n│   │   ├── simple_FC_2_ProjectedGradientDescentTensorFlowV2_0.15_test.npz/n│   │   ├── simple_FC_2_ProjectedGradientDescentTensorFlowV2_0.15_train.npz/n│   │   ├── simple_FC_2_ProjectedGradientDescentTensorFlowV2_0.1_test.npz/n│   │   ├── simple_FC_2_ProjectedGradientDescentTensorFlowV2_0.1_train.npz/n│   │   ├── simple_FC_2_ProjectedGradientDescentTensorFlowV2_0.25_test.npz/n│   │   ├── simple_FC_2_ProjectedGradientDescentTensorFlowV2_0.25_train.npz/n│   │   ├── simple_FC_2_ProjectedGradientDescentTensorFlowV2_0.2_test.npz/n│   │   ├── simple_FC_2_ProjectedGradientDescentTensorFlowV2_0.2_train.npz/n│   │   ├── simple_FC_2_ProjectedGradientDescentTensorFlowV2_0.3_test.npz/n│   │   ├── simple_FC_2_ProjectedGradientDescentTensorFlowV2_0.3_train.npz/n│   │   ├── simple_FC_FastGradientMethod_0.5_test.npz/n│   │   ├── simple_FC_FastGradientMethod_0.5_train.npz/n│   │   ├── simple_FC_FastGradientMethod_1.5_test.npz/n│   │   ├── simple_FC_FastGradientMethod_1.5_train.npz/n│   │   ├── simple_FC_FastGradientMethod_1_test.npz/n│   │   ├── simple_FC_FastGradientMethod_1_train.npz/n│   │   ├── simple_FC_FastGradientMethod_2.5_test.npz/n│   │   ├── simple_FC_FastGradientMethod_2.5_train.npz/n│   │   ├── simple_FC_FastGradientMethod_3_test.npz/n│   │   ├── simple_FC_FastGradientMethod_3_train.npz/n│   │   ├── simple_FC_ProjectedGradientDescentTensorFlowV2_0.05_test.npz/n│   │   ├── simple_FC_ProjectedGradientDescentTensorFlowV2_0.05_train.npz/n│   │   ├── simple_FC_ProjectedGradientDescentTensorFlowV2_0.15_test.npz/n│   │   ├── simple_FC_ProjectedGradientDescentTensorFlowV2_0.15_train.npz/n│   │   ├── simple_FC_ProjectedGradientDescentTensorFlowV2_0.1_test.npz/n│   │   ├── simple_FC_ProjectedGradientDescentTensorFlowV2_0.1_train.npz/n│   │   ├── simple_FC_ProjectedGradientDescentTensorFlowV2_0.25_test.npz/n│   │   ├── simple_FC_ProjectedGradientDescentTensorFlowV2_0.25_train.npz/n│   │   ├── simple_FC_ProjectedGradientDescentTensorFlowV2_0.2_test.npz/n│   │   ├── simple_FC_ProjectedGradientDescentTensorFlowV2_0.2_train.npz/n│   │   ├── simple_FC_ProjectedGradientDescentTensorFlowV2_0.3_test.npz/n│   │   ├── simple_FC_ProjectedGradientDescentTensorFlowV2_0.3_train.npz/n│   │   ├── simple_FC__FastGradientMethod_0.5_test.npz/n│   │   ├── simple_FC__FastGradientMethod_0.5_train.npz/n│   │   ├── simple_FC__FastGradientMethod_1.5_test.npz/n│   │   ├── simple_FC__FastGradientMethod_1.5_train.npz/n│   │   ├── simple_FC__FastGradientMethod_1_test.npz/n│   │   ├── simple_FC__FastGradientMethod_1_train.npz/n│   │   ├── simple_FC__FastGradientMethod_2.5_test.npz/n│   │   ├── simple_FC__FastGradientMethod_2.5_train.npz/n│   │   ├── simple_FC__FastGradientMethod_3_test.npz/n│   │   ├── simple_FC__FastGradientMethod_3_train.npz/n│   │   ├── simple_FC__ProjectedGradientDescentTensorFlowV2_0.05_test.npz/n│   │   ├── simple_FC__ProjectedGradientDescentTensorFlowV2_0.05_train.npz/n│   │   ├── simple_FC__ProjectedGradientDescentTensorFlowV2_0.15_test.npz/n│   │   ├── simple_FC__ProjectedGradientDescentTensorFlowV2_0.15_train.npz/n│   │   ├── simple_FC__ProjectedGradientDescentTensorFlowV2_0.1_test.npz/n│   │   ├── simple_FC__ProjectedGradientDescentTensorFlowV2_0.1_train.npz/n│   │   ├── simple_FC__ProjectedGradientDescentTensorFlowV2_0.25_test.npz/n│   │   ├── simple_FC__ProjectedGradientDescentTensorFlowV2_0.25_train.npz/n│   │   ├── simple_FC__ProjectedGradientDescentTensorFlowV2_0.2_test.npz/n│   │   ├── simple_FC__ProjectedGradientDescentTensorFlowV2_0.2_train.npz/n│   │   ├── simple_FC__ProjectedGradientDescentTensorFlowV2_0.3_test.npz/n│   │   ├── simple_FC__ProjectedGradientDescentTensorFlowV2_0.3_train.npz/n│   │   ├── simple__RNN_FastGradientMethod_0.5_test.npz/n│   │   ├── simple__RNN_FastGradientMethod_0.5_train.npz/n│   │   ├── simple__RNN_FastGradientMethod_1.5_test.npz/n│   │   ├── simple__RNN_FastGradientMethod_1.5_train.npz/n│   │   ├── simple__RNN_FastGradientMethod_1_test.npz/n│   │   ├── simple__RNN_FastGradientMethod_1_train.npz/n│   │   ├── simple__RNN_FastGradientMethod_2.5_test.npz/n│   │   ├── simple__RNN_FastGradientMethod_2.5_train.npz/n│   │   ├── simple__RNN_FastGradientMethod_3_test.npz/n│   │   ├── simple__RNN_FastGradientMethod_3_train.npz/n│   │   ├── simple__RNN_ProjectedGradientDescentTensorFlowV2_0.05_test.npz/n│   │   ├── simple__RNN_ProjectedGradientDescentTensorFlowV2_0.05_train.npz/n│   │   ├── simple__RNN_ProjectedGradientDescentTensorFlowV2_0.15_test.npz/n│   │   ├── simple__RNN_ProjectedGradientDescentTensorFlowV2_0.15_train.npz/n│   │   ├── simple__RNN_ProjectedGradientDescentTensorFlowV2_0.1_test.npz/n│   │   ├── simple__RNN_ProjectedGradientDescentTensorFlowV2_0.1_train.npz/n│   │   ├── simple__RNN_ProjectedGradientDescentTensorFlowV2_0.25_test.npz/n│   │   ├── simple__RNN_ProjectedGradientDescentTensorFlowV2_0.25_train.npz/n│   │   ├── simple__RNN_ProjectedGradientDescentTensorFlowV2_0.2_test.npz/n│   │   ├── simple__RNN_ProjectedGradientDescentTensorFlowV2_0.2_train.npz/n│   │   ├── simple__RNN_ProjectedGradientDescentTensorFlowV2_0.3_test.npz/n│   │   └── simple__RNN_ProjectedGradientDescentTensorFlowV2_0.3_train.npz/n│   ├── fashion_adversarial_data_2/n│   │   ├── 2_simple_Conv_10_512_ProjectedGradientDescentTensorFlowV2_0.05_test.npz/n│   │   ├── 2_simple_Conv_10_512_ProjectedGradientDescentTensorFlowV2_0.05_train.npz/n│   │   ├── 2_simple_Conv_10_512_ProjectedGradientDescentTensorFlowV2_0.15_test.npz/n│   │   ├── 2_simple_Conv_10_512_ProjectedGradientDescentTensorFlowV2_0.15_train.npz/n│   │   ├── 2_simple_Conv_10_512_ProjectedGradientDescentTensorFlowV2_0.1_test.npz/n│   │   ├── 2_simple_Conv_10_512_ProjectedGradientDescentTensorFlowV2_0.1_train.npz/n│   │   ├── 2_simple_Conv_10_512_ProjectedGradientDescentTensorFlowV2_0.25_test.npz/n│   │   ├── 2_simple_Conv_10_512_ProjectedGradientDescentTensorFlowV2_0.25_train.npz/n│   │   ├── 2_simple_Conv_10_512_ProjectedGradientDescentTensorFlowV2_0.2_test.npz/n│   │   ├── 2_simple_Conv_10_512_ProjectedGradientDescentTensorFlowV2_0.2_train.npz/n│   │   ├── 2_simple_Conv_10_512_ProjectedGradientDescentTensorFlowV2_0.3_test.npz/n│   │   ├── 2_simple_Conv_10_512_ProjectedGradientDescentTensorFlowV2_0.3_train.npz/n│   │   ├── 2_simple_Conv_10_512_ProjectedGradientDescentTensorFlowV2_0.5_test.npz/n│   │   ├── 2_simple_Conv_10_512_ProjectedGradientDescentTensorFlowV2_0.5_train.npz/n│   │   ├── 2_simple_Conv_10_512_ProjectedGradientDescentTensorFlowV2_1.5_test.npz/n│   │   ├── 2_simple_Conv_10_512_ProjectedGradientDescentTensorFlowV2_1.5_train.npz/n│   │   ├── 2_simple_Conv_10_512_ProjectedGradientDescentTensorFlowV2_1_test.npz/n│   │   ├── 2_simple_Conv_10_512_ProjectedGradientDescentTensorFlowV2_1_train.npz/n│   │   ├── 2_simple_Conv_10_512_ProjectedGradientDescentTensorFlowV2_2.5_test.npz/n│   │   ├── 2_simple_Conv_10_512_ProjectedGradientDescentTensorFlowV2_2.5_train.npz/n│   │   ├── 2_simple_Conv_10_512_ProjectedGradientDescentTensorFlowV2_3_test.npz/n│   │   ├── 2_simple_Conv_10_512_ProjectedGradientDescentTensorFlowV2_3_train.npz/n│   │   ├── 2_simple_Conv_12_2048_ProjectedGradientDescentTensorFlowV2_0.05_test.npz/n│   │   ├── 2_simple_Conv_12_2048_ProjectedGradientDescentTensorFlowV2_0.05_train.npz/n│   │   ├── 2_simple_Conv_12_2048_ProjectedGradientDescentTensorFlowV2_0.15_test.npz/n│   │   ├── 2_simple_Conv_12_2048_ProjectedGradientDescentTensorFlowV2_0.15_train.npz/n│   │   ├── 2_simple_Conv_12_2048_ProjectedGradientDescentTensorFlowV2_0.1_test.npz/n│   │   ├── 2_simple_Conv_12_2048_ProjectedGradientDescentTensorFlowV2_0.1_train.npz/n│   │   ├── 2_simple_Conv_12_2048_ProjectedGradientDescentTensorFlowV2_0.25_test.npz/n│   │   ├── 2_simple_Conv_12_2048_ProjectedGradientDescentTensorFlowV2_0.25_train.npz/n│   │   ├── 2_simple_Conv_12_2048_ProjectedGradientDescentTensorFlowV2_0.2_test.npz/n│   │   ├── 2_simple_Conv_12_2048_ProjectedGradientDescentTensorFlowV2_0.2_train.npz/n│   │   ├── 2_simple_Conv_12_2048_ProjectedGradientDescentTensorFlowV2_0.3_test.npz/n│   │   ├── 2_simple_Conv_12_2048_ProjectedGradientDescentTensorFlowV2_0.3_train.npz/n│   │   ├── 2_simple_Conv_12_2048_ProjectedGradientDescentTensorFlowV2_0.5_test.npz/n│   │   ├── 2_simple_Conv_12_2048_ProjectedGradientDescentTensorFlowV2_0.5_train.npz/n│   │   ├── 2_simple_Conv_12_2048_ProjectedGradientDescentTensorFlowV2_1.5_test.npz/n│   │   ├── 2_simple_Conv_12_2048_ProjectedGradientDescentTensorFlowV2_1.5_train.npz/n│   │   ├── 2_simple_Conv_12_2048_ProjectedGradientDescentTensorFlowV2_1_test.npz/n│   │   ├── 2_simple_Conv_12_2048_ProjectedGradientDescentTensorFlowV2_1_train.npz/n│   │   ├── 2_simple_Conv_12_2048_ProjectedGradientDescentTensorFlowV2_2.5_test.npz/n│   │   ├── 2_simple_Conv_12_2048_ProjectedGradientDescentTensorFlowV2_2.5_train.npz/n│   │   ├── 2_simple_Conv_12_2048_ProjectedGradientDescentTensorFlowV2_3_test.npz/n│   │   ├── 2_simple_Conv_12_2048_ProjectedGradientDescentTensorFlowV2_3_train.npz/n│   │   ├── 2_simple_Conv_2_ProjectedGradientDescentTensorFlowV2_0.05_test.npz/n│   │   ├── 2_simple_Conv_2_ProjectedGradientDescentTensorFlowV2_0.05_train.npz/n│   │   ├── 2_simple_Conv_2_ProjectedGradientDescentTensorFlowV2_0.15_test.npz/n│   │   ├── 2_simple_Conv_2_ProjectedGradientDescentTensorFlowV2_0.15_train.npz/n│   │   ├── 2_simple_Conv_2_ProjectedGradientDescentTensorFlowV2_0.1_test.npz/n│   │   ├── 2_simple_Conv_2_ProjectedGradientDescentTensorFlowV2_0.1_train.npz/n│   │   ├── 2_simple_Conv_2_ProjectedGradientDescentTensorFlowV2_0.25_test.npz/n│   │   ├── 2_simple_Conv_2_ProjectedGradientDescentTensorFlowV2_0.25_train.npz/n│   │   ├── 2_simple_Conv_2_ProjectedGradientDescentTensorFlowV2_0.2_test.npz/n│   │   ├── 2_simple_Conv_2_ProjectedGradientDescentTensorFlowV2_0.2_train.npz/n│   │   ├── 2_simple_Conv_2_ProjectedGradientDescentTensorFlowV2_0.3_test.npz/n│   │   ├── 2_simple_Conv_2_ProjectedGradientDescentTensorFlowV2_0.3_train.npz/n│   │   ├── 2_simple_Conv_2_ProjectedGradientDescentTensorFlowV2_0.5_test.npz/n│   │   ├── 2_simple_Conv_2_ProjectedGradientDescentTensorFlowV2_0.5_train.npz/n│   │   ├── 2_simple_Conv_2_ProjectedGradientDescentTensorFlowV2_1.5_test.npz/n│   │   ├── 2_simple_Conv_2_ProjectedGradientDescentTensorFlowV2_1.5_train.npz/n│   │   ├── 2_simple_Conv_2_ProjectedGradientDescentTensorFlowV2_1_test.npz/n│   │   ├── 2_simple_Conv_2_ProjectedGradientDescentTensorFlowV2_1_train.npz/n│   │   ├── 2_simple_Conv_2_ProjectedGradientDescentTensorFlowV2_2.5_test.npz/n│   │   ├── 2_simple_Conv_2_ProjectedGradientDescentTensorFlowV2_2.5_train.npz/n│   │   ├── 2_simple_Conv_2_ProjectedGradientDescentTensorFlowV2_3_test.npz/n│   │   ├── 2_simple_Conv_2_ProjectedGradientDescentTensorFlowV2_3_train.npz/n│   │   ├── 2_simple_Conv_max_ProjectedGradientDescentTensorFlowV2_0.05_test.npz/n│   │   ├── 2_simple_Conv_max_ProjectedGradientDescentTensorFlowV2_0.05_train.npz/n│   │   ├── 2_simple_Conv_max_ProjectedGradientDescentTensorFlowV2_0.15_test.npz/n│   │   ├── 2_simple_Conv_max_ProjectedGradientDescentTensorFlowV2_0.15_train.npz/n│   │   ├── 2_simple_Conv_max_ProjectedGradientDescentTensorFlowV2_0.1_test.npz/n│   │   ├── 2_simple_Conv_max_ProjectedGradientDescentTensorFlowV2_0.1_train.npz/n│   │   ├── 2_simple_Conv_max_ProjectedGradientDescentTensorFlowV2_0.25_test.npz/n│   │   ├── 2_simple_Conv_max_ProjectedGradientDescentTensorFlowV2_0.25_train.npz/n│   │   ├── 2_simple_Conv_max_ProjectedGradientDescentTensorFlowV2_0.2_test.npz/n│   │   ├── 2_simple_Conv_max_ProjectedGradientDescentTensorFlowV2_0.2_train.npz/n│   │   ├── 2_simple_Conv_max_ProjectedGradientDescentTensorFlowV2_0.3_test.npz/n│   │   ├── 2_simple_Conv_max_ProjectedGradientDescentTensorFlowV2_0.3_train.npz/n│   │   ├── 2_simple_Conv_max_ProjectedGradientDescentTensorFlowV2_0.5_test.npz/n│   │   ├── 2_simple_Conv_max_ProjectedGradientDescentTensorFlowV2_0.5_train.npz/n│   │   ├── 2_simple_Conv_max_ProjectedGradientDescentTensorFlowV2_1.5_test.npz/n│   │   ├── 2_simple_Conv_max_ProjectedGradientDescentTensorFlowV2_1.5_train.npz/n│   │   ├── 2_simple_Conv_max_ProjectedGradientDescentTensorFlowV2_1_test.npz/n│   │   ├── 2_simple_Conv_max_ProjectedGradientDescentTensorFlowV2_1_train.npz/n│   │   ├── 2_simple_Conv_max_ProjectedGradientDescentTensorFlowV2_2.5_test.npz/n│   │   ├── 2_simple_Conv_max_ProjectedGradientDescentTensorFlowV2_2.5_train.npz/n│   │   ├── 2_simple_Conv_max_ProjectedGradientDescentTensorFlowV2_3_test.npz/n│   │   ├── 2_simple_Conv_max_ProjectedGradientDescentTensorFlowV2_3_train.npz/n│   │   ├── 2_simple_Conv_NL_ProjectedGradientDescentTensorFlowV2_0.05_test.npz/n│   │   ├── 2_simple_Conv_NL_ProjectedGradientDescentTensorFlowV2_0.05_train.npz/n│   │   ├── 2_simple_Conv_NL_ProjectedGradientDescentTensorFlowV2_0.15_test.npz/n│   │   ├── 2_simple_Conv_NL_ProjectedGradientDescentTensorFlowV2_0.15_train.npz/n│   │   ├── 2_simple_Conv_NL_ProjectedGradientDescentTensorFlowV2_0.1_test.npz/n│   │   ├── 2_simple_Conv_NL_ProjectedGradientDescentTensorFlowV2_0.1_train.npz/n│   │   ├── 2_simple_Conv_NL_ProjectedGradientDescentTensorFlowV2_0.25_test.npz/n│   │   ├── 2_simple_Conv_NL_ProjectedGradientDescentTensorFlowV2_0.25_train.npz/n│   │   ├── 2_simple_Conv_NL_ProjectedGradientDescentTensorFlowV2_0.2_test.npz/n│   │   ├── 2_simple_Conv_NL_ProjectedGradientDescentTensorFlowV2_0.2_train.npz/n│   │   ├── 2_simple_Conv_NL_ProjectedGradientDescentTensorFlowV2_0.3_test.npz/n│   │   ├── 2_simple_Conv_NL_ProjectedGradientDescentTensorFlowV2_0.3_train.npz/n│   │   ├── 2_simple_Conv_NL_ProjectedGradientDescentTensorFlowV2_0.5_test.npz/n│   │   ├── 2_simple_Conv_NL_ProjectedGradientDescentTensorFlowV2_0.5_train.npz/n│   │   ├── 2_simple_Conv_NL_ProjectedGradientDescentTensorFlowV2_1.5_test.npz/n│   │   ├── 2_simple_Conv_NL_ProjectedGradientDescentTensorFlowV2_1.5_train.npz/n│   │   ├── 2_simple_Conv_NL_ProjectedGradientDescentTensorFlowV2_1_test.npz/n│   │   ├── 2_simple_Conv_NL_ProjectedGradientDescentTensorFlowV2_1_train.npz/n│   │   ├── 2_simple_Conv_NL_ProjectedGradientDescentTensorFlowV2_2.5_test.npz/n│   │   ├── 2_simple_Conv_NL_ProjectedGradientDescentTensorFlowV2_2.5_train.npz/n│   │   ├── 2_simple_Conv_NL_ProjectedGradientDescentTensorFlowV2_3_test.npz/n│   │   ├── 2_simple_Conv_NL_ProjectedGradientDescentTensorFlowV2_3_train.npz/n│   │   ├── 2_simple_FC_2_256_ProjectedGradientDescentTensorFlowV2_0.05_test.npz/n│   │   ├── 2_simple_FC_2_256_ProjectedGradientDescentTensorFlowV2_0.05_train.npz/n│   │   ├── 2_simple_FC_2_256_ProjectedGradientDescentTensorFlowV2_0.15_test.npz/n│   │   ├── 2_simple_FC_2_256_ProjectedGradientDescentTensorFlowV2_0.15_train.npz/n│   │   ├── 2_simple_FC_2_256_ProjectedGradientDescentTensorFlowV2_0.1_test.npz/n│   │   ├── 2_simple_FC_2_256_ProjectedGradientDescentTensorFlowV2_0.1_train.npz/n│   │   ├── 2_simple_FC_2_256_ProjectedGradientDescentTensorFlowV2_0.25_test.npz/n│   │   ├── 2_simple_FC_2_256_ProjectedGradientDescentTensorFlowV2_0.25_train.npz/n│   │   ├── 2_simple_FC_2_256_ProjectedGradientDescentTensorFlowV2_0.2_test.npz/n│   │   ├── 2_simple_FC_2_256_ProjectedGradientDescentTensorFlowV2_0.2_train.npz/n│   │   ├── 2_simple_FC_2_256_ProjectedGradientDescentTensorFlowV2_0.3_test.npz/n│   │   ├── 2_simple_FC_2_256_ProjectedGradientDescentTensorFlowV2_0.3_train.npz/n│   │   ├── 2_simple_FC_2_256_ProjectedGradientDescentTensorFlowV2_0.5_test.npz/n│   │   ├── 2_simple_FC_2_256_ProjectedGradientDescentTensorFlowV2_0.5_train.npz/n│   │   ├── 2_simple_FC_2_256_ProjectedGradientDescentTensorFlowV2_1.5_test.npz/n│   │   ├── 2_simple_FC_2_256_ProjectedGradientDescentTensorFlowV2_1.5_train.npz/n│   │   ├── 2_simple_FC_2_256_ProjectedGradientDescentTensorFlowV2_1_test.npz/n│   │   ├── 2_simple_FC_2_256_ProjectedGradientDescentTensorFlowV2_1_train.npz/n│   │   ├── 2_simple_FC_2_256_ProjectedGradientDescentTensorFlowV2_2.5_test.npz/n│   │   ├── 2_simple_FC_2_256_ProjectedGradientDescentTensorFlowV2_2.5_train.npz/n│   │   ├── 2_simple_FC_2_256_ProjectedGradientDescentTensorFlowV2_3_test.npz/n│   │   ├── 2_simple_FC_2_256_ProjectedGradientDescentTensorFlowV2_3_train.npz/n│   │   ├── 2_simple_FC_2_ProjectedGradientDescentTensorFlowV2_0.05_test.npz/n│   │   ├── 2_simple_FC_2_ProjectedGradientDescentTensorFlowV2_0.05_train.npz/n│   │   ├── 2_simple_FC_2_ProjectedGradientDescentTensorFlowV2_0.15_test.npz/n│   │   ├── 2_simple_FC_2_ProjectedGradientDescentTensorFlowV2_0.15_train.npz/n│   │   ├── 2_simple_FC_2_ProjectedGradientDescentTensorFlowV2_0.1_test.npz/n│   │   ├── 2_simple_FC_2_ProjectedGradientDescentTensorFlowV2_0.1_train.npz/n│   │   ├── 2_simple_FC_2_ProjectedGradientDescentTensorFlowV2_0.25_test.npz/n│   │   ├── 2_simple_FC_2_ProjectedGradientDescentTensorFlowV2_0.25_train.npz/n│   │   ├── 2_simple_FC_2_ProjectedGradientDescentTensorFlowV2_0.2_test.npz/n│   │   ├── 2_simple_FC_2_ProjectedGradientDescentTensorFlowV2_0.2_train.npz/n│   │   ├── 2_simple_FC_2_ProjectedGradientDescentTensorFlowV2_0.3_test.npz/n│   │   ├── 2_simple_FC_2_ProjectedGradientDescentTensorFlowV2_0.3_train.npz/n│   │   ├── 2_simple_FC_2_ProjectedGradientDescentTensorFlowV2_0.5_test.npz/n│   │   ├── 2_simple_FC_2_ProjectedGradientDescentTensorFlowV2_0.5_train.npz/n│   │   ├── 2_simple_FC_2_ProjectedGradientDescentTensorFlowV2_1.5_test.npz/n│   │   ├── 2_simple_FC_2_ProjectedGradientDescentTensorFlowV2_1.5_train.npz/n│   │   ├── 2_simple_FC_2_ProjectedGradientDescentTensorFlowV2_1_test.npz/n│   │   ├── 2_simple_FC_2_ProjectedGradientDescentTensorFlowV2_1_train.npz/n│   │   ├── 2_simple_FC_2_ProjectedGradientDescentTensorFlowV2_2.5_test.npz/n│   │   ├── 2_simple_FC_2_ProjectedGradientDescentTensorFlowV2_2.5_train.npz/n│   │   ├── 2_simple_FC_2_ProjectedGradientDescentTensorFlowV2_3_test.npz/n│   │   ├── 2_simple_FC_2_ProjectedGradientDescentTensorFlowV2_3_train.npz/n│   │   ├── 2_simple_FC_3_512_ProjectedGradientDescentTensorFlowV2_0.05_test.npz/n│   │   ├── 2_simple_FC_3_512_ProjectedGradientDescentTensorFlowV2_0.05_train.npz/n│   │   ├── 2_simple_FC_3_512_ProjectedGradientDescentTensorFlowV2_0.15_test.npz/n│   │   ├── 2_simple_FC_3_512_ProjectedGradientDescentTensorFlowV2_0.15_train.npz/n│   │   ├── 2_simple_FC_3_512_ProjectedGradientDescentTensorFlowV2_0.1_test.npz/n│   │   ├── 2_simple_FC_3_512_ProjectedGradientDescentTensorFlowV2_0.1_train.npz/n│   │   ├── 2_simple_FC_3_512_ProjectedGradientDescentTensorFlowV2_0.25_test.npz/n│   │   ├── 2_simple_FC_3_512_ProjectedGradientDescentTensorFlowV2_0.25_train.npz/n│   │   ├── 2_simple_FC_3_512_ProjectedGradientDescentTensorFlowV2_0.2_test.npz/n│   │   ├── 2_simple_FC_3_512_ProjectedGradientDescentTensorFlowV2_0.2_train.npz/n│   │   ├── 2_simple_FC_3_512_ProjectedGradientDescentTensorFlowV2_0.3_test.npz/n│   │   ├── 2_simple_FC_3_512_ProjectedGradientDescentTensorFlowV2_0.3_train.npz/n│   │   ├── 2_simple_FC_3_512_ProjectedGradientDescentTensorFlowV2_0.5_test.npz/n│   │   ├── 2_simple_FC_3_512_ProjectedGradientDescentTensorFlowV2_0.5_train.npz/n│   │   ├── 2_simple_FC_3_512_ProjectedGradientDescentTensorFlowV2_1.5_test.npz/n│   │   ├── 2_simple_FC_3_512_ProjectedGradientDescentTensorFlowV2_1.5_train.npz/n│   │   ├── 2_simple_FC_3_512_ProjectedGradientDescentTensorFlowV2_1_test.npz/n│   │   ├── 2_simple_FC_3_512_ProjectedGradientDescentTensorFlowV2_1_train.npz/n│   │   ├── 2_simple_FC_3_512_ProjectedGradientDescentTensorFlowV2_2.5_test.npz/n│   │   ├── 2_simple_FC_3_512_ProjectedGradientDescentTensorFlowV2_2.5_train.npz/n│   │   ├── 2_simple_FC_3_512_ProjectedGradientDescentTensorFlowV2_3_test.npz/n│   │   ├── 2_simple_FC_3_512_ProjectedGradientDescentTensorFlowV2_3_train.npz/n│   │   ├── 2_simple__RNN_ProjectedGradientDescentTensorFlowV2_0.05_test.npz/n│   │   ├── 2_simple__RNN_ProjectedGradientDescentTensorFlowV2_0.05_train.npz/n│   │   ├── 2_simple__RNN_ProjectedGradientDescentTensorFlowV2_0.15_test.npz/n│   │   ├── 2_simple__RNN_ProjectedGradientDescentTensorFlowV2_0.15_train.npz/n│   │   ├── 2_simple__RNN_ProjectedGradientDescentTensorFlowV2_0.1_test.npz/n│   │   ├── 2_simple__RNN_ProjectedGradientDescentTensorFlowV2_0.1_train.npz/n│   │   ├── 2_simple__RNN_ProjectedGradientDescentTensorFlowV2_0.25_test.npz/n│   │   ├── 2_simple__RNN_ProjectedGradientDescentTensorFlowV2_0.25_train.npz/n│   │   ├── 2_simple__RNN_ProjectedGradientDescentTensorFlowV2_0.2_test.npz/n│   │   ├── 2_simple__RNN_ProjectedGradientDescentTensorFlowV2_0.2_train.npz/n│   │   ├── 2_simple__RNN_ProjectedGradientDescentTensorFlowV2_0.3_test.npz/n│   │   ├── 2_simple__RNN_ProjectedGradientDescentTensorFlowV2_0.3_train.npz/n│   │   ├── 2_simple__RNN_ProjectedGradientDescentTensorFlowV2_0.5_test.npz/n│   │   ├── 2_simple__RNN_ProjectedGradientDescentTensorFlowV2_0.5_train.npz/n│   │   ├── 2_simple__RNN_ProjectedGradientDescentTensorFlowV2_1.5_test.npz/n│   │   ├── 2_simple__RNN_ProjectedGradientDescentTensorFlowV2_1.5_train.npz/n│   │   ├── 2_simple__RNN_ProjectedGradientDescentTensorFlowV2_1_test.npz/n│   │   ├── 2_simple__RNN_ProjectedGradientDescentTensorFlowV2_1_train.npz/n│   │   ├── 2_simple__RNN_ProjectedGradientDescentTensorFlowV2_2.5_test.npz/n│   │   ├── 2_simple__RNN_ProjectedGradientDescentTensorFlowV2_2.5_train.npz/n│   │   ├── 2_simple__RNN_ProjectedGradientDescentTensorFlowV2_3_test.npz/n│   │   ├── 2_simple__RNN_ProjectedGradientDescentTensorFlowV2_3_train.npz/n│   │   └── desktop.ini/n│   ├── mnist_adversarial_data/n│   │   ├── simple_Conv_10_512_FastGradientMethod_0.5_test.npz/n│   │   ├── simple_Conv_10_512_FastGradientMethod_0.5_train.npz/n│   │   ├── simple_Conv_10_512_FastGradientMethod_1.5_test.npz/n│   │   ├── simple_Conv_10_512_FastGradientMethod_1.5_train.npz/n│   │   ├── simple_Conv_10_512_FastGradientMethod_1_test.npz/n│   │   ├── simple_Conv_10_512_FastGradientMethod_1_train.npz/n│   │   ├── simple_Conv_10_512_FastGradientMethod_2.5_test.npz/n│   │   ├── simple_Conv_10_512_FastGradientMethod_2.5_train.npz/n│   │   ├── simple_Conv_10_512_FastGradientMethod_3_test.npz/n│   │   ├── simple_Conv_10_512_FastGradientMethod_3_train.npz/n│   │   ├── simple_Conv_10_512_ProjectedGradientDescentTensorFlowV2_0.05_test.npz/n│   │   ├── simple_Conv_10_512_ProjectedGradientDescentTensorFlowV2_0.05_train.npz/n│   │   ├── simple_Conv_10_512_ProjectedGradientDescentTensorFlowV2_0.15_test.npz/n│   │   ├── simple_Conv_10_512_ProjectedGradientDescentTensorFlowV2_0.15_train.npz/n│   │   ├── simple_Conv_10_512_ProjectedGradientDescentTensorFlowV2_0.1_test.npz/n│   │   ├── simple_Conv_10_512_ProjectedGradientDescentTensorFlowV2_0.1_train.npz/n│   │   ├── simple_Conv_10_512_ProjectedGradientDescentTensorFlowV2_0.25_test.npz/n│   │   ├── simple_Conv_10_512_ProjectedGradientDescentTensorFlowV2_0.25_train.npz/n│   │   ├── simple_Conv_10_512_ProjectedGradientDescentTensorFlowV2_0.2_test.npz/n│   │   ├── simple_Conv_10_512_ProjectedGradientDescentTensorFlowV2_0.2_train.npz/n│   │   ├── simple_Conv_10_512_ProjectedGradientDescentTensorFlowV2_0.3_test.npz/n│   │   ├── simple_Conv_10_512_ProjectedGradientDescentTensorFlowV2_0.3_train.npz/n│   │   ├── simple_Conv_12_2048_FastGradientMethod_0.5_test.npz/n│   │   ├── simple_Conv_12_2048_FastGradientMethod_0.5_train.npz/n│   │   ├── simple_Conv_12_2048_FastGradientMethod_1.5_test.npz/n│   │   ├── simple_Conv_12_2048_FastGradientMethod_1.5_train.npz/n│   │   ├── simple_Conv_12_2048_FastGradientMethod_1_test.npz/n│   │   ├── simple_Conv_12_2048_FastGradientMethod_1_train.npz/n│   │   ├── simple_Conv_12_2048_FastGradientMethod_2.5_test.npz/n│   │   ├── simple_Conv_12_2048_FastGradientMethod_2.5_train.npz/n│   │   ├── simple_Conv_12_2048_FastGradientMethod_3_test.npz/n│   │   ├── simple_Conv_12_2048_FastGradientMethod_3_train.npz/n│   │   ├── simple_Conv_12_2048_ProjectedGradientDescentTensorFlowV2_0.05_test.npz/n│   │   ├── simple_Conv_12_2048_ProjectedGradientDescentTensorFlowV2_0.05_train.npz/n│   │   ├── simple_Conv_12_2048_ProjectedGradientDescentTensorFlowV2_0.15_test.npz/n│   │   ├── simple_Conv_12_2048_ProjectedGradientDescentTensorFlowV2_0.15_train.npz/n│   │   ├── simple_Conv_12_2048_ProjectedGradientDescentTensorFlowV2_0.1_test.npz/n│   │   ├── simple_Conv_12_2048_ProjectedGradientDescentTensorFlowV2_0.1_train.npz/n│   │   ├── simple_Conv_12_2048_ProjectedGradientDescentTensorFlowV2_0.25_test.npz/n│   │   ├── simple_Conv_12_2048_ProjectedGradientDescentTensorFlowV2_0.25_train.npz/n│   │   ├── simple_Conv_12_2048_ProjectedGradientDescentTensorFlowV2_0.2_test.npz/n│   │   ├── simple_Conv_12_2048_ProjectedGradientDescentTensorFlowV2_0.2_train.npz/n│   │   ├── simple_Conv_12_2048_ProjectedGradientDescentTensorFlowV2_0.3_test.npz/n│   │   ├── simple_Conv_12_2048_ProjectedGradientDescentTensorFlowV2_0.3_train.npz/n│   │   ├── simple_Conv_max_FastGradientMethod_0.5_test.npz/n│   │   ├── simple_Conv_max_FastGradientMethod_0.5_train.npz/n│   │   ├── simple_Conv_max_FastGradientMethod_1.5_test.npz/n│   │   ├── simple_Conv_max_FastGradientMethod_1.5_train.npz/n│   │   ├── simple_Conv_max_FastGradientMethod_1_test.npz/n│   │   ├── simple_Conv_max_FastGradientMethod_1_train.npz/n│   │   ├── simple_Conv_max_FastGradientMethod_2.5_test.npz/n│   │   ├── simple_Conv_max_FastGradientMethod_2.5_train.npz/n│   │   ├── simple_Conv_max_FastGradientMethod_3_test.npz/n│   │   ├── simple_Conv_max_FastGradientMethod_3_train.npz/n│   │   ├── simple_Conv_max_ProjectedGradientDescentTensorFlowV2_0.05_test.npz/n│   │   ├── simple_Conv_max_ProjectedGradientDescentTensorFlowV2_0.05_train.npz/n│   │   ├── simple_Conv_max_ProjectedGradientDescentTensorFlowV2_0.15_test.npz/n│   │   ├── simple_Conv_max_ProjectedGradientDescentTensorFlowV2_0.15_train.npz/n│   │   ├── simple_Conv_max_ProjectedGradientDescentTensorFlowV2_0.1_test.npz/n│   │   ├── simple_Conv_max_ProjectedGradientDescentTensorFlowV2_0.1_train.npz/n│   │   ├── simple_Conv_max_ProjectedGradientDescentTensorFlowV2_0.25_test.npz/n│   │   ├── simple_Conv_max_ProjectedGradientDescentTensorFlowV2_0.25_train.npz/n│   │   ├── simple_Conv_max_ProjectedGradientDescentTensorFlowV2_0.2_test.npz/n│   │   ├── simple_Conv_max_ProjectedGradientDescentTensorFlowV2_0.2_train.npz/n│   │   ├── simple_Conv_max_ProjectedGradientDescentTensorFlowV2_0.3_test.npz/n│   │   ├── simple_Conv_max_ProjectedGradientDescentTensorFlowV2_0.3_train.npz/n│   │   ├── simple_Conv_NL_FastGradientMethod_0.5_test.npz/n│   │   ├── simple_Conv_NL_FastGradientMethod_0.5_train.npz/n│   │   ├── simple_Conv_NL_FastGradientMethod_1.5_test.npz/n│   │   ├── simple_Conv_NL_FastGradientMethod_1.5_train.npz/n│   │   ├── simple_Conv_NL_FastGradientMethod_1_test.npz/n│   │   ├── simple_Conv_NL_FastGradientMethod_1_train.npz/n│   │   ├── simple_Conv_NL_FastGradientMethod_2.5_test.npz/n│   │   ├── simple_Conv_NL_FastGradientMethod_2.5_train.npz/n│   │   ├── simple_Conv_NL_FastGradientMethod_3_test.npz/n│   │   ├── simple_Conv_NL_FastGradientMethod_3_train.npz/n│   │   ├── simple_Conv_NL_ProjectedGradientDescentTensorFlowV2_0.05_test.npz/n│   │   ├── simple_Conv_NL_ProjectedGradientDescentTensorFlowV2_0.05_train.npz/n│   │   ├── simple_Conv_NL_ProjectedGradientDescentTensorFlowV2_0.15_test.npz/n│   │   ├── simple_Conv_NL_ProjectedGradientDescentTensorFlowV2_0.15_train.npz/n│   │   ├── simple_Conv_NL_ProjectedGradientDescentTensorFlowV2_0.1_test.npz/n│   │   ├── simple_Conv_NL_ProjectedGradientDescentTensorFlowV2_0.1_train.npz/n│   │   ├── simple_Conv_NL_ProjectedGradientDescentTensorFlowV2_0.25_test.npz/n│   │   ├── simple_Conv_NL_ProjectedGradientDescentTensorFlowV2_0.25_train.npz/n│   │   ├── simple_Conv_NL_ProjectedGradientDescentTensorFlowV2_0.2_test.npz/n│   │   ├── simple_Conv_NL_ProjectedGradientDescentTensorFlowV2_0.2_train.npz/n│   │   ├── simple_Conv_NL_ProjectedGradientDescentTensorFlowV2_0.3_test.npz/n│   │   ├── simple_Conv_NL_ProjectedGradientDescentTensorFlowV2_0.3_train.npz/n│   │   ├── simple_FC_1024_FastGradientMethod_0.5_test.npz/n│   │   ├── simple_FC_1024_FastGradientMethod_0.5_train.npz/n│   │   ├── simple_FC_1024_FastGradientMethod_1.5_test.npz/n│   │   ├── simple_FC_1024_FastGradientMethod_1.5_train.npz/n│   │   ├── simple_FC_1024_FastGradientMethod_1_test.npz/n│   │   ├── simple_FC_1024_FastGradientMethod_1_train.npz/n│   │   ├── simple_FC_1024_FastGradientMethod_2.5_test.npz/n│   │   ├── simple_FC_1024_FastGradientMethod_2.5_train.npz/n│   │   ├── simple_FC_1024_FastGradientMethod_3_test.npz/n│   │   ├── simple_FC_1024_FastGradientMethod_3_train.npz/n│   │   ├── simple_FC_1024_ProjectedGradientDescentTensorFlowV2_0.05_test.npz/n│   │   ├── simple_FC_1024_ProjectedGradientDescentTensorFlowV2_0.05_train.npz/n│   │   ├── simple_FC_1024_ProjectedGradientDescentTensorFlowV2_0.15_test.npz/n│   │   ├── simple_FC_1024_ProjectedGradientDescentTensorFlowV2_0.15_train.npz/n│   │   ├── simple_FC_1024_ProjectedGradientDescentTensorFlowV2_0.1_test.npz/n│   │   ├── simple_FC_1024_ProjectedGradientDescentTensorFlowV2_0.1_train.npz/n│   │   ├── simple_FC_1024_ProjectedGradientDescentTensorFlowV2_0.25_test.npz/n│   │   ├── simple_FC_1024_ProjectedGradientDescentTensorFlowV2_0.25_train.npz/n│   │   ├── simple_FC_1024_ProjectedGradientDescentTensorFlowV2_0.2_test.npz/n│   │   ├── simple_FC_1024_ProjectedGradientDescentTensorFlowV2_0.2_train.npz/n│   │   ├── simple_FC_1024_ProjectedGradientDescentTensorFlowV2_0.3_test.npz/n│   │   ├── simple_FC_1024_ProjectedGradientDescentTensorFlowV2_0.3_train.npz/n│   │   ├── simple_FC_256_FastGradientMethod_0.5_test.npz/n│   │   ├── simple_FC_256_FastGradientMethod_0.5_train.npz/n│   │   ├── simple_FC_256_FastGradientMethod_1.5_test.npz/n│   │   ├── simple_FC_256_FastGradientMethod_1.5_train.npz/n│   │   ├── simple_FC_256_FastGradientMethod_1_test.npz/n│   │   ├── simple_FC_256_FastGradientMethod_1_train.npz/n│   │   ├── simple_FC_256_FastGradientMethod_2.5_test.npz/n│   │   ├── simple_FC_256_FastGradientMethod_2.5_train.npz/n│   │   ├── simple_FC_256_FastGradientMethod_3_test.npz/n│   │   ├── simple_FC_256_FastGradientMethod_3_train.npz/n│   │   ├── simple_FC_256_ProjectedGradientDescentTensorFlowV2_0.05_test.npz/n│   │   ├── simple_FC_256_ProjectedGradientDescentTensorFlowV2_0.05_train.npz/n│   │   ├── simple_FC_256_ProjectedGradientDescentTensorFlowV2_0.15_test.npz/n│   │   ├── simple_FC_256_ProjectedGradientDescentTensorFlowV2_0.15_train.npz/n│   │   ├── simple_FC_256_ProjectedGradientDescentTensorFlowV2_0.1_test.npz/n│   │   ├── simple_FC_256_ProjectedGradientDescentTensorFlowV2_0.1_train.npz/n│   │   ├── simple_FC_256_ProjectedGradientDescentTensorFlowV2_0.25_test.npz/n│   │   ├── simple_FC_256_ProjectedGradientDescentTensorFlowV2_0.25_train.npz/n│   │   ├── simple_FC_256_ProjectedGradientDescentTensorFlowV2_0.2_test.npz/n│   │   ├── simple_FC_256_ProjectedGradientDescentTensorFlowV2_0.2_train.npz/n│   │   ├── simple_FC_256_ProjectedGradientDescentTensorFlowV2_0.3_test.npz/n│   │   └── simple_FC_256_ProjectedGradientDescentTensorFlowV2_0.3_train.npz/n│   └── padding/n│       ├── logs/n│       │   ├── simple_Conv_0_2048/n│       │   │   └── train/n│       │   │       └── events.out.tfevents/n│       │   ├── simple_Conv_0_512/n│       │   │   └── train/n│       │   │       └── events.out.tfevents/n│       │   ├── simple_Conv_10_2048/n│       │   │   └── train/n│       │   │       └── events.out.tfevents.1686797605.dgx-001.1245916.14.v2/n│       │   ├── simple_Conv_10_512/n│       │   │   └── train/n│       │   │       └── events.out.tfevents.1686797504.dgx-001.1245916.13.v2/n│       │   ├── simple_Conv_14_2048/n│       │   │   └── train/n│       │   │       └── events.out.tfevents.1686798109.dgx-001.1245916.16.v2/n│       │   ├── simple_Conv_14_512/n│       │   │   └── train/n│       │   │       └── events.out.tfevents.1686797966.dgx-001.1245916.15.v2/n│       │   ├── simple_Conv_2_2048/n│       │   │   └── train/n│       │   │       └── events.out.tfevents/n│       │   ├── simple_Conv_2_512/n│       │   │   └── train/n│       │   │       └── events.out.tfevents/n│       │   ├── simple_Conv_4_2048/n│       │   │   └── train/n│       │   │       └── events.out.tfevents/n│       │   ├── simple_Conv_4_512/n│       │   │   └── train/n│       │   │       └── events.out.tfevents/n│       │   ├── simple_Conv_6_2048/n│       │   │   └── train/n│       │   │       └── events.out.tfevents.1686796896.dgx-001.1245916.10.v2/n│       │   ├── simple_Conv_6_512/n│       │   │   └── train/n│       │   │       └── events.out.tfevents/n│       │   ├── simple_Conv_8_2048/n│       │   │   └── train/n│       │   │       └── events.out.tfevents.1686797210.dgx-001.1245916.12.v2/n│       │   ├── simple_Conv_8_512/n│       │   │   └── train/n│       │   │       └── events.out.tfevents.1686797126.dgx-001.1245916.11.v2/n│       │   ├── simple_Conv_NL/n│       │   │   └── train/n│       │   │       └── events.out.tfevents.1686796237.dgx-001.1245916.2.v2/n│       │   ├── simple_FC_2_256/n│       │   │   └── train/n│       │   │       └── events.out.tfevents.1686796194.dgx-001.1245916.0.v2/n│       │   └── simple_FC_3_256/n│       │       └── train/n│       │           └── events.out.tfevents.1686796217.dgx-001.1245916.1.v2/n│       ├── logs_2/n│       │   ├── simple_Conv_0_2048/n│       │   │   └── train/n│       │   │       └── events.out.tfevents.1686796335.dgx-001.1245916.4.v2/n│       │   ├── simple_Conv_0_512/n│       │   │   └── train/n│       │   │       └── events.out.tfevents.1686796298.dgx-001.1245916.3.v2/n│       │   ├── simple_Conv_10_2048/n│       │   │   └── train/n│       │   │       └── events.out.tfevents.1686797605.dgx-001.1245916.14.v2/n│       │   ├── simple_Conv_10_512/n│       │   │   └── train/n│       │   │       └── events.out.tfevents.1686797504.dgx-001.1245916.13.v2/n│       │   ├── simple_Conv_14_2048/n│       │   │   └── train/n│       │   │       └── events.out.tfevents.1686798109.dgx-001.1245916.16.v2/n│       │   ├── simple_Conv_14_512/n│       │   │   └── train/n│       │   │       └── events.out.tfevents.1686797966.dgx-001.1245916.15.v2/n│       │   ├── simple_Conv_2_2048/n│       │   │   └── train/n│       │   │       └── events.out.tfevents.1686796469.dgx-001.1245916.6.v2/n│       │   ├── simple_Conv_2_512/n│       │   │   └── train/n│       │   │       └── events.out.tfevents.1686796425.dgx-001.1245916.5.v2/n│       │   ├── simple_Conv_4_2048/n│       │   │   └── train/n│       │   │       └── events.out.tfevents.1686796653.dgx-001.1245916.8.v2/n│       │   ├── simple_Conv_4_512/n│       │   │   └── train/n│       │   │       └── events.out.tfevents.1686796597.dgx-001.1245916.7.v2/n│       │   ├── simple_Conv_6_2048/n│       │   │   └── train/n│       │   │       └── events.out.tfevents.1686796896.dgx-001.1245916.10.v2/n│       │   ├── simple_Conv_6_512/n│       │   │   └── train/n│       │   │       └── events.out.tfevents.1686796827.dgx-001.1245916.9.v2/n│       │   ├── simple_Conv_8_2048/n│       │   │   └── train/n│       │   │       └── events.out.tfevents.1686797210.dgx-001.1245916.12.v2/n│       │   ├── simple_Conv_8_512/n│       │   │   └── train/n│       │   │       └── events.out.tfevents.1686797126.dgx-001.1245916.11.v2/n│       │   ├── simple_Conv_NL/n│       │   │   └── train/n│       │   │       └── events.out.tfevents.1686796237.dgx-001.1245916.2.v2/n│       │   ├── simple_FC_2_256/n│       │   │   └── train/n│       │   │       └── events.out.tfevents.1686796194.dgx-001.1245916.0.v2/n│       │   └── simple_FC_3_256/n│       │       └── train/n│       │           └── events.out.tfevents.1686796217.dgx-001.1245916.1.v2/n│       └── padding_experiment/n│           ├── accuracy_data.pkl/n│           ├── simple_Conv_0_2048.h5/n│           ├── simple_Conv_0_512.h5/n│           ├── simple_Conv_10_2048.h5/n│           ├── simple_Conv_10_512.h5/n│           ├── simple_Conv_14_2048.h5/n│           ├── simple_Conv_14_512.h5/n│           ├── simple_Conv_2_2048.h5/n│           ├── simple_Conv_2_512.h5/n│           ├── simple_Conv_4_2048.h5/n│           ├── simple_Conv_4_512.h5/n│           ├── simple_Conv_6_2048.h5/n│           ├── simple_Conv_6_512.h5/n│           ├── simple_Conv_8_2048.h5/n│           ├── simple_Conv_8_512.h5/n│           ├── simple_Conv_NL.h5/n│           ├── simple_FC_2_256.h5/n│           └── simple_FC_3_256.h5/n├── data.zip/n├── dsProject/n│   └── .idea/n│       ├── dsProject.iml/n│       └── modules.xml/n├── functions/n│   ├── dots_models.py/n│   ├── utils.py/n│   └── __pycache__/n│       ├── dots_models.cpython-310.pyc/n│       └── utils.cpython-310.pyc/n├── models/n│   ├── fashion_mnist_2/n│   │   ├── acc_array.pkl/n│   │   ├── full_np.pkl/n│   │   ├── loss_array.pkl/n│   │   ├── model_0.h5/n│   │   ├── model_1.h5/n│   │   ├── model_2.h5/n│   │   ├── model_3.h5/n│   │   ├── model_4.h5/n│   │   ├── model_5.h5/n│   │   ├── model_6.h5/n│   │   ├── model_7.h5/n│   │   └── model_8.h5/n│   ├── fashion_mnist_main/n│   │   ├── fashion_mnist_simple_Conv_10_512.h5/n│   │   ├── fashion_mnist_simple_Conv_12_2048.h5/n│   │   ├── fashion_mnist_simple_Conv_2.h5/n│   │   ├── fashion_mnist_simple_Conv_max.h5/n│   │   ├── fashion_mnist_simple_Conv_NL.h5/n│   │   ├── fashion_mnist_simple_FC_2.h5/n│   │   ├── fashion_mnist_simple_FC_2_256.h5/n│   │   ├── fashion_mnist_simple_FC_3_512.h5/n│   │   └── fashion_mnist_simple__RNN.h5/n│   ├── mnist_2/n│   │   ├── mnist_acc_array.pkl/n│   │   ├── mnist_full_np.pkl/n│   │   ├── mnist_loss_array.pkl/n│   │   ├── mnist_model_0.h5/n│   │   ├── mnist_model_1.h5/n│   │   ├── mnist_model_2.h5/n│   │   ├── mnist_model_3.h5/n│   │   ├── mnist_model_4.h5/n│   │   └── mnist_model_5.h5/n│   └── mnist_main/n│       ├── mnist_model_0.h5/n│       ├── mnist_model_1.h5/n│       ├── mnist_model_2.h5/n│       ├── mnist_model_3.h5/n│       ├── mnist_model_4.h5/n│       ├── mnist_model_5.h5/n│       └── mnist_model_6.h5/n├── plots/n│   ├── black_white_dot.png/n│   └── teaser.png/n├── requirements.txt/n├── requirements_LRZ.txt/n├── scripts/n│   ├── DDN_plot.py/n│   ├── fashion_mnist_gpu_create_attack_data.py/n│   ├── fashion_mnist_gpu_create_models.py/n│   ├── full_fashion_mnist_gpu_2.py/n│   ├── full_mnist_gpu.py/n│   ├── full_mnist_gpu_2.py/n│   └── padding_plot.py/n├── Shift_Invariance_Can_Reduce_Adversarial_Robustness.html/n├── Shift_Invariance_Can_Reduce_Adversarial_Robustness.ipynb/n└── Shift_Invariance_Can_Reduce_Adversarial_Robustness.pdf/n'"
     },
     "execution_count": 14,
     "metadata": {},
     "output_type": "execute_result"
    }
   ],
   "source": [
    "str_"
   ],
   "metadata": {
    "collapsed": false,
    "pycharm": {
     "name": "#%%\n"
    }
   }
  },
  {
   "cell_type": "code",
   "execution_count": null,
   "outputs": [],
   "source": [],
   "metadata": {
    "collapsed": false,
    "pycharm": {
     "name": "#%%\n"
    }
   }
  }
 ],
 "metadata": {
  "kernelspec": {
   "display_name": "Python 3",
   "language": "python",
   "name": "python3"
  },
  "language_info": {
   "codemirror_mode": {
    "name": "ipython",
    "version": 2
   },
   "file_extension": ".py",
   "mimetype": "text/x-python",
   "name": "python",
   "nbconvert_exporter": "python",
   "pygments_lexer": "ipython2",
   "version": "2.7.6"
  }
 },
 "nbformat": 4,
 "nbformat_minor": 0
}