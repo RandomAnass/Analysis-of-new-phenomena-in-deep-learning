{
 "cells": [
  {
   "cell_type": "markdown",
   "source": [
    "# Simple example: white vs black dot on a gray background"
   ],
   "metadata": {
    "collapsed": false,
    "pycharm": {
     "name": "#%% md\n"
    }
   }
  },
  {
   "cell_type": "markdown",
   "source": [
    "### Importing Dependencies"
   ],
   "metadata": {
    "collapsed": false,
    "pycharm": {
     "name": "#%% md\n"
    }
   }
  },
  {
   "cell_type": "code",
   "execution_count": 1,
   "outputs": [],
   "source": [
    "import numpy as np\n",
    "import tensorflow as tf\n",
    "from tensorflow import keras\n",
    "import matplotlib.pyplot as plt"
   ],
   "metadata": {
    "collapsed": false,
    "pycharm": {
     "name": "#%%\n"
    }
   }
  },
  {
   "cell_type": "code",
   "execution_count": 35,
   "outputs": [],
   "source": [
    "tf.compat.v1.enable_eager_execution()\n",
    "tf.config.run_functions_eagerly(True)"
   ],
   "metadata": {
    "collapsed": false,
    "pycharm": {
     "name": "#%%\n"
    }
   }
  },
  {
   "cell_type": "markdown",
   "source": [
    "### Preparing data"
   ],
   "metadata": {
    "collapsed": false,
    "pycharm": {
     "name": "#%% md\n"
    }
   }
  },
  {
   "cell_type": "code",
   "execution_count": 2,
   "outputs": [],
   "source": [
    "input_shape = (17, 17)\n",
    "im_1 = np.zeros(input_shape)+0.5\n",
    "im_2 = im_1.copy()\n",
    "im_1[7][7]+=0.5\n",
    "im_2[7][7]-=0.5"
   ],
   "metadata": {
    "collapsed": false,
    "pycharm": {
     "name": "#%%\n"
    }
   }
  },
  {
   "cell_type": "code",
   "execution_count": 3,
   "outputs": [
    {
     "data": {
      "text/plain": "array([[0.5, 0.5, 0.5, 0.5, 0.5, 0.5, 0.5, 0.5, 0.5, 0.5, 0.5, 0.5, 0.5,\n        0.5, 0.5, 0.5, 0.5],\n       [0.5, 0.5, 0.5, 0.5, 0.5, 0.5, 0.5, 0.5, 0.5, 0.5, 0.5, 0.5, 0.5,\n        0.5, 0.5, 0.5, 0.5],\n       [0.5, 0.5, 0.5, 0.5, 0.5, 0.5, 0.5, 0.5, 0.5, 0.5, 0.5, 0.5, 0.5,\n        0.5, 0.5, 0.5, 0.5],\n       [0.5, 0.5, 0.5, 0.5, 0.5, 0.5, 0.5, 0.5, 0.5, 0.5, 0.5, 0.5, 0.5,\n        0.5, 0.5, 0.5, 0.5],\n       [0.5, 0.5, 0.5, 0.5, 0.5, 0.5, 0.5, 0.5, 0.5, 0.5, 0.5, 0.5, 0.5,\n        0.5, 0.5, 0.5, 0.5],\n       [0.5, 0.5, 0.5, 0.5, 0.5, 0.5, 0.5, 0.5, 0.5, 0.5, 0.5, 0.5, 0.5,\n        0.5, 0.5, 0.5, 0.5],\n       [0.5, 0.5, 0.5, 0.5, 0.5, 0.5, 0.5, 0.5, 0.5, 0.5, 0.5, 0.5, 0.5,\n        0.5, 0.5, 0.5, 0.5],\n       [0.5, 0.5, 0.5, 0.5, 0.5, 0.5, 0.5, 1. , 0.5, 0.5, 0.5, 0.5, 0.5,\n        0.5, 0.5, 0.5, 0.5],\n       [0.5, 0.5, 0.5, 0.5, 0.5, 0.5, 0.5, 0.5, 0.5, 0.5, 0.5, 0.5, 0.5,\n        0.5, 0.5, 0.5, 0.5],\n       [0.5, 0.5, 0.5, 0.5, 0.5, 0.5, 0.5, 0.5, 0.5, 0.5, 0.5, 0.5, 0.5,\n        0.5, 0.5, 0.5, 0.5],\n       [0.5, 0.5, 0.5, 0.5, 0.5, 0.5, 0.5, 0.5, 0.5, 0.5, 0.5, 0.5, 0.5,\n        0.5, 0.5, 0.5, 0.5],\n       [0.5, 0.5, 0.5, 0.5, 0.5, 0.5, 0.5, 0.5, 0.5, 0.5, 0.5, 0.5, 0.5,\n        0.5, 0.5, 0.5, 0.5],\n       [0.5, 0.5, 0.5, 0.5, 0.5, 0.5, 0.5, 0.5, 0.5, 0.5, 0.5, 0.5, 0.5,\n        0.5, 0.5, 0.5, 0.5],\n       [0.5, 0.5, 0.5, 0.5, 0.5, 0.5, 0.5, 0.5, 0.5, 0.5, 0.5, 0.5, 0.5,\n        0.5, 0.5, 0.5, 0.5],\n       [0.5, 0.5, 0.5, 0.5, 0.5, 0.5, 0.5, 0.5, 0.5, 0.5, 0.5, 0.5, 0.5,\n        0.5, 0.5, 0.5, 0.5],\n       [0.5, 0.5, 0.5, 0.5, 0.5, 0.5, 0.5, 0.5, 0.5, 0.5, 0.5, 0.5, 0.5,\n        0.5, 0.5, 0.5, 0.5],\n       [0.5, 0.5, 0.5, 0.5, 0.5, 0.5, 0.5, 0.5, 0.5, 0.5, 0.5, 0.5, 0.5,\n        0.5, 0.5, 0.5, 0.5]])"
     },
     "execution_count": 3,
     "metadata": {},
     "output_type": "execute_result"
    }
   ],
   "source": [
    "im_1"
   ],
   "metadata": {
    "collapsed": false,
    "pycharm": {
     "name": "#%%\n"
    }
   }
  },
  {
   "cell_type": "code",
   "execution_count": 4,
   "outputs": [
    {
     "data": {
      "text/plain": "<Figure size 432x288 with 1 Axes>",
      "image/png": "[encoded data removed]"
     },
     "metadata": {
      "needs_background": "light"
     },
     "output_type": "display_data"
    },
    {
     "data": {
      "text/plain": "<Figure size 288x288 with 2 Axes>",
      "image/png": "[encoded data removed]"
     },
     "metadata": {
      "needs_background": "light"
     },
     "output_type": "display_data"
    }
   ],
   "source": [
    "plt.imshow(im_1)\n",
    "plt.matshow(im_1)\n",
    "plt.colorbar()\n",
    "plt.show()"
   ],
   "metadata": {
    "collapsed": false,
    "pycharm": {
     "name": "#%%\n"
    }
   }
  },
  {
   "cell_type": "code",
   "execution_count": 5,
   "outputs": [],
   "source": [
    "def create_dataset_dots(k=100):\n",
    "    input_shape = (k, k)\n",
    "    X_1 = np.zeros(input_shape)+0.5\n",
    "    X_2 = X_1.copy()\n",
    "    X_1[k//2][k//2]+=0.5\n",
    "    X_2[k//2][k//2]-=0.5\n",
    "    Xs = np.stack([X_1, X_2], axis=0)\n",
    "    ys = np.array([1, 0])\n",
    "    return Xs, ys\n"
   ],
   "metadata": {
    "collapsed": false,
    "pycharm": {
     "name": "#%%\n"
    }
   }
  },
  {
   "cell_type": "markdown",
   "source": [
    " ### Defining the models"
   ],
   "metadata": {
    "collapsed": false,
    "pycharm": {
     "name": "#%% md\n"
    }
   }
  },
  {
   "cell_type": "code",
   "execution_count": 6,
   "outputs": [],
   "source": [
    "from tensorflow.keras.models import Sequential\n",
    "from tensorflow.keras.layers import Conv2D, BatchNormalization, Activation, GlobalAveragePooling2D, Flatten, Dense, Lambda\n",
    "\n",
    "# cnn without padding\n",
    "def create_small_cnn_np(k):\n",
    "    model = Sequential()\n",
    "    model.add(BatchNormalization(input_shape=(k, k, 1)))\n",
    "    model.add(Conv2D(512, kernel_size=k))\n",
    "    model.add(Activation('relu'))\n",
    "    model.add(GlobalAveragePooling2D())\n",
    "    #model.add(Dense(2))\n",
    "    model.add(Dense(2, activation=\"softmax\"))\n",
    "    return model\n",
    "\n",
    "def create_fcn(k):\n",
    "    model = Sequential()\n",
    "    model.add(BatchNormalization(input_shape=(k, k, 1)))\n",
    "    model.add(Flatten())\n",
    "    model.add(Dense(512, activation='relu'))\n",
    "    model.add(Dense(2, activation='softmax'))\n",
    "\n",
    "    return model\n",
    "\n",
    "def circular_padding(x, padding_size):\n",
    "    # Perform circular padding on the input tensor\n",
    "    return tf.pad(x, [[0, 0], [padding_size, padding_size], [padding_size, padding_size], [0, 0]], mode='SYMMETRIC')\n",
    "\n",
    "\n",
    "def create_small_cnn(k, padding_size=8):\n",
    "    model = Sequential()\n",
    "    model.add(BatchNormalization(input_shape=(k, k, 1)))\n",
    "    model.add(Lambda(lambda x: circular_padding(x, padding_size)))\n",
    "    model.add(Conv2D(512, kernel_size=17, padding='valid'))\n",
    "    model.add(Activation('relu'))\n",
    "    model.add(GlobalAveragePooling2D())\n",
    "    model.add(Dense(2, activation=\"softmax\"))\n",
    "\n",
    "    return model\n",
    "\n",
    "k = 17\n",
    "small_cnn_model = create_small_cnn_np(k)\n",
    "small_cnn_model_padding = create_small_cnn(k)\n",
    "fcn_model = create_fcn(k)\n"
   ],
   "metadata": {
    "collapsed": false,
    "pycharm": {
     "name": "#%%\n"
    }
   }
  },
  {
   "cell_type": "code",
   "execution_count": 7,
   "outputs": [],
   "source": [
    "input_shape = (k, k)\n",
    "im_1 = np.zeros(input_shape)+0.5\n",
    "im_2 = im_1.copy()\n",
    "im_1[7][7]+=0.5\n",
    "im_2[7][7]-=0.5"
   ],
   "metadata": {
    "collapsed": false,
    "pycharm": {
     "name": "#%%\n"
    }
   }
  },
  {
   "cell_type": "code",
   "execution_count": 8,
   "outputs": [],
   "source": [
    "# im_1 = im_1.\n",
    "data = np.stack([np.expand_dims(im_1, axis=-1), np.expand_dims(im_2, axis=-1)], axis=0)\n",
    "y = np.array([1, 0])"
   ],
   "metadata": {
    "collapsed": false,
    "pycharm": {
     "name": "#%%\n"
    }
   }
  },
  {
   "cell_type": "markdown",
   "source": [
    " ### Training the models"
   ],
   "metadata": {
    "collapsed": false,
    "pycharm": {
     "name": "#%% md\n"
    }
   }
  },
  {
   "cell_type": "markdown",
   "source": [
    "#### Training CNN"
   ],
   "metadata": {
    "collapsed": false,
    "pycharm": {
     "name": "#%% md\n"
    }
   }
  },
  {
   "cell_type": "code",
   "execution_count": 9,
   "outputs": [
    {
     "name": "stdout",
     "output_type": "stream",
     "text": [
      "Model: \"sequential\"\n",
      "_________________________________________________________________\n",
      " Layer (type)                Output Shape              Param #   \n",
      "=================================================================\n",
      " batch_normalization (BatchN  (None, 17, 17, 1)        4         \n",
      " ormalization)                                                   \n",
      "                                                                 \n",
      " conv2d (Conv2D)             (None, 1, 1, 512)         148480    \n",
      "                                                                 \n",
      " activation (Activation)     (None, 1, 1, 512)         0         \n",
      "                                                                 \n",
      " global_average_pooling2d (G  (None, 512)              0         \n",
      " lobalAveragePooling2D)                                          \n",
      "                                                                 \n",
      " dense (Dense)               (None, 2)                 1026      \n",
      "                                                                 \n",
      "=================================================================\n",
      "Total params: 149,510\n",
      "Trainable params: 149,508\n",
      "Non-trainable params: 2\n",
      "_________________________________________________________________\n"
     ]
    }
   ],
   "source": [
    "from tensorflow.keras.losses import SparseCategoricalCrossentropy\n",
    "from tensorflow.keras.optimizers import SGD\n",
    "criterion = SparseCategoricalCrossentropy()\n",
    "batch_X, batch_y = tf.constant(data, dtype=tf.float32), tf.constant(y, dtype=tf.int32)\n",
    "\n",
    "\n",
    "\n",
    "small_cnn_model.summary()\n",
    "LR = 0.01\n",
    "opt = SGD(learning_rate=LR)\n"
   ],
   "metadata": {
    "collapsed": false,
    "pycharm": {
     "name": "#%%\n"
    }
   }
  },
  {
   "cell_type": "code",
   "execution_count": 10,
   "outputs": [
    {
     "name": "stdout",
     "output_type": "stream",
     "text": [
      "Epoch: 100, Train Acc: 100.000, Loss: 0.006\n",
      "Epoch: 200, Train Acc: 100.000, Loss: 0.003\n",
      "Epoch: 300, Train Acc: 100.000, Loss: 0.002\n",
      "Epoch: 400, Train Acc: 100.000, Loss: 0.001\n",
      "Epoch: 500, Train Acc: 100.000, Loss: 0.001\n",
      "Epoch: 600, Train Acc: 100.000, Loss: 0.001\n",
      "Epoch: 700, Train Acc: 100.000, Loss: 0.001\n",
      "Epoch: 800, Train Acc: 100.000, Loss: 0.001\n",
      "Epoch: 900, Train Acc: 100.000, Loss: 0.001\n",
      "Epoch: 1000, Train Acc: 100.000, Loss: 0.001\n",
      "Epoch: 1100, Train Acc: 100.000, Loss: 0.001\n",
      "Epoch: 1200, Train Acc: 100.000, Loss: 0.000\n",
      "Epoch: 1300, Train Acc: 100.000, Loss: 0.000\n",
      "Epoch: 1400, Train Acc: 100.000, Loss: 0.000\n",
      "Epoch: 1500, Train Acc: 100.000, Loss: 0.000\n",
      "Epoch: 1600, Train Acc: 100.000, Loss: 0.000\n",
      "Epoch: 1700, Train Acc: 100.000, Loss: 0.000\n",
      "Epoch: 1800, Train Acc: 100.000, Loss: 0.000\n",
      "Epoch: 1900, Train Acc: 100.000, Loss: 0.000\n",
      "Epoch: 2000, Train Acc: 100.000, Loss: 0.000\n"
     ]
    }
   ],
   "source": [
    "for idx in range(2000):\n",
    "    total_loss = 0\n",
    "    total_acc = 0\n",
    "\n",
    "    with tf.GradientTape() as tape:\n",
    "        output = small_cnn_model(batch_X, training=True)\n",
    "        loss = criterion(batch_y, output)\n",
    "\n",
    "    gradients = tape.gradient(loss, small_cnn_model.trainable_variables)\n",
    "    opt.apply_gradients(zip(gradients, small_cnn_model.trainable_variables))\n",
    "\n",
    "    total_loss += loss * tf.cast(tf.shape(batch_y)[0], dtype=tf.float32)\n",
    "    total_acc += tf.reduce_sum(tf.cast(tf.math.argmax(output, axis=1) == tf.cast(batch_y, dtype=tf.int64), tf.float32)).numpy()\n",
    "\n",
    "\n",
    "    if (idx + 1) % 800 == 0:\n",
    "        LR /= 10\n",
    "        opt.learning_rate.assign(LR)\n",
    "\n",
    "    if (idx + 1) % 100 == 0:\n",
    "        print(\"Epoch: {}, Train Acc: {:.3f}, Loss: {:.3f}\".format(\n",
    "            idx + 1, total_acc * 100. / y.shape[0], total_loss / y.shape[0]\n",
    "        ))"
   ],
   "metadata": {
    "collapsed": false,
    "pycharm": {
     "name": "#%%\n"
    }
   }
  },
  {
   "cell_type": "markdown",
   "source": [
    "#### Training CNN with padding"
   ],
   "metadata": {
    "collapsed": false,
    "pycharm": {
     "name": "#%% md\n"
    }
   }
  },
  {
   "cell_type": "code",
   "execution_count": 12,
   "outputs": [
    {
     "name": "stdout",
     "output_type": "stream",
     "text": [
      "Model: \"sequential_1\"\n",
      "_________________________________________________________________\n",
      " Layer (type)                Output Shape              Param #   \n",
      "=================================================================\n",
      " batch_normalization_1 (Batc  (None, 17, 17, 1)        4         \n",
      " hNormalization)                                                 \n",
      "                                                                 \n",
      " lambda (Lambda)             (None, 33, 33, 1)         0         \n",
      "                                                                 \n",
      " conv2d_1 (Conv2D)           (None, 17, 17, 512)       148480    \n",
      "                                                                 \n",
      " activation_1 (Activation)   (None, 17, 17, 512)       0         \n",
      "                                                                 \n",
      " global_average_pooling2d_1   (None, 512)              0         \n",
      " (GlobalAveragePooling2D)                                        \n",
      "                                                                 \n",
      " dense_1 (Dense)             (None, 2)                 1026      \n",
      "                                                                 \n",
      "=================================================================\n",
      "Total params: 149,510\n",
      "Trainable params: 149,508\n",
      "Non-trainable params: 2\n",
      "_________________________________________________________________\n"
     ]
    }
   ],
   "source": [
    "data = np.stack([np.expand_dims(im_1, axis=-1), np.expand_dims(im_2, axis=-1)], axis=0)\n",
    "y = np.array([1, 0])\n",
    "criterion = SparseCategoricalCrossentropy()\n",
    "batch_X, batch_y = tf.constant(data, dtype=tf.float32), tf.constant(y, dtype=tf.int32)\n",
    "small_cnn_model_padding.summary()\n",
    "LR = 0.01\n",
    "opt = SGD(learning_rate=LR)"
   ],
   "metadata": {
    "collapsed": false,
    "pycharm": {
     "name": "#%%\n"
    }
   }
  },
  {
   "cell_type": "code",
   "execution_count": 13,
   "outputs": [
    {
     "name": "stdout",
     "output_type": "stream",
     "text": [
      "Epoch: 100, Train Acc: 100.000, Loss: 0.546\n",
      "Epoch: 200, Train Acc: 100.000, Loss: 0.356\n",
      "Epoch: 300, Train Acc: 100.000, Loss: 0.194\n",
      "Epoch: 400, Train Acc: 100.000, Loss: 0.104\n",
      "Epoch: 500, Train Acc: 100.000, Loss: 0.062\n",
      "Epoch: 600, Train Acc: 100.000, Loss: 0.041\n",
      "Epoch: 700, Train Acc: 100.000, Loss: 0.029\n",
      "Epoch: 800, Train Acc: 100.000, Loss: 0.022\n",
      "Epoch: 900, Train Acc: 100.000, Loss: 0.021\n",
      "Epoch: 1000, Train Acc: 100.000, Loss: 0.021\n",
      "Epoch: 1100, Train Acc: 100.000, Loss: 0.020\n",
      "Epoch: 1200, Train Acc: 100.000, Loss: 0.020\n",
      "Epoch: 1300, Train Acc: 100.000, Loss: 0.019\n",
      "Epoch: 1400, Train Acc: 100.000, Loss: 0.019\n",
      "Epoch: 1500, Train Acc: 100.000, Loss: 0.018\n",
      "Epoch: 1600, Train Acc: 100.000, Loss: 0.018\n",
      "Epoch: 1700, Train Acc: 100.000, Loss: 0.018\n",
      "Epoch: 1800, Train Acc: 100.000, Loss: 0.018\n",
      "Epoch: 1900, Train Acc: 100.000, Loss: 0.018\n",
      "Epoch: 2000, Train Acc: 100.000, Loss: 0.018\n"
     ]
    }
   ],
   "source": [
    "for idx in range(2000):\n",
    "    total_loss = 0\n",
    "    total_acc = 0\n",
    "\n",
    "    with tf.GradientTape() as tape:\n",
    "        output = small_cnn_model_padding(batch_X, training=True)\n",
    "        loss = criterion(batch_y, output)\n",
    "\n",
    "    gradients = tape.gradient(loss, small_cnn_model_padding.trainable_variables)\n",
    "    opt.apply_gradients(zip(gradients, small_cnn_model_padding.trainable_variables))\n",
    "\n",
    "    total_loss += loss * tf.cast(tf.shape(batch_y)[0], dtype=tf.float32)\n",
    "    total_acc += tf.reduce_sum(tf.cast(tf.math.argmax(output, axis=1) == tf.cast(batch_y, dtype=tf.int64), tf.float32)).numpy()\n",
    "\n",
    "\n",
    "    if (idx + 1) % 800 == 0:\n",
    "        LR /= 10\n",
    "        opt.learning_rate.assign(LR)\n",
    "\n",
    "    if (idx + 1) % 100 == 0:\n",
    "        print(\"Epoch: {}, Train Acc: {:.3f}, Loss: {:.3f}\".format(idx + 1, total_acc * 100. / y.shape[0], total_loss / y.shape[0]))"
   ],
   "metadata": {
    "collapsed": false,
    "pycharm": {
     "name": "#%%\n"
    }
   }
  },
  {
   "cell_type": "markdown",
   "source": [
    "#### Training FCN"
   ],
   "metadata": {
    "collapsed": false,
    "pycharm": {
     "name": "#%% md\n"
    }
   }
  },
  {
   "cell_type": "code",
   "execution_count": 14,
   "outputs": [
    {
     "name": "stdout",
     "output_type": "stream",
     "text": [
      "Model: \"sequential_2\"\n",
      "_________________________________________________________________\n",
      " Layer (type)                Output Shape              Param #   \n",
      "=================================================================\n",
      " batch_normalization_2 (Batc  (None, 17, 17, 1)        4         \n",
      " hNormalization)                                                 \n",
      "                                                                 \n",
      " flatten (Flatten)           (None, 289)               0         \n",
      "                                                                 \n",
      " dense_2 (Dense)             (None, 512)               148480    \n",
      "                                                                 \n",
      " dense_3 (Dense)             (None, 2)                 1026      \n",
      "                                                                 \n",
      "=================================================================\n",
      "Total params: 149,510\n",
      "Trainable params: 149,508\n",
      "Non-trainable params: 2\n",
      "_________________________________________________________________\n"
     ]
    }
   ],
   "source": [
    "data = np.stack([np.expand_dims(im_1, axis=-1), np.expand_dims(im_2, axis=-1)], axis=0)\n",
    "y = np.array([1, 0])\n",
    "criterion = SparseCategoricalCrossentropy()\n",
    "batch_X, batch_y = tf.constant(data, dtype=tf.float32), tf.constant(y, dtype=tf.int32)\n",
    "fcn_model.summary()\n",
    "LR = 0.01\n",
    "opt = SGD(learning_rate=LR)"
   ],
   "metadata": {
    "collapsed": false,
    "pycharm": {
     "name": "#%%\n"
    }
   }
  },
  {
   "cell_type": "code",
   "execution_count": 15,
   "outputs": [
    {
     "name": "stdout",
     "output_type": "stream",
     "text": [
      "Epoch: 100, Train Acc: 100.000, Loss: 0.004\n",
      "Epoch: 200, Train Acc: 100.000, Loss: 0.002\n",
      "Epoch: 300, Train Acc: 100.000, Loss: 0.001\n",
      "Epoch: 400, Train Acc: 100.000, Loss: 0.001\n",
      "Epoch: 500, Train Acc: 100.000, Loss: 0.001\n",
      "Epoch: 600, Train Acc: 100.000, Loss: 0.001\n",
      "Epoch: 700, Train Acc: 100.000, Loss: 0.000\n",
      "Epoch: 800, Train Acc: 100.000, Loss: 0.000\n",
      "Epoch: 900, Train Acc: 100.000, Loss: 0.000\n",
      "Epoch: 1000, Train Acc: 100.000, Loss: 0.000\n",
      "Epoch: 1100, Train Acc: 100.000, Loss: 0.000\n",
      "Epoch: 1200, Train Acc: 100.000, Loss: 0.000\n",
      "Epoch: 1300, Train Acc: 100.000, Loss: 0.000\n",
      "Epoch: 1400, Train Acc: 100.000, Loss: 0.000\n",
      "Epoch: 1500, Train Acc: 100.000, Loss: 0.000\n",
      "Epoch: 1600, Train Acc: 100.000, Loss: 0.000\n",
      "Epoch: 1700, Train Acc: 100.000, Loss: 0.000\n",
      "Epoch: 1800, Train Acc: 100.000, Loss: 0.000\n",
      "Epoch: 1900, Train Acc: 100.000, Loss: 0.000\n",
      "Epoch: 2000, Train Acc: 100.000, Loss: 0.000\n"
     ]
    }
   ],
   "source": [
    "for idx in range(2000):\n",
    "    total_loss = 0\n",
    "    total_acc = 0\n",
    "\n",
    "    with tf.GradientTape() as tape:\n",
    "        output = fcn_model(batch_X, training=True)\n",
    "        loss = criterion(batch_y, output)\n",
    "\n",
    "    gradients = tape.gradient(loss, fcn_model.trainable_variables)\n",
    "    opt.apply_gradients(zip(gradients, fcn_model.trainable_variables))\n",
    "\n",
    "    total_loss += loss * tf.cast(tf.shape(batch_y)[0], dtype=tf.float32)\n",
    "    total_acc += tf.reduce_sum(\n",
    "        tf.cast(tf.math.argmax(output, axis=1) == tf.cast(batch_y, dtype=tf.int64), tf.float32)\n",
    "    ).numpy()\n",
    "\n",
    "    if (idx + 1) % 800 == 0:\n",
    "        LR /= 10\n",
    "        opt.learning_rate.assign(LR)\n",
    "\n",
    "    if (idx + 1) % 100 == 0:\n",
    "        print(\"Epoch: {}, Train Acc: {:.3f}, Loss: {:.3f}\".format(\n",
    "            idx + 1, total_acc * 100. / y.shape[0], total_loss / y.shape[0]\n",
    "        ))\n",
    "\n"
   ],
   "metadata": {
    "collapsed": false,
    "pycharm": {
     "name": "#%%\n"
    }
   }
  },
  {
   "cell_type": "markdown",
   "source": [
    "We get the same result as the paper code. For the training (the loss value is a little different but its probably because of using different frameworks but the behaviour is the same)"
   ],
   "metadata": {
    "collapsed": false,
    "pycharm": {
     "name": "#%% md\n"
    }
   }
  },
  {
   "cell_type": "markdown",
   "source": [
    "### Generating Adversarial data"
   ],
   "metadata": {
    "collapsed": false,
    "pycharm": {
     "name": "#%% md\n"
    }
   }
  },
  {
   "cell_type": "markdown",
   "source": [
    "The paper used DDNL2Attack for the plot of comparing the distance between original data and adversarial data for both CNN and FCN. This attack is not available in tensorflow, so we will use the FGM and PGD attacks only."
   ],
   "metadata": {
    "collapsed": false,
    "pycharm": {
     "name": "#%% md\n"
    }
   }
  },
  {
   "cell_type": "markdown",
   "source": [
    "#### PGD:"
   ],
   "metadata": {
    "collapsed": false,
    "pycharm": {
     "name": "#%% md\n"
    }
   }
  },
  {
   "cell_type": "code",
   "execution_count": 82,
   "outputs": [],
   "source": [
    "from art.attacks.evasion import ProjectedGradientDescent\n",
    "from art.estimators.classification import TensorFlowV2Classifier"
   ],
   "metadata": {
    "collapsed": false,
    "pycharm": {
     "name": "#%%\n"
    }
   }
  },
  {
   "cell_type": "code",
   "execution_count": 83,
   "outputs": [],
   "source": [
    "# Define the loss object for each classifier\n",
    "small_cnn_padding_loss_object = tf.keras.losses.SparseCategoricalCrossentropy()\n",
    "fcn_loss_object = tf.keras.losses.SparseCategoricalCrossentropy()\n",
    "small_cnn_loss_object = tf.keras.losses.SparseCategoricalCrossentropy()"
   ],
   "metadata": {
    "collapsed": false,
    "pycharm": {
     "name": "#%%\n"
    }
   }
  },
  {
   "cell_type": "code",
   "execution_count": 84,
   "outputs": [],
   "source": [
    "distances_small_cnn_model = []\n",
    "distances_small_cnn_model_padding = []\n",
    "distances_fcn_model = []\n",
    "accuracies_small_cnn_model = []\n",
    "accuracies_small_cnn_model_padding = []\n",
    "accuracies_fcn_model = []"
   ],
   "metadata": {
    "collapsed": false,
    "pycharm": {
     "name": "#%%\n"
    }
   }
  },
  {
   "cell_type": "code",
   "execution_count": 85,
   "outputs": [
    {
     "data": {
      "text/plain": "PGD - Batches: 0it [00:00, ?it/s]",
      "application/vnd.jupyter.widget-view+json": {
       "version_major": 2,
       "version_minor": 0,
       "model_id": "8e36d7389b51480baac667f77e0cf24c"
      }
     },
     "metadata": {},
     "output_type": "display_data"
    },
    {
     "name": "stdout",
     "output_type": "stream",
     "text": [
      "1/1 [==============================] - 0s 416ms/step - loss: 4.9471e-04 - accuracy: 1.0000\n",
      "Epsilon: 0.001, Robust Accuracy: 100.0\n"
     ]
    },
    {
     "data": {
      "text/plain": "PGD - Batches: 0it [00:00, ?it/s]",
      "application/vnd.jupyter.widget-view+json": {
       "version_major": 2,
       "version_minor": 0,
       "model_id": "13e9ca097c70421db547b2cfcf6b73ac"
      }
     },
     "metadata": {},
     "output_type": "display_data"
    },
    {
     "name": "stdout",
     "output_type": "stream",
     "text": [
      "1/1 [==============================] - 0s 65ms/step - loss: 5.2069e-04 - accuracy: 1.0000\n",
      "Epsilon: 0.002, Robust Accuracy: 100.0\n"
     ]
    },
    {
     "data": {
      "text/plain": "PGD - Batches: 0it [00:00, ?it/s]",
      "application/vnd.jupyter.widget-view+json": {
       "version_major": 2,
       "version_minor": 0,
       "model_id": "667364da9a6248e5bfa8515229d00aa0"
      }
     },
     "metadata": {},
     "output_type": "display_data"
    },
    {
     "name": "stdout",
     "output_type": "stream",
     "text": [
      "1/1 [==============================] - 0s 24ms/step - loss: 6.0713e-04 - accuracy: 1.0000\n",
      "Epsilon: 0.005, Robust Accuracy: 100.0\n"
     ]
    },
    {
     "data": {
      "text/plain": "PGD - Batches: 0it [00:00, ?it/s]",
      "application/vnd.jupyter.widget-view+json": {
       "version_major": 2,
       "version_minor": 0,
       "model_id": "9cbf2817a2cd4b2eaaffa67b29adc6de"
      }
     },
     "metadata": {},
     "output_type": "display_data"
    },
    {
     "name": "stdout",
     "output_type": "stream",
     "text": [
      "1/1 [==============================] - 0s 33ms/step - loss: 7.8433e-04 - accuracy: 1.0000\n",
      "Epsilon: 0.01, Robust Accuracy: 100.0\n"
     ]
    },
    {
     "data": {
      "text/plain": "PGD - Batches: 0it [00:00, ?it/s]",
      "application/vnd.jupyter.widget-view+json": {
       "version_major": 2,
       "version_minor": 0,
       "model_id": "aef7b8e130fc4833b829277cf74528cf"
      }
     },
     "metadata": {},
     "output_type": "display_data"
    },
    {
     "name": "stdout",
     "output_type": "stream",
     "text": [
      "1/1 [==============================] - 0s 31ms/step - loss: 0.0061 - accuracy: 1.0000\n",
      "Epsilon: 0.05, Robust Accuracy: 100.0\n"
     ]
    },
    {
     "data": {
      "text/plain": "PGD - Batches: 0it [00:00, ?it/s]",
      "application/vnd.jupyter.widget-view+json": {
       "version_major": 2,
       "version_minor": 0,
       "model_id": "23c42040af3f4160a060b6e94d1c4436"
      }
     },
     "metadata": {},
     "output_type": "display_data"
    },
    {
     "name": "stdout",
     "output_type": "stream",
     "text": [
      "1/1 [==============================] - 0s 34ms/step - loss: 0.0709 - accuracy: 1.0000\n",
      "Epsilon: 0.1, Robust Accuracy: 100.0\n"
     ]
    },
    {
     "data": {
      "text/plain": "PGD - Batches: 0it [00:00, ?it/s]",
      "application/vnd.jupyter.widget-view+json": {
       "version_major": 2,
       "version_minor": 0,
       "model_id": "19104894402e4bb4bf96461055ac905a"
      }
     },
     "metadata": {},
     "output_type": "display_data"
    },
    {
     "name": "stdout",
     "output_type": "stream",
     "text": [
      "1/1 [==============================] - 0s 31ms/step - loss: 6.5160 - accuracy: 0.0000e+00\n",
      "Epsilon: 0.3, Robust Accuracy: 0.0\n"
     ]
    },
    {
     "data": {
      "text/plain": "PGD - Batches: 0it [00:00, ?it/s]",
      "application/vnd.jupyter.widget-view+json": {
       "version_major": 2,
       "version_minor": 0,
       "model_id": "c0d94a6ad8f54f46a3b3675e511c2fff"
      }
     },
     "metadata": {},
     "output_type": "display_data"
    },
    {
     "name": "stdout",
     "output_type": "stream",
     "text": [
      "1/1 [==============================] - 0s 40ms/step - loss: 16.5846 - accuracy: 0.0000e+00\n",
      "Epsilon: 0.5, Robust Accuracy: 0.0\n"
     ]
    }
   ],
   "source": [
    "small_cnn_model.compile(optimizer='adam', loss=small_cnn_loss_object, metrics=['accuracy'])\n",
    "classifier = TensorFlowV2Classifier(\n",
    "    model=small_cnn_model,\n",
    "    loss_object=small_cnn_loss_object,\n",
    "    input_shape=(17, 17, 1),\n",
    "    nb_classes=10,\n",
    "    clip_values=(0, 1),\n",
    ")\n",
    "eps_values = [0.001, 0.002, 0.005, 0.01, 0.05, 0.1, 0.3, 0.5]\n",
    "\n",
    "for eps in eps_values:\n",
    "    adversary = ProjectedGradientDescent(estimator=classifier, eps=eps, max_iter=100)\n",
    "    small_cnn_adv_x = adversary.generate(x=batch_X.numpy(), y=batch_y.numpy())\n",
    "    distance_small_cnn_model = np.linalg.norm(batch_X - small_cnn_adv_x)\n",
    "    distances_small_cnn_model.append(distance_small_cnn_model)\n",
    "    # Evaluate the adversarial data with your model\n",
    "    accuracy = small_cnn_model.evaluate(small_cnn_adv_x, batch_y)\n",
    "    accuracy_value = accuracy[1] * 100\n",
    "    accuracies_small_cnn_model.append(accuracy_value)\n",
    "    print(\"Epsilon: {}, Robust Accuracy: {}\".format(eps, accuracy_value))"
   ],
   "metadata": {
    "collapsed": false,
    "pycharm": {
     "name": "#%%\n"
    }
   }
  },
  {
   "cell_type": "code",
   "execution_count": 86,
   "outputs": [
    {
     "data": {
      "text/plain": "PGD - Batches: 0it [00:00, ?it/s]",
      "application/vnd.jupyter.widget-view+json": {
       "version_major": 2,
       "version_minor": 0,
       "model_id": "44fa44534f544f91b36e09a254f4d6fd"
      }
     },
     "metadata": {},
     "output_type": "display_data"
    },
    {
     "name": "stdout",
     "output_type": "stream",
     "text": [
      "1/1 [==============================] - 0s 273ms/step - loss: 5.5798e-04 - accuracy: 1.0000\n",
      "Epsilon: 0.001, Robust Accuracy: 100.0\n"
     ]
    },
    {
     "data": {
      "text/plain": "PGD - Batches: 0it [00:00, ?it/s]",
      "application/vnd.jupyter.widget-view+json": {
       "version_major": 2,
       "version_minor": 0,
       "model_id": "7fb4059808be453bbd4d13d8c1cfe732"
      }
     },
     "metadata": {},
     "output_type": "display_data"
    },
    {
     "name": "stdout",
     "output_type": "stream",
     "text": [
      "1/1 [==============================] - 0s 24ms/step - loss: 8.6389e-04 - accuracy: 1.0000\n",
      "Epsilon: 0.002, Robust Accuracy: 100.0\n"
     ]
    },
    {
     "data": {
      "text/plain": "PGD - Batches: 0it [00:00, ?it/s]",
      "application/vnd.jupyter.widget-view+json": {
       "version_major": 2,
       "version_minor": 0,
       "model_id": "970bda8398ab4429822210ba90c62811"
      }
     },
     "metadata": {},
     "output_type": "display_data"
    },
    {
     "name": "stdout",
     "output_type": "stream",
     "text": [
      "1/1 [==============================] - 0s 29ms/step - loss: 0.0032 - accuracy: 1.0000\n",
      "Epsilon: 0.005, Robust Accuracy: 100.0\n"
     ]
    },
    {
     "data": {
      "text/plain": "PGD - Batches: 0it [00:00, ?it/s]",
      "application/vnd.jupyter.widget-view+json": {
       "version_major": 2,
       "version_minor": 0,
       "model_id": "1455be3ea16640b0ab983a3f91ed3802"
      }
     },
     "metadata": {},
     "output_type": "display_data"
    },
    {
     "name": "stdout",
     "output_type": "stream",
     "text": [
      "1/1 [==============================] - 0s 31ms/step - loss: 0.0274 - accuracy: 1.0000\n",
      "Epsilon: 0.01, Robust Accuracy: 100.0\n"
     ]
    },
    {
     "data": {
      "text/plain": "PGD - Batches: 0it [00:00, ?it/s]",
      "application/vnd.jupyter.widget-view+json": {
       "version_major": 2,
       "version_minor": 0,
       "model_id": "9a94569e1ef94d6086df75417f6e3148"
      }
     },
     "metadata": {},
     "output_type": "display_data"
    },
    {
     "name": "stdout",
     "output_type": "stream",
     "text": [
      "1/1 [==============================] - 0s 29ms/step - loss: 6.7476 - accuracy: 0.0000e+00\n",
      "Epsilon: 0.05, Robust Accuracy: 0.0\n"
     ]
    },
    {
     "data": {
      "text/plain": "PGD - Batches: 0it [00:00, ?it/s]",
      "application/vnd.jupyter.widget-view+json": {
       "version_major": 2,
       "version_minor": 0,
       "model_id": "104e001fb2a9490aa5a22602b96c56be"
      }
     },
     "metadata": {},
     "output_type": "display_data"
    },
    {
     "name": "stdout",
     "output_type": "stream",
     "text": [
      "1/1 [==============================] - 0s 31ms/step - loss: 30.1610 - accuracy: 0.0000e+00\n",
      "Epsilon: 0.1, Robust Accuracy: 0.0\n"
     ]
    },
    {
     "data": {
      "text/plain": "PGD - Batches: 0it [00:00, ?it/s]",
      "application/vnd.jupyter.widget-view+json": {
       "version_major": 2,
       "version_minor": 0,
       "model_id": "c2d0c29640094114986d031615adbd07"
      }
     },
     "metadata": {},
     "output_type": "display_data"
    },
    {
     "name": "stdout",
     "output_type": "stream",
     "text": [
      "1/1 [==============================] - 0s 27ms/step - loss: 117.7565 - accuracy: 0.0000e+00\n",
      "Epsilon: 0.3, Robust Accuracy: 0.0\n"
     ]
    },
    {
     "data": {
      "text/plain": "PGD - Batches: 0it [00:00, ?it/s]",
      "application/vnd.jupyter.widget-view+json": {
       "version_major": 2,
       "version_minor": 0,
       "model_id": "f4c996aafbc143f798fa799dba513dda"
      }
     },
     "metadata": {},
     "output_type": "display_data"
    },
    {
     "name": "stdout",
     "output_type": "stream",
     "text": [
      "1/1 [==============================] - 0s 26ms/step - loss: 203.2393 - accuracy: 0.0000e+00\n",
      "Epsilon: 0.5, Robust Accuracy: 0.0\n"
     ]
    }
   ],
   "source": [
    "fcn_model.compile(optimizer='adam', loss=fcn_loss_object, metrics=['accuracy'])\n",
    "classifier = TensorFlowV2Classifier(\n",
    "    model=fcn_model,\n",
    "    loss_object=fcn_loss_object,\n",
    "    input_shape=(17, 17, 1),\n",
    "    nb_classes=10,\n",
    "    clip_values=(0, 1),\n",
    ")\n",
    "eps_values = [0.001, 0.002, 0.005, 0.01, 0.05, 0.1, 0.3, 0.5]\n",
    "for eps in eps_values:\n",
    "    adversary = ProjectedGradientDescent(estimator=classifier, eps=eps, max_iter=100)\n",
    "    fcn_model_adv_x = adversary.generate(x=batch_X.numpy(), y=batch_y.numpy())\n",
    "    distance_fcn_model = np.linalg.norm(batch_X - fcn_model_adv_x)\n",
    "    distances_fcn_model.append(distance_fcn_model)\n",
    "    # Evaluate the fcn_model data with your model\n",
    "    accuracy = fcn_model.evaluate(fcn_model_adv_x, batch_y)\n",
    "    accuracy_value = accuracy[1] * 100\n",
    "    accuracies_fcn_model.append(accuracy_value)\n",
    "    print(\"Epsilon: {}, Robust Accuracy: {}\".format(eps, accuracy_value))"
   ],
   "metadata": {
    "collapsed": false,
    "pycharm": {
     "name": "#%%\n"
    }
   }
  },
  {
   "cell_type": "code",
   "execution_count": 87,
   "outputs": [
    {
     "data": {
      "text/plain": "PGD - Batches: 0it [00:00, ?it/s]",
      "application/vnd.jupyter.widget-view+json": {
       "version_major": 2,
       "version_minor": 0,
       "model_id": "fbbf8814940c4cf48dbd2c401b59c6a8"
      }
     },
     "metadata": {},
     "output_type": "display_data"
    },
    {
     "name": "stdout",
     "output_type": "stream",
     "text": [
      "1/1 [==============================] - 0s 265ms/step - loss: 0.1100 - accuracy: 1.0000\n",
      "Epsilon: 0.001, Robust Accuracy: 100.0\n"
     ]
    },
    {
     "data": {
      "text/plain": "PGD - Batches: 0it [00:00, ?it/s]",
      "application/vnd.jupyter.widget-view+json": {
       "version_major": 2,
       "version_minor": 0,
       "model_id": "ef76ede89d0445fca511a4211a829285"
      }
     },
     "metadata": {},
     "output_type": "display_data"
    },
    {
     "name": "stdout",
     "output_type": "stream",
     "text": [
      "1/1 [==============================] - 0s 59ms/step - loss: 0.6133 - accuracy: 1.0000\n",
      "Epsilon: 0.002, Robust Accuracy: 100.0\n"
     ]
    },
    {
     "data": {
      "text/plain": "PGD - Batches: 0it [00:00, ?it/s]",
      "application/vnd.jupyter.widget-view+json": {
       "version_major": 2,
       "version_minor": 0,
       "model_id": "2903ec57ab8041549d152a639d129fae"
      }
     },
     "metadata": {},
     "output_type": "display_data"
    },
    {
     "name": "stdout",
     "output_type": "stream",
     "text": [
      "1/1 [==============================] - 0s 34ms/step - loss: 5.1149 - accuracy: 0.0000e+00\n",
      "Epsilon: 0.005, Robust Accuracy: 0.0\n"
     ]
    },
    {
     "data": {
      "text/plain": "PGD - Batches: 0it [00:00, ?it/s]",
      "application/vnd.jupyter.widget-view+json": {
       "version_major": 2,
       "version_minor": 0,
       "model_id": "cda999005650409f90d5463c45a8aacc"
      }
     },
     "metadata": {},
     "output_type": "display_data"
    },
    {
     "name": "stdout",
     "output_type": "stream",
     "text": [
      "1/1 [==============================] - 0s 30ms/step - loss: 12.8155 - accuracy: 0.0000e+00\n",
      "Epsilon: 0.01, Robust Accuracy: 0.0\n"
     ]
    },
    {
     "data": {
      "text/plain": "PGD - Batches: 0it [00:00, ?it/s]",
      "application/vnd.jupyter.widget-view+json": {
       "version_major": 2,
       "version_minor": 0,
       "model_id": "675b29bc8df549bb869b8e01aa120823"
      }
     },
     "metadata": {},
     "output_type": "display_data"
    },
    {
     "name": "stdout",
     "output_type": "stream",
     "text": [
      "1/1 [==============================] - 0s 59ms/step - loss: 73.4827 - accuracy: 0.0000e+00\n",
      "Epsilon: 0.05, Robust Accuracy: 0.0\n"
     ]
    },
    {
     "data": {
      "text/plain": "PGD - Batches: 0it [00:00, ?it/s]",
      "application/vnd.jupyter.widget-view+json": {
       "version_major": 2,
       "version_minor": 0,
       "model_id": "dad6d5430f7f40619293d0ccc033e88e"
      }
     },
     "metadata": {},
     "output_type": "display_data"
    },
    {
     "name": "stdout",
     "output_type": "stream",
     "text": [
      "1/1 [==============================] - 0s 28ms/step - loss: 149.2993 - accuracy: 0.0000e+00\n",
      "Epsilon: 0.1, Robust Accuracy: 0.0\n"
     ]
    },
    {
     "data": {
      "text/plain": "PGD - Batches: 0it [00:00, ?it/s]",
      "application/vnd.jupyter.widget-view+json": {
       "version_major": 2,
       "version_minor": 0,
       "model_id": "c9093099599e4f6d929a15999efe0f75"
      }
     },
     "metadata": {},
     "output_type": "display_data"
    },
    {
     "name": "stdout",
     "output_type": "stream",
     "text": [
      "1/1 [==============================] - 0s 29ms/step - loss: 452.5654 - accuracy: 0.0000e+00\n",
      "Epsilon: 0.3, Robust Accuracy: 0.0\n"
     ]
    },
    {
     "data": {
      "text/plain": "PGD - Batches: 0it [00:00, ?it/s]",
      "application/vnd.jupyter.widget-view+json": {
       "version_major": 2,
       "version_minor": 0,
       "model_id": "bb3180d99ebc480396c69dbdb0c95685"
      }
     },
     "metadata": {},
     "output_type": "display_data"
    },
    {
     "name": "stdout",
     "output_type": "stream",
     "text": [
      "1/1 [==============================] - 0s 34ms/step - loss: 755.8314 - accuracy: 0.0000e+00\n",
      "Epsilon: 0.5, Robust Accuracy: 0.0\n"
     ]
    }
   ],
   "source": [
    "small_cnn_model_padding.compile(optimizer='adam', loss=small_cnn_padding_loss_object, metrics=['accuracy'])\n",
    "classifier = TensorFlowV2Classifier(\n",
    "    model=small_cnn_model_padding,\n",
    "    loss_object=small_cnn_padding_loss_object,\n",
    "    input_shape=(17, 17, 1),\n",
    "    nb_classes=10,\n",
    "    clip_values=(0, 1),\n",
    ")\n",
    "eps_values = [0.001, 0.002, 0.005, 0.01, 0.05, 0.1, 0.3, 0.5]\n",
    "for eps in eps_values:\n",
    "    adversary = ProjectedGradientDescent(estimator=classifier, eps=eps, max_iter=100)\n",
    "    small_cnn_model_padding_adv_x = adversary.generate(x=batch_X.numpy(), y=batch_y.numpy())\n",
    "    distance_small_cnn_model_padding = np.linalg.norm(batch_X - small_cnn_model_padding_adv_x)\n",
    "    distances_small_cnn_model_padding.append(distance_small_cnn_model_padding)\n",
    "    # Evaluate the fcn_model data with your model\n",
    "    accuracy = small_cnn_model_padding.evaluate(small_cnn_model_padding_adv_x, batch_y)\n",
    "    accuracy_value = accuracy[1] * 100\n",
    "    accuracies_small_cnn_model_padding.append(accuracy_value)\n",
    "    print(\"Epsilon: {}, Robust Accuracy: {}\".format(eps, accuracy_value))"
   ],
   "metadata": {
    "collapsed": false,
    "pycharm": {
     "name": "#%%\n"
    }
   }
  },
  {
   "cell_type": "markdown",
   "source": [
    "#### Results on PGD:"
   ],
   "metadata": {
    "collapsed": false,
    "pycharm": {
     "name": "#%% md\n"
    }
   }
  },
  {
   "cell_type": "code",
   "execution_count": 88,
   "outputs": [
    {
     "data": {
      "text/plain": "<Figure size 432x288 with 1 Axes>",
      "image/png": "[encoded data removed]"
     },
     "metadata": {
      "needs_background": "light"
     },
     "output_type": "display_data"
    },
    {
     "data": {
      "text/plain": "<Figure size 432x288 with 1 Axes>",
      "image/png": "[encoded data removed]"
     },
     "metadata": {
      "needs_background": "light"
     },
     "output_type": "display_data"
    }
   ],
   "source": [
    "\n",
    "# Plot the accuracies for each model\n",
    "plt.plot(eps_values, accuracies_small_cnn_model, label=\"small_cnn_model\")\n",
    "plt.plot(eps_values, accuracies_small_cnn_model_padding, label=\"small_cnn_model_padding\")\n",
    "plt.plot(eps_values, accuracies_fcn_model, label=\"fcn_model\")\n",
    "plt.xlabel(\"Epsilon\")\n",
    "plt.ylabel(\"Accuracy (%)\")\n",
    "plt.title(\"Accuracy of Adversarial Examples by Epsilon\")\n",
    "plt.legend()\n",
    "plt.show()\n",
    "\n",
    "plt.plot(np.log10(eps_values), accuracies_small_cnn_model, marker='o', label=\"small_cnn_model\")\n",
    "plt.plot(np.log10(eps_values), accuracies_small_cnn_model_padding, marker='o', label=\"small_cnn_model_padding\")\n",
    "plt.plot(np.log10(eps_values), accuracies_fcn_model, marker='o', label=\"fcn_model\")\n",
    "plt.xlabel(\"Epsilon\")\n",
    "plt.ylabel(\"Accuracy (%)\")\n",
    "plt.title(\"Accuracy of Adversarial Examples by Epsilon Logarithmic\")\n",
    "plt.legend()\n",
    "plt.show()"
   ],
   "metadata": {
    "collapsed": false,
    "pycharm": {
     "name": "#%%\n"
    }
   }
  },
  {
   "cell_type": "code",
   "execution_count": 89,
   "outputs": [
    {
     "data": {
      "text/plain": "<Figure size 432x288 with 1 Axes>",
      "image/png": "[encoded data removed]"
     },
     "metadata": {
      "needs_background": "light"
     },
     "output_type": "display_data"
    }
   ],
   "source": [
    "# Plot of the distances for each model\n",
    "plt.plot(eps_values, distances_small_cnn_model, label=\"small_cnn_model\")\n",
    "plt.plot(eps_values, distances_small_cnn_model_padding, label=\"small_cnn_model_padding\")\n",
    "plt.plot(eps_values, distances_fcn_model, label=\"fcn_model\")\n",
    "plt.xlabel(\"Epsilon\")\n",
    "plt.ylabel(\"Distance\")\n",
    "plt.title(\"Distance between Batch_X and Adversarial Examples\")\n",
    "plt.legend()\n",
    "plt.show()"
   ],
   "metadata": {
    "collapsed": false,
    "pycharm": {
     "name": "#%%\n"
    }
   }
  },
  {
   "cell_type": "markdown",
   "source": [
    "### FGSM"
   ],
   "metadata": {
    "collapsed": false,
    "pycharm": {
     "name": "#%% md\n"
    }
   }
  },
  {
   "cell_type": "code",
   "execution_count": 81,
   "outputs": [
    {
     "data": {
      "text/plain": "<Figure size 432x288 with 1 Axes>",
      "image/png": "[encoded data removed]"
     },
     "metadata": {
      "needs_background": "light"
     },
     "output_type": "display_data"
    },
    {
     "data": {
      "text/plain": "<Figure size 432x288 with 1 Axes>",
      "image/png": "[encoded data removed]"
     },
     "metadata": {
      "needs_background": "light"
     },
     "output_type": "display_data"
    },
    {
     "data": {
      "text/plain": "<Figure size 432x288 with 1 Axes>",
      "image/png": "[encoded data removed]"
     },
     "metadata": {
      "needs_background": "light"
     },
     "output_type": "display_data"
    }
   ],
   "source": [
    "from art.attacks.evasion import FastGradientMethod\n",
    "\n",
    "# [0.2, 0.3, 0.4, 0.5, 0.6, 0.7, 0.8]\n",
    "eps_values = [0.001, 0.002, 0.005, 0.01, 0.05, 0.1, 0.3, 0.5]\n",
    "distances_small_cnn_model = []\n",
    "accuracies_small_cnn_model = []\n",
    "distances_small_cnn_model_padding = []\n",
    "accuracies_small_cnn_model_padding = []\n",
    "distances_fcn_model = []\n",
    "accuracies_fcn_model = []\n",
    "\n",
    "for eps in eps_values:\n",
    "    classifier_cnn = TensorFlowV2Classifier(\n",
    "        model=small_cnn_model,\n",
    "        loss_object=small_cnn_loss_object,\n",
    "        input_shape=(17, 17, 1),\n",
    "        nb_classes=10,\n",
    "        clip_values=(0, 1),\n",
    "    )\n",
    "    adversary_small_cnn_model = FastGradientMethod(estimator=classifier_cnn, eps=eps)\n",
    "    small_cnn_adv_x = adversary_small_cnn_model.generate(x=batch_X.numpy(), y=batch_y.numpy())\n",
    "\n",
    "    distance_small_cnn_model = np.linalg.norm(batch_X - small_cnn_adv_x)\n",
    "    distances_small_cnn_model.append(distance_small_cnn_model)\n",
    "    accuracy_small_cnn_model = small_cnn_model.evaluate(small_cnn_adv_x, batch_y, verbose=0)[1] * 100\n",
    "    accuracies_small_cnn_model.append(accuracy_small_cnn_model)\n",
    "\n",
    "    classifier_cnn_p = TensorFlowV2Classifier(\n",
    "        model=small_cnn_model_padding,\n",
    "        loss_object=small_cnn_padding_loss_object,\n",
    "        input_shape=(17, 17, 1),\n",
    "        nb_classes=10,\n",
    "        clip_values=(0, 1),\n",
    "    )\n",
    "    adversary_small_cnn_model_padding = FastGradientMethod(estimator=classifier_cnn_p, eps=eps)\n",
    "    small_cnn_adv_x_padding = adversary_small_cnn_model_padding.generate(x=batch_X.numpy(), y=batch_y.numpy())\n",
    "\n",
    "    distance_small_cnn_model_padding = np.linalg.norm(batch_X - small_cnn_adv_x_padding)\n",
    "    distances_small_cnn_model_padding.append(distance_small_cnn_model_padding)\n",
    "    accuracy_small_cnn_model_padding = small_cnn_model_padding.evaluate(small_cnn_adv_x_padding, batch_y, verbose=0)[1] * 100\n",
    "    accuracies_small_cnn_model_padding.append(accuracy_small_cnn_model_padding)\n",
    "\n",
    "    classifier_fcn = TensorFlowV2Classifier(\n",
    "        model=fcn_model,\n",
    "        loss_object=fcn_loss_object,\n",
    "        input_shape=(17, 17, 1),\n",
    "        nb_classes=10,\n",
    "        clip_values=(0, 1),\n",
    "    )\n",
    "    adversary_fcn_model = FastGradientMethod(estimator=classifier_fcn, eps=eps)\n",
    "    fcn_adv_x = adversary_fcn_model.generate(x=batch_X.numpy(), y=batch_y.numpy())\n",
    "\n",
    "    distance_fcn_model = np.linalg.norm(batch_X - fcn_adv_x)\n",
    "    distances_fcn_model.append(distance_fcn_model)\n",
    "    accuracy_fcn_model = fcn_model.evaluate(fcn_adv_x, batch_y, verbose=0)[1] * 100\n",
    "    accuracies_fcn_model.append(accuracy_fcn_model)\n",
    "\n",
    "plt.plot(eps_values, distances_small_cnn_model, label=\"small_cnn_model\")\n",
    "plt.plot(eps_values, distances_small_cnn_model_padding, label=\"small_cnn_model_padding\")\n",
    "plt.plot(eps_values, distances_fcn_model, label=\"fcn_model\")\n",
    "plt.xlabel(\"Epsilon\")\n",
    "plt.ylabel(\"Distance\")\n",
    "plt.title(\"Distance between Original and Adversarial Examples by Epsilon\")\n",
    "plt.legend()\n",
    "plt.show()\n",
    "\n",
    "plt.plot(eps_values, accuracies_small_cnn_model, marker='o', label=\"small_cnn_model\")\n",
    "plt.plot(eps_values, accuracies_small_cnn_model_padding, marker='o', label=\"small_cnn_model_padding\")\n",
    "plt.plot(eps_values, accuracies_fcn_model, marker='o', label=\"fcn_model\")\n",
    "plt.xlabel(\"Epsilon\")\n",
    "plt.ylabel(\"Accuracy (%)\")\n",
    "plt.title(\"Accuracy of Adversarial Examples by Epsilon\")\n",
    "plt.legend()\n",
    "plt.show()\n",
    "\n",
    "plt.plot(np.log10(eps_values), accuracies_small_cnn_model, marker='o', label=\"small_cnn_model\")\n",
    "plt.plot(np.log10(eps_values), accuracies_small_cnn_model_padding, marker='o', label=\"small_cnn_model_padding\")\n",
    "plt.plot(np.log10(eps_values), accuracies_fcn_model, marker='o', label=\"fcn_model\")\n",
    "plt.xlabel(\"Epsilon\")\n",
    "plt.ylabel(\"Accuracy (%)\")\n",
    "plt.title(\"Accuracy of Adversarial Examples by Epsilon Logarithmic\")\n",
    "plt.legend()\n",
    "plt.show()\n"
   ],
   "metadata": {
    "collapsed": false,
    "pycharm": {
     "name": "#%%\n"
    }
   }
  },
  {
   "cell_type": "markdown",
   "source": [
    "## Shift Invariance"
   ],
   "metadata": {
    "collapsed": false,
    "pycharm": {
     "name": "#%% md\n"
    }
   }
  },
  {
   "cell_type": "code",
   "execution_count": 75,
   "outputs": [
    {
     "data": {
      "text/plain": "<Figure size 432x288 with 1 Axes>",
      "image/png": "[encoded data removed]"
     },
     "metadata": {
      "needs_background": "light"
     },
     "output_type": "display_data"
    }
   ],
   "source": [
    "\n",
    "shift_range = 4\n",
    "num_shifts = 9\n",
    "shift_values = np.linspace(-shift_range, shift_range, num_shifts)\n",
    "\n",
    "models = [small_cnn_model, small_cnn_model_padding, fcn_model]\n",
    "model_names = ['small_cnn_model', 'small_cnn_model_padding', 'fcn_model']\n",
    "colors = ['red', 'green', 'blue']\n",
    "\n",
    "for model, model_name, color in zip(models, model_names, colors):\n",
    "    accuracies = []\n",
    "    for shift in shift_values:\n",
    "        shifted = np.roll(batch_X, int(shift), axis=1)\n",
    "        accuracy = model.evaluate(shifted, batch_y, verbose=0)[1]\n",
    "        accuracies.append(accuracy)\n",
    "\n",
    "    plt.plot(shift_values, accuracies, marker='o', color=color, label=model_name)\n",
    "\n",
    "\n",
    "plt.xlabel('Shift Value')\n",
    "plt.ylabel('Accuracy')\n",
    "plt.title('Accuracy Comparison for Shifted Images')\n",
    "plt.grid(True)\n",
    "plt.legend()\n",
    "plt.show()\n"
   ],
   "metadata": {
    "collapsed": false,
    "pycharm": {
     "name": "#%%\n"
    }
   }
  },
  {
   "cell_type": "markdown",
   "source": [
    "#### For k, changing k is only interesting for DDNL2Attack"
   ],
   "metadata": {
    "collapsed": false,
    "pycharm": {
     "name": "#%% md\n"
    }
   }
  },
  {
   "cell_type": "code",
   "execution_count": 104,
   "outputs": [],
   "source": [
    "from art.attacks.evasion import ProjectedGradientDescent\n",
    "from art.estimators.classification import TensorFlowV2Classifier\n",
    "k = 17\n",
    "criterion = SparseCategoricalCrossentropy()\n",
    "# Create the models\n",
    "small_cnn_np_model = create_small_cnn_np(k)\n",
    "fcn_model = create_fcn(k)\n",
    "small_cnn_model = create_small_cnn(k)\n",
    "\n",
    "# Compile the models\n",
    "small_cnn_np_model.compile(optimizer='adam', loss=criterion, metrics=['accuracy'])\n",
    "fcn_model.compile(optimizer='adam', loss=criterion, metrics=['accuracy'])"
   ],
   "metadata": {
    "collapsed": false,
    "pycharm": {
     "name": "#%%\n"
    }
   }
  }
 ],
 "metadata": {
  "kernelspec": {
   "display_name": "Python 3",
   "language": "python",
   "name": "python3"
  },
  "language_info": {
   "codemirror_mode": {
    "name": "ipython",
    "version": 2
   },
   "file_extension": ".py",
   "mimetype": "text/x-python",
   "name": "python",
   "nbconvert_exporter": "python",
   "pygments_lexer": "ipython2",
   "version": "2.7.6"
  }
 },
 "nbformat": 4,
 "nbformat_minor": 0
}