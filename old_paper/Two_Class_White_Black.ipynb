{
 "cells": [
  {
   "cell_type": "code",
   "execution_count": 2,
   "metadata": {
    "pycharm": {
     "name": "#%%\n"
    }
   },
   "outputs": [],
   "source": [
    "import torch\n",
    "import numpy as np\n",
    "from torch import nn\n",
    "from torch.nn import functional as F\n",
    "import matplotlib.pyplot as plt\n",
    "from advertorch.attacks import LinfPGDAttack, L2PGDAttack, DDNL2Attack\n",
    "import ipdb"
   ]
  },
  {
   "cell_type": "code",
   "execution_count": 3,
   "metadata": {
    "pycharm": {
     "name": "#%%\n"
    }
   },
   "outputs": [],
   "source": [
    "input_shape = (17, 17)"
   ]
  },
  {
   "cell_type": "code",
   "execution_count": 4,
   "metadata": {
    "pycharm": {
     "name": "#%%\n"
    }
   },
   "outputs": [],
   "source": [
    "class SmallCNN(nn.Module):\n",
    "    def __init__(self, activation=F.relu):\n",
    "        super(SmallCNN, self).__init__()\n",
    "        self.in_normalize = nn.BatchNorm2d(1)\n",
    "        self.conv1 = nn.Conv2d(1, 512, 17, padding=8, padding_mode='circular')\n",
    "        self.activation = activation\n",
    "        self.pool = nn.AdaptiveAvgPool2d((1, 1))\n",
    "        self.fc2 = nn.Linear(512, 2)\n",
    "        \n",
    "    def forward(self, x):\n",
    "        x = self.in_normalize(x)\n",
    "        x = self.activation(self.conv1(x))\n",
    "        x = self.pool(x)\n",
    "        x = x.view(-1, 512*1)\n",
    "        x = self.fc2(x)\n",
    "        return x\n",
    "    \n",
    "class FCNN(nn.Module):\n",
    "    def __init__(self, activation=F.relu):\n",
    "        super(FCNN, self).__init__()\n",
    "        self.in_normalize = nn.BatchNorm2d(1)\n",
    "        self.fc1 = nn.Linear(input_shape[0]*input_shape[1], 512)\n",
    "        self.activation = activation\n",
    "        self.fc2 = nn.Linear(512, 2)\n",
    "        \n",
    "    def forward(self, x):\n",
    "        x = self.in_normalize(x)\n",
    "        x = x.view(-1, input_shape[0]*input_shape[1])\n",
    "        x = self.activation(self.fc1(x))\n",
    "        x = self.fc2(x)\n",
    "        return x"
   ]
  },
  {
   "cell_type": "code",
   "execution_count": 5,
   "metadata": {
    "pycharm": {
     "name": "#%%\n"
    }
   },
   "outputs": [],
   "source": [
    "im_1 = np.zeros(input_shape)+0.5\n",
    "im_2 = im_1.copy()\n",
    "im_1[7][7]+=0.5\n",
    "im_2[7][7]-=0.5"
   ]
  },
  {
   "cell_type": "code",
   "execution_count": 6,
   "metadata": {
    "pycharm": {
     "name": "#%%\n"
    }
   },
   "outputs": [
    {
     "data": {
      "text/plain": "(2, 17, 17)"
     },
     "execution_count": 6,
     "metadata": {},
     "output_type": "execute_result"
    }
   ],
   "source": [
    "np.stack([im_1, im_2]).shape"
   ]
  },
  {
   "cell_type": "code",
   "execution_count": 43,
   "metadata": {
    "pycharm": {
     "name": "#%%\n"
    }
   },
   "outputs": [
    {
     "name": "stdout",
     "output_type": "stream",
     "text": [
      "Epoch: 100, Train Acc: 100.000, Loss : 0.580\n",
      "Epoch: 200, Train Acc: 100.000, Loss : 0.422\n",
      "Epoch: 300, Train Acc: 100.000, Loss : 0.237\n",
      "Epoch: 400, Train Acc: 100.000, Loss : 0.117\n",
      "Epoch: 500, Train Acc: 100.000, Loss : 0.063\n",
      "Epoch: 600, Train Acc: 100.000, Loss : 0.038\n",
      "Epoch: 700, Train Acc: 100.000, Loss : 0.026\n",
      "Epoch: 800, Train Acc: 100.000, Loss : 0.019\n",
      "Epoch: 900, Train Acc: 100.000, Loss : 0.018\n",
      "Epoch: 1000, Train Acc: 100.000, Loss : 0.018\n",
      "Epoch: 1100, Train Acc: 100.000, Loss : 0.017\n",
      "Epoch: 1200, Train Acc: 100.000, Loss : 0.017\n",
      "Epoch: 1300, Train Acc: 100.000, Loss : 0.017\n",
      "Epoch: 1400, Train Acc: 100.000, Loss : 0.016\n",
      "Epoch: 1500, Train Acc: 100.000, Loss : 0.016\n",
      "Epoch: 1600, Train Acc: 100.000, Loss : 0.015\n",
      "Epoch: 1700, Train Acc: 100.000, Loss : 0.015\n",
      "Epoch: 1800, Train Acc: 100.000, Loss : 0.015\n",
      "Epoch: 1900, Train Acc: 100.000, Loss : 0.014\n",
      "Epoch: 2000, Train Acc: 100.000, Loss : 0.014\n"
     ]
    }
   ],
   "source": [
    "# im_1 = im_1.\n",
    "data = np.stack([np.expand_dims(im_1, axis=0), np.expand_dims(im_2, axis=0)], axis=0)\n",
    "y = np.array([1, 0])\n",
    "batch_X, batch_y = torch.tensor(data).float().cuda(), torch.tensor(y).long().cuda()\n",
    "criterion = nn.CrossEntropyLoss()\n",
    "model_cnn = model = SmallCNN()\n",
    "#model_fc = model = FCNN()\n",
    "model = model.cuda()\n",
    "LR = 0.01\n",
    "opt = torch.optim.SGD(model.parameters(), lr = LR)\n",
    "\n",
    "\n",
    "for idx in range(2000):\n",
    "    total_loss = 0\n",
    "    total_acc = 0\n",
    "    output = model(batch_X)\n",
    "    loss = criterion(output, batch_y)\n",
    "    opt.zero_grad()\n",
    "    loss.backward()\n",
    "    opt.step()\n",
    "    total_loss+=loss*batch_y.size(0)\n",
    "    total_acc += (output.max(1)[1] == batch_y).sum().item()\n",
    "    if (idx+1) % 800==0:\n",
    "        opt.param_groups[0].update(lr=LR/10)\n",
    "    if (idx+1)%100==0:\n",
    "        print(\"Epoch: {}, Train Acc: {:.3f}, Loss : {:.3f}\".format(idx+1, total_acc*100./y.shape[0], total_loss/y.shape[0]))\n",
    "\n",
    "    "
   ]
  },
  {
   "cell_type": "code",
   "execution_count": 44,
   "metadata": {
    "pycharm": {
     "name": "#%%\n"
    }
   },
   "outputs": [
    {
     "data": {
      "text/plain": "SmallCNN(\n  (in_normalize): BatchNorm2d(1, eps=1e-05, momentum=0.1, affine=True, track_running_stats=True)\n  (conv1): Conv2d(1, 512, kernel_size=(17, 17), stride=(1, 1), padding=(8, 8), padding_mode=circular)\n  (pool): AdaptiveAvgPool2d(output_size=(1, 1))\n  (fc2): Linear(in_features=512, out_features=2, bias=True)\n)"
     },
     "execution_count": 44,
     "metadata": {},
     "output_type": "execute_result"
    }
   ],
   "source": [
    "model_cnn"
   ]
  },
  {
   "cell_type": "code",
   "execution_count": 45,
   "metadata": {
    "pycharm": {
     "name": "#%%\n"
    }
   },
   "outputs": [
    {
     "data": {
      "text/plain": "FCNN(\n  (in_normalize): BatchNorm2d(1, eps=1e-05, momentum=0.1, affine=True, track_running_stats=True)\n  (fc1): Linear(in_features=289, out_features=512, bias=True)\n  (fc2): Linear(in_features=512, out_features=2, bias=True)\n)"
     },
     "execution_count": 45,
     "metadata": {},
     "output_type": "execute_result"
    }
   ],
   "source": [
    "model_fc"
   ]
  },
  {
   "cell_type": "code",
   "execution_count": 46,
   "metadata": {
    "pycharm": {
     "name": "#%%\n"
    }
   },
   "outputs": [],
   "source": [
    "model_cnn = model_cnn.eval()\n",
    "model_fc = model_fc.eval()"
   ]
  },
  {
   "cell_type": "code",
   "execution_count": 47,
   "outputs": [],
   "source": [
    "model_cnn = model_cnn.to('cuda')\n",
    "model_fc = model_fc.to('cuda')"
   ],
   "metadata": {
    "collapsed": false,
    "pycharm": {
     "name": "#%%\n"
    }
   }
  },
  {
   "cell_type": "code",
   "execution_count": 48,
   "metadata": {
    "pycharm": {
     "name": "#%%\n"
    }
   },
   "outputs": [],
   "source": [
    "def test_pgd(X, y, adversary, batch_size):\n",
    "    SPLITS = int(X.shape[0]/batch_size)\n",
    "    total_acc = 0\n",
    "    for idx in range(SPLITS):\n",
    "        s1, s2 = idx*batch_size, min((idx+1)*batch_size, X.shape[0])\n",
    "#         ipdb.set_trace()\n",
    "        batch_X, batch_y = X[s1:s2,:,:,:], y[s1:s2]\n",
    "        batch_X, batch_y = torch.tensor(batch_X).float().cuda(), torch.tensor(batch_y).long().cuda()\n",
    "#         ipdb.set_trace()\n",
    "        adv_untargeted = adversary.perturb(batch_X, batch_y)\n",
    "        robust_out = model(adv_untargeted)\n",
    "        total_acc += (robust_out.max(1)[1] == batch_y).sum().item()\n",
    "        \n",
    "#     print(\"Test Robust Acc: {:.3f}\".format(total_acc*100./y.shape[0]))\n",
    "    return total_acc*100./y.shape[0]\n",
    "\n",
    "def test_pgd_ddn(X, y, adversary, batch_size):\n",
    "    SPLITS = int(X.shape[0]/batch_size)\n",
    "    total_acc = 0\n",
    "    for idx in range(SPLITS):\n",
    "        s1, s2 = idx*batch_size, min((idx+1)*batch_size, X.shape[0])\n",
    "#         ipdb.set_trace()\n",
    "        batch_X, batch_y = X[s1:s2,:,:,:], y[s1:s2]\n",
    "        batch_X, batch_y = torch.tensor(batch_X).float().cuda(), torch.tensor(batch_y).long().cuda()\n",
    "#         ipdb.set_trace()\n",
    "        adv_untargeted = adversary.perturb(batch_X, batch_y)\n",
    "        robust_out = model(adv_untargeted)\n",
    "        total_acc += (robust_out.max(1)[1] == batch_y).sum().item()\n",
    "        \n",
    "#     print(\"Test Robust Acc: {:.3f}\".format(total_acc*100./y.shape[0]))\n",
    "    return total_acc*100./y.shape[0], adv_untargeted\n",
    "\n",
    "def l2_norms_diff(x, y):\n",
    "    x = x.reshape(x.shape[0], -1).cpu().numpy()\n",
    "    y = y.reshape(y.shape[0], -1)\n",
    "    norms = np.linalg.norm(x-y, ord=2, axis=1)\n",
    "    return norms, norms.mean(), np.median(norms)"
   ]
  },
  {
   "cell_type": "code",
   "execution_count": 49,
   "metadata": {
    "pycharm": {
     "name": "#%%\n"
    }
   },
   "outputs": [
    {
     "name": "stderr",
     "output_type": "stream",
     "text": [
      "C:\\Users\\anass\\anaconda3\\envs\\handson-ml3\\lib\\site-packages\\advertorch\\attacks\\decoupled_direction_norm.py:48: UserWarning: This Attack currently does not support a different loss function other than the default. Setting loss_fn manually is not effective.\n",
      "  warnings.warn(\n",
      "C:\\Users\\anass\\anaconda3\\envs\\handson-ml3\\lib\\site-packages\\torch\\optim\\lr_scheduler.py:139: UserWarning: Detected call of `lr_scheduler.step()` before `optimizer.step()`. In PyTorch 1.1.0 and later, you should call them in the opposite order: `optimizer.step()` before `lr_scheduler.step()`.  Failure to do this will result in PyTorch skipping the first value of the learning rate schedule. See more details at https://pytorch.org/docs/stable/optim.html#how-to-adjust-learning-rate\n",
      "  warnings.warn(\"Detected call of `lr_scheduler.step()` before `optimizer.step()`. \"\n"
     ]
    },
    {
     "name": "stdout",
     "output_type": "stream",
     "text": [
      "CNN Mean Norm: 0.02951764893844461\n",
      "FC Mean Norm: 0.33991949597671944\n"
     ]
    }
   ],
   "source": [
    "range_input = (data.max() - data.min())\n",
    "\n",
    "adversary = DDNL2Attack(model_cnn, loss_fn=nn.CrossEntropyLoss(reduction=\"sum\"),\n",
    "                nb_iter=1000, clip_min=data.min(), clip_max=data.max(), quantize=False,\n",
    "                targeted=False)\n",
    "robust_acc, adv_data = test_pgd_ddn(data, y, adversary, 2)\n",
    "# print(\"Epsilon : {}, Robust Accuracy: {}\".format(eps, robust_acc))\n",
    "norms, mean_norm, median_norm = l2_norms_diff(adv_data, data)\n",
    "print(\"CNN Mean Norm: {}\".format(mean_norm))\n",
    "\n",
    "adversary = DDNL2Attack(model_fc, loss_fn=nn.CrossEntropyLoss(reduction=\"sum\"),\n",
    "                nb_iter=1000, clip_min=data.min(), clip_max=data.max(), quantize=False,\n",
    "                targeted=False)\n",
    "robust_acc, adv_data = test_pgd_ddn(data, y, adversary, 2)\n",
    "# print(\"Epsilon : {}, Robust Accuracy: {}\".format(eps, robust_acc))\n",
    "norms, mean_norm, median_norm = l2_norms_diff(adv_data, data)\n",
    "print(\"FC Mean Norm: {}\".format(mean_norm))"
   ]
  },
  {
   "cell_type": "code",
   "execution_count": 50,
   "metadata": {
    "pycharm": {
     "name": "#%%\n"
    }
   },
   "outputs": [
    {
     "data": {
      "text/plain": "tensor([8.5187, 8.4697], device='cuda:0')"
     },
     "execution_count": 50,
     "metadata": {},
     "output_type": "execute_result"
    }
   ],
   "source": [
    "torch.norm(adv_data.reshape(data.shape[0], -1), p=2, dim=1)"
   ]
  },
  {
   "cell_type": "code",
   "execution_count": 50,
   "metadata": {
    "pycharm": {
     "name": "#%%\n"
    }
   },
   "outputs": [],
   "source": []
  },
  {
   "cell_type": "code",
   "execution_count": 51,
   "metadata": {
    "pycharm": {
     "name": "#%%\n"
    }
   },
   "outputs": [
    {
     "data": {
      "text/plain": "tensor([[[[0.4629, 0.5096, 0.5055, 0.5053, 0.4953, 0.4883, 0.4678, 0.4957,\n           0.4837, 0.5155, 0.5070, 0.4833, 0.4976, 0.5073, 0.5128, 0.4872,\n           0.4845],\n          [0.4761, 0.5206, 0.4733, 0.5313, 0.4764, 0.4872, 0.5343, 0.4868,\n           0.4983, 0.4921, 0.4755, 0.4996, 0.4965, 0.5097, 0.5126, 0.4796,\n           0.4958],\n          [0.5225, 0.4791, 0.5052, 0.5186, 0.4905, 0.5142, 0.4825, 0.5039,\n           0.4962, 0.4962, 0.5000, 0.4875, 0.4954, 0.4844, 0.5019, 0.4928,\n           0.4995],\n          [0.4906, 0.5179, 0.5028, 0.5052, 0.4964, 0.5150, 0.4940, 0.5051,\n           0.4711, 0.4781, 0.5207, 0.4985, 0.5065, 0.4872, 0.5053, 0.5105,\n           0.5025],\n          [0.4964, 0.5102, 0.4996, 0.5080, 0.5143, 0.4986, 0.5002, 0.4983,\n           0.4920, 0.5163, 0.5360, 0.5107, 0.5210, 0.5124, 0.5061, 0.4723,\n           0.4947],\n          [0.5084, 0.5256, 0.5020, 0.5261, 0.5062, 0.4835, 0.4961, 0.5413,\n           0.4773, 0.5071, 0.5001, 0.5032, 0.4991, 0.5023, 0.5163, 0.5310,\n           0.4831],\n          [0.4908, 0.4959, 0.4987, 0.5056, 0.4985, 0.4887, 0.5000, 0.4993,\n           0.5028, 0.4965, 0.4879, 0.4899, 0.4913, 0.4913, 0.4812, 0.5028,\n           0.4971],\n          [0.4768, 0.4967, 0.4759, 0.5378, 0.5066, 0.5102, 0.5100, 0.7532,\n           0.4926, 0.5068, 0.5266, 0.4908, 0.5048, 0.5001, 0.5146, 0.4968,\n           0.4888],\n          [0.4945, 0.5212, 0.4965, 0.5059, 0.5235, 0.4958, 0.4816, 0.4994,\n           0.5023, 0.5024, 0.4875, 0.4918, 0.4956, 0.5126, 0.4908, 0.4885,\n           0.4943],\n          [0.5181, 0.4925, 0.5047, 0.5018, 0.4889, 0.4887, 0.5183, 0.4971,\n           0.4971, 0.5167, 0.4869, 0.4813, 0.5168, 0.4971, 0.5039, 0.4956,\n           0.4874],\n          [0.4843, 0.4762, 0.4984, 0.5031, 0.5005, 0.4689, 0.4980, 0.4914,\n           0.4756, 0.4950, 0.5478, 0.5226, 0.5073, 0.5151, 0.4894, 0.5049,\n           0.4935],\n          [0.5282, 0.5077, 0.4866, 0.5021, 0.4710, 0.5069, 0.5106, 0.4753,\n           0.4839, 0.5100, 0.4744, 0.4930, 0.4969, 0.4983, 0.5049, 0.5226,\n           0.4802],\n          [0.5021, 0.4884, 0.4961, 0.4870, 0.5306, 0.5134, 0.5161, 0.4929,\n           0.5166, 0.5157, 0.5134, 0.4958, 0.5047, 0.4869, 0.4949, 0.4858,\n           0.5207],\n          [0.5142, 0.4987, 0.5044, 0.4945, 0.5129, 0.4858, 0.4843, 0.4838,\n           0.5004, 0.4995, 0.4987, 0.5244, 0.5057, 0.5019, 0.4927, 0.4920,\n           0.5037],\n          [0.5029, 0.4739, 0.5074, 0.5020, 0.4821, 0.4960, 0.5131, 0.5100,\n           0.5096, 0.5198, 0.5026, 0.4834, 0.4841, 0.4986, 0.4748, 0.4922,\n           0.5067],\n          [0.4971, 0.4782, 0.4868, 0.4789, 0.5155, 0.5176, 0.5214, 0.5231,\n           0.4913, 0.5164, 0.5208, 0.5154, 0.4888, 0.4952, 0.5153, 0.4749,\n           0.5042],\n          [0.5195, 0.4831, 0.5099, 0.4774, 0.5253, 0.5175, 0.4955, 0.5257,\n           0.4998, 0.5023, 0.4961, 0.4858, 0.4710, 0.4917, 0.4882, 0.5155,\n           0.4917]]],\n\n\n        [[[0.5221, 0.4540, 0.5003, 0.4775, 0.4784, 0.4981, 0.5118, 0.4852,\n           0.5209, 0.4974, 0.4950, 0.5079, 0.4860, 0.5133, 0.5097, 0.4876,\n           0.5054],\n          [0.5051, 0.4933, 0.5299, 0.4778, 0.5053, 0.5054, 0.5056, 0.5049,\n           0.4916, 0.5108, 0.5122, 0.5118, 0.4738, 0.4917, 0.4945, 0.4988,\n           0.5141],\n          [0.5012, 0.5076, 0.4955, 0.5016, 0.4889, 0.4809, 0.5231, 0.5099,\n           0.4941, 0.5220, 0.4953, 0.5175, 0.4972, 0.5259, 0.4945, 0.5001,\n           0.5011],\n          [0.5148, 0.5128, 0.4901, 0.5123, 0.5165, 0.4786, 0.5119, 0.4913,\n           0.5128, 0.4957, 0.5089, 0.5138, 0.4816, 0.5098, 0.4785, 0.4822,\n           0.5082],\n          [0.4780, 0.4760, 0.5222, 0.4894, 0.4890, 0.4846, 0.5001, 0.4772,\n           0.5109, 0.4987, 0.4562, 0.5090, 0.4818, 0.4986, 0.4931, 0.5217,\n           0.4922],\n          [0.4756, 0.4755, 0.4954, 0.5082, 0.4946, 0.5026, 0.4955, 0.4913,\n           0.4915, 0.5067, 0.5095, 0.4899, 0.5323, 0.4703, 0.4858, 0.4627,\n           0.4933],\n          [0.5012, 0.4799, 0.5092, 0.5066, 0.4976, 0.5051, 0.5184, 0.4945,\n           0.4901, 0.4939, 0.4933, 0.5036, 0.4813, 0.5057, 0.5104, 0.4959,\n           0.4938],\n          [0.4944, 0.5074, 0.5217, 0.4863, 0.4998, 0.5031, 0.4751, 0.2158,\n           0.5389, 0.4985, 0.4870, 0.5083, 0.5013, 0.4971, 0.5073, 0.5036,\n           0.5225],\n          [0.4823, 0.4823, 0.4943, 0.5107, 0.4745, 0.4811, 0.4890, 0.4953,\n           0.5060, 0.4995, 0.4922, 0.5104, 0.4786, 0.5051, 0.4852, 0.4974,\n           0.5163],\n          [0.4911, 0.4837, 0.5058, 0.4906, 0.5398, 0.4908, 0.5172, 0.4679,\n           0.4781, 0.4951, 0.5140, 0.5033, 0.4987, 0.5118, 0.4793, 0.4933,\n           0.5111],\n          [0.5099, 0.5092, 0.5055, 0.4902, 0.5022, 0.5101, 0.4917, 0.4938,\n           0.5142, 0.4983, 0.4718, 0.4890, 0.5062, 0.5069, 0.5004, 0.4996,\n           0.4955],\n          [0.4744, 0.4919, 0.4930, 0.5145, 0.5273, 0.4763, 0.5088, 0.4917,\n           0.5223, 0.4634, 0.5011, 0.4805, 0.5030, 0.5097, 0.4963, 0.4864,\n           0.4967],\n          [0.4909, 0.5141, 0.4926, 0.4939, 0.4737, 0.5044, 0.5119, 0.4968,\n           0.5025, 0.4713, 0.5017, 0.5080, 0.4988, 0.4973, 0.4994, 0.5195,\n           0.4788],\n          [0.4871, 0.4934, 0.5214, 0.5350, 0.4895, 0.4876, 0.5104, 0.4758,\n           0.4938, 0.4923, 0.5190, 0.4989, 0.5141, 0.5194, 0.4979, 0.5006,\n           0.4979],\n          [0.4865, 0.5039, 0.4744, 0.5116, 0.5182, 0.4922, 0.5229, 0.5055,\n           0.4904, 0.5023, 0.5147, 0.5195, 0.4909, 0.4810, 0.4987, 0.4893,\n           0.5126],\n          [0.5067, 0.5069, 0.4944, 0.5185, 0.4877, 0.4827, 0.4665, 0.5135,\n           0.5109, 0.4943, 0.4808, 0.5075, 0.5021, 0.4957, 0.4974, 0.5178,\n           0.5045],\n          [0.4756, 0.5140, 0.4767, 0.5072, 0.4839, 0.4740, 0.4937, 0.5074,\n           0.5112, 0.4983, 0.5057, 0.5084, 0.5042, 0.5121, 0.5050, 0.4931,\n           0.5163]]]], device='cuda:0')"
     },
     "execution_count": 51,
     "metadata": {},
     "output_type": "execute_result"
    }
   ],
   "source": [
    "adv_data"
   ]
  },
  {
   "cell_type": "code",
   "execution_count": 52,
   "metadata": {
    "pycharm": {
     "name": "#%%\n"
    }
   },
   "outputs": [
    {
     "data": {
      "text/plain": "(2, 1, 17, 17)"
     },
     "execution_count": 52,
     "metadata": {},
     "output_type": "execute_result"
    }
   ],
   "source": [
    "data.shape"
   ]
  },
  {
   "cell_type": "code",
   "execution_count": 53,
   "metadata": {
    "pycharm": {
     "name": "#%%\n"
    }
   },
   "outputs": [
    {
     "name": "stdout",
     "output_type": "stream",
     "text": [
      "Epsilon : 0.001, Robust Accuracy: 100.0\n",
      "Epsilon : 0.002, Robust Accuracy: 0.0\n",
      "Epsilon : 0.005, Robust Accuracy: 0.0\n",
      "Epsilon : 0.01, Robust Accuracy: 0.0\n",
      "Epsilon : 0.02, Robust Accuracy: 0.0\n",
      "Epsilon : 0.03, Robust Accuracy: 0.0\n",
      "Epsilon : 0.04, Robust Accuracy: 0.0\n",
      "Epsilon : 0.05, Robust Accuracy: 0.0\n"
     ]
    }
   ],
   "source": [
    "range_input = (data.max() - data.min())\n",
    "\n",
    "for eps in [0.001, 0.002, 0.005, 0.01, 0.02, 0.03, 0.04, 0.05]:\n",
    "    range_attack = range_input*eps\n",
    "    step_attack = range_attack/50\n",
    "    adversary = LinfPGDAttack(model_cnn, loss_fn=nn.CrossEntropyLoss(reduction=\"sum\"), eps=range_attack,\n",
    "                    nb_iter=100, eps_iter=step_attack, rand_init=True, clip_min=data.min(), clip_max=data.max(),\n",
    "                    targeted=False)\n",
    "    robust_acc = test_pgd(data, y, adversary, 2)\n",
    "    print(\"Epsilon : {}, Robust Accuracy: {}\".format(eps, robust_acc))"
   ]
  },
  {
   "cell_type": "code",
   "execution_count": 54,
   "metadata": {
    "pycharm": {
     "name": "#%%\n"
    }
   },
   "outputs": [
    {
     "name": "stdout",
     "output_type": "stream",
     "text": [
      "Epsilon : 0.01, Robust Accuracy: 100.0\n",
      "Epsilon : 0.02, Robust Accuracy: 100.0\n",
      "Epsilon : 0.03, Robust Accuracy: 100.0\n",
      "Epsilon : 0.04, Robust Accuracy: 0.0\n",
      "Epsilon : 0.05, Robust Accuracy: 0.0\n",
      "Epsilon : 0.06, Robust Accuracy: 0.0\n",
      "Epsilon : 0.07, Robust Accuracy: 0.0\n",
      "Epsilon : 0.08, Robust Accuracy: 0.0\n"
     ]
    }
   ],
   "source": [
    "range_input = (data.max() - data.min())\n",
    "\n",
    "for eps in [0.01, 0.02, 0.03, 0.04, 0.05, 0.06, 0.07, 0.08]:\n",
    "    range_attack = range_input*eps\n",
    "    step_attack = range_attack/50\n",
    "    adversary = L2PGDAttack(model_cnn, loss_fn=nn.CrossEntropyLoss(reduction=\"sum\"), eps=range_attack,\n",
    "                    nb_iter=100, eps_iter=step_attack, rand_init=True, clip_min=data.min(), clip_max=data.max(),\n",
    "                    targeted=False)\n",
    "    robust_acc = test_pgd(data, y, adversary, 2)\n",
    "    print(\"Epsilon : {}, Robust Accuracy: {}\".format(eps, robust_acc))"
   ]
  },
  {
   "cell_type": "markdown",
   "metadata": {
    "pycharm": {
     "name": "#%% md\n"
    }
   },
   "source": [
    "CNN Model <br>\n",
    "Epsilon : 0.001, Robust Accuracy: 100.0 <br>\n",
    "Epsilon : 0.002, Robust Accuracy: 100.0 <br>\n",
    "Epsilon : 0.005, Robust Accuracy: 0.0 <br>\n",
    "Epsilon : 0.01, Robust Accuracy: 0.0 <br>\n",
    "Epsilon : 0.02, Robust Accuracy: 0.0 <br>\n",
    "Epsilon : 0.03, Robust Accuracy: 0.0 <br>\n",
    "Epsilon : 0.04, Robust Accuracy: 0.0 <br>\n",
    "Epsilon : 0.05, Robust Accuracy: 0.0 <br>"
   ]
  },
  {
   "cell_type": "markdown",
   "metadata": {
    "pycharm": {
     "name": "#%% md\n"
    }
   },
   "source": [
    "FC Model <br>\n",
    "Epsilon : 0.001, Robust Accuracy: 100.0 <br>\n",
    "Epsilon : 0.002, Robust Accuracy: 100.0 <br>\n",
    "Epsilon : 0.005, Robust Accuracy: 100.0 <br>\n",
    "Epsilon : 0.01, Robust Accuracy: 100.0 <br>\n",
    "Epsilon : 0.02, Robust Accuracy: 100.0 <br>\n",
    "Epsilon : 0.03, Robust Accuracy: 100.0 <br>\n",
    "Epsilon : 0.04, Robust Accuracy: 100.0 <br>\n",
    "Epsilon : 0.05, Robust Accuracy: 0.0 <br>"
   ]
  },
  {
   "cell_type": "markdown",
   "metadata": {
    "pycharm": {
     "name": "#%% md\n"
    }
   },
   "source": [
    "## PREVIOUS EXPERIMENTS DISCARDDD"
   ]
  },
  {
   "cell_type": "markdown",
   "metadata": {
    "pycharm": {
     "name": "#%% md\n"
    }
   },
   "source": [
    "FC Model <br>\n",
    "Epsilon : 0.01, Robust Accuracy: 100.0 <br>\n",
    "Epsilon : 0.02, Robust Accuracy: 100.0 <br>\n",
    "Epsilon : 0.03, Robust Accuracy: 100.0 <br>\n",
    "Epsilon : 0.04, Robust Accuracy: 100.0 <br>\n",
    "Epsilon : 0.05, Robust Accuracy: 100.0 <br>\n",
    "Epsilon : 0.06, Robust Accuracy: 50.0 <br>\n",
    "Epsilon : 0.07, Robust Accuracy: 100.0 <br>\n",
    "Epsilon : 0.08, Robust Accuracy: 100.0 <br>\n",
    "Epsilon : 0.09, Robust Accuracy: 0.0 <br>\n",
    "Epsilon : 0.1, Robust Accuracy: 100.0 <br>\n",
    "<br>\n",
    "CNN Model <br>\n",
    "Epsilon : 0.01, Robust Accuracy: 0.0 <br>\n",
    "Epsilon : 0.02, Robust Accuracy: 0.0 <br>\n",
    "Epsilon : 0.03, Robust Accuracy: 0.0 <br>\n",
    "Epsilon : 0.04, Robust Accuracy: 0.0 <br>\n",
    "Epsilon : 0.05, Robust Accuracy: 0.0 <br>\n",
    "Epsilon : 0.06, Robust Accuracy: 0.0 <br>\n",
    "Epsilon : 0.07, Robust Accuracy: 0.0 <br>\n",
    "Epsilon : 0.08, Robust Accuracy: 0.0 <br>\n",
    "Epsilon : 0.09, Robust Accuracy: 0.0 <br>\n",
    "Epsilon : 0.1, Robust Accuracy: 0.0 <br>"
   ]
  },
  {
   "cell_type": "code",
   "execution_count": null,
   "metadata": {
    "pycharm": {
     "name": "#%%\n"
    }
   },
   "outputs": [],
   "source": [
    "range_input = np.linalg.norm(data.reshape((data.shape[0], -1)), ord=2, axis=1).mean()\n",
    "\n",
    "for eps in [0.2, 0.3, 0.4, 0.5, 0.6, 0.7, 0.8]:\n",
    "    range_attack = range_input*eps\n",
    "    step_attack = range_attack/10\n",
    "    adversary = L2PGDAttack(model_cnn, loss_fn=nn.CrossEntropyLoss(reduction=\"sum\"), eps=range_attack,\n",
    "                    nb_iter=50, eps_iter=step_attack, rand_init=True, clip_min=data.min(), clip_max=data.max(),\n",
    "                    targeted=False)\n",
    "    robust_acc = test_pgd(data, y, adversary, 2)\n",
    "    print(\"Epsilon : {}, Robust Accuracy: {}\".format(eps, robust_acc))"
   ]
  },
  {
   "cell_type": "code",
   "execution_count": null,
   "metadata": {
    "pycharm": {
     "name": "#%%\n"
    }
   },
   "outputs": [],
   "source": []
  }
 ],
 "metadata": {
  "kernelspec": {
   "name": "python3",
   "language": "python",
   "display_name": "Python 3 (ipykernel)"
  },
  "language_info": {
   "codemirror_mode": {
    "name": "ipython",
    "version": 3
   },
   "file_extension": ".py",
   "mimetype": "text/x-python",
   "name": "python",
   "nbconvert_exporter": "python",
   "pygments_lexer": "ipython3",
   "version": "3.6.12"
  }
 },
 "nbformat": 4,
 "nbformat_minor": 4
}