{
 "cells": [
  {
   "cell_type": "code",
   "execution_count": null,
   "outputs": [],
   "source": [
    "%load_ext autoreload\n",
    "%autoreload 2"
   ],
   "metadata": {
    "collapsed": false,
    "pycharm": {
     "name": "#%%\n"
    }
   }
  },
  {
   "cell_type": "code",
   "execution_count": null,
   "outputs": [],
   "source": [
    "import sys\n",
    "sys.path.insert(0, r'C:\\Users\\anass\\Desktop\\TUM\\Courses\\Practical\\old_paper\\shift-invariance-adv-robustness')"
   ],
   "metadata": {
    "collapsed": false,
    "pycharm": {
     "name": "#%%\n"
    }
   }
  },
  {
   "cell_type": "code",
   "execution_count": null,
   "outputs": [],
   "source": [
    "import torch\n",
    "import torch.nn as nn\n",
    "import os\n",
    "from advertorch.attacks import LinfPGDAttack, L2PGDAttack\n",
    "#from models.basic_models import CNN, NeuralNet\n",
    "\n",
    "#from utils import get_loaders_mnist\n",
    "import argparse\n",
    "import logging"
   ],
   "metadata": {
    "collapsed": false,
    "pycharm": {
     "name": "#%%\n"
    }
   }
  },
  {
   "cell_type": "code",
   "execution_count": null,
   "outputs": [],
   "source": [
    "def get_loaders_mnist(classes, batch_size):\n",
    "    # MNIST dataset\n",
    "    train_dataset = CustomMNIST(root='../datasets/',\n",
    "                                train=True,\n",
    "                                transform=transforms.ToTensor(),\n",
    "                                classes=classes)\n",
    "\n",
    "    test_dataset = CustomMNIST(root='../datasets/',\n",
    "                               train=False,\n",
    "                               transform=transforms.ToTensor(),\n",
    "                               classes=classes)\n",
    "\n",
    "    # Data loader\n",
    "    train_loader = torch.utils.data.DataLoader(dataset=train_dataset,\n",
    "                                               batch_size=batch_size,\n",
    "                                               shuffle=False)\n",
    "\n",
    "    test_loader = torch.utils.data.DataLoader(dataset=test_dataset,\n",
    "                                              batch_size=1,\n",
    "                                              shuffle=False)\n",
    "    return train_loader, test_loader"
   ],
   "metadata": {
    "collapsed": false,
    "pycharm": {
     "name": "#%%\n"
    }
   }
  },
  {
   "cell_type": "code",
   "execution_count": null,
   "outputs": [],
   "source": [
    "class CNN(nn.Module):\n",
    "    def __init__(self, hidden_channels=1024, kernel_size=5, num_classes=1, no_final=False):\n",
    "        super(CNN, self).__init__()\n",
    "        self.hidden_channels = hidden_channels\n",
    "        self.in_normalize = nn.BatchNorm2d(1)\n",
    "        padding_size = kernel_size // 2\n",
    "        self.conv1 = nn.Conv2d(1, hidden_channels, kernel_size=kernel_size,\n",
    "                               padding=padding_size, padding_mode='circular')\n",
    "        self.activation = nn.ReLU()\n",
    "        self.pool = nn.AdaptiveAvgPool2d((1, 1))\n",
    "        self.no_final = no_final\n",
    "        self.final = nn.Linear(hidden_channels, num_classes)\n",
    "        self.final_act = nn.Tanh()\n",
    "\n",
    "    def forward(self, x):\n",
    "        x = self.in_normalize(x)\n",
    "        x = self.activation(self.conv1(x))\n",
    "        x = self.pool(x)\n",
    "        x = x.view(-1, self.hidden_channels * 1)\n",
    "        x = self.final(x)\n",
    "        if not self.no_final:\n",
    "            x = self.final_act(x)\n",
    "        return x.squeeze()\n"
   ],
   "metadata": {
    "collapsed": false,
    "pycharm": {
     "name": "#%%\n"
    }
   }
  },
  {
   "cell_type": "code",
   "execution_count": 15,
   "outputs": [],
   "source": [
    "class NeuralNet(nn.Module):\n",
    "    def __init__(self, input_size, hidden_layers, hidden_size, num_classes, no_final=False):\n",
    "        super(NeuralNet, self).__init__()\n",
    "        self.in_normalize = nn.BatchNorm1d(input_size)\n",
    "        self.num_hidden_layers = hidden_layers\n",
    "        self.input_size = input_size\n",
    "        self.hidden_linear = nn.ModuleList()\n",
    "        self.hidden_act = nn.ModuleList()\n",
    "        for idx in range(hidden_layers):\n",
    "            if idx == 0:\n",
    "                self.hidden_linear.append(nn.Linear(input_size, hidden_size))\n",
    "            else:\n",
    "                self.hidden_linear.append(nn.Linear(hidden_size, hidden_size))\n",
    "            self.hidden_act.append(nn.ReLU())\n",
    "\n",
    "        self.final = nn.Linear(hidden_size, num_classes)\n",
    "        self.no_final = no_final\n",
    "        self.final_act = nn.Tanh()\n",
    "\n",
    "    def forward(self, x):\n",
    "        out = x.reshape(-1, self.input_size)\n",
    "        out = self.in_normalize(out)\n",
    "        for (linear, act) in zip(self.hidden_linear, self.hidden_act):\n",
    "            out = linear(out)\n",
    "            out = act(out)\n",
    "        out = self.final(out)\n",
    "        if not self.no_final:\n",
    "            out = self.final_act(out)\n",
    "        return out"
   ],
   "metadata": {
    "collapsed": false,
    "pycharm": {
     "name": "#%%\n"
    }
   }
  },
  {
   "cell_type": "code",
   "execution_count": 16,
   "outputs": [],
   "source": [
    "logger = logging.getLogger(__name__)\n"
   ],
   "metadata": {
    "collapsed": false,
    "pycharm": {
     "name": "#%%\n"
    }
   }
  },
  {
   "cell_type": "code",
   "execution_count": 17,
   "outputs": [],
   "source": [
    "def parse_args():\n",
    "    parser = argparse.ArgumentParser()\n",
    "    parser.add_argument('--model-type', choices=['cnn', 'fc'])\n",
    "    parser.add_argument('--classes', type=str)\n",
    "    parser.add_argument('--epochs', default=50, type=int)\n",
    "    parser.add_argument('--batch-size', default=100, type=int)\n",
    "    parser.add_argument('--hidden-size', default=5000, type=int)\n",
    "    parser.add_argument('--hidden-layers', default=1, type=int)\n",
    "    parser.add_argument('--kernel-size', default=7, type=int)\n",
    "    parser.add_argument('--hidden-channels', default=1024, type=int)\n",
    "    parser.add_argument('--learning-rate', default=0.001, type=float)\n",
    "    parser.add_argument('--batches-use', default='all')\n",
    "    parser.add_argument('--out-dir', type=str)\n",
    "    parser.add_argument('--epsilons', type=str)\n",
    "    parser.add_argument('--attack-type', choices=['l2', 'linf'])\n",
    "    parser.add_argument('--eval-only', action='store_true')\n",
    "    return parser.parse_args()\n",
    "\n",
    "def train(model, train_loader, criterion, optimizer, device, num_epochs, batches_use):\n",
    "    # Train the model\n",
    "    total_step = len(train_loader)\n",
    "    for epoch in range(num_epochs):\n",
    "        correct = 0\n",
    "        total = 0\n",
    "        for i, (images, labels) in enumerate(train_loader):\n",
    "            # Move tensors to the configured device\n",
    "            #         images = images.reshape(-1, 28*28).to(device)\n",
    "            images = images.to(device)\n",
    "            labels = labels.to(device)\n",
    "\n",
    "            # Forward pass\n",
    "            outputs = model(images)\n",
    "            loss = criterion(outputs, labels)\n",
    "\n",
    "            total += labels.size(0)\n",
    "            correct += (outputs.sign() == labels.sign()).sum().item()\n",
    "\n",
    "            # Backprpagation and optimization\n",
    "            optimizer.zero_grad()\n",
    "            loss.backward()\n",
    "            optimizer.step()\n",
    "\n",
    "            if (i + 1) % 25 == 0 or (i + 1) % batches_use == 0:\n",
    "                print('Epoch [{}/{}], Step [{}/{}], Loss: {:.4f}, Acc: {:.2f}'\n",
    "                      .format(epoch + 1, num_epochs, i + 1, total_step, loss.item(), 100 * correct / total))\n",
    "            if (i + 1) == batches_use:\n",
    "                break\n",
    "    logger.info(\"Total {} images used for training.\".format(total))\n",
    "    return model\n",
    "\n",
    "def test(model, test_loader, device):\n",
    "    # Test the model\n",
    "    # In the test phase, don't need to compute gradients (for memory efficiency)\n",
    "    with torch.no_grad():\n",
    "        correct = 0\n",
    "        total = 0\n",
    "        for images, labels in test_loader:\n",
    "            #         images = images.reshape(-1, 28*28).to(device)\n",
    "            images = images.to(device)\n",
    "            labels = labels.to(device)\n",
    "            outputs = model(images)\n",
    "            #         _, predicted = torch.max(outputs.data, 1)\n",
    "            total += labels.size(0)\n",
    "            correct += (outputs.sign() == labels.sign()).sum().item()\n",
    "\n",
    "        logger.info('Accuracy of the network on the {} test images: {} %'.format(total, 100 * correct / total))\n",
    "\n",
    "def test_ddn(model, test_loader, device):\n",
    "    raise NotImplementedError\n",
    "    return\n",
    "\n",
    "def test_pgd(model, test_loader, device, epsilon, attack_type):\n",
    "    # Accuracy counter\n",
    "    correct = 0\n",
    "    incorrect = 0\n",
    "    adv_examples = []\n",
    "    model = model.eval()\n",
    "\n",
    "    if attack_type=='linf':\n",
    "        adversary = LinfPGDAttack(model, loss_fn=nn.MSELoss(reduction=\"sum\"), nb_iter=40, eps_iter=epsilon/20,\n",
    "                                  rand_init=True, eps=epsilon, clip_min=0.0, clip_max=1.0, targeted = False)\n",
    "    else:\n",
    "        adversary = L2PGDAttack(model, loss_fn=nn.MSELoss(reduction=\"sum\"), nb_iter=40, eps_iter=epsilon/20,\n",
    "                                rand_init=True, eps=epsilon, clip_min=0.0, clip_max=1.0, targeted=False)\n",
    "\n",
    "    # Loop over all examples in test set\n",
    "    for data, target in test_loader:\n",
    "        data, target = data.to(device), target.to(device)\n",
    "\n",
    "        # Set requires_grad attribute of tensor. Important for Attack\n",
    "        data.requires_grad = True\n",
    "\n",
    "        # # Forward pass the data through the model\n",
    "        #     output = model(data)\n",
    "        # #         init_pred = output.max(1, keepdim=True)[1] # get the index of the max log-probability\n",
    "        # # If the initial prediction is wrong, dont bother attacking, just move on\n",
    "        #     if output.sign() != target.sign():\n",
    "        #         incorrect+=1\n",
    "        #         continue\n",
    "        perturbed_data = adversary.perturb(data, target)\n",
    "        #         # Re-classify the perturbed image\n",
    "        new_output = model(perturbed_data)\n",
    "\n",
    "        # Check for success\n",
    "        #         final_pred = output.max(1, keepdim=True)[1] # get the index of the max log-probability\n",
    "        #         if new_output.sign()==target.sign():\n",
    "        if new_output.sign() == target.sign():\n",
    "            correct += 1\n",
    "        else:\n",
    "            incorrect += 1\n",
    "\n",
    "\n",
    "    # Calculate final accuracy for this epsilon\n",
    "    final_acc = correct / float(correct + incorrect)\n",
    "    logger.info(\"Attack Type: {}, Epsilon: {}\\tTest Accuracy = {} / {} = {:.2f}\".format(attack_type, epsilon,\n",
    "                                                                                        correct, correct + incorrect,\n",
    "                                                                                        100.*final_acc))\n",
    "\n",
    "    # Return the accuracy and an adversarial example\n",
    "    return final_acc, adv_examples\n"
   ],
   "metadata": {
    "collapsed": false,
    "pycharm": {
     "name": "#%%\n"
    }
   }
  },
  {
   "cell_type": "code",
   "execution_count": 26,
   "outputs": [
    {
     "data": {
      "text/plain": "'C:\\\\Users\\\\anass\\\\Desktop\\\\TUM\\\\Courses\\\\Practical\\\\old_paper\\\\shift-invariance-adv-robustness'"
     },
     "execution_count": 26,
     "metadata": {},
     "output_type": "execute_result"
    }
   ],
   "source": [
    "import os\n",
    "os.getcwd()\n"
   ],
   "metadata": {
    "collapsed": false,
    "pycharm": {
     "name": "#%%\n"
    }
   }
  },
  {
   "cell_type": "code",
   "execution_count": 45,
   "outputs": [],
   "source": [
    "def parse_args():\n",
    "    # Create an empty Namespace object to store the arguments\n",
    "    args = argparse.Namespace()\n",
    "\n",
    "    # Set the arguments manually\n",
    "    args.model_type = 'cnn'\n",
    "    args.classes = '0, 8'\n",
    "    args.epochs = 50\n",
    "    args.batch_size = 100\n",
    "    args.hidden_size = 5000\n",
    "    args.hidden_layers = 1\n",
    "    args.kernel_size = 7\n",
    "    args.hidden_channels = 1024\n",
    "    args.learning_rate = 0.001\n",
    "    args.batches_use = 'all'\n",
    "    args.out_dir = os.getcwd()\n",
    "    args.epsilons = '0.01, 0.02, 0.03, 0.04, 0.05, 0.06, 0.07, 0.08, 0.2, 0.3, 0.4, 0.5, 0.6, 0.7, 0.8'\n",
    "    args.attack_type = 'l2'\n",
    "    args.eval_only = False\n",
    "\n",
    "    return args"
   ],
   "metadata": {
    "collapsed": false,
    "pycharm": {
     "name": "#%%\n"
    }
   }
  },
  {
   "cell_type": "code",
   "execution_count": 46,
   "outputs": [],
   "source": [
    "args = parse_args()"
   ],
   "metadata": {
    "collapsed": false,
    "pycharm": {
     "name": "#%%\n"
    }
   }
  },
  {
   "cell_type": "code",
   "execution_count": 47,
   "outputs": [],
   "source": [
    "# Check Device configuration\n",
    "os.makedirs(args.out_dir, exist_ok=True)\n",
    "logfile = os.path.join(args.out_dir, 'output.log')\n",
    "logging.basicConfig(\n",
    "    format='[%(asctime)s] - %(message)s',\n",
    "    datefmt='%Y/%m/%d %H:%M:%S',\n",
    "    level=logging.INFO,\n",
    "    filename=logfile)\n",
    "if not args.eval_only:\n",
    "    logger.info(args)"
   ],
   "metadata": {
    "collapsed": false,
    "pycharm": {
     "name": "#%%\n"
    }
   }
  },
  {
   "cell_type": "code",
   "execution_count": 48,
   "outputs": [],
   "source": [
    "device = torch.device('cuda' if torch.cuda.is_available() else 'cpu')\n"
   ],
   "metadata": {
    "collapsed": false,
    "pycharm": {
     "name": "#%%\n"
    }
   }
  },
  {
   "cell_type": "code",
   "execution_count": 49,
   "outputs": [],
   "source": [
    "\n",
    "# Define Hyper-parameters\n",
    "input_size = 784\n",
    "hidden_size = args.hidden_size\n",
    "hidden_layers = args.hidden_layers\n",
    "classes = [int(x) for x in args.classes.split(',')]\n",
    "hidden_channels = args.hidden_channels\n",
    "kernel_size = args.kernel_size\n",
    "num_classes = len(classes) - 1\n",
    "num_epochs = args.epochs\n",
    "batch_size = args.batch_size\n",
    "learning_rate = args.learning_rate\n",
    "\n"
   ],
   "metadata": {
    "collapsed": false,
    "pycharm": {
     "name": "#%%\n"
    }
   }
  },
  {
   "cell_type": "code",
   "execution_count": 50,
   "outputs": [],
   "source": [
    "import torch.nn as nn\n",
    "import torch.nn.init as init\n",
    "import torch\n",
    "from torchvision.datasets import CIFAR10, FashionMNIST, MNIST, VisionDataset, SVHN\n",
    "from torchvision import transforms\n",
    "from PIL import Image\n",
    "from torch.utils.data import random_split\n"
   ],
   "metadata": {
    "collapsed": false,
    "pycharm": {
     "name": "#%%\n"
    }
   }
  },
  {
   "cell_type": "code",
   "execution_count": 51,
   "outputs": [],
   "source": [
    "\n",
    "class CustomMNIST(VisionDataset):\n",
    "    training_file = 'training.pt'\n",
    "    testing_file = 'test.pt'\n",
    "    classes = ['0 - zero', '1 - one', '2 - two', '3 - three', '4 - four',\n",
    "               '5 - five', '6 - six', '7 - seven', '8 - eight', '9 - nine']\n",
    "\n",
    "    def __init__(self, root, train=True, transform=None, target_transform=None, classes=[0, 1]):\n",
    "        super(CustomMNIST, self).__init__(root, transform=transform,\n",
    "                                          target_transform=target_transform)\n",
    "        assert len(classes) == 2, \"Code was only implemented for 2 class MNIST, will need modifications\"\n",
    "        self.train = train\n",
    "        if self.train:\n",
    "            data_file = self.training_file\n",
    "        else:\n",
    "            data_file = self.testing_file\n",
    "        self.data, self.targets = torch.load(os.path.join(self.processed_folder, data_file))\n",
    "        select_indexes = [i for i, x in enumerate(self.targets.tolist()) if x in classes]\n",
    "        #         targets = [-1 for i in select_indexes if self.targets[i]==classes[0] else 1]\n",
    "        self.data, self.targets = self.data[select_indexes], self.targets[select_indexes]\n",
    "        self.targets[self.targets == classes[0]] = 1.0\n",
    "        self.targets[self.targets == classes[1]] = -1.0\n",
    "        self.targets = self.targets.float()\n",
    "\n",
    "    #         self.targets = sel\n",
    "\n",
    "    def __getitem__(self, index):\n",
    "        img, target = self.data[index], self.targets[index]\n",
    "        img = Image.fromarray(img.numpy(), mode='L')\n",
    "        if self.transform is not None:\n",
    "            img = self.transform(img)\n",
    "\n",
    "        if self.target_transform is not None:\n",
    "            target = self.target_transform(target)\n",
    "\n",
    "        return img, target\n",
    "\n",
    "    def __len__(self):\n",
    "        return len(self.data)\n",
    "\n",
    "    @property\n",
    "    def raw_folder(self):\n",
    "        return os.path.join(self.root, 'MNIST', 'raw')\n",
    "\n",
    "    @property\n",
    "    def processed_folder(self):\n",
    "        return os.path.join(self.root, 'MNIST', 'processed')\n",
    "\n",
    "    @property\n",
    "    def class_to_idx(self):\n",
    "        return {_class: i for i, _class in enumerate(self.classes)}\n",
    "\n",
    "    def _check_exists(self):\n",
    "        return (os.path.exists(os.path.join(self.processed_folder,\n",
    "                                            self.training_file)) and\n",
    "                os.path.exists(os.path.join(self.processed_folder,\n",
    "                                            self.test_file)))\n"
   ],
   "metadata": {
    "collapsed": false,
    "pycharm": {
     "name": "#%%\n"
    }
   }
  },
  {
   "cell_type": "code",
   "execution_count": null,
   "outputs": [],
   "source": [
    "train_loader, test_loader = get_loaders_mnist(classes, batch_size)"
   ],
   "metadata": {
    "collapsed": false,
    "pycharm": {
     "name": "#%%\n",
     "is_executing": true
    }
   }
  },
  {
   "cell_type": "code",
   "execution_count": null,
   "outputs": [],
   "source": [
    "\n",
    "batches_use = int(args.batches_use) if args.batches_use!='all' else len(train_loader)\n",
    "\n",
    "if args.model_type=='cnn':\n",
    "    model = CNN(hidden_channels=hidden_channels, kernel_size=kernel_size, num_classes=num_classes)\n",
    "else:\n",
    "    model = NeuralNet(input_size, hidden_layers, hidden_size, num_classes).to(device)\n",
    "model = model.to(device)\n",
    "criterion = nn.MSELoss()\n",
    "optimizer = torch.optim.Adam(model.parameters(), lr=learning_rate)\n",
    "if not args.eval_only:\n",
    "    model = train(model, train_loader, criterion, optimizer, device, num_epochs, batches_use)\n",
    "    torch.save(model.state_dict(), os.path.join(args.out_dir, 'final_checkpoint.pt'))\n",
    "    test(model, test_loader, device)\n",
    "else:\n",
    "    model.load_state_dict(torch.load(os.path.join(args.out_dir, 'final_checkpoint.pt')))\n",
    "\n",
    "if args.ddn_only:\n",
    "    test_ddn(model, test_loader, device)\n",
    "\n",
    "epsilons = [float(x) for x in args.epsilons.split(',')]\n",
    "for epsilon in epsilons:\n",
    "    test_pgd(model, test_loader, device, epsilon, args.attack_type)"
   ],
   "metadata": {
    "collapsed": false,
    "pycharm": {
     "name": "#%%\n",
     "is_executing": true
    }
   }
  },
  {
   "cell_type": "code",
   "execution_count": 19,
   "outputs": [],
   "source": [
    "\n",
    "\n",
    "\n",
    "\n",
    "\n"
   ],
   "metadata": {
    "collapsed": false,
    "pycharm": {
     "name": "#%%\n"
    }
   }
  },
  {
   "cell_type": "code",
   "execution_count": null,
   "outputs": [],
   "source": [],
   "metadata": {
    "collapsed": false,
    "pycharm": {
     "name": "#%%\n"
    }
   }
  },
  {
   "cell_type": "code",
   "execution_count": null,
   "outputs": [],
   "source": [],
   "metadata": {
    "collapsed": false,
    "pycharm": {
     "name": "#%%\n"
    }
   }
  },
  {
   "cell_type": "code",
   "execution_count": null,
   "outputs": [],
   "source": [],
   "metadata": {
    "collapsed": false,
    "pycharm": {
     "name": "#%%\n"
    }
   }
  }
 ],
 "metadata": {
  "kernelspec": {
   "name": "python3",
   "language": "python",
   "display_name": "Python 3 (ipykernel)"
  },
  "language_info": {
   "codemirror_mode": {
    "name": "ipython",
    "version": 3
   },
   "file_extension": ".py",
   "mimetype": "text/x-python",
   "name": "python",
   "nbconvert_exporter": "python",
   "pygments_lexer": "ipython3",
   "version": "3.6.12"
  }
 },
 "nbformat": 4,
 "nbformat_minor": 4
}