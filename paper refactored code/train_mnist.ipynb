{
 "cells": [
  {
   "cell_type": "code",
   "execution_count": null,
   "outputs": [],
   "source": [
    "%load_ext autoreload\n",
    "%autoreload 2"
   ],
   "metadata": {
    "collapsed": false,
    "pycharm": {
     "name": "#%%\n"
    }
   }
  },
  {
   "cell_type": "code",
   "execution_count": null,
   "outputs": [],
   "source": [
    "import sys\n",
    "sys.path.insert(0, r'C:\\Users\\anass\\Desktop\\TUM\\Courses\\Practical\\old_paper\\shift-invariance-adv-robustness')"
   ],
   "metadata": {
    "collapsed": false,
    "pycharm": {
     "name": "#%%\n"
    }
   }
  },
  {
   "cell_type": "code",
   "execution_count": null,
   "outputs": [],
   "source": [
    "import torch\n",
    "import torch.nn as nn\n",
    "import os\n",
    "from advertorch.attacks import LinfPGDAttack, L2PGDAttack\n",
    "#from models.basic_models import CNN, NeuralNet\n",
    "\n",
    "#from utils import get_loaders_mnist\n",
    "import argparse\n",
    "import logging"
   ],
   "metadata": {
    "collapsed": false,
    "pycharm": {
     "name": "#%%\n"
    }
   }
  },
  {
   "cell_type": "code",
   "execution_count": null,
   "outputs": [],
   "source": [
    "def get_loaders_mnist(classes, batch_size):\n",
    "    # MNIST dataset\n",
    "    train_dataset = CustomMNIST(root='../datasets/',\n",
    "                                train=True,\n",
    "                                transform=transforms.ToTensor(),\n",
    "                                classes=classes)\n",
    "\n",
    "    test_dataset = CustomMNIST(root='../datasets/',\n",
    "                               train=False,\n",
    "                               transform=transforms.ToTensor(),\n",
    "                               classes=classes)\n",
    "\n",
    "    # Data loader\n",
    "    train_loader = torch.utils.data.DataLoader(dataset=train_dataset,\n",
    "                                               batch_size=batch_size,\n",
    "                                               shuffle=False)\n",
    "\n",
    "    test_loader = torch.utils.data.DataLoader(dataset=test_dataset,\n",
    "                                              batch_size=1,\n",
    "                                              shuffle=False)\n",
    "    return train_loader, test_loader"
   ],
   "metadata": {
    "collapsed": false,
    "pycharm": {
     "name": "#%%\n"
    }
   }
  },
  {
   "cell_type": "code",
   "execution_count": null,
   "outputs": [],
   "source": [
    "class CNN(nn.Module):\n",
    "    def __init__(self, hidden_channels=1024, kernel_size=5, num_classes=1, no_final=False):\n",
    "        super(CNN, self).__init__()\n",
    "        self.hidden_channels = hidden_channels\n",
    "        self.in_normalize = nn.BatchNorm2d(1)\n",
    "        padding_size = kernel_size // 2\n",
    "        self.conv1 = nn.Conv2d(1, hidden_channels, kernel_size=kernel_size,\n",
    "                               padding=padding_size, padding_mode='circular')\n",
    "        self.activation = nn.ReLU()\n",
    "        self.pool = nn.AdaptiveAvgPool2d((1, 1))\n",
    "        self.no_final = no_final\n",
    "        self.final = nn.Linear(hidden_channels, num_classes)\n",
    "        self.final_act = nn.Tanh()\n",
    "\n",
    "    def forward(self, x):\n",
    "        x = self.in_normalize(x)\n",
    "        x = self.activation(self.conv1(x))\n",
    "        x = self.pool(x)\n",
    "        x = x.view(-1, self.hidden_channels * 1)\n",
    "        x = self.final(x)\n",
    "        if not self.no_final:\n",
    "            x = self.final_act(x)\n",
    "        return x.squeeze()\n"
   ],
   "metadata": {
    "collapsed": false,
    "pycharm": {
     "name": "#%%\n"
    }
   }
  },
  {
   "cell_type": "code",
   "execution_count": 15,
   "outputs": [],
   "source": [
    "class NeuralNet(nn.Module):\n",
    "    def __init__(self, input_size, hidden_layers, hidden_size, num_classes, no_final=False):\n",
    "        super(NeuralNet, self).__init__()\n",
    "        self.in_normalize = nn.BatchNorm1d(input_size)\n",
    "        self.num_hidden_layers = hidden_layers\n",
    "        self.input_size = input_size\n",
    "        self.hidden_linear = nn.ModuleList()\n",
    "        self.hidden_act = nn.ModuleList()\n",
    "        for idx in range(hidden_layers):\n",
    "            if idx == 0:\n",
    "                self.hidden_linear.append(nn.Linear(input_size, hidden_size))\n",
    "            else:\n",
    "                self.hidden_linear.append(nn.Linear(hidden_size, hidden_size))\n",
    "            self.hidden_act.append(nn.ReLU())\n",
    "\n",
    "        self.final = nn.Linear(hidden_size, num_classes)\n",
    "        self.no_final = no_final\n",
    "        self.final_act = nn.Tanh()\n",
    "\n",
    "    def forward(self, x):\n",
    "        out = x.reshape(-1, self.input_size)\n",
    "        out = self.in_normalize(out)\n",
    "        for (linear, act) in zip(self.hidden_linear, self.hidden_act):\n",
    "            out = linear(out)\n",
    "            out = act(out)\n",
    "        out = self.final(out)\n",
    "        if not self.no_final:\n",
    "            out = self.final_act(out)\n",
    "        return out"
   ],
   "metadata": {
    "collapsed": false,
    "pycharm": {
     "name": "#%%\n"
    }
   }
  },
  {
   "cell_type": "code",
   "execution_count": 16,
   "outputs": [],
   "source": [
    "logger = logging.getLogger(__name__)\n"
   ],
   "metadata": {
    "collapsed": false,
    "pycharm": {
     "name": "#%%\n"
    }
   }
  },
  {
   "cell_type": "code",
   "execution_count": 17,
   "outputs": [],
   "source": [
    "def parse_args():\n",
    "    parser = argparse.ArgumentParser()\n",
    "    parser.add_argument('--model-type', choices=['cnn', 'fc'])\n",
    "    parser.add_argument('--classes', type=str)\n",
    "    parser.add_argument('--epochs', default=50, type=int)\n",
    "    parser.add_argument('--batch-size', default=100, type=int)\n",
    "    parser.add_argument('--hidden-size', default=5000, type=int)\n",
    "    parser.add_argument('--hidden-layers', default=1, type=int)\n",
    "    parser.add_argument('--kernel-size', default=7, type=int)\n",
    "    parser.add_argument('--hidden-channels', default=1024, type=int)\n",
    "    parser.add_argument('--learning-rate', default=0.001, type=float)\n",
    "    parser.add_argument('--batches-use', default='all')\n",
    "    parser.add_argument('--out-dir', type=str)\n",
    "    parser.add_argument('--epsilons', type=str)\n",
    "    parser.add_argument('--attack-type', choices=['l2', 'linf'])\n",
    "    parser.add_argument('--eval-only', action='store_true')\n",
    "    return parser.parse_args()\n",
    "\n",
    "def train(model, train_loader, criterion, optimizer, device, num_epochs, batches_use):\n",
    "    # Train the model\n",
    "    total_step = len(train_loader)\n",
    "    for epoch in range(num_epochs):\n",
    "        correct = 0\n",
    "        total = 0\n",
    "        for i, (images, labels) in enumerate(train_loader):\n",
    "            # Move tensors to the configured device\n",
    "            #         images = images.reshape(-1, 28*28).to(device)\n",
    "            images = images.to(device)\n",
    "            labels = labels.to(device)\n",
    "\n",
    "            # Forward pass\n",
    "            outputs = model(images)\n",
    "            loss = criterion(outputs, labels)\n",
    "\n",
    "            total += labels.size(0)\n",
    "            correct += (outputs.sign() == labels.sign()).sum().item()\n",
    "\n",
    "            # Backprpagation and optimization\n",
    "            optimizer.zero_grad()\n",
    "            loss.backward()\n",
    "            optimizer.step()\n",
    "\n",
    "            if (i + 1) % 25 == 0 or (i + 1) % batches_use == 0:\n",
    "                print('Epoch [{}/{}], Step [{}/{}], Loss: {:.4f}, Acc: {:.2f}'\n",
    "                      .format(epoch + 1, num_epochs, i + 1, total_step, loss.item(), 100 * correct / total))\n",
    "            if (i + 1) == batches_use:\n",
    "                break\n",
    "    logger.info(\"Total {} images used for training.\".format(total))\n",
    "    return model\n",
    "\n",
    "def test(model, test_loader, device):\n",
    "    # Test the model\n",
    "    # In the test phase, don't need to compute gradients (for memory efficiency)\n",
    "    with torch.no_grad():\n",
    "        correct = 0\n",
    "        total = 0\n",
    "        for images, labels in test_loader:\n",
    "            #         images = images.reshape(-1, 28*28).to(device)\n",
    "            images = images.to(device)\n",
    "            labels = labels.to(device)\n",
    "            outputs = model(images)\n",
    "            #         _, predicted = torch.max(outputs.data, 1)\n",
    "            total += labels.size(0)\n",
    "            correct += (outputs.sign() == labels.sign()).sum().item()\n",
    "\n",
    "        logger.info('Accuracy of the network on the {} test images: {} %'.format(total, 100 * correct / total))\n",
    "\n",
    "def test_ddn(model, test_loader, device):\n",
    "    raise NotImplementedError\n",
    "    return\n",
    "\n",
    "def test_pgd(model, test_loader, device, epsilon, attack_type):\n",
    "    # Accuracy counter\n",
    "    correct = 0\n",
    "    incorrect = 0\n",
    "    adv_examples = []\n",
    "    model = model.eval()\n",
    "\n",
    "    if attack_type=='linf':\n",
    "        adversary = LinfPGDAttack(model, loss_fn=nn.MSELoss(reduction=\"sum\"), nb_iter=40, eps_iter=epsilon/20,\n",
    "                                  rand_init=True, eps=epsilon, clip_min=0.0, clip_max=1.0, targeted = False)\n",
    "    else:\n",
    "        adversary = L2PGDAttack(model, loss_fn=nn.MSELoss(reduction=\"sum\"), nb_iter=40, eps_iter=epsilon/20,\n",
    "                                rand_init=True, eps=epsilon, clip_min=0.0, clip_max=1.0, targeted=False)\n",
    "\n",
    "    # Loop over all examples in test set\n",
    "    for data, target in test_loader:\n",
    "        data, target = data.to(device), target.to(device)\n",
    "\n",
    "        # Set requires_grad attribute of tensor. Important for Attack\n",
    "        data.requires_grad = True\n",
    "\n",
    "        # # Forward pass the data through the model\n",
    "        #     output = model(data)\n",
    "        # #         init_pred = output.max(1, keepdim=True)[1] # get the index of the max log-probability\n",
    "        # # If the initial prediction is wrong, dont bother attacking, just move on\n",
    "        #     if output.sign() != target.sign():\n",
    "        #         incorrect+=1\n",
    "        #         continue\n",
    "        perturbed_data = adversary.perturb(data, target)\n",
    "        #         # Re-classify the perturbed image\n",
    "        new_output = model(perturbed_data)\n",
    "\n",
    "        # Check for success\n",
    "        #         final_pred = output.max(1, keepdim=True)[1] # get the index of the max log-probability\n",
    "        #         if new_output.sign()==target.sign():\n",
    "        if new_output.sign() == target.sign():\n",
    "            correct += 1\n",
    "        else:\n",
    "            incorrect += 1\n",
    "\n",
    "\n",
    "    # Calculate final accuracy for this epsilon\n",
    "    final_acc = correct / float(correct + incorrect)\n",
    "    logger.info(\"Attack Type: {}, Epsilon: {}\\tTest Accuracy = {} / {} = {:.2f}\".format(attack_type, epsilon,\n",
    "                                                                                        correct, correct + incorrect,\n",
    "                                                                                        100.*final_acc))\n",
    "\n",
    "    # Return the accuracy and an adversarial example\n",
    "    return final_acc, adv_examples\n"
   ],
   "metadata": {
    "collapsed": false,
    "pycharm": {
     "name": "#%%\n"
    }
   }
  },
  {
   "cell_type": "code",
   "execution_count": 26,
   "outputs": [
    {
     "data": {
      "text/plain": "'C:\\\\Users\\\\anass\\\\Desktop\\\\TUM\\\\Courses\\\\Practical\\\\old_paper\\\\shift-invariance-adv-robustness'"
     },
     "execution_count": 26,
     "metadata": {},
     "output_type": "execute_result"
    }
   ],
   "source": [
    "import os\n",
    "os.getcwd()\n"
   ],
   "metadata": {
    "collapsed": false,
    "pycharm": {
     "name": "#%%\n"
    }
   }
  },
  {
   "cell_type": "code",
   "execution_count": 45,
   "outputs": [],
   "source": [
    "def parse_args():\n",
    "    # Create an empty Namespace object to store the arguments\n",
    "    args = argparse.Namespace()\n",
    "\n",
    "    # Set the arguments manually\n",
    "    args.model_type = 'cnn'\n",
    "    args.classes = '0, 8'\n",
    "    args.epochs = 50\n",
    "    args.batch_size = 100\n",
    "    args.hidden_size = 5000\n",
    "    args.hidden_layers = 1\n",
    "    args.kernel_size = 7\n",
    "    args.hidden_channels = 1024\n",
    "    args.learning_rate = 0.001\n",
    "    args.batches_use = 'all'\n",
    "    args.out_dir = os.getcwd()\n",
    "    args.epsilons = '0.01, 0.02, 0.03, 0.04, 0.05, 0.06, 0.07, 0.08, 0.2, 0.3, 0.4, 0.5, 0.6, 0.7, 0.8'\n",
    "    args.attack_type = 'l2'\n",
    "    args.eval_only = False\n",
    "\n",
    "    return args"
   ],
   "metadata": {
    "collapsed": false,
    "pycharm": {
     "name": "#%%\n"
    }
   }
  },
  {
   "cell_type": "code",
   "execution_count": 46,
   "outputs": [],
   "source": [
    "args = parse_args()"
   ],
   "metadata": {
    "collapsed": false,
    "pycharm": {
     "name": "#%%\n"
    }
   }
  },
  {
   "cell_type": "code",
   "execution_count": 47,
   "outputs": [],
   "source": [
    "# Check Device configuration\n",
    "os.makedirs(args.out_dir, exist_ok=True)\n",
    "logfile = os.path.join(args.out_dir, 'output.log')\n",
    "logging.basicConfig(\n",
    "    format='[%(asctime)s] - %(message)s',\n",
    "    datefmt='%Y/%m/%d %H:%M:%S',\n",
    "    level=logging.INFO,\n",
    "    filename=logfile)\n",
    "if not args.eval_only:\n",
    "    logger.info(args)"
   ],
   "metadata": {
    "collapsed": false,
    "pycharm": {
     "name": "#%%\n"
    }
   }
  },
  {
   "cell_type": "code",
   "execution_count": 48,
   "outputs": [],
   "source": [
    "device = torch.device('cuda' if torch.cuda.is_available() else 'cpu')\n"
   ],
   "metadata": {
    "collapsed": false,
    "pycharm": {
     "name": "#%%\n"
    }
   }
  },
  {
   "cell_type": "code",
   "execution_count": 49,
   "outputs": [],
   "source": [
    "\n",
    "# Define Hyper-parameters\n",
    "input_size = 784\n",
    "hidden_size = args.hidden_size\n",
    "hidden_layers = args.hidden_layers\n",
    "classes = [int(x) for x in args.classes.split(',')]\n",
    "hidden_channels = args.hidden_channels\n",
    "kernel_size = args.kernel_size\n",
    "num_classes = len(classes) - 1\n",
    "num_epochs = args.epochs\n",
    "batch_size = args.batch_size\n",
    "learning_rate = args.learning_rate\n",
    "\n"
   ],
   "metadata": {
    "collapsed": false,
    "pycharm": {
     "name": "#%%\n"
    }
   }
  },
  {
   "cell_type": "code",
   "execution_count": 50,
   "outputs": [],
   "source": [
    "import torch.nn as nn\n",
    "import torch.nn.init as init\n",
    "import torch\n",
    "from torchvision.datasets import CIFAR10, FashionMNIST, MNIST, VisionDataset, SVHN\n",
    "from torchvision import transforms\n",
    "from PIL import Image\n",
    "from torch.utils.data import random_split\n"
   ],
   "metadata": {
    "collapsed": false,
    "pycharm": {
     "name": "#%%\n"
    }
   }
  },
  {
   "cell_type": "code",
   "execution_count": 51,
   "outputs": [],
   "source": [
    "\n",
    "class CustomMNIST(VisionDataset):\n",
    "    training_file = 'training.pt'\n",
    "    testing_file = 'test.pt'\n",
    "    classes = ['0 - zero', '1 - one', '2 - two', '3 - three', '4 - four',\n",
    "               '5 - five', '6 - six', '7 - seven', '8 - eight', '9 - nine']\n",
    "\n",
    "    def __init__(self, root, train=True, transform=None, target_transform=None, classes=[0, 1]):\n",
    "        super(CustomMNIST, self).__init__(root, transform=transform,\n",
    "                                          target_transform=target_transform)\n",
    "        assert len(classes) == 2, \"Code was only implemented for 2 class MNIST, will need modifications\"\n",
    "        self.train = train\n",
    "        if self.train:\n",
    "            data_file = self.training_file\n",
    "        else:\n",
    "            data_file = self.testing_file\n",
    "        self.data, self.targets = torch.load(os.path.join(self.processed_folder, data_file))\n",
    "        select_indexes = [i for i, x in enumerate(self.targets.tolist()) if x in classes]\n",
    "        #         targets = [-1 for i in select_indexes if self.targets[i]==classes[0] else 1]\n",
    "        self.data, self.targets = self.data[select_indexes], self.targets[select_indexes]\n",
    "        self.targets[self.targets == classes[0]] = 1.0\n",
    "        self.targets[self.targets == classes[1]] = -1.0\n",
    "        self.targets = self.targets.float()\n",
    "\n",
    "    #         self.targets = sel\n",
    "\n",
    "    def __getitem__(self, index):\n",
    "        img, target = self.data[index], self.targets[index]\n",
    "        img = Image.fromarray(img.numpy(), mode='L')\n",
    "        if self.transform is not None:\n",
    "            img = self.transform(img)\n",
    "\n",
    "        if self.target_transform is not None:\n",
    "            target = self.target_transform(target)\n",
    "\n",
    "        return img, target\n",
    "\n",
    "    def __len__(self):\n",
    "        return len(self.data)\n",
    "\n",
    "    @property\n",
    "    def raw_folder(self):\n",
    "        return os.path.join(self.root, 'MNIST', 'raw')\n",
    "\n",
    "    @property\n",
    "    def processed_folder(self):\n",
    "        return os.path.join(self.root, 'MNIST', 'processed')\n",
    "\n",
    "    @property\n",
    "    def class_to_idx(self):\n",
    "        return {_class: i for i, _class in enumerate(self.classes)}\n",
    "\n",
    "    def _check_exists(self):\n",
    "        return (os.path.exists(os.path.join(self.processed_folder,\n",
    "                                            self.training_file)) and\n",
    "                os.path.exists(os.path.join(self.processed_folder,\n",
    "                                            self.test_file)))\n"
   ],
   "metadata": {
    "collapsed": false,
    "pycharm": {
     "name": "#%%\n"
    }
   }
  },
  {
   "cell_type": "code",
   "execution_count": 52,
   "outputs": [
    {
     "ename": "FileNotFoundError",
     "evalue": "[Errno 2] No such file or directory: '../datasets/MNIST\\\\processed\\\\training.pt'",
     "output_type": "error",
     "traceback": [
      "\u001B[1;31m---------------------------------------------------------------------------\u001B[0m",
      "\u001B[1;31mFileNotFoundError\u001B[0m                         Traceback (most recent call last)",
      "Input \u001B[1;32mIn [52]\u001B[0m, in \u001B[0;36m<cell line: 1>\u001B[1;34m()\u001B[0m\n\u001B[1;32m----> 1\u001B[0m train_loader, test_loader \u001B[38;5;241m=\u001B[39m \u001B[43mget_loaders_mnist\u001B[49m\u001B[43m(\u001B[49m\u001B[43mclasses\u001B[49m\u001B[43m,\u001B[49m\u001B[43m \u001B[49m\u001B[43mbatch_size\u001B[49m\u001B[43m)\u001B[49m\n",
      "Input \u001B[1;32mIn [12]\u001B[0m, in \u001B[0;36mget_loaders_mnist\u001B[1;34m(classes, batch_size)\u001B[0m\n\u001B[0;32m      1\u001B[0m \u001B[38;5;28;01mdef\u001B[39;00m \u001B[38;5;21mget_loaders_mnist\u001B[39m(classes, batch_size):\n\u001B[0;32m      2\u001B[0m     \u001B[38;5;66;03m# MNIST dataset\u001B[39;00m\n\u001B[1;32m----> 3\u001B[0m     train_dataset \u001B[38;5;241m=\u001B[39m \u001B[43mCustomMNIST\u001B[49m\u001B[43m(\u001B[49m\u001B[43mroot\u001B[49m\u001B[38;5;241;43m=\u001B[39;49m\u001B[38;5;124;43m'\u001B[39;49m\u001B[38;5;124;43m../datasets/\u001B[39;49m\u001B[38;5;124;43m'\u001B[39;49m\u001B[43m,\u001B[49m\n\u001B[0;32m      4\u001B[0m \u001B[43m                                \u001B[49m\u001B[43mtrain\u001B[49m\u001B[38;5;241;43m=\u001B[39;49m\u001B[38;5;28;43;01mTrue\u001B[39;49;00m\u001B[43m,\u001B[49m\n\u001B[0;32m      5\u001B[0m \u001B[43m                                \u001B[49m\u001B[43mtransform\u001B[49m\u001B[38;5;241;43m=\u001B[39;49m\u001B[43mtransforms\u001B[49m\u001B[38;5;241;43m.\u001B[39;49m\u001B[43mToTensor\u001B[49m\u001B[43m(\u001B[49m\u001B[43m)\u001B[49m\u001B[43m,\u001B[49m\n\u001B[0;32m      6\u001B[0m \u001B[43m                                \u001B[49m\u001B[43mclasses\u001B[49m\u001B[38;5;241;43m=\u001B[39;49m\u001B[43mclasses\u001B[49m\u001B[43m)\u001B[49m\n\u001B[0;32m      8\u001B[0m     test_dataset \u001B[38;5;241m=\u001B[39m CustomMNIST(root\u001B[38;5;241m=\u001B[39m\u001B[38;5;124m'\u001B[39m\u001B[38;5;124m../datasets/\u001B[39m\u001B[38;5;124m'\u001B[39m,\n\u001B[0;32m      9\u001B[0m                                train\u001B[38;5;241m=\u001B[39m\u001B[38;5;28;01mFalse\u001B[39;00m,\n\u001B[0;32m     10\u001B[0m                                transform\u001B[38;5;241m=\u001B[39mtransforms\u001B[38;5;241m.\u001B[39mToTensor(),\n\u001B[0;32m     11\u001B[0m                                classes\u001B[38;5;241m=\u001B[39mclasses)\n\u001B[0;32m     13\u001B[0m     \u001B[38;5;66;03m# Data loader\u001B[39;00m\n",
      "Input \u001B[1;32mIn [51]\u001B[0m, in \u001B[0;36mCustomMNIST.__init__\u001B[1;34m(self, root, train, transform, target_transform, classes)\u001B[0m\n\u001B[0;32m     14\u001B[0m \u001B[38;5;28;01melse\u001B[39;00m:\n\u001B[0;32m     15\u001B[0m     data_file \u001B[38;5;241m=\u001B[39m \u001B[38;5;28mself\u001B[39m\u001B[38;5;241m.\u001B[39mtesting_file\n\u001B[1;32m---> 16\u001B[0m \u001B[38;5;28mself\u001B[39m\u001B[38;5;241m.\u001B[39mdata, \u001B[38;5;28mself\u001B[39m\u001B[38;5;241m.\u001B[39mtargets \u001B[38;5;241m=\u001B[39m \u001B[43mtorch\u001B[49m\u001B[38;5;241;43m.\u001B[39;49m\u001B[43mload\u001B[49m\u001B[43m(\u001B[49m\u001B[43mos\u001B[49m\u001B[38;5;241;43m.\u001B[39;49m\u001B[43mpath\u001B[49m\u001B[38;5;241;43m.\u001B[39;49m\u001B[43mjoin\u001B[49m\u001B[43m(\u001B[49m\u001B[38;5;28;43mself\u001B[39;49m\u001B[38;5;241;43m.\u001B[39;49m\u001B[43mprocessed_folder\u001B[49m\u001B[43m,\u001B[49m\u001B[43m \u001B[49m\u001B[43mdata_file\u001B[49m\u001B[43m)\u001B[49m\u001B[43m)\u001B[49m\n\u001B[0;32m     17\u001B[0m select_indexes \u001B[38;5;241m=\u001B[39m [i \u001B[38;5;28;01mfor\u001B[39;00m i, x \u001B[38;5;129;01min\u001B[39;00m \u001B[38;5;28menumerate\u001B[39m(\u001B[38;5;28mself\u001B[39m\u001B[38;5;241m.\u001B[39mtargets\u001B[38;5;241m.\u001B[39mtolist()) \u001B[38;5;28;01mif\u001B[39;00m x \u001B[38;5;129;01min\u001B[39;00m classes]\n\u001B[0;32m     18\u001B[0m \u001B[38;5;66;03m#         targets = [-1 for i in select_indexes if self.targets[i]==classes[0] else 1]\u001B[39;00m\n",
      "File \u001B[1;32m~\\anaconda3\\envs\\handson-ml3\\lib\\site-packages\\torch\\serialization.py:791\u001B[0m, in \u001B[0;36mload\u001B[1;34m(f, map_location, pickle_module, weights_only, **pickle_load_args)\u001B[0m\n\u001B[0;32m    788\u001B[0m \u001B[38;5;28;01mif\u001B[39;00m \u001B[38;5;124m'\u001B[39m\u001B[38;5;124mencoding\u001B[39m\u001B[38;5;124m'\u001B[39m \u001B[38;5;129;01mnot\u001B[39;00m \u001B[38;5;129;01min\u001B[39;00m pickle_load_args\u001B[38;5;241m.\u001B[39mkeys():\n\u001B[0;32m    789\u001B[0m     pickle_load_args[\u001B[38;5;124m'\u001B[39m\u001B[38;5;124mencoding\u001B[39m\u001B[38;5;124m'\u001B[39m] \u001B[38;5;241m=\u001B[39m \u001B[38;5;124m'\u001B[39m\u001B[38;5;124mutf-8\u001B[39m\u001B[38;5;124m'\u001B[39m\n\u001B[1;32m--> 791\u001B[0m \u001B[38;5;28;01mwith\u001B[39;00m \u001B[43m_open_file_like\u001B[49m\u001B[43m(\u001B[49m\u001B[43mf\u001B[49m\u001B[43m,\u001B[49m\u001B[43m \u001B[49m\u001B[38;5;124;43m'\u001B[39;49m\u001B[38;5;124;43mrb\u001B[39;49m\u001B[38;5;124;43m'\u001B[39;49m\u001B[43m)\u001B[49m \u001B[38;5;28;01mas\u001B[39;00m opened_file:\n\u001B[0;32m    792\u001B[0m     \u001B[38;5;28;01mif\u001B[39;00m _is_zipfile(opened_file):\n\u001B[0;32m    793\u001B[0m         \u001B[38;5;66;03m# The zipfile reader is going to advance the current file position.\u001B[39;00m\n\u001B[0;32m    794\u001B[0m         \u001B[38;5;66;03m# If we want to actually tail call to torch.jit.load, we need to\u001B[39;00m\n\u001B[0;32m    795\u001B[0m         \u001B[38;5;66;03m# reset back to the original position.\u001B[39;00m\n\u001B[0;32m    796\u001B[0m         orig_position \u001B[38;5;241m=\u001B[39m opened_file\u001B[38;5;241m.\u001B[39mtell()\n",
      "File \u001B[1;32m~\\anaconda3\\envs\\handson-ml3\\lib\\site-packages\\torch\\serialization.py:271\u001B[0m, in \u001B[0;36m_open_file_like\u001B[1;34m(name_or_buffer, mode)\u001B[0m\n\u001B[0;32m    269\u001B[0m \u001B[38;5;28;01mdef\u001B[39;00m \u001B[38;5;21m_open_file_like\u001B[39m(name_or_buffer, mode):\n\u001B[0;32m    270\u001B[0m     \u001B[38;5;28;01mif\u001B[39;00m _is_path(name_or_buffer):\n\u001B[1;32m--> 271\u001B[0m         \u001B[38;5;28;01mreturn\u001B[39;00m \u001B[43m_open_file\u001B[49m\u001B[43m(\u001B[49m\u001B[43mname_or_buffer\u001B[49m\u001B[43m,\u001B[49m\u001B[43m \u001B[49m\u001B[43mmode\u001B[49m\u001B[43m)\u001B[49m\n\u001B[0;32m    272\u001B[0m     \u001B[38;5;28;01melse\u001B[39;00m:\n\u001B[0;32m    273\u001B[0m         \u001B[38;5;28;01mif\u001B[39;00m \u001B[38;5;124m'\u001B[39m\u001B[38;5;124mw\u001B[39m\u001B[38;5;124m'\u001B[39m \u001B[38;5;129;01min\u001B[39;00m mode:\n",
      "File \u001B[1;32m~\\anaconda3\\envs\\handson-ml3\\lib\\site-packages\\torch\\serialization.py:252\u001B[0m, in \u001B[0;36m_open_file.__init__\u001B[1;34m(self, name, mode)\u001B[0m\n\u001B[0;32m    251\u001B[0m \u001B[38;5;28;01mdef\u001B[39;00m \u001B[38;5;21m__init__\u001B[39m(\u001B[38;5;28mself\u001B[39m, name, mode):\n\u001B[1;32m--> 252\u001B[0m     \u001B[38;5;28msuper\u001B[39m()\u001B[38;5;241m.\u001B[39m\u001B[38;5;21m__init__\u001B[39m(\u001B[38;5;28;43mopen\u001B[39;49m\u001B[43m(\u001B[49m\u001B[43mname\u001B[49m\u001B[43m,\u001B[49m\u001B[43m \u001B[49m\u001B[43mmode\u001B[49m\u001B[43m)\u001B[49m)\n",
      "\u001B[1;31mFileNotFoundError\u001B[0m: [Errno 2] No such file or directory: '../datasets/MNIST\\\\processed\\\\training.pt'"
     ]
    }
   ],
   "source": [
    "train_loader, test_loader = get_loaders_mnist(classes, batch_size)"
   ],
   "metadata": {
    "collapsed": false,
    "pycharm": {
     "name": "#%%\n"
    }
   }
  },
  {
   "cell_type": "code",
   "execution_count": 39,
   "outputs": [
    {
     "ename": "NameError",
     "evalue": "name 'CustomMNIST' is not defined",
     "output_type": "error",
     "traceback": [
      "\u001B[1;31m---------------------------------------------------------------------------\u001B[0m",
      "\u001B[1;31mNameError\u001B[0m                                 Traceback (most recent call last)",
      "Input \u001B[1;32mIn [39]\u001B[0m, in \u001B[0;36m<cell line: 1>\u001B[1;34m()\u001B[0m\n\u001B[1;32m----> 1\u001B[0m train_loader, test_loader \u001B[38;5;241m=\u001B[39m \u001B[43mget_loaders_mnist\u001B[49m\u001B[43m(\u001B[49m\u001B[43mclasses\u001B[49m\u001B[43m,\u001B[49m\u001B[43m \u001B[49m\u001B[43mbatch_size\u001B[49m\u001B[43m)\u001B[49m\n\u001B[0;32m      2\u001B[0m batches_use \u001B[38;5;241m=\u001B[39m \u001B[38;5;28mint\u001B[39m(args\u001B[38;5;241m.\u001B[39mbatches_use) \u001B[38;5;28;01mif\u001B[39;00m args\u001B[38;5;241m.\u001B[39mbatches_use\u001B[38;5;241m!=\u001B[39m\u001B[38;5;124m'\u001B[39m\u001B[38;5;124mall\u001B[39m\u001B[38;5;124m'\u001B[39m \u001B[38;5;28;01melse\u001B[39;00m \u001B[38;5;28mlen\u001B[39m(train_loader)\n\u001B[0;32m      4\u001B[0m \u001B[38;5;28;01mif\u001B[39;00m args\u001B[38;5;241m.\u001B[39mmodel_type\u001B[38;5;241m==\u001B[39m\u001B[38;5;124m'\u001B[39m\u001B[38;5;124mcnn\u001B[39m\u001B[38;5;124m'\u001B[39m:\n",
      "Input \u001B[1;32mIn [12]\u001B[0m, in \u001B[0;36mget_loaders_mnist\u001B[1;34m(classes, batch_size)\u001B[0m\n\u001B[0;32m      1\u001B[0m \u001B[38;5;28;01mdef\u001B[39;00m \u001B[38;5;21mget_loaders_mnist\u001B[39m(classes, batch_size):\n\u001B[0;32m      2\u001B[0m     \u001B[38;5;66;03m# MNIST dataset\u001B[39;00m\n\u001B[1;32m----> 3\u001B[0m     train_dataset \u001B[38;5;241m=\u001B[39m \u001B[43mCustomMNIST\u001B[49m(root\u001B[38;5;241m=\u001B[39m\u001B[38;5;124m'\u001B[39m\u001B[38;5;124m../datasets/\u001B[39m\u001B[38;5;124m'\u001B[39m,\n\u001B[0;32m      4\u001B[0m                                 train\u001B[38;5;241m=\u001B[39m\u001B[38;5;28;01mTrue\u001B[39;00m,\n\u001B[0;32m      5\u001B[0m                                 transform\u001B[38;5;241m=\u001B[39mtransforms\u001B[38;5;241m.\u001B[39mToTensor(),\n\u001B[0;32m      6\u001B[0m                                 classes\u001B[38;5;241m=\u001B[39mclasses)\n\u001B[0;32m      8\u001B[0m     test_dataset \u001B[38;5;241m=\u001B[39m CustomMNIST(root\u001B[38;5;241m=\u001B[39m\u001B[38;5;124m'\u001B[39m\u001B[38;5;124m../datasets/\u001B[39m\u001B[38;5;124m'\u001B[39m,\n\u001B[0;32m      9\u001B[0m                                train\u001B[38;5;241m=\u001B[39m\u001B[38;5;28;01mFalse\u001B[39;00m,\n\u001B[0;32m     10\u001B[0m                                transform\u001B[38;5;241m=\u001B[39mtransforms\u001B[38;5;241m.\u001B[39mToTensor(),\n\u001B[0;32m     11\u001B[0m                                classes\u001B[38;5;241m=\u001B[39mclasses)\n\u001B[0;32m     13\u001B[0m     \u001B[38;5;66;03m# Data loader\u001B[39;00m\n",
      "\u001B[1;31mNameError\u001B[0m: name 'CustomMNIST' is not defined"
     ]
    }
   ],
   "source": [
    "\n",
    "batches_use = int(args.batches_use) if args.batches_use!='all' else len(train_loader)\n",
    "\n",
    "if args.model_type=='cnn':\n",
    "    model = CNN(hidden_channels=hidden_channels, kernel_size=kernel_size, num_classes=num_classes)\n",
    "else:\n",
    "    model = NeuralNet(input_size, hidden_layers, hidden_size, num_classes).to(device)\n",
    "model = model.to(device)\n",
    "criterion = nn.MSELoss()\n",
    "optimizer = torch.optim.Adam(model.parameters(), lr=learning_rate)\n",
    "if not args.eval_only:\n",
    "    model = train(model, train_loader, criterion, optimizer, device, num_epochs, batches_use)\n",
    "    torch.save(model.state_dict(), os.path.join(args.out_dir, 'final_checkpoint.pt'))\n",
    "    test(model, test_loader, device)\n",
    "else:\n",
    "    model.load_state_dict(torch.load(os.path.join(args.out_dir, 'final_checkpoint.pt')))\n",
    "\n",
    "if args.ddn_only:\n",
    "    test_ddn(model, test_loader, device)\n",
    "\n",
    "epsilons = [float(x) for x in args.epsilons.split(',')]\n",
    "for epsilon in epsilons:\n",
    "    test_pgd(model, test_loader, device, epsilon, args.attack_type)"
   ],
   "metadata": {
    "collapsed": false,
    "pycharm": {
     "name": "#%%\n"
    }
   }
  },
  {
   "cell_type": "code",
   "execution_count": 19,
   "outputs": [],
   "source": [
    "\n",
    "\n",
    "\n",
    "\n",
    "\n"
   ],
   "metadata": {
    "collapsed": false,
    "pycharm": {
     "name": "#%%\n"
    }
   }
  },
  {
   "cell_type": "code",
   "execution_count": 21,
   "outputs": [
    {
     "name": "stderr",
     "output_type": "stream",
     "text": [
      "usage: ipykernel_launcher.py [-h] [--model-type {cnn,fc}] [--classes CLASSES]\n",
      "                             [--epochs EPOCHS] [--batch-size BATCH_SIZE]\n",
      "                             [--hidden-size HIDDEN_SIZE]\n",
      "                             [--hidden-layers HIDDEN_LAYERS]\n",
      "                             [--kernel-size KERNEL_SIZE]\n",
      "                             [--hidden-channels HIDDEN_CHANNELS]\n",
      "                             [--learning-rate LEARNING_RATE]\n",
      "                             [--batches-use BATCHES_USE] [--out-dir OUT_DIR]\n",
      "                             [--epsilons EPSILONS] [--attack-type {l2,linf}]\n",
      "                             [--eval-only]\n",
      "ipykernel_launcher.py: error: unrecognized arguments: -f C:\\Users\\anass\\AppData\\Roaming\\jupyter\\runtime\\kernel-81ca7c80-7f4f-4af9-a129-f0816f13a154.json\n"
     ]
    },
    {
     "ename": "SystemExit",
     "evalue": "2",
     "output_type": "error",
     "traceback": [
      "An exception has occurred, use %tb to see the full traceback.\n",
      "\u001B[1;31mSystemExit\u001B[0m\u001B[1;31m:\u001B[0m 2\n"
     ]
    }
   ],
   "source": [
    "if __name__ == '__main__':\n",
    "    args = parse_args()\n",
    "    main(args)"
   ],
   "metadata": {
    "collapsed": false,
    "pycharm": {
     "name": "#%%\n"
    }
   }
  },
  {
   "cell_type": "code",
   "execution_count": 22,
   "outputs": [
    {
     "ename": "SystemExit",
     "evalue": "2",
     "output_type": "error",
     "traceback": [
      "\u001B[1;31m---------------------------------------------------------------------------\u001B[0m",
      "\u001B[1;31mSystemExit\u001B[0m                                Traceback (most recent call last)",
      "Input \u001B[1;32mIn [21]\u001B[0m, in \u001B[0;36m<cell line: 1>\u001B[1;34m()\u001B[0m\n\u001B[0;32m      1\u001B[0m \u001B[38;5;28;01mif\u001B[39;00m \u001B[38;5;18m__name__\u001B[39m \u001B[38;5;241m==\u001B[39m \u001B[38;5;124m'\u001B[39m\u001B[38;5;124m__main__\u001B[39m\u001B[38;5;124m'\u001B[39m:\n\u001B[1;32m----> 2\u001B[0m     args \u001B[38;5;241m=\u001B[39m \u001B[43mparse_args\u001B[49m\u001B[43m(\u001B[49m\u001B[43m)\u001B[49m\n\u001B[0;32m      3\u001B[0m     main(args)\n",
      "Input \u001B[1;32mIn [17]\u001B[0m, in \u001B[0;36mparse_args\u001B[1;34m()\u001B[0m\n\u001B[0;32m     15\u001B[0m parser\u001B[38;5;241m.\u001B[39madd_argument(\u001B[38;5;124m'\u001B[39m\u001B[38;5;124m--attack-type\u001B[39m\u001B[38;5;124m'\u001B[39m, choices\u001B[38;5;241m=\u001B[39m[\u001B[38;5;124m'\u001B[39m\u001B[38;5;124ml2\u001B[39m\u001B[38;5;124m'\u001B[39m, \u001B[38;5;124m'\u001B[39m\u001B[38;5;124mlinf\u001B[39m\u001B[38;5;124m'\u001B[39m])\n\u001B[0;32m     16\u001B[0m parser\u001B[38;5;241m.\u001B[39madd_argument(\u001B[38;5;124m'\u001B[39m\u001B[38;5;124m--eval-only\u001B[39m\u001B[38;5;124m'\u001B[39m, action\u001B[38;5;241m=\u001B[39m\u001B[38;5;124m'\u001B[39m\u001B[38;5;124mstore_true\u001B[39m\u001B[38;5;124m'\u001B[39m)\n\u001B[1;32m---> 17\u001B[0m \u001B[38;5;28;01mreturn\u001B[39;00m \u001B[43mparser\u001B[49m\u001B[38;5;241;43m.\u001B[39;49m\u001B[43mparse_args\u001B[49m\u001B[43m(\u001B[49m\u001B[43m)\u001B[49m\n",
      "File \u001B[1;32m~\\anaconda3\\envs\\handson-ml3\\lib\\argparse.py:1829\u001B[0m, in \u001B[0;36mArgumentParser.parse_args\u001B[1;34m(self, args, namespace)\u001B[0m\n\u001B[0;32m   1827\u001B[0m \u001B[38;5;28;01mif\u001B[39;00m argv:\n\u001B[0;32m   1828\u001B[0m     msg \u001B[38;5;241m=\u001B[39m _(\u001B[38;5;124m'\u001B[39m\u001B[38;5;124munrecognized arguments: \u001B[39m\u001B[38;5;132;01m%s\u001B[39;00m\u001B[38;5;124m'\u001B[39m)\n\u001B[1;32m-> 1829\u001B[0m     \u001B[38;5;28;43mself\u001B[39;49m\u001B[38;5;241;43m.\u001B[39;49m\u001B[43merror\u001B[49m\u001B[43m(\u001B[49m\u001B[43mmsg\u001B[49m\u001B[43m \u001B[49m\u001B[38;5;241;43m%\u001B[39;49m\u001B[43m \u001B[49m\u001B[38;5;124;43m'\u001B[39;49m\u001B[38;5;124;43m \u001B[39;49m\u001B[38;5;124;43m'\u001B[39;49m\u001B[38;5;241;43m.\u001B[39;49m\u001B[43mjoin\u001B[49m\u001B[43m(\u001B[49m\u001B[43margv\u001B[49m\u001B[43m)\u001B[49m\u001B[43m)\u001B[49m\n\u001B[0;32m   1830\u001B[0m \u001B[38;5;28;01mreturn\u001B[39;00m args\n",
      "File \u001B[1;32m~\\anaconda3\\envs\\handson-ml3\\lib\\argparse.py:2587\u001B[0m, in \u001B[0;36mArgumentParser.error\u001B[1;34m(self, message)\u001B[0m\n\u001B[0;32m   2585\u001B[0m \u001B[38;5;28mself\u001B[39m\u001B[38;5;241m.\u001B[39mprint_usage(_sys\u001B[38;5;241m.\u001B[39mstderr)\n\u001B[0;32m   2586\u001B[0m args \u001B[38;5;241m=\u001B[39m {\u001B[38;5;124m'\u001B[39m\u001B[38;5;124mprog\u001B[39m\u001B[38;5;124m'\u001B[39m: \u001B[38;5;28mself\u001B[39m\u001B[38;5;241m.\u001B[39mprog, \u001B[38;5;124m'\u001B[39m\u001B[38;5;124mmessage\u001B[39m\u001B[38;5;124m'\u001B[39m: message}\n\u001B[1;32m-> 2587\u001B[0m \u001B[38;5;28;43mself\u001B[39;49m\u001B[38;5;241;43m.\u001B[39;49m\u001B[43mexit\u001B[49m\u001B[43m(\u001B[49m\u001B[38;5;241;43m2\u001B[39;49m\u001B[43m,\u001B[49m\u001B[43m \u001B[49m\u001B[43m_\u001B[49m\u001B[43m(\u001B[49m\u001B[38;5;124;43m'\u001B[39;49m\u001B[38;5;132;43;01m%(prog)s\u001B[39;49;00m\u001B[38;5;124;43m: error: \u001B[39;49m\u001B[38;5;132;43;01m%(message)s\u001B[39;49;00m\u001B[38;5;130;43;01m\\n\u001B[39;49;00m\u001B[38;5;124;43m'\u001B[39;49m\u001B[43m)\u001B[49m\u001B[43m \u001B[49m\u001B[38;5;241;43m%\u001B[39;49m\u001B[43m \u001B[49m\u001B[43margs\u001B[49m\u001B[43m)\u001B[49m\n",
      "File \u001B[1;32m~\\anaconda3\\envs\\handson-ml3\\lib\\argparse.py:2574\u001B[0m, in \u001B[0;36mArgumentParser.exit\u001B[1;34m(self, status, message)\u001B[0m\n\u001B[0;32m   2572\u001B[0m \u001B[38;5;28;01mif\u001B[39;00m message:\n\u001B[0;32m   2573\u001B[0m     \u001B[38;5;28mself\u001B[39m\u001B[38;5;241m.\u001B[39m_print_message(message, _sys\u001B[38;5;241m.\u001B[39mstderr)\n\u001B[1;32m-> 2574\u001B[0m \u001B[43m_sys\u001B[49m\u001B[38;5;241;43m.\u001B[39;49m\u001B[43mexit\u001B[49m\u001B[43m(\u001B[49m\u001B[43mstatus\u001B[49m\u001B[43m)\u001B[49m\n",
      "\u001B[1;31mSystemExit\u001B[0m: 2"
     ]
    }
   ],
   "source": [
    "%tb"
   ],
   "metadata": {
    "collapsed": false,
    "pycharm": {
     "name": "#%%\n"
    }
   }
  },
  {
   "cell_type": "code",
   "execution_count": null,
   "outputs": [],
   "source": [],
   "metadata": {
    "collapsed": false,
    "pycharm": {
     "name": "#%%\n"
    }
   }
  },
  {
   "cell_type": "code",
   "execution_count": null,
   "outputs": [],
   "source": [],
   "metadata": {
    "collapsed": false,
    "pycharm": {
     "name": "#%%\n"
    }
   }
  },
  {
   "cell_type": "code",
   "execution_count": null,
   "outputs": [],
   "source": [],
   "metadata": {
    "collapsed": false,
    "pycharm": {
     "name": "#%%\n"
    }
   }
  }
 ],
 "metadata": {
  "kernelspec": {
   "name": "python3",
   "language": "python",
   "display_name": "Python 3 (ipykernel)"
  },
  "language_info": {
   "codemirror_mode": {
    "name": "ipython",
    "version": 3
   },
   "file_extension": ".py",
   "mimetype": "text/x-python",
   "name": "python",
   "nbconvert_exporter": "python",
   "pygments_lexer": "ipython3",
   "version": "3.6.12"
  }
 },
 "nbformat": 4,
 "nbformat_minor": 4
}