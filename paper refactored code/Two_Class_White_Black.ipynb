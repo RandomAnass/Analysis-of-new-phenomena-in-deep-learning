{
 "cells": [
  {
   "cell_type": "code",
   "execution_count": 2,
   "outputs": [
    {
     "name": "stdout",
     "output_type": "stream",
     "text": [
      "Collecting advertorch\n",
      "  Downloading advertorch-0.2.3.tar.gz (5.7 MB)\n",
      "     ---------------------------------------- 5.7/5.7 MB 1.2 MB/s eta 0:00:00\n",
      "  Preparing metadata (setup.py): started\n",
      "  Preparing metadata (setup.py): finished with status 'done'\n",
      "Building wheels for collected packages: advertorch\n",
      "  Building wheel for advertorch (setup.py): started\n",
      "  Building wheel for advertorch (setup.py): finished with status 'done'\n",
      "  Created wheel for advertorch: filename=advertorch-0.2.3-py3-none-any.whl size=5696204 sha256=6e93792b0fdb2192078fab34fab2cd853d37b656f50de7714ae52103915645ca\n",
      "  Stored in directory: c:\\users\\anass\\appdata\\local\\pip\\cache\\wheels\\1b\\00\\de\\d11c024ea240dfcf62cd3a94e1653bbb26139777243701dbf5\n",
      "Successfully built advertorch\n",
      "Installing collected packages: advertorch\n",
      "Successfully installed advertorch-0.2.3\n"
     ]
    }
   ],
   "source": [
    "!pip install advertorch"
   ],
   "metadata": {
    "collapsed": false,
    "pycharm": {
     "name": "#%%\n"
    }
   }
  },
  {
   "cell_type": "code",
   "execution_count": 3,
   "outputs": [
    {
     "name": "stdout",
     "output_type": "stream",
     "text": [
      "Collecting ipdb\n",
      "  Downloading ipdb-0.13.13-py3-none-any.whl (12 kB)\n",
      "Requirement already satisfied: ipython>=7.31.1 in c:\\users\\anass\\appdata\\roaming\\python\\python310\\site-packages (from ipdb) (8.4.0)\n",
      "Requirement already satisfied: tomli in c:\\users\\anass\\anaconda3\\envs\\handson-ml3\\lib\\site-packages (from ipdb) (2.0.1)\n",
      "Requirement already satisfied: decorator in c:\\users\\anass\\appdata\\roaming\\python\\python310\\site-packages (from ipdb) (5.1.1)\n",
      "Requirement already satisfied: backcall in c:\\users\\anass\\appdata\\roaming\\python\\python310\\site-packages (from ipython>=7.31.1->ipdb) (0.2.0)\n",
      "Requirement already satisfied: jedi>=0.16 in c:\\users\\anass\\appdata\\roaming\\python\\python310\\site-packages (from ipython>=7.31.1->ipdb) (0.18.1)\n",
      "Requirement already satisfied: matplotlib-inline in c:\\users\\anass\\appdata\\roaming\\python\\python310\\site-packages (from ipython>=7.31.1->ipdb) (0.1.3)\n",
      "Requirement already satisfied: pickleshare in c:\\users\\anass\\appdata\\roaming\\python\\python310\\site-packages (from ipython>=7.31.1->ipdb) (0.7.5)\n",
      "Requirement already satisfied: prompt-toolkit!=3.0.0,!=3.0.1,<3.1.0,>=2.0.0 in c:\\users\\anass\\appdata\\roaming\\python\\python310\\site-packages (from ipython>=7.31.1->ipdb) (3.0.30)\n",
      "Requirement already satisfied: pygments>=2.4.0 in c:\\users\\anass\\appdata\\roaming\\python\\python310\\site-packages (from ipython>=7.31.1->ipdb) (2.12.0)\n",
      "Requirement already satisfied: setuptools>=18.5 in c:\\users\\anass\\appdata\\roaming\\python\\python310\\site-packages (from ipython>=7.31.1->ipdb) (63.4.2)\n",
      "Requirement already satisfied: stack-data in c:\\users\\anass\\appdata\\roaming\\python\\python310\\site-packages (from ipython>=7.31.1->ipdb) (0.3.0)\n",
      "Requirement already satisfied: traitlets>=5 in c:\\users\\anass\\appdata\\roaming\\python\\python310\\site-packages (from ipython>=7.31.1->ipdb) (5.3.0)\n",
      "Requirement already satisfied: colorama in c:\\users\\anass\\appdata\\roaming\\python\\python310\\site-packages (from ipython>=7.31.1->ipdb) (0.4.5)\n",
      "Requirement already satisfied: parso<0.9.0,>=0.8.0 in c:\\users\\anass\\appdata\\roaming\\python\\python310\\site-packages (from jedi>=0.16->ipython>=7.31.1->ipdb) (0.8.3)\n",
      "Requirement already satisfied: wcwidth in c:\\users\\anass\\appdata\\roaming\\python\\python310\\site-packages (from prompt-toolkit!=3.0.0,!=3.0.1,<3.1.0,>=2.0.0->ipython>=7.31.1->ipdb) (0.2.5)\n",
      "Requirement already satisfied: executing in c:\\users\\anass\\appdata\\roaming\\python\\python310\\site-packages (from stack-data->ipython>=7.31.1->ipdb) (0.9.1)\n",
      "Requirement already satisfied: asttokens in c:\\users\\anass\\appdata\\roaming\\python\\python310\\site-packages (from stack-data->ipython>=7.31.1->ipdb) (2.0.7)\n",
      "Requirement already satisfied: pure-eval in c:\\users\\anass\\appdata\\roaming\\python\\python310\\site-packages (from stack-data->ipython>=7.31.1->ipdb) (0.2.2)\n",
      "Requirement already satisfied: six in c:\\users\\anass\\appdata\\roaming\\python\\python310\\site-packages (from asttokens->stack-data->ipython>=7.31.1->ipdb) (1.16.0)\n",
      "Installing collected packages: ipdb\n",
      "Successfully installed ipdb-0.13.13\n"
     ]
    }
   ],
   "source": [
    "!pip install ipdb"
   ],
   "metadata": {
    "collapsed": false,
    "pycharm": {
     "name": "#%%\n"
    }
   }
  },
  {
   "cell_type": "code",
   "execution_count": 4,
   "outputs": [
    {
     "name": "stdout",
     "output_type": "stream",
     "text": [
      "The autoreload extension is already loaded. To reload it, use:\n",
      "  %reload_ext autoreload\n"
     ]
    }
   ],
   "source": [
    "%load_ext autoreload\n",
    "%autoreload 2"
   ],
   "metadata": {
    "collapsed": false,
    "pycharm": {
     "name": "#%%\n"
    }
   }
  },
  {
   "cell_type": "code",
   "execution_count": 18,
   "outputs": [],
   "source": [
    "import torch\n",
    "import numpy as np\n",
    "from torch import nn\n",
    "from torch.nn import functional as F\n",
    "import matplotlib.pyplot as plt\n",
    "from advertorch.attacks import LinfPGDAttack, L2PGDAttack, DDNL2Attack\n",
    "import ipdb"
   ],
   "metadata": {
    "collapsed": false,
    "pycharm": {
     "name": "#%%\n"
    }
   }
  },
  {
   "cell_type": "code",
   "execution_count": 19,
   "outputs": [],
   "source": [
    "def zero_gradients(x):\n",
    "    if isinstance(x, torch.Tensor):\n",
    "        if x.grad is not None:\n",
    "            x.grad.detach_()\n",
    "            x.grad.zero_()\n",
    "    elif isinstance(x, collections.abc.Iterable):\n",
    "        for elem in x:\n",
    "            zero_gradients(elem)"
   ],
   "metadata": {
    "collapsed": false,
    "pycharm": {
     "name": "#%%\n"
    }
   }
  },
  {
   "cell_type": "code",
   "execution_count": 20,
   "metadata": {
    "pycharm": {
     "name": "#%%\n"
    }
   },
   "outputs": [],
   "source": [
    "input_shape = (17, 17)"
   ]
  },
  {
   "cell_type": "code",
   "execution_count": 21,
   "metadata": {
    "pycharm": {
     "name": "#%%\n"
    }
   },
   "outputs": [],
   "source": [
    "class SmallCNN(nn.Module):\n",
    "    def __init__(self, activation=F.relu):\n",
    "        super(SmallCNN, self).__init__()\n",
    "        self.in_normalize = nn.BatchNorm2d(1)\n",
    "        self.conv1 = nn.Conv2d(1, 512, 17, padding=8, padding_mode='circular')\n",
    "        self.activation = activation\n",
    "        self.pool = nn.AdaptiveAvgPool2d((1, 1))\n",
    "        self.fc2 = nn.Linear(512, 2)\n",
    "        \n",
    "    def forward(self, x):\n",
    "        x = self.in_normalize(x)\n",
    "        x = self.activation(self.conv1(x))\n",
    "        x = self.pool(x)\n",
    "        x = x.view(-1, 512*1)\n",
    "        x = self.fc2(x)\n",
    "        return x\n",
    "\n",
    "class SmallCNN_no_padding(nn.Module):\n",
    "    def __init__(self, activation=F.relu):\n",
    "        super(SmallCNN_no_padding, self).__init__()\n",
    "        self.in_normalize = nn.BatchNorm2d(1)\n",
    "        self.conv1 = nn.Conv2d(1, 512, 17) # padding=8, padding_mode='circular')\n",
    "        self.activation = activation\n",
    "        self.pool = nn.AdaptiveAvgPool2d((1, 1))\n",
    "        self.fc2 = nn.Linear(512, 2)\n",
    "\n",
    "    def forward(self, x):\n",
    "        x = self.in_normalize(x)\n",
    "        x = self.activation(self.conv1(x))\n",
    "        x = self.pool(x)\n",
    "        x = x.view(-1, 512*1)\n",
    "        x = self.fc2(x)\n",
    "        return x\n",
    "\n",
    "class FCNN(nn.Module):\n",
    "    def __init__(self, activation=F.relu):\n",
    "        super(FCNN, self).__init__()\n",
    "        self.in_normalize = nn.BatchNorm2d(1)\n",
    "        self.fc1 = nn.Linear(input_shape[0]*input_shape[1], 512)\n",
    "        self.activation = activation\n",
    "        self.fc2 = nn.Linear(512, 2)\n",
    "        \n",
    "    def forward(self, x):\n",
    "        x = self.in_normalize(x)\n",
    "        x = x.view(-1, input_shape[0]*input_shape[1])\n",
    "        x = self.activation(self.fc1(x))\n",
    "        x = self.fc2(x)\n",
    "        return x"
   ]
  },
  {
   "cell_type": "code",
   "execution_count": 22,
   "metadata": {
    "pycharm": {
     "name": "#%%\n"
    }
   },
   "outputs": [],
   "source": [
    "im_1 = np.zeros(input_shape)+0.5\n",
    "im_2 = im_1.copy()\n",
    "im_1[7][7]+=0.5\n",
    "im_2[7][7]-=0.5"
   ]
  },
  {
   "cell_type": "code",
   "execution_count": 23,
   "metadata": {
    "pycharm": {
     "name": "#%%\n"
    }
   },
   "outputs": [
    {
     "data": {
      "text/plain": "(2, 17, 17)"
     },
     "execution_count": 23,
     "metadata": {},
     "output_type": "execute_result"
    }
   ],
   "source": [
    "np.stack([im_1, im_2]).shape"
   ]
  },
  {
   "cell_type": "code",
   "execution_count": 24,
   "metadata": {
    "pycharm": {
     "name": "#%%\n"
    }
   },
   "outputs": [
    {
     "name": "stdout",
     "output_type": "stream",
     "text": [
      "Epoch: 100, Train Acc: 100.000, Loss : 0.579\n",
      "Epoch: 200, Train Acc: 100.000, Loss : 0.422\n",
      "Epoch: 300, Train Acc: 100.000, Loss : 0.239\n",
      "Epoch: 400, Train Acc: 100.000, Loss : 0.119\n",
      "Epoch: 500, Train Acc: 100.000, Loss : 0.064\n",
      "Epoch: 600, Train Acc: 100.000, Loss : 0.039\n",
      "Epoch: 700, Train Acc: 100.000, Loss : 0.027\n",
      "Epoch: 800, Train Acc: 100.000, Loss : 0.020\n",
      "Epoch: 900, Train Acc: 100.000, Loss : 0.019\n",
      "Epoch: 1000, Train Acc: 100.000, Loss : 0.018\n",
      "Epoch: 1100, Train Acc: 100.000, Loss : 0.018\n",
      "Epoch: 1200, Train Acc: 100.000, Loss : 0.017\n",
      "Epoch: 1300, Train Acc: 100.000, Loss : 0.017\n",
      "Epoch: 1400, Train Acc: 100.000, Loss : 0.017\n",
      "Epoch: 1500, Train Acc: 100.000, Loss : 0.016\n",
      "Epoch: 1600, Train Acc: 100.000, Loss : 0.016\n",
      "Epoch: 1700, Train Acc: 100.000, Loss : 0.015\n",
      "Epoch: 1800, Train Acc: 100.000, Loss : 0.015\n",
      "Epoch: 1900, Train Acc: 100.000, Loss : 0.015\n",
      "Epoch: 2000, Train Acc: 100.000, Loss : 0.014\n"
     ]
    }
   ],
   "source": [
    "# im_1 = im_1.\n",
    "data = np.stack([np.expand_dims(im_1, axis=0), np.expand_dims(im_2, axis=0)], axis=0)\n",
    "y = np.array([1, 0])\n",
    "batch_X, batch_y = torch.tensor(data).float().cuda(), torch.tensor(y).long().cuda()\n",
    "criterion = nn.CrossEntropyLoss()\n",
    "model_cnn = SmallCNN()\n",
    "model_cnn = model_cnn.cuda()\n",
    "LR = 0.01\n",
    "opt = torch.optim.SGD(model_cnn.parameters(), lr = LR)\n",
    "\n",
    "\n",
    "for idx in range(2000):\n",
    "    total_loss = 0\n",
    "    total_acc = 0\n",
    "    output = model_cnn(batch_X)\n",
    "    loss = criterion(output, batch_y)\n",
    "    opt.zero_grad()\n",
    "    loss.backward()\n",
    "    opt.step()\n",
    "    total_loss+=loss*batch_y.size(0)\n",
    "    total_acc += (output.max(1)[1] == batch_y).sum().item()\n",
    "    if (idx+1) % 800==0:\n",
    "        opt.param_groups[0].update(lr=LR/10)\n",
    "    if (idx+1)%100==0:\n",
    "        print(\"Epoch: {}, Train Acc: {:.3f}, Loss : {:.3f}\".format(idx+1, total_acc*100./y.shape[0], total_loss/y.shape[0]))\n",
    "\n"
   ]
  },
  {
   "cell_type": "code",
   "execution_count": 25,
   "outputs": [
    {
     "name": "stdout",
     "output_type": "stream",
     "text": [
      "Epoch: 100, Train Acc: 100.000, Loss : 0.005\n",
      "Epoch: 200, Train Acc: 100.000, Loss : 0.002\n",
      "Epoch: 300, Train Acc: 100.000, Loss : 0.001\n",
      "Epoch: 400, Train Acc: 100.000, Loss : 0.001\n",
      "Epoch: 500, Train Acc: 100.000, Loss : 0.001\n",
      "Epoch: 600, Train Acc: 100.000, Loss : 0.001\n",
      "Epoch: 700, Train Acc: 100.000, Loss : 0.001\n",
      "Epoch: 800, Train Acc: 100.000, Loss : 0.000\n",
      "Epoch: 900, Train Acc: 100.000, Loss : 0.000\n",
      "Epoch: 1000, Train Acc: 100.000, Loss : 0.000\n",
      "Epoch: 1100, Train Acc: 100.000, Loss : 0.000\n",
      "Epoch: 1200, Train Acc: 100.000, Loss : 0.000\n",
      "Epoch: 1300, Train Acc: 100.000, Loss : 0.000\n",
      "Epoch: 1400, Train Acc: 100.000, Loss : 0.000\n",
      "Epoch: 1500, Train Acc: 100.000, Loss : 0.000\n",
      "Epoch: 1600, Train Acc: 100.000, Loss : 0.000\n",
      "Epoch: 1700, Train Acc: 100.000, Loss : 0.000\n",
      "Epoch: 1800, Train Acc: 100.000, Loss : 0.000\n",
      "Epoch: 1900, Train Acc: 100.000, Loss : 0.000\n",
      "Epoch: 2000, Train Acc: 100.000, Loss : 0.000\n"
     ]
    }
   ],
   "source": [
    "data = np.stack([np.expand_dims(im_1, axis=0), np.expand_dims(im_2, axis=0)], axis=0)\n",
    "y = np.array([1, 0])\n",
    "batch_X, batch_y = torch.tensor(data).float().cuda(), torch.tensor(y).long().cuda()\n",
    "criterion = nn.CrossEntropyLoss()\n",
    "\n",
    "model_cnn_np = SmallCNN_no_padding()\n",
    "model_cnn_np = model_cnn_np.cuda()\n",
    "\n",
    "LR = 0.01\n",
    "opt = torch.optim.SGD(model_cnn_np.parameters(), lr = LR)\n",
    "\n",
    "\n",
    "for idx in range(2000):\n",
    "    total_loss = 0\n",
    "    total_acc = 0\n",
    "    output = model_cnn_np(batch_X)\n",
    "    loss = criterion(output, batch_y)\n",
    "    opt.zero_grad()\n",
    "    loss.backward()\n",
    "    opt.step()\n",
    "    total_loss+=loss*batch_y.size(0)\n",
    "    total_acc += (output.max(1)[1] == batch_y).sum().item()\n",
    "    if (idx+1) % 800==0:\n",
    "        opt.param_groups[0].update(lr=LR/10)\n",
    "    if (idx+1)%100==0:\n",
    "        print(\"Epoch: {}, Train Acc: {:.3f}, Loss : {:.3f}\".format(idx+1, total_acc*100./y.shape[0], total_loss/y.shape[0]))"
   ],
   "metadata": {
    "collapsed": false,
    "pycharm": {
     "name": "#%%\n"
    }
   }
  },
  {
   "cell_type": "code",
   "execution_count": 26,
   "outputs": [
    {
     "name": "stdout",
     "output_type": "stream",
     "text": [
      "Epoch: 100, Train Acc: 100.000, Loss : 0.005\n",
      "Epoch: 200, Train Acc: 100.000, Loss : 0.002\n",
      "Epoch: 300, Train Acc: 100.000, Loss : 0.001\n",
      "Epoch: 400, Train Acc: 100.000, Loss : 0.001\n",
      "Epoch: 500, Train Acc: 100.000, Loss : 0.001\n",
      "Epoch: 600, Train Acc: 100.000, Loss : 0.001\n",
      "Epoch: 700, Train Acc: 100.000, Loss : 0.001\n",
      "Epoch: 800, Train Acc: 100.000, Loss : 0.000\n",
      "Epoch: 900, Train Acc: 100.000, Loss : 0.000\n",
      "Epoch: 1000, Train Acc: 100.000, Loss : 0.000\n",
      "Epoch: 1100, Train Acc: 100.000, Loss : 0.000\n",
      "Epoch: 1200, Train Acc: 100.000, Loss : 0.000\n",
      "Epoch: 1300, Train Acc: 100.000, Loss : 0.000\n",
      "Epoch: 1400, Train Acc: 100.000, Loss : 0.000\n",
      "Epoch: 1500, Train Acc: 100.000, Loss : 0.000\n",
      "Epoch: 1600, Train Acc: 100.000, Loss : 0.000\n",
      "Epoch: 1700, Train Acc: 100.000, Loss : 0.000\n",
      "Epoch: 1800, Train Acc: 100.000, Loss : 0.000\n",
      "Epoch: 1900, Train Acc: 100.000, Loss : 0.000\n",
      "Epoch: 2000, Train Acc: 100.000, Loss : 0.000\n"
     ]
    }
   ],
   "source": [
    "data = np.stack([np.expand_dims(im_1, axis=0), np.expand_dims(im_2, axis=0)], axis=0)\n",
    "y = np.array([1, 0])\n",
    "batch_X, batch_y = torch.tensor(data).float().cuda(), torch.tensor(y).long().cuda()\n",
    "criterion = nn.CrossEntropyLoss()\n",
    "\n",
    "model_fc = FCNN()\n",
    "model_fc = model_fc.cuda()\n",
    "\n",
    "\n",
    "LR = 0.01\n",
    "opt = torch.optim.SGD(model_fc.parameters(), lr = LR)\n",
    "\n",
    "\n",
    "for idx in range(2000):\n",
    "    total_loss = 0\n",
    "    total_acc = 0\n",
    "    output = model_fc(batch_X)\n",
    "    loss = criterion(output, batch_y)\n",
    "    opt.zero_grad()\n",
    "    loss.backward()\n",
    "    opt.step()\n",
    "    total_loss+=loss*batch_y.size(0)\n",
    "    total_acc += (output.max(1)[1] == batch_y).sum().item()\n",
    "    if (idx+1) % 800==0:\n",
    "        opt.param_groups[0].update(lr=LR/10)\n",
    "    if (idx+1)%100==0:\n",
    "        print(\"Epoch: {}, Train Acc: {:.3f}, Loss : {:.3f}\".format(idx+1, total_acc*100./y.shape[0], total_loss/y.shape[0]))"
   ],
   "metadata": {
    "collapsed": false,
    "pycharm": {
     "name": "#%%\n"
    }
   }
  },
  {
   "cell_type": "code",
   "execution_count": 27,
   "metadata": {
    "pycharm": {
     "name": "#%%\n"
    }
   },
   "outputs": [
    {
     "data": {
      "text/plain": "SmallCNN(\n  (in_normalize): BatchNorm2d(1, eps=1e-05, momentum=0.1, affine=True, track_running_stats=True)\n  (conv1): Conv2d(1, 512, kernel_size=(17, 17), stride=(1, 1), padding=(8, 8), padding_mode=circular)\n  (pool): AdaptiveAvgPool2d(output_size=(1, 1))\n  (fc2): Linear(in_features=512, out_features=2, bias=True)\n)"
     },
     "execution_count": 27,
     "metadata": {},
     "output_type": "execute_result"
    }
   ],
   "source": [
    "model_cnn"
   ]
  },
  {
   "cell_type": "code",
   "execution_count": 28,
   "outputs": [
    {
     "data": {
      "text/plain": "SmallCNN_no_padding(\n  (in_normalize): BatchNorm2d(1, eps=1e-05, momentum=0.1, affine=True, track_running_stats=True)\n  (conv1): Conv2d(1, 512, kernel_size=(17, 17), stride=(1, 1))\n  (pool): AdaptiveAvgPool2d(output_size=(1, 1))\n  (fc2): Linear(in_features=512, out_features=2, bias=True)\n)"
     },
     "execution_count": 28,
     "metadata": {},
     "output_type": "execute_result"
    }
   ],
   "source": [
    "model_cnn_np"
   ],
   "metadata": {
    "collapsed": false,
    "pycharm": {
     "name": "#%%\n"
    }
   }
  },
  {
   "cell_type": "code",
   "execution_count": 29,
   "metadata": {
    "pycharm": {
     "name": "#%%\n"
    }
   },
   "outputs": [
    {
     "data": {
      "text/plain": "FCNN(\n  (in_normalize): BatchNorm2d(1, eps=1e-05, momentum=0.1, affine=True, track_running_stats=True)\n  (fc1): Linear(in_features=289, out_features=512, bias=True)\n  (fc2): Linear(in_features=512, out_features=2, bias=True)\n)"
     },
     "execution_count": 29,
     "metadata": {},
     "output_type": "execute_result"
    }
   ],
   "source": [
    "model_fc"
   ]
  },
  {
   "cell_type": "code",
   "execution_count": 30,
   "metadata": {
    "pycharm": {
     "name": "#%%\n"
    }
   },
   "outputs": [],
   "source": [
    "model_cnn = model_cnn.eval()\n",
    "model_fc = model_fc.eval()\n",
    "model_cnn_np = model_cnn_np.eval()"
   ]
  },
  {
   "cell_type": "code",
   "execution_count": 31,
   "outputs": [],
   "source": [
    "model_cnn = model_cnn.to('cuda')"
   ],
   "metadata": {
    "collapsed": false,
    "pycharm": {
     "name": "#%%\n"
    }
   }
  },
  {
   "cell_type": "code",
   "execution_count": 32,
   "outputs": [],
   "source": [
    "model_fc = model_fc.to('cuda')"
   ],
   "metadata": {
    "collapsed": false,
    "pycharm": {
     "name": "#%%\n"
    }
   }
  },
  {
   "cell_type": "code",
   "execution_count": 33,
   "outputs": [],
   "source": [
    "model_cnn_np = model_cnn_np.to('cuda')"
   ],
   "metadata": {
    "collapsed": false,
    "pycharm": {
     "name": "#%%\n"
    }
   }
  },
  {
   "cell_type": "code",
   "execution_count": 52,
   "metadata": {
    "pycharm": {
     "name": "#%%\n"
    }
   },
   "outputs": [],
   "source": [
    "def test_pgd(model,X, y, adversary, batch_size):\n",
    "    SPLITS = int(X.shape[0]/batch_size)\n",
    "    total_acc = 0\n",
    "    for idx in range(SPLITS):\n",
    "        s1, s2 = idx*batch_size, min((idx+1)*batch_size, X.shape[0])\n",
    "#         ipdb.set_trace()\n",
    "        batch_X, batch_y = X[s1:s2,:,:,:], y[s1:s2]\n",
    "        batch_X, batch_y = torch.tensor(batch_X).float().cuda(), torch.tensor(batch_y).long().cuda()\n",
    "#         ipdb.set_trace()\n",
    "        adv_untargeted = adversary.perturb(batch_X, batch_y)\n",
    "        robust_out = model(adv_untargeted)\n",
    "        total_acc += (robust_out.max(1)[1] == batch_y).sum().item()\n",
    "        \n",
    "#     print(\"Test Robust Acc: {:.3f}\".format(total_acc*100./y.shape[0]))\n",
    "    return total_acc*100./y.shape[0]\n",
    "\n",
    "def test_pgd_ddn(model,X, y, adversary, batch_size):\n",
    "    SPLITS = int(X.shape[0]/batch_size)\n",
    "    total_acc = 0\n",
    "    for idx in range(SPLITS):\n",
    "        s1, s2 = idx*batch_size, min((idx+1)*batch_size, X.shape[0])\n",
    "#         ipdb.set_trace()\n",
    "        batch_X, batch_y = X[s1:s2,:,:,:], y[s1:s2]\n",
    "        batch_X, batch_y = torch.tensor(batch_X).float().cuda(), torch.tensor(batch_y).long().cuda()\n",
    "#         ipdb.set_trace()\n",
    "        adv_untargeted = adversary.perturb(batch_X, batch_y)\n",
    "        robust_out = model(adv_untargeted)\n",
    "        total_acc += (robust_out.max(1)[1] == batch_y).sum().item()\n",
    "        \n",
    "#     print(\"Test Robust Acc: {:.3f}\".format(total_acc*100./y.shape[0]))\n",
    "    return total_acc*100./y.shape[0], adv_untargeted\n",
    "\n",
    "def l2_norms_diff(x, y):\n",
    "    x = x.reshape(x.shape[0], -1).cpu().numpy()\n",
    "    y = y.reshape(y.shape[0], -1)\n",
    "    norms = np.linalg.norm(x-y, ord=2, axis=1)\n",
    "    return norms, norms.mean(), np.median(norms)"
   ]
  },
  {
   "cell_type": "code",
   "execution_count": 53,
   "metadata": {
    "pycharm": {
     "name": "#%%\n"
    }
   },
   "outputs": [
    {
     "name": "stderr",
     "output_type": "stream",
     "text": [
      "C:\\Users\\anass\\anaconda3\\envs\\handson-ml3\\lib\\site-packages\\advertorch\\attacks\\decoupled_direction_norm.py:48: UserWarning: This Attack currently does not support a different loss function other than the default. Setting loss_fn manually is not effective.\n",
      "  warnings.warn(\n",
      "C:\\Users\\anass\\anaconda3\\envs\\handson-ml3\\lib\\site-packages\\torch\\optim\\lr_scheduler.py:139: UserWarning: Detected call of `lr_scheduler.step()` before `optimizer.step()`. In PyTorch 1.1.0 and later, you should call them in the opposite order: `optimizer.step()` before `lr_scheduler.step()`.  Failure to do this will result in PyTorch skipping the first value of the learning rate schedule. See more details at https://pytorch.org/docs/stable/optim.html#how-to-adjust-learning-rate\n",
      "  warnings.warn(\"Detected call of `lr_scheduler.step()` before `optimizer.step()`. \"\n"
     ]
    },
    {
     "name": "stdout",
     "output_type": "stream",
     "text": [
      "CNN Mean Norm: 0.02946768221805582\n",
      "CNN accuracy on adv data: 0.0\n",
      "CNN no padding Mean Norm: 0.3431688170411311\n",
      "CNN no padding accuracy on adv data: 0.0\n",
      "FC Mean Norm: 0.3360312926283041\n",
      "FC accuracy on adv data: 0.0\n"
     ]
    }
   ],
   "source": [
    "range_input = (data.max() - data.min())\n",
    "\n",
    "adversary = DDNL2Attack(model_cnn, loss_fn=nn.CrossEntropyLoss(reduction=\"sum\"),\n",
    "                nb_iter=1000, clip_min=data.min(), clip_max=data.max(), quantize=False,\n",
    "                targeted=False)\n",
    "robust_acc_cnn, adv_data_cnn = test_pgd_ddn(model_cnn, data, y, adversary, 2)\n",
    "# print(\"Epsilon : {}, Robust Accuracy: {}\".format(eps, robust_acc))\n",
    "norms, mean_norm, median_norm = l2_norms_diff(adv_data_cnn, data)\n",
    "print(\"CNN Mean Norm: {}\".format(mean_norm))\n",
    "print(\"CNN accuracy on adv data: {}\".format(robust_acc_cnn))\n",
    "\n",
    "adversary = DDNL2Attack(model_cnn_np, loss_fn=nn.CrossEntropyLoss(reduction=\"sum\"),\n",
    "                nb_iter=1000, clip_min=data.min(), clip_max=data.max(), quantize=False,\n",
    "                targeted=False)\n",
    "robust_acc_cnn_np, adv_data_cnn_np = test_pgd_ddn(model_cnn_np, data, y, adversary, 2)\n",
    "# print(\"Epsilon : {}, Robust Accuracy: {}\".format(eps, robust_acc))\n",
    "norms, mean_norm, median_norm = l2_norms_diff(adv_data_cnn_np, data)\n",
    "print(\"CNN no padding Mean Norm: {}\".format(mean_norm))\n",
    "print(\"CNN no padding accuracy on adv data: {}\".format(robust_acc_cnn_np))\n",
    "\n",
    "adversary = DDNL2Attack(model_fc, loss_fn=nn.CrossEntropyLoss(reduction=\"sum\"),\n",
    "                        nb_iter=1000, clip_min=data.min(), clip_max=data.max(), quantize=False,\n",
    "                        targeted=False)\n",
    "robust_acc_fc, adv_data_fc = test_pgd_ddn(model_fc, data, y, adversary, 2)\n",
    "# print(\"Epsilon : {}, Robust Accuracy: {}\".format(eps, robust_acc))\n",
    "norms, mean_norm, median_norm = l2_norms_diff(adv_data_fc, data)\n",
    "print(\"FC Mean Norm: {}\".format(mean_norm))\n",
    "print(\"FC accuracy on adv data: {}\".format(robust_acc_fc))"
   ]
  },
  {
   "cell_type": "code",
   "execution_count": 54,
   "metadata": {
    "pycharm": {
     "name": "#%%\n"
    }
   },
   "outputs": [
    {
     "data": {
      "text/plain": "<Figure size 432x288 with 4 Axes>",
      "image/png": "[encoded data removed]"
     },
     "metadata": {
      "needs_background": "light"
     },
     "output_type": "display_data"
    }
   ],
   "source": [
    "import matplotlib.pyplot as plt\n",
    "\n",
    "# Create a figure and axes for the subplots\n",
    "fig, axs = plt.subplots(2, 2)\n",
    "\n",
    "# Plot the images\n",
    "axs[0, 0].imshow(adv_data_fc.cpu().data.numpy()[0][0])\n",
    "axs[0, 0].set_title('adv_data_fc')\n",
    "\n",
    "axs[0, 1].imshow(adv_data_cnn_np.cpu().data.numpy()[0][0])\n",
    "axs[0, 1].set_title('adv_data_cnn_np')\n",
    "\n",
    "axs[1, 0].imshow(adv_data_cnn.cpu().data.numpy()[0][0])\n",
    "axs[1, 0].set_title('adv_data_cnn')\n",
    "\n",
    "axs[1, 1].matshow(data[0][0])\n",
    "axs[1, 1].set_title('data')\n",
    "\n",
    "# Adjust the spacing between subplots\n",
    "plt.tight_layout()\n",
    "\n",
    "# Show the plot\n",
    "plt.show()\n"
   ]
  },
  {
   "cell_type": "code",
   "execution_count": 55,
   "metadata": {
    "pycharm": {
     "name": "#%%\n"
    }
   },
   "outputs": [
    {
     "data": {
      "text/plain": "(2, 1, 17, 17)"
     },
     "execution_count": 55,
     "metadata": {},
     "output_type": "execute_result"
    }
   ],
   "source": [
    "data.shape"
   ]
  },
  {
   "cell_type": "code",
   "execution_count": 56,
   "metadata": {
    "pycharm": {
     "name": "#%%\n"
    }
   },
   "outputs": [
    {
     "name": "stdout",
     "output_type": "stream",
     "text": [
      "Epsilon : 0.001, Robust Accuracy: 100.0\n",
      "Epsilon : 0.002, Robust Accuracy: 0.0\n",
      "Epsilon : 0.005, Robust Accuracy: 0.0\n",
      "Epsilon : 0.01, Robust Accuracy: 0.0\n",
      "Epsilon : 0.02, Robust Accuracy: 0.0\n",
      "Epsilon : 0.03, Robust Accuracy: 0.0\n",
      "Epsilon : 0.04, Robust Accuracy: 0.0\n",
      "Epsilon : 0.05, Robust Accuracy: 0.0\n"
     ]
    }
   ],
   "source": [
    "range_input = (data.max() - data.min())\n",
    "\n",
    "for eps in [0.001, 0.002, 0.005, 0.01, 0.02, 0.03, 0.04, 0.05]:\n",
    "    range_attack = range_input*eps\n",
    "    step_attack = range_attack/50\n",
    "    adversary = LinfPGDAttack(model_cnn, loss_fn=nn.CrossEntropyLoss(reduction=\"sum\"), eps=range_attack,\n",
    "                    nb_iter=100, eps_iter=step_attack, rand_init=True, clip_min=data.min(), clip_max=data.max(),\n",
    "                    targeted=False)\n",
    "    robust_acc = test_pgd( model_cnn,data, y, adversary, 2)\n",
    "    print(\"Epsilon : {}, Robust Accuracy: {}\".format(eps, robust_acc))"
   ]
  },
  {
   "cell_type": "code",
   "execution_count": 57,
   "metadata": {
    "pycharm": {
     "name": "#%%\n"
    }
   },
   "outputs": [
    {
     "name": "stdout",
     "output_type": "stream",
     "text": [
      "Epsilon : 0.01, Robust Accuracy: 100.0\n",
      "Epsilon : 0.02, Robust Accuracy: 100.0\n",
      "Epsilon : 0.03, Robust Accuracy: 100.0\n",
      "Epsilon : 0.04, Robust Accuracy: 0.0\n",
      "Epsilon : 0.05, Robust Accuracy: 0.0\n",
      "Epsilon : 0.06, Robust Accuracy: 0.0\n",
      "Epsilon : 0.07, Robust Accuracy: 0.0\n",
      "Epsilon : 0.08, Robust Accuracy: 0.0\n"
     ]
    }
   ],
   "source": [
    "range_input = (data.max() - data.min())\n",
    "\n",
    "for eps in [0.01, 0.02, 0.03, 0.04, 0.05, 0.06, 0.07, 0.08]:\n",
    "    range_attack = range_input*eps\n",
    "    step_attack = range_attack/50\n",
    "    adversary = L2PGDAttack(model_cnn, loss_fn=nn.CrossEntropyLoss(reduction=\"sum\"), eps=range_attack,\n",
    "                    nb_iter=100, eps_iter=step_attack, rand_init=True, clip_min=data.min(), clip_max=data.max(),\n",
    "                    targeted=False)\n",
    "    robust_acc = test_pgd(model_cnn, data, y, adversary, 2)\n",
    "    print(\"Epsilon : {}, Robust Accuracy: {}\".format(eps, robust_acc))"
   ]
  },
  {
   "cell_type": "code",
   "execution_count": 58,
   "outputs": [
    {
     "name": "stdout",
     "output_type": "stream",
     "text": [
      "Epsilon : 0.001, Robust Accuracy: 100.0\n",
      "Epsilon : 0.002, Robust Accuracy: 100.0\n",
      "Epsilon : 0.005, Robust Accuracy: 100.0\n",
      "Epsilon : 0.01, Robust Accuracy: 100.0\n",
      "Epsilon : 0.02, Robust Accuracy: 100.0\n",
      "Epsilon : 0.03, Robust Accuracy: 100.0\n",
      "Epsilon : 0.04, Robust Accuracy: 0.0\n",
      "Epsilon : 0.05, Robust Accuracy: 0.0\n"
     ]
    }
   ],
   "source": [
    "range_input = (data.max() - data.min())\n",
    "\n",
    "for eps in [0.001, 0.002, 0.005, 0.01, 0.02, 0.03, 0.04, 0.05]:\n",
    "    range_attack = range_input*eps\n",
    "    step_attack = range_attack/50\n",
    "    adversary = LinfPGDAttack(model_fc, loss_fn=nn.CrossEntropyLoss(reduction=\"sum\"), eps=range_attack,\n",
    "                              nb_iter=100, eps_iter=step_attack, rand_init=True, clip_min=data.min(), clip_max=data.max(),\n",
    "                              targeted=False)\n",
    "    robust_acc = test_pgd(model_fc,data, y, adversary, 2)\n",
    "    print(\"Epsilon : {}, Robust Accuracy: {}\".format(eps, robust_acc))"
   ],
   "metadata": {
    "collapsed": false,
    "pycharm": {
     "name": "#%%\n"
    }
   }
  },
  {
   "cell_type": "code",
   "execution_count": 59,
   "outputs": [
    {
     "name": "stdout",
     "output_type": "stream",
     "text": [
      "Epsilon : 0.01, Robust Accuracy: 100.0\n",
      "Epsilon : 0.02, Robust Accuracy: 100.0\n",
      "Epsilon : 0.03, Robust Accuracy: 100.0\n",
      "Epsilon : 0.04, Robust Accuracy: 100.0\n",
      "Epsilon : 0.05, Robust Accuracy: 100.0\n",
      "Epsilon : 0.06, Robust Accuracy: 100.0\n",
      "Epsilon : 0.07, Robust Accuracy: 100.0\n",
      "Epsilon : 0.08, Robust Accuracy: 100.0\n"
     ]
    }
   ],
   "source": [
    "range_input = (data.max() - data.min())\n",
    "\n",
    "for eps in [0.01, 0.02, 0.03, 0.04, 0.05, 0.06, 0.07, 0.08]:\n",
    "    range_attack = range_input*eps\n",
    "    step_attack = range_attack/50\n",
    "    adversary = L2PGDAttack(model_fc, loss_fn=nn.CrossEntropyLoss(reduction=\"sum\"), eps=range_attack,\n",
    "                            nb_iter=100, eps_iter=step_attack, rand_init=True, clip_min=data.min(), clip_max=data.max(),\n",
    "                            targeted=False)\n",
    "    robust_acc = test_pgd(model_fc,data, y, adversary, 2)\n",
    "    print(\"Epsilon : {}, Robust Accuracy: {}\".format(eps, robust_acc))"
   ],
   "metadata": {
    "collapsed": false,
    "pycharm": {
     "name": "#%%\n"
    }
   }
  },
  {
   "cell_type": "code",
   "execution_count": 60,
   "outputs": [
    {
     "name": "stdout",
     "output_type": "stream",
     "text": [
      "Epsilon : 0.001, Robust Accuracy: 100.0\n",
      "Epsilon : 0.002, Robust Accuracy: 100.0\n",
      "Epsilon : 0.005, Robust Accuracy: 100.0\n",
      "Epsilon : 0.01, Robust Accuracy: 100.0\n",
      "Epsilon : 0.02, Robust Accuracy: 100.0\n",
      "Epsilon : 0.03, Robust Accuracy: 100.0\n",
      "Epsilon : 0.04, Robust Accuracy: 0.0\n",
      "Epsilon : 0.05, Robust Accuracy: 0.0\n"
     ]
    }
   ],
   "source": [
    "range_input = (data.max() - data.min())\n",
    "\n",
    "for eps in [0.001, 0.002, 0.005, 0.01, 0.02, 0.03, 0.04, 0.05]:\n",
    "    range_attack = range_input*eps\n",
    "    step_attack = range_attack/50\n",
    "    adversary = LinfPGDAttack(model_cnn_np, loss_fn=nn.CrossEntropyLoss(reduction=\"sum\"), eps=range_attack,\n",
    "                              nb_iter=100, eps_iter=step_attack, rand_init=True, clip_min=data.min(), clip_max=data.max(),\n",
    "                              targeted=False)\n",
    "    robust_acc = test_pgd(model_cnn_np,data, y, adversary, 2)\n",
    "    print(\"Epsilon : {}, Robust Accuracy: {}\".format(eps, robust_acc))"
   ],
   "metadata": {
    "collapsed": false,
    "pycharm": {
     "name": "#%%\n"
    }
   }
  },
  {
   "cell_type": "code",
   "execution_count": 63,
   "outputs": [
    {
     "name": "stdout",
     "output_type": "stream",
     "text": [
      "Epsilon : 0.01, Robust Accuracy: 100.0\n",
      "Epsilon : 0.02, Robust Accuracy: 100.0\n",
      "Epsilon : 0.03, Robust Accuracy: 100.0\n",
      "Epsilon : 0.04, Robust Accuracy: 100.0\n",
      "Epsilon : 0.05, Robust Accuracy: 100.0\n",
      "Epsilon : 0.06, Robust Accuracy: 100.0\n",
      "Epsilon : 0.07, Robust Accuracy: 100.0\n",
      "Epsilon : 0.08, Robust Accuracy: 100.0\n"
     ]
    }
   ],
   "source": [
    "range_input = (data.max() - data.min())\n",
    "\n",
    "for eps in [0.01, 0.02, 0.03, 0.04, 0.05, 0.06, 0.07, 0.08]:\n",
    "    range_attack = range_input*eps\n",
    "    step_attack = range_attack/50\n",
    "    adversary = L2PGDAttack(model_cnn_np, loss_fn=nn.CrossEntropyLoss(reduction=\"sum\"), eps=range_attack,\n",
    "                            nb_iter=100, eps_iter=step_attack, rand_init=True, clip_min=data.min(), clip_max=data.max(),\n",
    "                            targeted=False)\n",
    "    robust_acc = test_pgd(model_cnn_np,data, y, adversary, 2)\n",
    "    print(\"Epsilon : {}, Robust Accuracy: {}\".format(eps, robust_acc))"
   ],
   "metadata": {
    "collapsed": false,
    "pycharm": {
     "name": "#%%\n"
    }
   }
  },
  {
   "cell_type": "markdown",
   "metadata": {
    "pycharm": {
     "name": "#%% md\n"
    }
   },
   "source": [
    "CNN Model <br>\n",
    "Epsilon : 0.001, Robust Accuracy: 100.0 <br>\n",
    "Epsilon : 0.002, Robust Accuracy: 100.0 <br>\n",
    "Epsilon : 0.005, Robust Accuracy: 0.0 <br>\n",
    "Epsilon : 0.01, Robust Accuracy: 0.0 <br>\n",
    "Epsilon : 0.02, Robust Accuracy: 0.0 <br>\n",
    "Epsilon : 0.03, Robust Accuracy: 0.0 <br>\n",
    "Epsilon : 0.04, Robust Accuracy: 0.0 <br>\n",
    "Epsilon : 0.05, Robust Accuracy: 0.0 <br>"
   ]
  },
  {
   "cell_type": "markdown",
   "metadata": {
    "pycharm": {
     "name": "#%% md\n"
    }
   },
   "source": [
    "FC Model <br>\n",
    "Epsilon : 0.001, Robust Accuracy: 100.0 <br>\n",
    "Epsilon : 0.002, Robust Accuracy: 100.0 <br>\n",
    "Epsilon : 0.005, Robust Accuracy: 100.0 <br>\n",
    "Epsilon : 0.01, Robust Accuracy: 100.0 <br>\n",
    "Epsilon : 0.02, Robust Accuracy: 100.0 <br>\n",
    "Epsilon : 0.03, Robust Accuracy: 100.0 <br>\n",
    "Epsilon : 0.04, Robust Accuracy: 100.0 <br>\n",
    "Epsilon : 0.05, Robust Accuracy: 0.0 <br>"
   ]
  },
  {
   "cell_type": "markdown",
   "metadata": {
    "pycharm": {
     "name": "#%% md\n"
    }
   },
   "source": [
    "## PREVIOUS EXPERIMENTS DISCARDDD"
   ]
  },
  {
   "cell_type": "markdown",
   "metadata": {
    "pycharm": {
     "name": "#%% md\n"
    }
   },
   "source": [
    "FC Model <br>\n",
    "Epsilon : 0.01, Robust Accuracy: 100.0 <br>\n",
    "Epsilon : 0.02, Robust Accuracy: 100.0 <br>\n",
    "Epsilon : 0.03, Robust Accuracy: 100.0 <br>\n",
    "Epsilon : 0.04, Robust Accuracy: 100.0 <br>\n",
    "Epsilon : 0.05, Robust Accuracy: 100.0 <br>\n",
    "Epsilon : 0.06, Robust Accuracy: 50.0 <br>\n",
    "Epsilon : 0.07, Robust Accuracy: 100.0 <br>\n",
    "Epsilon : 0.08, Robust Accuracy: 100.0 <br>\n",
    "Epsilon : 0.09, Robust Accuracy: 0.0 <br>\n",
    "Epsilon : 0.1, Robust Accuracy: 100.0 <br>\n",
    "<br>\n",
    "CNN Model <br>\n",
    "Epsilon : 0.01, Robust Accuracy: 0.0 <br>\n",
    "Epsilon : 0.02, Robust Accuracy: 0.0 <br>\n",
    "Epsilon : 0.03, Robust Accuracy: 0.0 <br>\n",
    "Epsilon : 0.04, Robust Accuracy: 0.0 <br>\n",
    "Epsilon : 0.05, Robust Accuracy: 0.0 <br>\n",
    "Epsilon : 0.06, Robust Accuracy: 0.0 <br>\n",
    "Epsilon : 0.07, Robust Accuracy: 0.0 <br>\n",
    "Epsilon : 0.08, Robust Accuracy: 0.0 <br>\n",
    "Epsilon : 0.09, Robust Accuracy: 0.0 <br>\n",
    "Epsilon : 0.1, Robust Accuracy: 0.0 <br>"
   ]
  },
  {
   "cell_type": "code",
   "execution_count": 27,
   "metadata": {
    "pycharm": {
     "name": "#%%\n"
    }
   },
   "outputs": [
    {
     "name": "stdout",
     "output_type": "stream",
     "text": [
      "Epsilon : 0.2, Robust Accuracy: 100.0\n",
      "Epsilon : 0.3, Robust Accuracy: 100.0\n",
      "Epsilon : 0.4, Robust Accuracy: 100.0\n",
      "Epsilon : 0.5, Robust Accuracy: 50.0\n",
      "Epsilon : 0.6, Robust Accuracy: 0.0\n",
      "Epsilon : 0.7, Robust Accuracy: 0.0\n",
      "Epsilon : 0.8, Robust Accuracy: 0.0\n"
     ]
    }
   ],
   "source": [
    "range_input = np.linalg.norm(data.reshape((data.shape[0], -1)), ord=2, axis=1).mean()\n",
    "\n",
    "for eps in [0.2, 0.3, 0.4, 0.5, 0.6, 0.7, 0.8]:\n",
    "    range_attack = range_input*eps\n",
    "    step_attack = range_attack/10\n",
    "    adversary = L2PGDAttack(model_cnn, loss_fn=nn.CrossEntropyLoss(reduction=\"sum\"), eps=range_attack,\n",
    "                    nb_iter=50, eps_iter=step_attack, rand_init=True, clip_min=data.min(), clip_max=data.max(),\n",
    "                    targeted=False)\n",
    "    robust_acc = test_pgd(data, y, adversary, 2)\n",
    "    print(\"Epsilon : {}, Robust Accuracy: {}\".format(eps, robust_acc))"
   ]
  }
 ],
 "metadata": {
  "kernelspec": {
   "name": "python3",
   "language": "python",
   "display_name": "Python 3 (ipykernel)"
  },
  "language_info": {
   "codemirror_mode": {
    "name": "ipython",
    "version": 3
   },
   "file_extension": ".py",
   "mimetype": "text/x-python",
   "name": "python",
   "nbconvert_exporter": "python",
   "pygments_lexer": "ipython3",
   "version": "3.6.12"
  }
 },
 "nbformat": 4,
 "nbformat_minor": 4
}